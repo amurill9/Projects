{
 "cells": [
  {
   "cell_type": "markdown",
   "metadata": {
    "id": "nWu_LQohjgc8"
   },
   "source": [
    "The purpose of this lab is to warm up with Python in regards to CSV files (comma separated values), dataframe handling, and numpy analysis.  Please spend time to play around and understand what everything's doing."
   ]
  },
  {
   "cell_type": "markdown",
   "metadata": {
    "id": "ad8z8Ta9fCOH"
   },
   "source": [
    "# Basics of Numpy and Pandas"
   ]
  },
  {
   "cell_type": "code",
   "execution_count": null,
   "metadata": {
    "id": "QNf9m6iEi1Z3"
   },
   "outputs": [],
   "source": [
    "import pandas as pd\n",
    "import numpy as np"
   ]
  },
  {
   "cell_type": "markdown",
   "metadata": {
    "id": "SwOn6bZjig46"
   },
   "source": [
    "# NumPys"
   ]
  },
  {
   "cell_type": "markdown",
   "metadata": {
    "id": "Gxbdhzj9h0y3"
   },
   "source": [
    "NumPys are multi-dimensional arrays (matrices) that allow users to efficiently manipulate data/subarrays, split arrays, reshape arrays, and much more. Think of it as a nested List[List, List, List], but with more functionality"
   ]
  },
  {
   "cell_type": "code",
   "execution_count": null,
   "metadata": {
    "id": "DB5pBaUPfvef"
   },
   "outputs": [],
   "source": [
    "'''We will generate random numbers with Numpys of various sizes''' \n",
    "# One-dimensional array with numbers from 0-10\n",
    "x0 = np.random.randint(10, size=6) \n",
    "# One-dimensional array with numbers from 0-10\n",
    "x1 = np.random.randint(10, size=(1,6)) \n",
    "# Two-dimensional array with numbers from 0-10\n",
    "x2 = np.random.randint(10, size=(3, 4))  \n",
    "# Three-dimensional array with numbers from 0-10\n",
    "x3 = np.random.randint(10, size=(3, 4, 5))  \n"
   ]
  },
  {
   "cell_type": "markdown",
   "metadata": {
    "id": "gYWaCRfRqBcg"
   },
   "source": [
    "Each Numpy array has the following attributes: \n",
    "\n",
    "1. ndim (the number of dimensions)\n",
    "2. shape (the size of each dimension)\n",
    "3. size (the total size of the array).\n",
    "\n",
    "\n",
    "\n",
    "\n"
   ]
  },
  {
   "cell_type": "code",
   "execution_count": null,
   "metadata": {
    "colab": {
     "base_uri": "https://localhost:8080/",
     "height": 686
    },
    "executionInfo": {
     "elapsed": 1684,
     "status": "ok",
     "timestamp": 1600143236846,
     "user": {
      "displayName": "Sabyasachi Basu",
      "photoUrl": "https://lh3.googleusercontent.com/a-/AOh14Gin9ImPHXIS7jAscKOqdY17YZmmr148F_NJXYazIA=s64",
      "userId": "10825804676665851938"
     },
     "user_tz": 420
    },
    "id": "lej4Amo1p_oj",
    "outputId": "353a5f15-999a-4237-f8ab-93be7f2a6d95"
   },
   "outputs": [
    {
     "name": "stdout",
     "output_type": "stream",
     "text": [
      "x0 is a 1-D 1x6 matrix:\n",
      " [5 9 4 8 8 1]\n",
      "x0 ndim:  1\n",
      "x0 shape: (6,)\n",
      "x0 size:  6\n",
      "\n",
      "x1 is a 2-D 1x6 matrix:\n",
      " [[3 9 7 2 5 6]]\n",
      "x1 ndim:  2\n",
      "x1 shape: (1, 6)\n",
      "x1 size:  6\n",
      "\n",
      "x2 is a 2-D 3x4 matrix:\n",
      " [[4 1 3 8]\n",
      " [7 5 0 3]\n",
      " [4 7 9 0]]\n",
      "x2 ndim:  2\n",
      "x2 shape: (3, 4)\n",
      "x2 size:  12\n",
      "\n",
      "x3 is a 3-D 3x4x5 matrix:\n",
      " [[[5 9 4 8 5]\n",
      "  [7 9 9 4 8]\n",
      "  [8 0 2 4 6]\n",
      "  [3 3 6 4 8]]\n",
      "\n",
      " [[4 3 2 7 6]\n",
      "  [5 8 0 0 3]\n",
      "  [5 5 1 7 9]\n",
      "  [9 2 3 8 2]]\n",
      "\n",
      " [[8 4 4 5 5]\n",
      "  [8 3 1 3 2]\n",
      "  [5 5 5 4 9]\n",
      "  [6 6 0 1 9]]]\n",
      "x3 ndim:  3\n",
      "x3 shape: (3, 4, 5)\n",
      "x3 size:  60\n"
     ]
    }
   ],
   "source": [
    "print(\"x0 is a 1-D 1x6 matrix:\\n\",x0)\n",
    "print(\"x0 ndim: \", x0.ndim)\n",
    "print(\"x0 shape:\", x0.shape)\n",
    "print(\"x0 size: \", x0.size)\n",
    "print()\n",
    "print(\"x1 is a 2-D 1x6 matrix:\\n\",x1)\n",
    "print(\"x1 ndim: \", x1.ndim)\n",
    "print(\"x1 shape:\", x1.shape)\n",
    "print(\"x1 size: \", x1.size)\n",
    "print()\n",
    "print(\"x2 is a 2-D 3x4 matrix:\\n\",x2)\n",
    "print(\"x2 ndim: \", x2.ndim)\n",
    "print(\"x2 shape:\", x2.shape)\n",
    "print(\"x2 size: \", x2.size)\n",
    "print()\n",
    "print(\"x3 is a 3-D 3x4x5 matrix:\\n\",x3)\n",
    "print(\"x3 ndim: \", x3.ndim)\n",
    "print(\"x3 shape:\", x3.shape)\n",
    "print(\"x3 size: \", x3.size)"
   ]
  },
  {
   "cell_type": "markdown",
   "metadata": {
    "id": "jneXhzwXu07Y"
   },
   "source": [
    "Accessing elements in a NumPy is very similar to accessing elements in a list.  "
   ]
  },
  {
   "cell_type": "code",
   "execution_count": null,
   "metadata": {
    "colab": {
     "base_uri": "https://localhost:8080/",
     "height": 87
    },
    "executionInfo": {
     "elapsed": 1669,
     "status": "ok",
     "timestamp": 1600143236847,
     "user": {
      "displayName": "Sabyasachi Basu",
      "photoUrl": "https://lh3.googleusercontent.com/a-/AOh14Gin9ImPHXIS7jAscKOqdY17YZmmr148F_NJXYazIA=s64",
      "userId": "10825804676665851938"
     },
     "user_tz": 420
    },
    "id": "02U3atwAuyjr",
    "outputId": "8ffe6a90-f91f-4d95-fc39-a03c72419699"
   },
   "outputs": [
    {
     "name": "stdout",
     "output_type": "stream",
     "text": [
      "[5 9 4 8 8 1]\n",
      "4th element:  8\n",
      "last element:  1\n",
      "second to last element:  8\n"
     ]
    }
   ],
   "source": [
    "#getting elements from the x0 (1-D) array\n",
    "print(x0)\n",
    "print(\"4th element: \",x0[3])\n",
    "print(\"last element: \",x0[-1])\n",
    "print(\"second to last element: \",x0[-2])"
   ]
  },
  {
   "cell_type": "code",
   "execution_count": null,
   "metadata": {
    "colab": {
     "base_uri": "https://localhost:8080/",
     "height": 140
    },
    "executionInfo": {
     "elapsed": 1654,
     "status": "ok",
     "timestamp": 1600143236847,
     "user": {
      "displayName": "Sabyasachi Basu",
      "photoUrl": "https://lh3.googleusercontent.com/a-/AOh14Gin9ImPHXIS7jAscKOqdY17YZmmr148F_NJXYazIA=s64",
      "userId": "10825804676665851938"
     },
     "user_tz": 420
    },
    "id": "ZVWE9BidwfXQ",
    "outputId": "f3e22e48-3eb4-4bee-e918-1b8b084f2d2d"
   },
   "outputs": [
    {
     "name": "stdout",
     "output_type": "stream",
     "text": [
      "[[4 1 3 8]\n",
      " [7 5 0 3]\n",
      " [4 7 9 0]]\n",
      "1st row, 1st column:  4\n",
      "last row, last column:  0\n",
      "2nd row, last column:  3\n",
      "2nd row, third column:  0\n"
     ]
    }
   ],
   "source": [
    "\"\"\"In a multi-dimensional array, items can \n",
    "be accessed using a comma-separated tuple \n",
    "of indices.\n",
    "For a 2-D array the first value is the row # (n)\n",
    "you want the value from, the second value\n",
    "is the column # (m) you want the value from. \n",
    "array[n, m]\"\"\"\n",
    "print(x2)\n",
    "print(\"1st row, 1st column: \", x2[0,0])\n",
    "print(\"last row, last column: \", x2[-1, -1])\n",
    "print(\"2nd row, last column: \",x2[1, -1])\n",
    "print(\"2nd row, third column: \",x2[2, 3])\n"
   ]
  },
  {
   "cell_type": "markdown",
   "metadata": {
    "id": "m4Z1rEGQzgjE"
   },
   "source": [
    "Numpy arrays have a fixed number type when they are created, so they can't be changed individual values to a different number type. The type of values in a numpy array can be checked with array.dtype"
   ]
  },
  {
   "cell_type": "code",
   "execution_count": null,
   "metadata": {
    "colab": {
     "base_uri": "https://localhost:8080/",
     "height": 35
    },
    "executionInfo": {
     "elapsed": 1638,
     "status": "ok",
     "timestamp": 1600143236848,
     "user": {
      "displayName": "Sabyasachi Basu",
      "photoUrl": "https://lh3.googleusercontent.com/a-/AOh14Gin9ImPHXIS7jAscKOqdY17YZmmr148F_NJXYazIA=s64",
      "userId": "10825804676665851938"
     },
     "user_tz": 420
    },
    "id": "WI-kGKtWzwWs",
    "outputId": "af64e5ca-50ba-44eb-d5af-474d8fa12e47"
   },
   "outputs": [
    {
     "name": "stdout",
     "output_type": "stream",
     "text": [
      "type for x3:  int64\n"
     ]
    }
   ],
   "source": [
    "print(\"type for x3: \", x3.dtype)\n",
    "#in this case we cant change individual values in x3 to float64 types,\n",
    "#unless we change the entire array"
   ]
  },
  {
   "cell_type": "markdown",
   "metadata": {
    "id": "mkFsdwLK20jU"
   },
   "source": [
    "Array Slicing: Accessing Subarrays\n",
    "array[start:stop:step].\n",
    "If they are undefined it will default to start=0, stop=size of dimension, step=1.\n"
   ]
  },
  {
   "cell_type": "code",
   "execution_count": null,
   "metadata": {
    "colab": {
     "base_uri": "https://localhost:8080/",
     "height": 211
    },
    "executionInfo": {
     "elapsed": 1621,
     "status": "ok",
     "timestamp": 1600143236849,
     "user": {
      "displayName": "Sabyasachi Basu",
      "photoUrl": "https://lh3.googleusercontent.com/a-/AOh14Gin9ImPHXIS7jAscKOqdY17YZmmr148F_NJXYazIA=s64",
      "userId": "10825804676665851938"
     },
     "user_tz": 420
    },
    "id": "lBdX0Np73WXi",
    "outputId": "08e560e9-bc4e-4706-9505-7ac0f8a74e6d"
   },
   "outputs": [
    {
     "name": "stdout",
     "output_type": "stream",
     "text": [
      "[5 9 4 8 8 1]\n",
      "[5 9 4]\n",
      "[8 8 1]\n",
      "[9 4 8 8]\n",
      "[9 4 8 8]\n",
      "[9 4 8 8 1]\n",
      "[5 8]\n",
      "[8 1]\n",
      "[1 8 8 4 9 5]\n",
      "[8 8 4 9 5]\n",
      "[8 8 4 9 5]\n"
     ]
    }
   ],
   "source": [
    "#Example with 1-D arrays\n",
    "print(x0)\n",
    "#array[inclusive:exclusive]\n",
    "#all elements before index 3, exclusive of value at index 3\n",
    "print(x0[:3]) \n",
    "#all elements after index 3, inclusive of value at index 3\n",
    "print(x0[3:])\n",
    "#the 2nd element to the 2nd last element\n",
    "print(x0[1:-1])\n",
    "#or\n",
    "print(x0[1:5])\n",
    "#if exclusive value > len(list) then it its equivalent to array[x:]\n",
    "print(x0[1:10]) #len of x0 is 6\n",
    "#accessing every 3rd element in the array\n",
    "print(x0[::3])\n",
    "#accessing every other element starting from the 4th element (value at index 3)\n",
    "print(x0[3::2])\n",
    "#reversing the elements\n",
    "print(x0[::-1])\n",
    "#reversing from the 2nd to last element\n",
    "print(x0[-2::-1])\n",
    "#or\n",
    "print(x0[4::-1])\n",
    "\n",
    "\n",
    "\n",
    "\n"
   ]
  },
  {
   "cell_type": "code",
   "execution_count": null,
   "metadata": {
    "colab": {
     "base_uri": "https://localhost:8080/",
     "height": 263
    },
    "executionInfo": {
     "elapsed": 1606,
     "status": "ok",
     "timestamp": 1600143236850,
     "user": {
      "displayName": "Sabyasachi Basu",
      "photoUrl": "https://lh3.googleusercontent.com/a-/AOh14Gin9ImPHXIS7jAscKOqdY17YZmmr148F_NJXYazIA=s64",
      "userId": "10825804676665851938"
     },
     "user_tz": 420
    },
    "id": "kY4sRd5l6vWm",
    "outputId": "72d339e9-bee6-4b3d-c0d4-611cffec80fc"
   },
   "outputs": [
    {
     "name": "stdout",
     "output_type": "stream",
     "text": [
      "[[4 1 3 8]\n",
      " [7 5 0 3]\n",
      " [4 7 9 0]]\n",
      "[[4 1 3]\n",
      " [7 5 0]]\n",
      "[[4 3]\n",
      " [7 0]\n",
      " [4 9]]\n",
      "[[0 9 7 4]\n",
      " [3 0 5 7]\n",
      " [8 3 1 4]]\n",
      "[1 5 7]\n",
      "[4 7 9 0]\n",
      "[4 7 9 0]\n"
     ]
    }
   ],
   "source": [
    "#Example with multi-dimensional arrays\n",
    "print(x2)\n",
    "#print 1st 2 rows and 1st 3 columns\n",
    "print(x2[:2, :3])\n",
    "#print all rows and every other columns\n",
    "print(x2[:, ::2])\n",
    "#reversing the array\n",
    "print(x2[::-1, ::-1])\n",
    "#getting the second column of x2\n",
    "print(x2[:, 1])\n",
    "#getting the last row of x2\n",
    "print(x2[2, :])\n",
    "#or\n",
    "print(x2[2])"
   ]
  },
  {
   "cell_type": "markdown",
   "metadata": {
    "id": "hop9UtrzRz6P"
   },
   "source": [
    "When creating copies of Sub-Arrays, explicitly state array.copy(), otherwise itll create a slice of that subarray that will reflect any changes done to that slice"
   ]
  },
  {
   "cell_type": "code",
   "execution_count": null,
   "metadata": {
    "colab": {
     "base_uri": "https://localhost:8080/",
     "height": 193
    },
    "executionInfo": {
     "elapsed": 1590,
     "status": "ok",
     "timestamp": 1600143236850,
     "user": {
      "displayName": "Sabyasachi Basu",
      "photoUrl": "https://lh3.googleusercontent.com/a-/AOh14Gin9ImPHXIS7jAscKOqdY17YZmmr148F_NJXYazIA=s64",
      "userId": "10825804676665851938"
     },
     "user_tz": 420
    },
    "id": "nMJxWF-5Cheo",
    "outputId": "36b72432-27c8-45d9-81a1-cfd9d776ba58"
   },
   "outputs": [
    {
     "name": "stdout",
     "output_type": "stream",
     "text": [
      "[[4 1 3 8]\n",
      " [7 5 0 3]\n",
      " [4 7 9 0]]\n",
      "[[4 1]\n",
      " [7 5]]\n",
      "[[99  1]\n",
      " [ 7  5]]\n",
      "[[99  1  3  8]\n",
      " [ 7  5  0  3]\n",
      " [ 4  7  9  0]]\n"
     ]
    }
   ],
   "source": [
    "#without array.copy()\n",
    "print(x2)\n",
    "x2_sub = x2[:2, :2]\n",
    "print(x2_sub)\n",
    "x2_sub[0, 0] = 99\n",
    "print(x2_sub)\n",
    "print(x2)"
   ]
  },
  {
   "cell_type": "code",
   "execution_count": null,
   "metadata": {
    "colab": {
     "base_uri": "https://localhost:8080/",
     "height": 193
    },
    "executionInfo": {
     "elapsed": 1574,
     "status": "ok",
     "timestamp": 1600143236851,
     "user": {
      "displayName": "Sabyasachi Basu",
      "photoUrl": "https://lh3.googleusercontent.com/a-/AOh14Gin9ImPHXIS7jAscKOqdY17YZmmr148F_NJXYazIA=s64",
      "userId": "10825804676665851938"
     },
     "user_tz": 420
    },
    "id": "NM1_rBDoYgdb",
    "outputId": "a7d0e4d7-b3a2-490b-e523-50f3d8ff56b4"
   },
   "outputs": [
    {
     "name": "stdout",
     "output_type": "stream",
     "text": [
      "[[99  1  3  8]\n",
      " [ 7  5  0  3]\n",
      " [ 4  7  9  0]]\n",
      "[[99  1]\n",
      " [ 7  5]]\n",
      "[[0 1]\n",
      " [7 5]]\n",
      "[[99  1  3  8]\n",
      " [ 7  5  0  3]\n",
      " [ 4  7  9  0]]\n"
     ]
    }
   ],
   "source": [
    "#with array.copy()\n",
    "print(x2)\n",
    "x2_sub = x2[:2, :2].copy()\n",
    "print(x2_sub)\n",
    "x2_sub[0, 0] = 0\n",
    "print(x2_sub)\n",
    "print(x2)"
   ]
  },
  {
   "cell_type": "markdown",
   "metadata": {
    "id": "GlccH79GbKrC"
   },
   "source": [
    "Reshaping Arrays: array.reshape(n, m), where n and m are the respective dimensions. NOTE: for this to work the initial array size must match the size of the reshaped array. RESHAPING WILL NOT AFFECT THE ORIGINAL ARRAY, IF YOU WANT TO USE THE RESHAPED ARRAY SET IT TO SOMETHING NEW"
   ]
  },
  {
   "cell_type": "code",
   "execution_count": null,
   "metadata": {
    "colab": {
     "base_uri": "https://localhost:8080/",
     "height": 70
    },
    "executionInfo": {
     "elapsed": 1554,
     "status": "ok",
     "timestamp": 1600143236851,
     "user": {
      "displayName": "Sabyasachi Basu",
      "photoUrl": "https://lh3.googleusercontent.com/a-/AOh14Gin9ImPHXIS7jAscKOqdY17YZmmr148F_NJXYazIA=s64",
      "userId": "10825804676665851938"
     },
     "user_tz": 420
    },
    "id": "3kpirWQtbrSv",
    "outputId": "f5fe03aa-9f65-447f-cbda-7718692c3a71"
   },
   "outputs": [
    {
     "name": "stdout",
     "output_type": "stream",
     "text": [
      "[[1 2 3]\n",
      " [4 5 6]\n",
      " [7 8 9]]\n"
     ]
    }
   ],
   "source": [
    "#making the numbers 1 to 10 in a 3 by 3 matrix\n",
    "grid = np.arange(1, 10).reshape((3, 3))\n",
    "print(grid)"
   ]
  },
  {
   "cell_type": "code",
   "execution_count": null,
   "metadata": {
    "colab": {
     "base_uri": "https://localhost:8080/",
     "height": 105
    },
    "executionInfo": {
     "elapsed": 1540,
     "status": "ok",
     "timestamp": 1600143236852,
     "user": {
      "displayName": "Sabyasachi Basu",
      "photoUrl": "https://lh3.googleusercontent.com/a-/AOh14Gin9ImPHXIS7jAscKOqdY17YZmmr148F_NJXYazIA=s64",
      "userId": "10825804676665851938"
     },
     "user_tz": 420
    },
    "id": "kulsfZM7dTUE",
    "outputId": "acfeda57-5ab0-41bd-a880-b6057ec7abde"
   },
   "outputs": [
    {
     "name": "stdout",
     "output_type": "stream",
     "text": [
      "[1 2 3]\n",
      "[[1 2 3]]\n",
      "[[1]\n",
      " [2]\n",
      " [3]]\n"
     ]
    }
   ],
   "source": [
    "#reshaping a 1D array to a 2D array\n",
    "x = np.array([1, 2, 3])\n",
    "print(x)\n",
    "# row vector via reshape\n",
    "reshapedx = x.reshape((1, 3))\n",
    "print(reshapedx)\n",
    "reX = x.reshape((3, 1))\n",
    "print(reX)"
   ]
  },
  {
   "cell_type": "markdown",
   "metadata": {
    "id": "7esRX66TeWgw"
   },
   "source": [
    "Use np.concatenate, np.vstack, and np.hstack. np.concatenate to concatenate NumPy arrays."
   ]
  },
  {
   "cell_type": "code",
   "execution_count": null,
   "metadata": {
    "colab": {
     "base_uri": "https://localhost:8080/",
     "height": 70
    },
    "executionInfo": {
     "elapsed": 1523,
     "status": "ok",
     "timestamp": 1600143236853,
     "user": {
      "displayName": "Sabyasachi Basu",
      "photoUrl": "https://lh3.googleusercontent.com/a-/AOh14Gin9ImPHXIS7jAscKOqdY17YZmmr148F_NJXYazIA=s64",
      "userId": "10825804676665851938"
     },
     "user_tz": 420
    },
    "id": "FWfftY4demzN",
    "outputId": "e5898d37-56ba-4331-d3ca-112afa197762"
   },
   "outputs": [
    {
     "name": "stdout",
     "output_type": "stream",
     "text": [
      "[1 2 3] [3 2 1]\n",
      "[1 2 3 3 2 1]\n",
      "[ 1  2  3  3  2  1 99 99 99]\n"
     ]
    }
   ],
   "source": [
    "#1-D example\n",
    "x = np.array([1, 2, 3])\n",
    "y = np.array([3, 2, 1])\n",
    "print(x, y)\n",
    "comb = np.concatenate([x, y])\n",
    "print(comb)\n",
    "#can have more than 2 arrays as well\n",
    "z = [99, 99, 99]\n",
    "print(np.concatenate([x, y, z]))"
   ]
  },
  {
   "cell_type": "code",
   "execution_count": null,
   "metadata": {
    "colab": {
     "base_uri": "https://localhost:8080/",
     "height": 87
    },
    "executionInfo": {
     "elapsed": 1507,
     "status": "ok",
     "timestamp": 1600143236853,
     "user": {
      "displayName": "Sabyasachi Basu",
      "photoUrl": "https://lh3.googleusercontent.com/a-/AOh14Gin9ImPHXIS7jAscKOqdY17YZmmr148F_NJXYazIA=s64",
      "userId": "10825804676665851938"
     },
     "user_tz": 420
    },
    "id": "7DrI17Kbf_Uv",
    "outputId": "8cf4fffc-1e17-40fc-deac-37918cbb508e"
   },
   "outputs": [
    {
     "name": "stdout",
     "output_type": "stream",
     "text": [
      "[[1 2 3]\n",
      " [4 5 6]\n",
      " [1 2 3]\n",
      " [4 5 6]]\n"
     ]
    }
   ],
   "source": [
    "#2-D example\n",
    "grid = np.array([[1, 2, 3],\n",
    "                 [4, 5, 6]])\n",
    "combogrid = np.concatenate([grid, grid])\n",
    "print(combogrid)"
   ]
  },
  {
   "cell_type": "markdown",
   "metadata": {
    "id": "4yCTvNICgrbq"
   },
   "source": [
    "np.vstack (verical stack) and np.hstack (horizontal stack) offer more control in how the arrays will combined"
   ]
  },
  {
   "cell_type": "code",
   "execution_count": null,
   "metadata": {
    "colab": {
     "base_uri": "https://localhost:8080/",
     "height": 105
    },
    "executionInfo": {
     "elapsed": 1492,
     "status": "ok",
     "timestamp": 1600143236854,
     "user": {
      "displayName": "Sabyasachi Basu",
      "photoUrl": "https://lh3.googleusercontent.com/a-/AOh14Gin9ImPHXIS7jAscKOqdY17YZmmr148F_NJXYazIA=s64",
      "userId": "10825804676665851938"
     },
     "user_tz": 420
    },
    "id": "cWeenB00gaZY",
    "outputId": "4d833c59-c7f0-47f5-fe60-b082573ef2b1"
   },
   "outputs": [
    {
     "name": "stdout",
     "output_type": "stream",
     "text": [
      "[[1 2 3]\n",
      " [9 8 7]\n",
      " [6 5 4]]\n",
      "[[ 9  8  7 99]\n",
      " [ 6  5  4 99]]\n"
     ]
    }
   ],
   "source": [
    "#Mixed dimensions example \n",
    "x = np.array([1, 2, 3])\n",
    "grid = np.array([[9, 8, 7],\n",
    "                 [6, 5, 4]])\n",
    "# vertically stack the arrays\n",
    "vxgrid = np.vstack([x, grid])\n",
    "print(vxgrid)\n",
    "# we cant horizontally combine the arrays because the dimensions dont\n",
    "# line up, x = (1,3) and grid = (2, 3)\n",
    "\n",
    "# horizontally stack the y and grid\n",
    "y = np.array([[99],\n",
    "              [99]])\n",
    "#this can be combined horizontally: grid = (2,2) and y = (2,1)\n",
    "hygrid = np.hstack([grid, y])\n",
    "print(hygrid)\n",
    "\n",
    "#np.dstack stacks arrays along the 3rd axis"
   ]
  },
  {
   "cell_type": "markdown",
   "metadata": {
    "id": "siGnnZW1DUvh"
   },
   "source": [
    "add np.dotprod()"
   ]
  },
  {
   "cell_type": "markdown",
   "metadata": {
    "id": "nDoqucvWimiz"
   },
   "source": [
    "# Pandas\n"
   ]
  },
  {
   "cell_type": "markdown",
   "metadata": {
    "id": "ImtVEgNKiuIw"
   },
   "source": [
    "`pandas` is a great way to manipulate dataframes that are already existing \n",
    "\n",
    "(CSV files). They can also be created from lists and dictionaries.\n",
    "\n",
    "\n"
   ]
  },
  {
   "cell_type": "code",
   "execution_count": null,
   "metadata": {
    "colab": {
     "base_uri": "https://localhost:8080/",
     "height": 313
    },
    "executionInfo": {
     "elapsed": 1478,
     "status": "ok",
     "timestamp": 1600143236855,
     "user": {
      "displayName": "Sabyasachi Basu",
      "photoUrl": "https://lh3.googleusercontent.com/a-/AOh14Gin9ImPHXIS7jAscKOqdY17YZmmr148F_NJXYazIA=s64",
      "userId": "10825804676665851938"
     },
     "user_tz": 420
    },
    "id": "dHEXCYc8i-Mj",
    "outputId": "1d486380-4bd4-4cbb-dfea-3cac419a7f53"
   },
   "outputs": [
    {
     "name": "stdout",
     "output_type": "stream",
     "text": [
      "{'Name': ['kartik', 'fahed', 'zainub', 'kyle', 'spencer', 'kaleen', 'andrew', 'lise'], 'Grade': [79, 99, 89, 80, 87, 90, 81, None], 'Hired': ['y', 'n', 'y', 'y', 'n', 'n', 'y', 'n']}\n"
     ]
    },
    {
     "data": {
      "text/html": [
       "<div>\n",
       "<style scoped>\n",
       "    .dataframe tbody tr th:only-of-type {\n",
       "        vertical-align: middle;\n",
       "    }\n",
       "\n",
       "    .dataframe tbody tr th {\n",
       "        vertical-align: top;\n",
       "    }\n",
       "\n",
       "    .dataframe thead th {\n",
       "        text-align: right;\n",
       "    }\n",
       "</style>\n",
       "<table border=\"1\" class=\"dataframe\">\n",
       "  <thead>\n",
       "    <tr style=\"text-align: right;\">\n",
       "      <th></th>\n",
       "      <th>Name</th>\n",
       "      <th>Grade</th>\n",
       "      <th>Hired</th>\n",
       "    </tr>\n",
       "  </thead>\n",
       "  <tbody>\n",
       "    <tr>\n",
       "      <th>0</th>\n",
       "      <td>kartik</td>\n",
       "      <td>79.0</td>\n",
       "      <td>y</td>\n",
       "    </tr>\n",
       "    <tr>\n",
       "      <th>1</th>\n",
       "      <td>fahed</td>\n",
       "      <td>99.0</td>\n",
       "      <td>n</td>\n",
       "    </tr>\n",
       "    <tr>\n",
       "      <th>2</th>\n",
       "      <td>zainub</td>\n",
       "      <td>89.0</td>\n",
       "      <td>y</td>\n",
       "    </tr>\n",
       "    <tr>\n",
       "      <th>3</th>\n",
       "      <td>kyle</td>\n",
       "      <td>80.0</td>\n",
       "      <td>y</td>\n",
       "    </tr>\n",
       "    <tr>\n",
       "      <th>4</th>\n",
       "      <td>spencer</td>\n",
       "      <td>87.0</td>\n",
       "      <td>n</td>\n",
       "    </tr>\n",
       "    <tr>\n",
       "      <th>5</th>\n",
       "      <td>kaleen</td>\n",
       "      <td>90.0</td>\n",
       "      <td>n</td>\n",
       "    </tr>\n",
       "    <tr>\n",
       "      <th>6</th>\n",
       "      <td>andrew</td>\n",
       "      <td>81.0</td>\n",
       "      <td>y</td>\n",
       "    </tr>\n",
       "    <tr>\n",
       "      <th>7</th>\n",
       "      <td>lise</td>\n",
       "      <td>NaN</td>\n",
       "      <td>n</td>\n",
       "    </tr>\n",
       "  </tbody>\n",
       "</table>\n",
       "</div>"
      ],
      "text/plain": [
       "      Name  Grade Hired\n",
       "0   kartik   79.0     y\n",
       "1    fahed   99.0     n\n",
       "2   zainub   89.0     y\n",
       "3     kyle   80.0     y\n",
       "4  spencer   87.0     n\n",
       "5   kaleen   90.0     n\n",
       "6   andrew   81.0     y\n",
       "7     lise    NaN     n"
      ]
     },
     "execution_count": 20,
     "metadata": {
      "tags": []
     },
     "output_type": "execute_result"
    }
   ],
   "source": [
    "#example dictionary of names and grades\n",
    "data = {'Name':['kartik', 'fahed', 'zainub', 'kyle', 'spencer', 'kaleen', 'andrew', 'lise'],\n",
    "        'Grade': [79, 99, 89, 80, 87, 90, 81, None],\n",
    "        'Hired': ['y', 'n', 'y', 'y', 'n', 'n', 'y', 'n']}\n",
    "print(data)\n",
    "#creating a dataframe\n",
    "df = pd.DataFrame(data)\n",
    "df"
   ]
  },
  {
   "cell_type": "code",
   "execution_count": null,
   "metadata": {
    "colab": {
     "base_uri": "https://localhost:8080/",
     "height": 203
    },
    "executionInfo": {
     "elapsed": 1462,
     "status": "ok",
     "timestamp": 1600143236856,
     "user": {
      "displayName": "Sabyasachi Basu",
      "photoUrl": "https://lh3.googleusercontent.com/a-/AOh14Gin9ImPHXIS7jAscKOqdY17YZmmr148F_NJXYazIA=s64",
      "userId": "10825804676665851938"
     },
     "user_tz": 420
    },
    "id": "yAmmJfemqtng",
    "outputId": "f2cd6c0a-64c4-4b59-f2ba-4b4a4dca71a8"
   },
   "outputs": [
    {
     "data": {
      "text/html": [
       "<div>\n",
       "<style scoped>\n",
       "    .dataframe tbody tr th:only-of-type {\n",
       "        vertical-align: middle;\n",
       "    }\n",
       "\n",
       "    .dataframe tbody tr th {\n",
       "        vertical-align: top;\n",
       "    }\n",
       "\n",
       "    .dataframe thead th {\n",
       "        text-align: right;\n",
       "    }\n",
       "</style>\n",
       "<table border=\"1\" class=\"dataframe\">\n",
       "  <thead>\n",
       "    <tr style=\"text-align: right;\">\n",
       "      <th></th>\n",
       "      <th>Name</th>\n",
       "      <th>Grade</th>\n",
       "      <th>Hired</th>\n",
       "    </tr>\n",
       "  </thead>\n",
       "  <tbody>\n",
       "    <tr>\n",
       "      <th>0</th>\n",
       "      <td>kartik</td>\n",
       "      <td>79.0</td>\n",
       "      <td>y</td>\n",
       "    </tr>\n",
       "    <tr>\n",
       "      <th>1</th>\n",
       "      <td>fahed</td>\n",
       "      <td>99.0</td>\n",
       "      <td>n</td>\n",
       "    </tr>\n",
       "    <tr>\n",
       "      <th>2</th>\n",
       "      <td>zainub</td>\n",
       "      <td>89.0</td>\n",
       "      <td>y</td>\n",
       "    </tr>\n",
       "    <tr>\n",
       "      <th>3</th>\n",
       "      <td>kyle</td>\n",
       "      <td>80.0</td>\n",
       "      <td>y</td>\n",
       "    </tr>\n",
       "    <tr>\n",
       "      <th>4</th>\n",
       "      <td>spencer</td>\n",
       "      <td>87.0</td>\n",
       "      <td>n</td>\n",
       "    </tr>\n",
       "  </tbody>\n",
       "</table>\n",
       "</div>"
      ],
      "text/plain": [
       "      Name  Grade Hired\n",
       "0   kartik   79.0     y\n",
       "1    fahed   99.0     n\n",
       "2   zainub   89.0     y\n",
       "3     kyle   80.0     y\n",
       "4  spencer   87.0     n"
      ]
     },
     "execution_count": 21,
     "metadata": {
      "tags": []
     },
     "output_type": "execute_result"
    }
   ],
   "source": [
    "#looking at the first rows of the dataframe (default value 5)\n",
    "df.head()"
   ]
  },
  {
   "cell_type": "code",
   "execution_count": null,
   "metadata": {
    "colab": {
     "base_uri": "https://localhost:8080/",
     "height": 295
    },
    "executionInfo": {
     "elapsed": 1442,
     "status": "ok",
     "timestamp": 1600143236857,
     "user": {
      "displayName": "Sabyasachi Basu",
      "photoUrl": "https://lh3.googleusercontent.com/a-/AOh14Gin9ImPHXIS7jAscKOqdY17YZmmr148F_NJXYazIA=s64",
      "userId": "10825804676665851938"
     },
     "user_tz": 420
    },
    "id": "ynQtnSE4y-f_",
    "outputId": "480e8343-7616-435a-eff0-561d2068aff8"
   },
   "outputs": [
    {
     "data": {
      "text/html": [
       "<div>\n",
       "<style scoped>\n",
       "    .dataframe tbody tr th:only-of-type {\n",
       "        vertical-align: middle;\n",
       "    }\n",
       "\n",
       "    .dataframe tbody tr th {\n",
       "        vertical-align: top;\n",
       "    }\n",
       "\n",
       "    .dataframe thead th {\n",
       "        text-align: right;\n",
       "    }\n",
       "</style>\n",
       "<table border=\"1\" class=\"dataframe\">\n",
       "  <thead>\n",
       "    <tr style=\"text-align: right;\">\n",
       "      <th></th>\n",
       "      <th>Name</th>\n",
       "      <th>Grade</th>\n",
       "      <th>Hired</th>\n",
       "    </tr>\n",
       "  </thead>\n",
       "  <tbody>\n",
       "    <tr>\n",
       "      <th>0</th>\n",
       "      <td>False</td>\n",
       "      <td>False</td>\n",
       "      <td>False</td>\n",
       "    </tr>\n",
       "    <tr>\n",
       "      <th>1</th>\n",
       "      <td>False</td>\n",
       "      <td>False</td>\n",
       "      <td>False</td>\n",
       "    </tr>\n",
       "    <tr>\n",
       "      <th>2</th>\n",
       "      <td>False</td>\n",
       "      <td>False</td>\n",
       "      <td>False</td>\n",
       "    </tr>\n",
       "    <tr>\n",
       "      <th>3</th>\n",
       "      <td>False</td>\n",
       "      <td>False</td>\n",
       "      <td>False</td>\n",
       "    </tr>\n",
       "    <tr>\n",
       "      <th>4</th>\n",
       "      <td>False</td>\n",
       "      <td>False</td>\n",
       "      <td>False</td>\n",
       "    </tr>\n",
       "    <tr>\n",
       "      <th>5</th>\n",
       "      <td>False</td>\n",
       "      <td>False</td>\n",
       "      <td>False</td>\n",
       "    </tr>\n",
       "    <tr>\n",
       "      <th>6</th>\n",
       "      <td>False</td>\n",
       "      <td>False</td>\n",
       "      <td>False</td>\n",
       "    </tr>\n",
       "    <tr>\n",
       "      <th>7</th>\n",
       "      <td>False</td>\n",
       "      <td>True</td>\n",
       "      <td>False</td>\n",
       "    </tr>\n",
       "  </tbody>\n",
       "</table>\n",
       "</div>"
      ],
      "text/plain": [
       "    Name  Grade  Hired\n",
       "0  False  False  False\n",
       "1  False  False  False\n",
       "2  False  False  False\n",
       "3  False  False  False\n",
       "4  False  False  False\n",
       "5  False  False  False\n",
       "6  False  False  False\n",
       "7  False   True  False"
      ]
     },
     "execution_count": 22,
     "metadata": {
      "tags": []
     },
     "output_type": "execute_result"
    }
   ],
   "source": [
    "#looking for missing values\n",
    "#returns a table with trues and falses for NaNs\n",
    "df.isnull()"
   ]
  },
  {
   "cell_type": "code",
   "execution_count": null,
   "metadata": {
    "colab": {
     "base_uri": "https://localhost:8080/",
     "height": 87
    },
    "executionInfo": {
     "elapsed": 1422,
     "status": "ok",
     "timestamp": 1600143236858,
     "user": {
      "displayName": "Sabyasachi Basu",
      "photoUrl": "https://lh3.googleusercontent.com/a-/AOh14Gin9ImPHXIS7jAscKOqdY17YZmmr148F_NJXYazIA=s64",
      "userId": "10825804676665851938"
     },
     "user_tz": 420
    },
    "id": "WVpB3buLzeY2",
    "outputId": "292f0479-5152-4bdf-d8ef-cc6c1a4ac513"
   },
   "outputs": [
    {
     "data": {
      "text/plain": [
       "Name     0\n",
       "Grade    1\n",
       "Hired    0\n",
       "dtype: int64"
      ]
     },
     "execution_count": 23,
     "metadata": {
      "tags": []
     },
     "output_type": "execute_result"
    }
   ],
   "source": [
    "#finding the total number of missing values\n",
    "df.isnull().sum()"
   ]
  },
  {
   "cell_type": "code",
   "execution_count": null,
   "metadata": {
    "colab": {
     "base_uri": "https://localhost:8080/",
     "height": 52
    },
    "executionInfo": {
     "elapsed": 1406,
     "status": "ok",
     "timestamp": 1600143236860,
     "user": {
      "displayName": "Sabyasachi Basu",
      "photoUrl": "https://lh3.googleusercontent.com/a-/AOh14Gin9ImPHXIS7jAscKOqdY17YZmmr148F_NJXYazIA=s64",
      "userId": "10825804676665851938"
     },
     "user_tz": 420
    },
    "id": "udmzksUen16A",
    "outputId": "53905c2c-442c-4267-b185-a744dab50a4d"
   },
   "outputs": [
    {
     "name": "stdout",
     "output_type": "stream",
     "text": [
      "24\n",
      "(8, 3)\n"
     ]
    }
   ],
   "source": [
    "#getting the number of elements in a pandas dataframe\n",
    "print(df.size)\n",
    "#getting the dimensionality of a pandas dataframe\n",
    "print(df.shape)"
   ]
  },
  {
   "cell_type": "code",
   "execution_count": null,
   "metadata": {
    "colab": {
     "base_uri": "https://localhost:8080/",
     "height": 326
    },
    "executionInfo": {
     "elapsed": 451,
     "status": "ok",
     "timestamp": 1600156695522,
     "user": {
      "displayName": "Sabyasachi Basu",
      "photoUrl": "https://lh3.googleusercontent.com/a-/AOh14Gin9ImPHXIS7jAscKOqdY17YZmmr148F_NJXYazIA=s64",
      "userId": "10825804676665851938"
     },
     "user_tz": 420
    },
    "id": "JdzRNuJUl7LV",
    "outputId": "c1257433-cb50-4e66-e183-cf079ad61f0a"
   },
   "outputs": [
    {
     "data": {
      "text/html": [
       "<div>\n",
       "<style scoped>\n",
       "    .dataframe tbody tr th:only-of-type {\n",
       "        vertical-align: middle;\n",
       "    }\n",
       "\n",
       "    .dataframe tbody tr th {\n",
       "        vertical-align: top;\n",
       "    }\n",
       "\n",
       "    .dataframe thead th {\n",
       "        text-align: right;\n",
       "    }\n",
       "</style>\n",
       "<table border=\"1\" class=\"dataframe\">\n",
       "  <thead>\n",
       "    <tr style=\"text-align: right;\">\n",
       "      <th></th>\n",
       "      <th>Name</th>\n",
       "    </tr>\n",
       "    <tr>\n",
       "      <th>Grade</th>\n",
       "      <th></th>\n",
       "    </tr>\n",
       "  </thead>\n",
       "  <tbody>\n",
       "    <tr>\n",
       "      <th>79.0</th>\n",
       "      <td>kartik</td>\n",
       "    </tr>\n",
       "    <tr>\n",
       "      <th>99.0</th>\n",
       "      <td>fahed</td>\n",
       "    </tr>\n",
       "    <tr>\n",
       "      <th>89.0</th>\n",
       "      <td>zainub</td>\n",
       "    </tr>\n",
       "    <tr>\n",
       "      <th>80.0</th>\n",
       "      <td>kyle</td>\n",
       "    </tr>\n",
       "    <tr>\n",
       "      <th>87.0</th>\n",
       "      <td>spencer</td>\n",
       "    </tr>\n",
       "    <tr>\n",
       "      <th>90.0</th>\n",
       "      <td>kaleen</td>\n",
       "    </tr>\n",
       "    <tr>\n",
       "      <th>81.0</th>\n",
       "      <td>andrew</td>\n",
       "    </tr>\n",
       "    <tr>\n",
       "      <th>NaN</th>\n",
       "      <td>lise</td>\n",
       "    </tr>\n",
       "  </tbody>\n",
       "</table>\n",
       "</div>"
      ],
      "text/plain": [
       "          Name\n",
       "Grade         \n",
       "79.0    kartik\n",
       "99.0     fahed\n",
       "89.0    zainub\n",
       "80.0      kyle\n",
       "87.0   spencer\n",
       "90.0    kaleen\n",
       "81.0    andrew\n",
       "NaN       lise"
      ]
     },
     "execution_count": 47,
     "metadata": {
      "tags": []
     },
     "output_type": "execute_result"
    }
   ],
   "source": [
    "# Selecting columns\n",
    "df[['Name']]"
   ]
  },
  {
   "cell_type": "code",
   "execution_count": null,
   "metadata": {
    "colab": {
     "base_uri": "https://localhost:8080/",
     "height": 35
    },
    "executionInfo": {
     "elapsed": 1374,
     "status": "ok",
     "timestamp": 1600143236862,
     "user": {
      "displayName": "Sabyasachi Basu",
      "photoUrl": "https://lh3.googleusercontent.com/a-/AOh14Gin9ImPHXIS7jAscKOqdY17YZmmr148F_NJXYazIA=s64",
      "userId": "10825804676665851938"
     },
     "user_tz": 420
    },
    "id": "MDR8gJzmc1my",
    "outputId": "56e40d5b-5e12-4990-8236-6fcd6abb25da"
   },
   "outputs": [
    {
     "data": {
      "text/plain": [
       "Index(['Name', 'Grade', 'Hired'], dtype='object')"
      ]
     },
     "execution_count": 26,
     "metadata": {
      "tags": []
     },
     "output_type": "execute_result"
    }
   ],
   "source": [
    "#getting column names\n",
    "df.columns"
   ]
  },
  {
   "cell_type": "markdown",
   "metadata": {
    "id": "u62aYvUGpvBm"
   },
   "source": [
    "Selecting rows with .loc\n",
    "1.   Selecting rows by label/index\n",
    "2.   Selecting rows with a boolean / conditional lookup\n"
   ]
  },
  {
   "cell_type": "code",
   "execution_count": null,
   "metadata": {
    "colab": {
     "base_uri": "https://localhost:8080/",
     "height": 233
    },
    "executionInfo": {
     "elapsed": 1360,
     "status": "ok",
     "timestamp": 1600143236863,
     "user": {
      "displayName": "Sabyasachi Basu",
      "photoUrl": "https://lh3.googleusercontent.com/a-/AOh14Gin9ImPHXIS7jAscKOqdY17YZmmr148F_NJXYazIA=s64",
      "userId": "10825804676665851938"
     },
     "user_tz": 420
    },
    "id": "wyDMmiaoqADj",
    "outputId": "3acbfb72-b123-43c9-be8e-4d0eaa3a551c"
   },
   "outputs": [
    {
     "data": {
      "text/html": [
       "<div>\n",
       "<style scoped>\n",
       "    .dataframe tbody tr th:only-of-type {\n",
       "        vertical-align: middle;\n",
       "    }\n",
       "\n",
       "    .dataframe tbody tr th {\n",
       "        vertical-align: top;\n",
       "    }\n",
       "\n",
       "    .dataframe thead th {\n",
       "        text-align: right;\n",
       "    }\n",
       "</style>\n",
       "<table border=\"1\" class=\"dataframe\">\n",
       "  <thead>\n",
       "    <tr style=\"text-align: right;\">\n",
       "      <th></th>\n",
       "      <th>Name</th>\n",
       "      <th>Hired</th>\n",
       "    </tr>\n",
       "    <tr>\n",
       "      <th>Grade</th>\n",
       "      <th></th>\n",
       "      <th></th>\n",
       "    </tr>\n",
       "  </thead>\n",
       "  <tbody>\n",
       "    <tr>\n",
       "      <th>79.0</th>\n",
       "      <td>kartik</td>\n",
       "      <td>y</td>\n",
       "    </tr>\n",
       "    <tr>\n",
       "      <th>99.0</th>\n",
       "      <td>fahed</td>\n",
       "      <td>n</td>\n",
       "    </tr>\n",
       "    <tr>\n",
       "      <th>89.0</th>\n",
       "      <td>zainub</td>\n",
       "      <td>y</td>\n",
       "    </tr>\n",
       "    <tr>\n",
       "      <th>80.0</th>\n",
       "      <td>kyle</td>\n",
       "      <td>y</td>\n",
       "    </tr>\n",
       "    <tr>\n",
       "      <th>87.0</th>\n",
       "      <td>spencer</td>\n",
       "      <td>n</td>\n",
       "    </tr>\n",
       "  </tbody>\n",
       "</table>\n",
       "</div>"
      ],
      "text/plain": [
       "          Name Hired\n",
       "Grade               \n",
       "79.0    kartik     y\n",
       "99.0     fahed     n\n",
       "89.0    zainub     y\n",
       "80.0      kyle     y\n",
       "87.0   spencer     n"
      ]
     },
     "execution_count": 27,
     "metadata": {
      "tags": []
     },
     "output_type": "execute_result"
    }
   ],
   "source": [
    "#finding specific values by setting the index of a df to that column\n",
    "#lets find the score of 99\n",
    "copyDf = df.copy()\n",
    "df.set_index(\"Grade\", inplace=True)\n",
    "df.head()"
   ]
  },
  {
   "cell_type": "code",
   "execution_count": null,
   "metadata": {
    "colab": {
     "base_uri": "https://localhost:8080/",
     "height": 70
    },
    "executionInfo": {
     "elapsed": 1331,
     "status": "ok",
     "timestamp": 1600143236864,
     "user": {
      "displayName": "Sabyasachi Basu",
      "photoUrl": "https://lh3.googleusercontent.com/a-/AOh14Gin9ImPHXIS7jAscKOqdY17YZmmr148F_NJXYazIA=s64",
      "userId": "10825804676665851938"
     },
     "user_tz": 420
    },
    "id": "E4n0kB7DmPCM",
    "outputId": "53c400f8-6c45-4535-9c86-4e2e1b54495e"
   },
   "outputs": [
    {
     "data": {
      "text/plain": [
       "Name     spencer\n",
       "Hired          n\n",
       "Name: 87.0, dtype: object"
      ]
     },
     "execution_count": 28,
     "metadata": {
      "tags": []
     },
     "output_type": "execute_result"
    }
   ],
   "source": [
    "#selecting rows with .loc\n",
    "row = df.loc[87]\n",
    "row"
   ]
  },
  {
   "cell_type": "code",
   "execution_count": null,
   "metadata": {
    "colab": {
     "base_uri": "https://localhost:8080/",
     "height": 70
    },
    "executionInfo": {
     "elapsed": 1312,
     "status": "ok",
     "timestamp": 1600143236865,
     "user": {
      "displayName": "Sabyasachi Basu",
      "photoUrl": "https://lh3.googleusercontent.com/a-/AOh14Gin9ImPHXIS7jAscKOqdY17YZmmr148F_NJXYazIA=s64",
      "userId": "10825804676665851938"
     },
     "user_tz": 420
    },
    "id": "NyZcKS18q8YV",
    "outputId": "2367cdc5-ea8c-4b93-8938-bc9376d1a9f1"
   },
   "outputs": [
    {
     "data": {
      "text/plain": [
       "Name     fahed\n",
       "Hired        n\n",
       "Name: 99.0, dtype: object"
      ]
     },
     "execution_count": 29,
     "metadata": {
      "tags": []
     },
     "output_type": "execute_result"
    }
   ],
   "source": [
    "df.loc[99]\n",
    "#faheds the only person to score a 99"
   ]
  },
  {
   "cell_type": "markdown",
   "metadata": {
    "id": "cpfp9s79raR0"
   },
   "source": [
    "Changing the index values can be a quick fix but in practice it isn't very practical because everytime we have a new column, we would be changing our index column to that column value we desire. Alternatively we do the following."
   ]
  },
  {
   "cell_type": "code",
   "execution_count": null,
   "metadata": {
    "colab": {
     "base_uri": "https://localhost:8080/",
     "height": 79
    },
    "executionInfo": {
     "elapsed": 1296,
     "status": "ok",
     "timestamp": 1600143236866,
     "user": {
      "displayName": "Sabyasachi Basu",
      "photoUrl": "https://lh3.googleusercontent.com/a-/AOh14Gin9ImPHXIS7jAscKOqdY17YZmmr148F_NJXYazIA=s64",
      "userId": "10825804676665851938"
     },
     "user_tz": 420
    },
    "id": "JISTbyuNrswY",
    "outputId": "a0031d72-1cc9-4f83-917e-a49302d2cd1e"
   },
   "outputs": [
    {
     "data": {
      "text/html": [
       "<div>\n",
       "<style scoped>\n",
       "    .dataframe tbody tr th:only-of-type {\n",
       "        vertical-align: middle;\n",
       "    }\n",
       "\n",
       "    .dataframe tbody tr th {\n",
       "        vertical-align: top;\n",
       "    }\n",
       "\n",
       "    .dataframe thead th {\n",
       "        text-align: right;\n",
       "    }\n",
       "</style>\n",
       "<table border=\"1\" class=\"dataframe\">\n",
       "  <thead>\n",
       "    <tr style=\"text-align: right;\">\n",
       "      <th></th>\n",
       "      <th>Name</th>\n",
       "      <th>Grade</th>\n",
       "      <th>Hired</th>\n",
       "    </tr>\n",
       "  </thead>\n",
       "  <tbody>\n",
       "    <tr>\n",
       "      <th>1</th>\n",
       "      <td>fahed</td>\n",
       "      <td>99.0</td>\n",
       "      <td>n</td>\n",
       "    </tr>\n",
       "  </tbody>\n",
       "</table>\n",
       "</div>"
      ],
      "text/plain": [
       "    Name  Grade Hired\n",
       "1  fahed   99.0     n"
      ]
     },
     "execution_count": 30,
     "metadata": {
      "tags": []
     },
     "output_type": "execute_result"
    }
   ],
   "source": [
    "#our original df is now copyDf\n",
    "copyDf.loc[copyDf['Grade'] == 99]"
   ]
  },
  {
   "cell_type": "code",
   "execution_count": null,
   "metadata": {
    "colab": {
     "base_uri": "https://localhost:8080/",
     "height": 141
    },
    "executionInfo": {
     "elapsed": 1790,
     "status": "ok",
     "timestamp": 1600143237378,
     "user": {
      "displayName": "Sabyasachi Basu",
      "photoUrl": "https://lh3.googleusercontent.com/a-/AOh14Gin9ImPHXIS7jAscKOqdY17YZmmr148F_NJXYazIA=s64",
      "userId": "10825804676665851938"
     },
     "user_tz": 420
    },
    "id": "ieBJcvEOsdf6",
    "outputId": "93e87840-c167-4b46-bb2d-9d18cd718240"
   },
   "outputs": [
    {
     "data": {
      "text/html": [
       "<div>\n",
       "<style scoped>\n",
       "    .dataframe tbody tr th:only-of-type {\n",
       "        vertical-align: middle;\n",
       "    }\n",
       "\n",
       "    .dataframe tbody tr th {\n",
       "        vertical-align: top;\n",
       "    }\n",
       "\n",
       "    .dataframe thead th {\n",
       "        text-align: right;\n",
       "    }\n",
       "</style>\n",
       "<table border=\"1\" class=\"dataframe\">\n",
       "  <thead>\n",
       "    <tr style=\"text-align: right;\">\n",
       "      <th></th>\n",
       "      <th>Name</th>\n",
       "      <th>Grade</th>\n",
       "      <th>Hired</th>\n",
       "    </tr>\n",
       "  </thead>\n",
       "  <tbody>\n",
       "    <tr>\n",
       "      <th>1</th>\n",
       "      <td>fahed</td>\n",
       "      <td>99.0</td>\n",
       "      <td>n</td>\n",
       "    </tr>\n",
       "    <tr>\n",
       "      <th>4</th>\n",
       "      <td>spencer</td>\n",
       "      <td>87.0</td>\n",
       "      <td>n</td>\n",
       "    </tr>\n",
       "    <tr>\n",
       "      <th>5</th>\n",
       "      <td>kaleen</td>\n",
       "      <td>90.0</td>\n",
       "      <td>n</td>\n",
       "    </tr>\n",
       "  </tbody>\n",
       "</table>\n",
       "</div>"
      ],
      "text/plain": [
       "      Name  Grade Hired\n",
       "1    fahed   99.0     n\n",
       "4  spencer   87.0     n\n",
       "5   kaleen   90.0     n"
      ]
     },
     "execution_count": 31,
     "metadata": {
      "tags": []
     },
     "output_type": "execute_result"
    }
   ],
   "source": [
    "#searching for multiple values\n",
    "copyDf.loc[(copyDf['Grade'] > 85) & (copyDf['Hired'] == 'n')]"
   ]
  },
  {
   "cell_type": "code",
   "execution_count": null,
   "metadata": {
    "colab": {
     "base_uri": "https://localhost:8080/",
     "height": 110
    },
    "executionInfo": {
     "elapsed": 1776,
     "status": "ok",
     "timestamp": 1600143237379,
     "user": {
      "displayName": "Sabyasachi Basu",
      "photoUrl": "https://lh3.googleusercontent.com/a-/AOh14Gin9ImPHXIS7jAscKOqdY17YZmmr148F_NJXYazIA=s64",
      "userId": "10825804676665851938"
     },
     "user_tz": 420
    },
    "id": "TOCRruECweK2",
    "outputId": "a2de3240-2ebf-4de7-c642-7e1851107c89"
   },
   "outputs": [
    {
     "data": {
      "text/html": [
       "<div>\n",
       "<style scoped>\n",
       "    .dataframe tbody tr th:only-of-type {\n",
       "        vertical-align: middle;\n",
       "    }\n",
       "\n",
       "    .dataframe tbody tr th {\n",
       "        vertical-align: top;\n",
       "    }\n",
       "\n",
       "    .dataframe thead th {\n",
       "        text-align: right;\n",
       "    }\n",
       "</style>\n",
       "<table border=\"1\" class=\"dataframe\">\n",
       "  <thead>\n",
       "    <tr style=\"text-align: right;\">\n",
       "      <th></th>\n",
       "      <th>Name</th>\n",
       "      <th>Grade</th>\n",
       "      <th>Hired</th>\n",
       "    </tr>\n",
       "  </thead>\n",
       "  <tbody>\n",
       "    <tr>\n",
       "      <th>3</th>\n",
       "      <td>kyle</td>\n",
       "      <td>80.0</td>\n",
       "      <td>y</td>\n",
       "    </tr>\n",
       "    <tr>\n",
       "      <th>6</th>\n",
       "      <td>andrew</td>\n",
       "      <td>81.0</td>\n",
       "      <td>y</td>\n",
       "    </tr>\n",
       "  </tbody>\n",
       "</table>\n",
       "</div>"
      ],
      "text/plain": [
       "     Name  Grade Hired\n",
       "3    kyle   80.0     y\n",
       "6  andrew   81.0     y"
      ]
     },
     "execution_count": 32,
     "metadata": {
      "tags": []
     },
     "output_type": "execute_result"
    }
   ],
   "source": [
    "#searching for multiple values\n",
    "copyDf.loc[copyDf['Grade'].isin([80, 81, 82, 84])]"
   ]
  },
  {
   "cell_type": "markdown",
   "metadata": {
    "id": "8G97Yc82w6o6"
   },
   "source": [
    "Note, most of the values that are being returned are still in a panda format, so they can't be used for arithmetic operations yet. Additionally when we get to making models, they only input numerical values so the categorical data must be converted to numerical representations. There are various ways to do this so refer to this [link](https://https://towardsdatascience.com/all-about-categorical-variable-encoding-305f3361fd02) for more insights."
   ]
  },
  {
   "cell_type": "code",
   "execution_count": null,
   "metadata": {
    "colab": {
     "base_uri": "https://localhost:8080/",
     "height": 52
    },
    "executionInfo": {
     "elapsed": 1763,
     "status": "ok",
     "timestamp": 1600143237381,
     "user": {
      "displayName": "Sabyasachi Basu",
      "photoUrl": "https://lh3.googleusercontent.com/a-/AOh14Gin9ImPHXIS7jAscKOqdY17YZmmr148F_NJXYazIA=s64",
      "userId": "10825804676665851938"
     },
     "user_tz": 420
    },
    "id": "4iBFhZutd_NJ",
    "outputId": "a33593b8-e3b9-404a-a3bb-89d554177db6"
   },
   "outputs": [
    {
     "name": "stdout",
     "output_type": "stream",
     "text": [
      "hired students:  4 \n",
      "non-hired students:  4\n"
     ]
    }
   ],
   "source": [
    "#finding how many people got hired would also be the same on copyDf\n",
    "hiredStud = df['Hired'].value_counts()[0]\n",
    "nonhiredStud = df['Hired'].value_counts()[1]\n",
    "print(\"hired students: \",hiredStud, \"\\nnon-hired students: \", nonhiredStud)"
   ]
  },
  {
   "cell_type": "markdown",
   "metadata": {
    "id": "-HUH6excl6CD"
   },
   "source": [
    "Selecting row with iloc\n",
    "\n",
    "\n",
    "1.   similar to numpy slicing\n",
    "\n"
   ]
  },
  {
   "cell_type": "code",
   "execution_count": null,
   "metadata": {
    "colab": {
     "base_uri": "https://localhost:8080/",
     "height": 211
    },
    "executionInfo": {
     "elapsed": 1749,
     "status": "ok",
     "timestamp": 1600143237382,
     "user": {
      "displayName": "Sabyasachi Basu",
      "photoUrl": "https://lh3.googleusercontent.com/a-/AOh14Gin9ImPHXIS7jAscKOqdY17YZmmr148F_NJXYazIA=s64",
      "userId": "10825804676665851938"
     },
     "user_tz": 420
    },
    "id": "ODO4urRPmpjm",
    "outputId": "d35b249e-2a10-4847-f1d4-56063450e38a"
   },
   "outputs": [
    {
     "name": "stdout",
     "output_type": "stream",
     "text": [
      "Name     lise\n",
      "Hired       n\n",
      "Name: nan, dtype: object\n",
      "\n",
      "          Name Hired\n",
      "Grade               \n",
      "79.0    kartik     y\n",
      "99.0     fahed     n\n",
      "89.0    zainub     y\n",
      "80.0      kyle     y\n",
      "87.0   spencer     n\n"
     ]
    }
   ],
   "source": [
    "#selecting rows with .iloc\n",
    "row = df.iloc[-1]\n",
    "print(row)\n",
    "#selecting first 5 rows of data frame with all cols\n",
    "print()\n",
    "temp = df.iloc[:5, :]\n",
    "print(temp)\n"
   ]
  },
  {
   "cell_type": "markdown",
   "metadata": {
    "id": "69SaqOU0fKRB"
   },
   "source": [
    "Adding/Dropping Columns"
   ]
  },
  {
   "cell_type": "code",
   "execution_count": null,
   "metadata": {
    "colab": {
     "base_uri": "https://localhost:8080/",
     "height": 295
    },
    "executionInfo": {
     "elapsed": 1737,
     "status": "ok",
     "timestamp": 1600143237384,
     "user": {
      "displayName": "Sabyasachi Basu",
      "photoUrl": "https://lh3.googleusercontent.com/a-/AOh14Gin9ImPHXIS7jAscKOqdY17YZmmr148F_NJXYazIA=s64",
      "userId": "10825804676665851938"
     },
     "user_tz": 420
    },
    "id": "VAptrnKFfOUS",
    "outputId": "d860fb0b-eb7c-48fe-af1e-1dde5a7a145b"
   },
   "outputs": [
    {
     "data": {
      "text/html": [
       "<div>\n",
       "<style scoped>\n",
       "    .dataframe tbody tr th:only-of-type {\n",
       "        vertical-align: middle;\n",
       "    }\n",
       "\n",
       "    .dataframe tbody tr th {\n",
       "        vertical-align: top;\n",
       "    }\n",
       "\n",
       "    .dataframe thead th {\n",
       "        text-align: right;\n",
       "    }\n",
       "</style>\n",
       "<table border=\"1\" class=\"dataframe\">\n",
       "  <thead>\n",
       "    <tr style=\"text-align: right;\">\n",
       "      <th></th>\n",
       "      <th>Name</th>\n",
       "      <th>Grade</th>\n",
       "      <th>Hired</th>\n",
       "      <th>LG</th>\n",
       "    </tr>\n",
       "  </thead>\n",
       "  <tbody>\n",
       "    <tr>\n",
       "      <th>0</th>\n",
       "      <td>kartik</td>\n",
       "      <td>79.0</td>\n",
       "      <td>y</td>\n",
       "      <td>C</td>\n",
       "    </tr>\n",
       "    <tr>\n",
       "      <th>1</th>\n",
       "      <td>fahed</td>\n",
       "      <td>99.0</td>\n",
       "      <td>n</td>\n",
       "      <td>A</td>\n",
       "    </tr>\n",
       "    <tr>\n",
       "      <th>2</th>\n",
       "      <td>zainub</td>\n",
       "      <td>89.0</td>\n",
       "      <td>y</td>\n",
       "      <td>B</td>\n",
       "    </tr>\n",
       "    <tr>\n",
       "      <th>3</th>\n",
       "      <td>kyle</td>\n",
       "      <td>80.0</td>\n",
       "      <td>y</td>\n",
       "      <td>B</td>\n",
       "    </tr>\n",
       "    <tr>\n",
       "      <th>4</th>\n",
       "      <td>spencer</td>\n",
       "      <td>87.0</td>\n",
       "      <td>n</td>\n",
       "      <td>B</td>\n",
       "    </tr>\n",
       "    <tr>\n",
       "      <th>5</th>\n",
       "      <td>kaleen</td>\n",
       "      <td>90.0</td>\n",
       "      <td>n</td>\n",
       "      <td>A</td>\n",
       "    </tr>\n",
       "    <tr>\n",
       "      <th>6</th>\n",
       "      <td>andrew</td>\n",
       "      <td>81.0</td>\n",
       "      <td>y</td>\n",
       "      <td>B</td>\n",
       "    </tr>\n",
       "    <tr>\n",
       "      <th>7</th>\n",
       "      <td>lise</td>\n",
       "      <td>NaN</td>\n",
       "      <td>n</td>\n",
       "      <td>Fail</td>\n",
       "    </tr>\n",
       "  </tbody>\n",
       "</table>\n",
       "</div>"
      ],
      "text/plain": [
       "      Name  Grade Hired    LG\n",
       "0   kartik   79.0     y     C\n",
       "1    fahed   99.0     n     A\n",
       "2   zainub   89.0     y     B\n",
       "3     kyle   80.0     y     B\n",
       "4  spencer   87.0     n     B\n",
       "5   kaleen   90.0     n     A\n",
       "6   andrew   81.0     y     B\n",
       "7     lise    NaN     n  Fail"
      ]
     },
     "execution_count": 35,
     "metadata": {
      "tags": []
     },
     "output_type": "execute_result"
    }
   ],
   "source": [
    "#adding a column of equivalent letter grades to copyDf\n",
    "# A = 90-100, B = 80-89, C = 70-79, NaN = failed\n",
    "letterGrades = []\n",
    "for val in copyDf[\"Grade\"]:\n",
    "  if 90 <= val <=100:\n",
    "    letterGrades.append(\"A\")\n",
    "  elif 80 <= val <=89:\n",
    "    letterGrades.append(\"B\")\n",
    "  elif 70 <= val <=79:\n",
    "    letterGrades.append(\"C\")\n",
    "  elif np.isnan(val):\n",
    "    letterGrades.append(\"Fail\")\n",
    "letterGrades\n",
    "copyDf['LG'] = letterGrades\n",
    "copyDf\n",
    "\n",
    "\n"
   ]
  },
  {
   "cell_type": "code",
   "execution_count": null,
   "metadata": {
    "colab": {
     "base_uri": "https://localhost:8080/",
     "height": 295
    },
    "executionInfo": {
     "elapsed": 1721,
     "status": "ok",
     "timestamp": 1600143237385,
     "user": {
      "displayName": "Sabyasachi Basu",
      "photoUrl": "https://lh3.googleusercontent.com/a-/AOh14Gin9ImPHXIS7jAscKOqdY17YZmmr148F_NJXYazIA=s64",
      "userId": "10825804676665851938"
     },
     "user_tz": 420
    },
    "id": "Z_44eohriSIo",
    "outputId": "12f9af83-47ef-4311-8d2d-d44993a5be07"
   },
   "outputs": [
    {
     "data": {
      "text/html": [
       "<div>\n",
       "<style scoped>\n",
       "    .dataframe tbody tr th:only-of-type {\n",
       "        vertical-align: middle;\n",
       "    }\n",
       "\n",
       "    .dataframe tbody tr th {\n",
       "        vertical-align: top;\n",
       "    }\n",
       "\n",
       "    .dataframe thead th {\n",
       "        text-align: right;\n",
       "    }\n",
       "</style>\n",
       "<table border=\"1\" class=\"dataframe\">\n",
       "  <thead>\n",
       "    <tr style=\"text-align: right;\">\n",
       "      <th></th>\n",
       "      <th>Name</th>\n",
       "      <th>Hired</th>\n",
       "      <th>LG</th>\n",
       "    </tr>\n",
       "  </thead>\n",
       "  <tbody>\n",
       "    <tr>\n",
       "      <th>0</th>\n",
       "      <td>kartik</td>\n",
       "      <td>y</td>\n",
       "      <td>C</td>\n",
       "    </tr>\n",
       "    <tr>\n",
       "      <th>1</th>\n",
       "      <td>fahed</td>\n",
       "      <td>n</td>\n",
       "      <td>A</td>\n",
       "    </tr>\n",
       "    <tr>\n",
       "      <th>2</th>\n",
       "      <td>zainub</td>\n",
       "      <td>y</td>\n",
       "      <td>B</td>\n",
       "    </tr>\n",
       "    <tr>\n",
       "      <th>3</th>\n",
       "      <td>kyle</td>\n",
       "      <td>y</td>\n",
       "      <td>B</td>\n",
       "    </tr>\n",
       "    <tr>\n",
       "      <th>4</th>\n",
       "      <td>spencer</td>\n",
       "      <td>n</td>\n",
       "      <td>B</td>\n",
       "    </tr>\n",
       "    <tr>\n",
       "      <th>5</th>\n",
       "      <td>kaleen</td>\n",
       "      <td>n</td>\n",
       "      <td>A</td>\n",
       "    </tr>\n",
       "    <tr>\n",
       "      <th>6</th>\n",
       "      <td>andrew</td>\n",
       "      <td>y</td>\n",
       "      <td>B</td>\n",
       "    </tr>\n",
       "    <tr>\n",
       "      <th>7</th>\n",
       "      <td>lise</td>\n",
       "      <td>n</td>\n",
       "      <td>Fail</td>\n",
       "    </tr>\n",
       "  </tbody>\n",
       "</table>\n",
       "</div>"
      ],
      "text/plain": [
       "      Name Hired    LG\n",
       "0   kartik     y     C\n",
       "1    fahed     n     A\n",
       "2   zainub     y     B\n",
       "3     kyle     y     B\n",
       "4  spencer     n     B\n",
       "5   kaleen     n     A\n",
       "6   andrew     y     B\n",
       "7     lise     n  Fail"
      ]
     },
     "execution_count": 36,
     "metadata": {
      "tags": []
     },
     "output_type": "execute_result"
    }
   ],
   "source": [
    "#now lets drop the Grade column as the data is repetitive\n",
    "copyDf.drop(['Grade'], axis = 1, inplace = True)\n",
    "copyDf"
   ]
  },
  {
   "cell_type": "markdown",
   "metadata": {
    "id": "ffXM9opPjXAD"
   },
   "source": [
    "# Exercise with real data\n",
    "\n"
   ]
  },
  {
   "cell_type": "markdown",
   "metadata": {
    "id": "86MJ4lT_lZg5"
   },
   "source": [
    "* Import [**CAvideos.csv**](https://www.kaggle.com/datasnaek/youtube-new)\n",
    "  * If you are on Google Colaboratory, import the file using the left sidebar (under the colab logo).  \n",
    "> Files -> Upload to session storage\n",
    "\n",
    "  * If you are on another notebook program, just make sure the file is in the same directory as this notebook.\n",
    "\n",
    "\n",
    "\n",
    "\n",
    "\n",
    "\n",
    "\n",
    "\n",
    "\n",
    "\n"
   ]
  },
  {
   "cell_type": "markdown",
   "metadata": {
    "id": "Js36lNgZ1cir"
   },
   "source": [
    "Dataframe handling"
   ]
  },
  {
   "cell_type": "markdown",
   "metadata": {
    "id": "pniKArFHha4a"
   },
   "source": [
    "First we import Pandas to help use load our CSV file to a DataFrame object.  \n",
    "For more info, click here: https://pandas.pydata.org/pandas-docs/stable/reference/api/pandas.DataFrame.html\n"
   ]
  },
  {
   "cell_type": "code",
   "execution_count": null,
   "metadata": {
    "colab": {
     "base_uri": "https://localhost:8080/",
     "height": 438
    },
    "executionInfo": {
     "elapsed": 1912,
     "status": "error",
     "timestamp": 1600143237592,
     "user": {
      "displayName": "Sabyasachi Basu",
      "photoUrl": "https://lh3.googleusercontent.com/a-/AOh14Gin9ImPHXIS7jAscKOqdY17YZmmr148F_NJXYazIA=s64",
      "userId": "10825804676665851938"
     },
     "user_tz": 420
    },
    "id": "vkD4ruIIjc8O",
    "outputId": "e1758da3-7564-44c3-bc15-6bc4a6eb45ef"
   },
   "outputs": [
    {
     "ename": "FileNotFoundError",
     "evalue": "ignored",
     "output_type": "error",
     "traceback": [
      "\u001b[0;31m---------------------------------------------------------------------------\u001b[0m",
      "\u001b[0;31mFileNotFoundError\u001b[0m                         Traceback (most recent call last)",
      "\u001b[0;32m<ipython-input-37-ea6ac250c85b>\u001b[0m in \u001b[0;36m<module>\u001b[0;34m()\u001b[0m\n\u001b[1;32m      1\u001b[0m \u001b[0;31m# converts the CSV file to a dataframe object\u001b[0m\u001b[0;34m\u001b[0m\u001b[0;34m\u001b[0m\u001b[0;34m\u001b[0m\u001b[0m\n\u001b[0;32m----> 2\u001b[0;31m \u001b[0mdataframe\u001b[0m \u001b[0;34m=\u001b[0m \u001b[0mpd\u001b[0m\u001b[0;34m.\u001b[0m\u001b[0mread_csv\u001b[0m\u001b[0;34m(\u001b[0m\u001b[0;34m'CAvideos.csv'\u001b[0m\u001b[0;34m)\u001b[0m\u001b[0;34m\u001b[0m\u001b[0;34m\u001b[0m\u001b[0m\n\u001b[0m\u001b[1;32m      3\u001b[0m \u001b[0;34m\u001b[0m\u001b[0m\n\u001b[1;32m      4\u001b[0m \u001b[0mdataframe\u001b[0m\u001b[0;34m.\u001b[0m\u001b[0mhead\u001b[0m\u001b[0;34m(\u001b[0m\u001b[0;34m)\u001b[0m \u001b[0;31m# shows the first 5 rows of the df\u001b[0m\u001b[0;34m\u001b[0m\u001b[0;34m\u001b[0m\u001b[0m\n",
      "\u001b[0;32m/usr/local/lib/python3.6/dist-packages/pandas/io/parsers.py\u001b[0m in \u001b[0;36mparser_f\u001b[0;34m(filepath_or_buffer, sep, delimiter, header, names, index_col, usecols, squeeze, prefix, mangle_dupe_cols, dtype, engine, converters, true_values, false_values, skipinitialspace, skiprows, skipfooter, nrows, na_values, keep_default_na, na_filter, verbose, skip_blank_lines, parse_dates, infer_datetime_format, keep_date_col, date_parser, dayfirst, cache_dates, iterator, chunksize, compression, thousands, decimal, lineterminator, quotechar, quoting, doublequote, escapechar, comment, encoding, dialect, error_bad_lines, warn_bad_lines, delim_whitespace, low_memory, memory_map, float_precision)\u001b[0m\n\u001b[1;32m    674\u001b[0m         )\n\u001b[1;32m    675\u001b[0m \u001b[0;34m\u001b[0m\u001b[0m\n\u001b[0;32m--> 676\u001b[0;31m         \u001b[0;32mreturn\u001b[0m \u001b[0m_read\u001b[0m\u001b[0;34m(\u001b[0m\u001b[0mfilepath_or_buffer\u001b[0m\u001b[0;34m,\u001b[0m \u001b[0mkwds\u001b[0m\u001b[0;34m)\u001b[0m\u001b[0;34m\u001b[0m\u001b[0;34m\u001b[0m\u001b[0m\n\u001b[0m\u001b[1;32m    677\u001b[0m \u001b[0;34m\u001b[0m\u001b[0m\n\u001b[1;32m    678\u001b[0m     \u001b[0mparser_f\u001b[0m\u001b[0;34m.\u001b[0m\u001b[0m__name__\u001b[0m \u001b[0;34m=\u001b[0m \u001b[0mname\u001b[0m\u001b[0;34m\u001b[0m\u001b[0;34m\u001b[0m\u001b[0m\n",
      "\u001b[0;32m/usr/local/lib/python3.6/dist-packages/pandas/io/parsers.py\u001b[0m in \u001b[0;36m_read\u001b[0;34m(filepath_or_buffer, kwds)\u001b[0m\n\u001b[1;32m    446\u001b[0m \u001b[0;34m\u001b[0m\u001b[0m\n\u001b[1;32m    447\u001b[0m     \u001b[0;31m# Create the parser.\u001b[0m\u001b[0;34m\u001b[0m\u001b[0;34m\u001b[0m\u001b[0;34m\u001b[0m\u001b[0m\n\u001b[0;32m--> 448\u001b[0;31m     \u001b[0mparser\u001b[0m \u001b[0;34m=\u001b[0m \u001b[0mTextFileReader\u001b[0m\u001b[0;34m(\u001b[0m\u001b[0mfp_or_buf\u001b[0m\u001b[0;34m,\u001b[0m \u001b[0;34m**\u001b[0m\u001b[0mkwds\u001b[0m\u001b[0;34m)\u001b[0m\u001b[0;34m\u001b[0m\u001b[0;34m\u001b[0m\u001b[0m\n\u001b[0m\u001b[1;32m    449\u001b[0m \u001b[0;34m\u001b[0m\u001b[0m\n\u001b[1;32m    450\u001b[0m     \u001b[0;32mif\u001b[0m \u001b[0mchunksize\u001b[0m \u001b[0;32mor\u001b[0m \u001b[0miterator\u001b[0m\u001b[0;34m:\u001b[0m\u001b[0;34m\u001b[0m\u001b[0;34m\u001b[0m\u001b[0m\n",
      "\u001b[0;32m/usr/local/lib/python3.6/dist-packages/pandas/io/parsers.py\u001b[0m in \u001b[0;36m__init__\u001b[0;34m(self, f, engine, **kwds)\u001b[0m\n\u001b[1;32m    878\u001b[0m             \u001b[0mself\u001b[0m\u001b[0;34m.\u001b[0m\u001b[0moptions\u001b[0m\u001b[0;34m[\u001b[0m\u001b[0;34m\"has_index_names\"\u001b[0m\u001b[0;34m]\u001b[0m \u001b[0;34m=\u001b[0m \u001b[0mkwds\u001b[0m\u001b[0;34m[\u001b[0m\u001b[0;34m\"has_index_names\"\u001b[0m\u001b[0;34m]\u001b[0m\u001b[0;34m\u001b[0m\u001b[0;34m\u001b[0m\u001b[0m\n\u001b[1;32m    879\u001b[0m \u001b[0;34m\u001b[0m\u001b[0m\n\u001b[0;32m--> 880\u001b[0;31m         \u001b[0mself\u001b[0m\u001b[0;34m.\u001b[0m\u001b[0m_make_engine\u001b[0m\u001b[0;34m(\u001b[0m\u001b[0mself\u001b[0m\u001b[0;34m.\u001b[0m\u001b[0mengine\u001b[0m\u001b[0;34m)\u001b[0m\u001b[0;34m\u001b[0m\u001b[0;34m\u001b[0m\u001b[0m\n\u001b[0m\u001b[1;32m    881\u001b[0m \u001b[0;34m\u001b[0m\u001b[0m\n\u001b[1;32m    882\u001b[0m     \u001b[0;32mdef\u001b[0m \u001b[0mclose\u001b[0m\u001b[0;34m(\u001b[0m\u001b[0mself\u001b[0m\u001b[0;34m)\u001b[0m\u001b[0;34m:\u001b[0m\u001b[0;34m\u001b[0m\u001b[0;34m\u001b[0m\u001b[0m\n",
      "\u001b[0;32m/usr/local/lib/python3.6/dist-packages/pandas/io/parsers.py\u001b[0m in \u001b[0;36m_make_engine\u001b[0;34m(self, engine)\u001b[0m\n\u001b[1;32m   1112\u001b[0m     \u001b[0;32mdef\u001b[0m \u001b[0m_make_engine\u001b[0m\u001b[0;34m(\u001b[0m\u001b[0mself\u001b[0m\u001b[0;34m,\u001b[0m \u001b[0mengine\u001b[0m\u001b[0;34m=\u001b[0m\u001b[0;34m\"c\"\u001b[0m\u001b[0;34m)\u001b[0m\u001b[0;34m:\u001b[0m\u001b[0;34m\u001b[0m\u001b[0;34m\u001b[0m\u001b[0m\n\u001b[1;32m   1113\u001b[0m         \u001b[0;32mif\u001b[0m \u001b[0mengine\u001b[0m \u001b[0;34m==\u001b[0m \u001b[0;34m\"c\"\u001b[0m\u001b[0;34m:\u001b[0m\u001b[0;34m\u001b[0m\u001b[0;34m\u001b[0m\u001b[0m\n\u001b[0;32m-> 1114\u001b[0;31m             \u001b[0mself\u001b[0m\u001b[0;34m.\u001b[0m\u001b[0m_engine\u001b[0m \u001b[0;34m=\u001b[0m \u001b[0mCParserWrapper\u001b[0m\u001b[0;34m(\u001b[0m\u001b[0mself\u001b[0m\u001b[0;34m.\u001b[0m\u001b[0mf\u001b[0m\u001b[0;34m,\u001b[0m \u001b[0;34m**\u001b[0m\u001b[0mself\u001b[0m\u001b[0;34m.\u001b[0m\u001b[0moptions\u001b[0m\u001b[0;34m)\u001b[0m\u001b[0;34m\u001b[0m\u001b[0;34m\u001b[0m\u001b[0m\n\u001b[0m\u001b[1;32m   1115\u001b[0m         \u001b[0;32melse\u001b[0m\u001b[0;34m:\u001b[0m\u001b[0;34m\u001b[0m\u001b[0;34m\u001b[0m\u001b[0m\n\u001b[1;32m   1116\u001b[0m             \u001b[0;32mif\u001b[0m \u001b[0mengine\u001b[0m \u001b[0;34m==\u001b[0m \u001b[0;34m\"python\"\u001b[0m\u001b[0;34m:\u001b[0m\u001b[0;34m\u001b[0m\u001b[0;34m\u001b[0m\u001b[0m\n",
      "\u001b[0;32m/usr/local/lib/python3.6/dist-packages/pandas/io/parsers.py\u001b[0m in \u001b[0;36m__init__\u001b[0;34m(self, src, **kwds)\u001b[0m\n\u001b[1;32m   1889\u001b[0m         \u001b[0mkwds\u001b[0m\u001b[0;34m[\u001b[0m\u001b[0;34m\"usecols\"\u001b[0m\u001b[0;34m]\u001b[0m \u001b[0;34m=\u001b[0m \u001b[0mself\u001b[0m\u001b[0;34m.\u001b[0m\u001b[0musecols\u001b[0m\u001b[0;34m\u001b[0m\u001b[0;34m\u001b[0m\u001b[0m\n\u001b[1;32m   1890\u001b[0m \u001b[0;34m\u001b[0m\u001b[0m\n\u001b[0;32m-> 1891\u001b[0;31m         \u001b[0mself\u001b[0m\u001b[0;34m.\u001b[0m\u001b[0m_reader\u001b[0m \u001b[0;34m=\u001b[0m \u001b[0mparsers\u001b[0m\u001b[0;34m.\u001b[0m\u001b[0mTextReader\u001b[0m\u001b[0;34m(\u001b[0m\u001b[0msrc\u001b[0m\u001b[0;34m,\u001b[0m \u001b[0;34m**\u001b[0m\u001b[0mkwds\u001b[0m\u001b[0;34m)\u001b[0m\u001b[0;34m\u001b[0m\u001b[0;34m\u001b[0m\u001b[0m\n\u001b[0m\u001b[1;32m   1892\u001b[0m         \u001b[0mself\u001b[0m\u001b[0;34m.\u001b[0m\u001b[0munnamed_cols\u001b[0m \u001b[0;34m=\u001b[0m \u001b[0mself\u001b[0m\u001b[0;34m.\u001b[0m\u001b[0m_reader\u001b[0m\u001b[0;34m.\u001b[0m\u001b[0munnamed_cols\u001b[0m\u001b[0;34m\u001b[0m\u001b[0;34m\u001b[0m\u001b[0m\n\u001b[1;32m   1893\u001b[0m \u001b[0;34m\u001b[0m\u001b[0m\n",
      "\u001b[0;32mpandas/_libs/parsers.pyx\u001b[0m in \u001b[0;36mpandas._libs.parsers.TextReader.__cinit__\u001b[0;34m()\u001b[0m\n",
      "\u001b[0;32mpandas/_libs/parsers.pyx\u001b[0m in \u001b[0;36mpandas._libs.parsers.TextReader._setup_parser_source\u001b[0;34m()\u001b[0m\n",
      "\u001b[0;31mFileNotFoundError\u001b[0m: [Errno 2] File CAvideos.csv does not exist: 'CAvideos.csv'"
     ]
    }
   ],
   "source": [
    "# converts the CSV file to a dataframe object\n",
    "dataframe = pd.read_csv('CAvideos.csv') \n",
    "\n",
    "dataframe.head() # shows the first 5 rows of the df"
   ]
  },
  {
   "cell_type": "markdown",
   "metadata": {
    "id": "ZoR9kZbhvaJk"
   },
   "source": [
    "Here, we do some data cleaning.  We remove the first column \"video_id\", and store the new dataframe."
   ]
  },
  {
   "cell_type": "code",
   "execution_count": null,
   "metadata": {
    "id": "XvUQTPrrutTh"
   },
   "outputs": [],
   "source": [
    "trimmed_dataframe = dataframe.drop(columns=['video_id'])\n",
    "trimmed_dataframe.head()\n",
    "\n",
    "\n",
    "# Be careful if you use the same object. Example:\n",
    "# dataframe = dataframe.drop(columns=['id'])\n",
    "# if you use the above line, then the cell can only be run once (due to itempotency)\n",
    "# You can do dataframe.drop(columns=['video_id'], inplace=True) to avoid making a\n",
    "# new copy"
   ]
  },
  {
   "cell_type": "markdown",
   "metadata": {
    "id": "1jB6Stv6mZfK"
   },
   "source": [
    "The following prints out the column values (some of these are useful features)!  "
   ]
  },
  {
   "cell_type": "code",
   "execution_count": null,
   "metadata": {
    "id": "n3FbBgpPq8qC"
   },
   "outputs": [],
   "source": [
    "trimmed_dataframe.columns.values.tolist()"
   ]
  },
  {
   "cell_type": "markdown",
   "metadata": {
    "id": "V5l9Swnw2lcE"
   },
   "source": [
    "QUESTION:\n",
    "\n",
    "Check for missing values as they will prevent us from using our values in our model/any other calculations we may perform\n",
    "\n",
    "1.   Find any missing values if they exist (2.5 points)\n",
    "2.   Drop the missing values rows if they exist without creating a new dataset (2.5 points)\n",
    "\n",
    "HINT: https://www.journaldev.com/33492/pandas-dropna-drop-null-na-values-from-dataframe\n",
    "\n",
    "\n",
    "\n",
    "\n",
    "\n"
   ]
  },
  {
   "cell_type": "code",
   "execution_count": null,
   "metadata": {
    "id": "c9H_la-55HUW"
   },
   "outputs": [],
   "source": [
    "#1. finding missing values\n"
   ]
  },
  {
   "cell_type": "code",
   "execution_count": null,
   "metadata": {
    "id": "ywFwnrKf20Xq"
   },
   "outputs": [],
   "source": [
    "#2. removing missing values\n"
   ]
  },
  {
   "cell_type": "markdown",
   "metadata": {
    "id": "sXp0TlHWoCt1"
   },
   "source": [
    "We can use these to pull out certain columns.  \n",
    "For example, here are the names of the titles."
   ]
  },
  {
   "cell_type": "code",
   "execution_count": null,
   "metadata": {
    "id": "nB_0dWW-1g2i"
   },
   "outputs": [],
   "source": [
    "trimmed_dataframe[\"title\"].tolist()\n",
    "# this line does the same exact thing\n",
    "# list(dataframe['name'])"
   ]
  },
  {
   "cell_type": "markdown",
   "metadata": {
    "id": "nawLNFTNqVB0"
   },
   "source": [
    "# **Very Useful Tip**: \n",
    "Use `type(obj)` to learn about how the dataframe works to help prevent type mismatches.   \n",
    "\n",
    "Notice that *dataframe.values* is a numpy array. \n",
    "\n",
    "\n"
   ]
  },
  {
   "cell_type": "code",
   "execution_count": null,
   "metadata": {
    "id": "Gym9rdFZq230"
   },
   "outputs": [],
   "source": [
    "type(trimmed_dataframe)"
   ]
  },
  {
   "cell_type": "code",
   "execution_count": null,
   "metadata": {
    "id": "fhWxpa1Zq7-6"
   },
   "outputs": [],
   "source": [
    "type(trimmed_dataframe.values)"
   ]
  },
  {
   "cell_type": "code",
   "execution_count": null,
   "metadata": {
    "id": "K9gsXpv3rIkJ"
   },
   "outputs": [],
   "source": [
    "type(trimmed_dataframe.columns)"
   ]
  },
  {
   "cell_type": "code",
   "execution_count": null,
   "metadata": {
    "id": "SJ65Msa_rUbS"
   },
   "outputs": [],
   "source": [
    "type(trimmed_dataframe.columns.values.tolist())"
   ]
  },
  {
   "cell_type": "markdown",
   "metadata": {
    "id": "QydDeO9otkNb"
   },
   "source": [
    "We can extract the numerical and categorical values from a DataFrame into a Numpy array. \n"
   ]
  },
  {
   "cell_type": "code",
   "execution_count": null,
   "metadata": {
    "id": "73HFNkJ817pb"
   },
   "outputs": [],
   "source": [
    "# slices everything into the a numpy7 data array\n",
    "data_array = trimmed_dataframe.values[:, :]"
   ]
  },
  {
   "cell_type": "markdown",
   "metadata": {
    "id": "i0VSLeaouEXi"
   },
   "source": [
    "QUESTION: Show the key three attributes of the numpy array above (3 points)\n"
   ]
  },
  {
   "cell_type": "code",
   "execution_count": null,
   "metadata": {
    "id": "b_OMeN13uCtU"
   },
   "outputs": [],
   "source": [
    "#Answer:\n"
   ]
  },
  {
   "cell_type": "code",
   "execution_count": null,
   "metadata": {
    "id": "SQsSrZvGXt1V"
   },
   "outputs": [],
   "source": [
    "#Answer: \n"
   ]
  },
  {
   "cell_type": "code",
   "execution_count": null,
   "metadata": {
    "id": "O-ZHU103uRBO"
   },
   "outputs": [],
   "source": [
    "#Answer:\n"
   ]
  },
  {
   "cell_type": "markdown",
   "metadata": {
    "id": "GwbJRB6kuXNU"
   },
   "source": [
    "QUESTION: Show the first 5 rows and the last column (3 points)"
   ]
  },
  {
   "cell_type": "code",
   "execution_count": null,
   "metadata": {
    "id": "D_XM3_kluVxe"
   },
   "outputs": [],
   "source": [
    "# Answer:\n"
   ]
  },
  {
   "cell_type": "markdown",
   "metadata": {
    "id": "m4hiuMnNvJbY"
   },
   "source": [
    "QUESTION: Sort the df by the most disliked videos. (3 points)\n",
    "\n",
    "Use .head() for your answer\n",
    "\n"
   ]
  },
  {
   "cell_type": "code",
   "execution_count": null,
   "metadata": {
    "id": "zfmDBsxmw2u4"
   },
   "outputs": [],
   "source": [
    "# Answer:\n"
   ]
  },
  {
   "cell_type": "markdown",
   "metadata": {
    "id": "36mNBEcUxD1j"
   },
   "source": [
    "QUESTION: How many videos had > 50,000,000 views (3 points)"
   ]
  },
  {
   "cell_type": "code",
   "execution_count": null,
   "metadata": {
    "id": "5kfsOoGtxNYQ"
   },
   "outputs": [],
   "source": [
    "# Answer: \n"
   ]
  },
  {
   "cell_type": "markdown",
   "metadata": {
    "id": "wXxaQt8Oy-lK"
   },
   "source": [
    "QUESTION: Calculate the average views per video.  \n",
    "\n",
    "1.   Using np.average (2.5 points)\n",
    "2.   using df['column'].mean() (2.5 points)\n",
    "\n",
    "\n",
    "\n",
    "\n",
    "\n"
   ]
  },
  {
   "cell_type": "code",
   "execution_count": null,
   "metadata": {
    "id": "MGzYnsOy179p"
   },
   "outputs": [],
   "source": [
    "# Answer:\n"
   ]
  },
  {
   "cell_type": "code",
   "execution_count": null,
   "metadata": {
    "id": "dX6KuUuj2AHg"
   },
   "outputs": [],
   "source": [
    "# Answer:\n"
   ]
  },
  {
   "cell_type": "markdown",
   "metadata": {
    "id": "R9NJlvk60844"
   },
   "source": [
    "QUESTION: How many videos are by \"Ed Sheeran?\" (Column name is \"channel_title\") (3 points)"
   ]
  },
  {
   "cell_type": "code",
   "execution_count": null,
   "metadata": {
    "id": "LhdtvlzbzIvo"
   },
   "outputs": [],
   "source": [
    "# Answer:\n"
   ]
  },
  {
   "cell_type": "markdown",
   "metadata": {
    "id": "vOzmRo953E7V"
   },
   "source": [
    "QUESTION: Find the number of video titles that include Beyonce (3 points)\n"
   ]
  },
  {
   "cell_type": "code",
   "execution_count": null,
   "metadata": {
    "id": "r77pCJjb2Rso"
   },
   "outputs": [],
   "source": [
    "# Answer:\n"
   ]
  },
  {
   "cell_type": "markdown",
   "metadata": {
    "id": "pSmZ9JC03LoK"
   },
   "source": [
    "QUESTION: Find the Number of Videos that disabled comments (3 points)"
   ]
  },
  {
   "cell_type": "code",
   "execution_count": null,
   "metadata": {
    "id": "AkgKz95Y3Jpe"
   },
   "outputs": [],
   "source": [
    "# Answer:\n"
   ]
  },
  {
   "cell_type": "markdown",
   "metadata": {
    "id": "gA9RGGu17Py-"
   },
   "source": [
    "EXTRA CREDIT: Find the Video with the best Like to Disklike Ratio (5 points)"
   ]
  },
  {
   "cell_type": "code",
   "execution_count": null,
   "metadata": {
    "id": "9S2ev74NfFm1"
   },
   "outputs": [],
   "source": [
    "# Answer:\n"
   ]
  }
 ],
 "metadata": {
  "colab": {
   "collapsed_sections": [],
   "name": "Copy of Copy of Copy of Python Warmup",
   "provenance": [
    {
     "file_id": "1Sp4pZ5AEiSzKnwjn-iW-DwKsY34SnI06",
     "timestamp": 1601442674496
    },
    {
     "file_id": "1YOeCfujIsCxRteasPJPR5lm9Z-MzB5Za",
     "timestamp": 1601442542513
    },
    {
     "file_id": "1RcTRLDuzbYibNZFLUJA6fsPbpPHhbmaZ",
     "timestamp": 1601441225399
    }
   ]
  },
  "kernelspec": {
   "display_name": "Python 3",
   "language": "python",
   "name": "python3"
  },
  "language_info": {
   "codemirror_mode": {
    "name": "ipython",
    "version": 3
   },
   "file_extension": ".py",
   "mimetype": "text/x-python",
   "name": "python",
   "nbconvert_exporter": "python",
   "pygments_lexer": "ipython3",
   "version": "3.7.6"
  }
 },
 "nbformat": 4,
 "nbformat_minor": 1
}
