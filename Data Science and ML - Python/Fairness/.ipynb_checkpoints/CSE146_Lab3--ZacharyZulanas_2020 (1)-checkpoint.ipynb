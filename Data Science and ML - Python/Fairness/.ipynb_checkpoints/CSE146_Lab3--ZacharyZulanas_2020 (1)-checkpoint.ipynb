{
 "cells": [
  {
   "cell_type": "markdown",
   "metadata": {
    "id": "S6C8MvcaMHGf"
   },
   "source": [
    "### CSE 146 Lab 3: Algorithmic Fairness\n",
    "\n",
    "### ASSIGNED: Tueday, October 20\n",
    "### DUE: Tuesday, October 29\n",
    "### 100 points total\n",
    "\n",
    "In this homework, you will gain experience with tools for implementing classifiers that provide fairness guarantees. In part 2, you will try to get a fair classifier if you only have access to a normal classifier. In parts 3 and 4, you will get to explore the different outcomes when using different definitions of fairness for classifiers. You will also look at the tradeoffs between fairness and accuracy. \n",
    "\n",
    "All cells where code is required are marked with a \"# YOUR CODE HERE\" comment. All cells where a written answer is required are marked with \"Please type your answers here!\". The point values for each code block are written in the header for the associated subsection."
   ]
  },
  {
   "cell_type": "markdown",
   "metadata": {
    "id": "N33PR9c0MHGi"
   },
   "source": [
    "## Instructions \n",
    "For each question, you should write Python code to compute the answer to the questions that renders in a readable way according to the specifications of the question. You may only use the packages provided in the Background and Setup code. We will not be installing any packages during grading, and code that does not compile will negatively affect your grade.\n",
    "\n",
    "This assignment can be done collaboratively, and please be sure to list the student(s) you worked with in the space provided below. Please reach out to each other if you have any questions or difficulties.\n",
    "\n",
    "Be sure to rename this homework notebook (in [YOUR NAME HERE] so that it includes your name. \n",
    "\n",
    "### List the student(s) you worked with on this assignment here:\n",
    "1. Natalie Petrosian\n",
    "2. Adrian Murillo\n",
    "3. [etc.]"
   ]
  },
  {
   "cell_type": "markdown",
   "metadata": {
    "id": "cAHEbLv5MHGk"
   },
   "source": [
    "## Part 1: Importing Data (5 Points)\n",
    "Before working with the algorithms for fair classification, we must first import the dataset we wish to use. We will again be working with the \"Communities and Crime\" dataset from [UC Irvine's Machine Learning Repository](http://archive.ics.uci.edu/ml/datasets/communities+and+crime). It includes data about the different types of crimes among various communities, socioeconomic and racial data about each community, and information about the police force in each community.\n",
    "\n",
    "The algorithms will require that your data is split into 3 DataFrames:\n",
    "\n",
    "- `dataX`: The features of each instance, not including any protected attributes\n",
    "- `dataA`: The protected attributes of each instance\n",
    "- `dataY`: The label for each instance (the value to be predicted)\n",
    "\n",
    "Currently, we provide you with 2 CSV files:\n",
    "\n",
    "- `communities.csv`, which contains all information for each instance\n",
    "- `communities_protected.csv`, which is a single-row dataframe, indicating how each column within `communities.csv` should be used. If the column value is 0 the attribute is unprotected, if its 1 the attribute is a protected feature, and 2 if the attribute is the value to be predicted (the label for each instance).\n",
    "\n",
    "In part 2, we will focus on only one of the protected features. In parts 3 and 4, we will use all 18 protected features for upholding our fairness metrics.\n",
    "\n",
    "Write code to generate the 3 Pandas DataFrames, `dataX`, `dataA` and `dataY`. \n",
    "\n",
    "*Hint: Remember how we checked for DataFrame values in Lab1 via dataframe[dataframe == some_val], and read pandas' .dropna() function for dataframes!*"
   ]
  },
  {
   "cell_type": "code",
   "execution_count": 1,
   "metadata": {
    "id": "_4d_D5IQMHGm"
   },
   "outputs": [],
   "source": [
    "%load_ext autoreload\n",
    "%autoreload 2"
   ]
  },
  {
   "cell_type": "code",
   "execution_count": 2,
   "metadata": {
    "id": "SWmpeHEqMHG1"
   },
   "outputs": [],
   "source": [
    "import pandas as pd # Necessary libraries\n",
    "import numpy as np\n",
    "import warnings # Suppressing warnings\n",
    "warnings.filterwarnings('ignore') "
   ]
  },
  {
   "cell_type": "code",
   "execution_count": 3,
   "metadata": {
    "id": "32Pu7DDEMHHM"
   },
   "outputs": [],
   "source": [
    "# YOUR CODE HERE\n",
    "dataframe = pd.read_csv('communities.csv')\n",
    "protected = pd.read_csv('communities_protected.csv')\n",
    "\n",
    "dataX = dataframe.loc[:, (protected == 0).any()]\n",
    "dataA = dataframe.loc[:, (protected == 1).any()]\n",
    "dataY = dataframe.loc[:, (protected == 2).any()]"
   ]
  },
  {
   "cell_type": "code",
   "execution_count": 4,
   "metadata": {
    "id": "uDFMY9CQMHHf"
   },
   "outputs": [
    {
     "name": "stdout",
     "output_type": "stream",
     "text": [
      "dataX Shape: (1994, 104)\n",
      "dataA Shape: (1994, 18)\n",
      "dataY Shape: (1994, 1)\n"
     ]
    }
   ],
   "source": [
    "print('dataX Shape:', dataX.shape)\n",
    "print('dataA Shape:', dataA.shape)\n",
    "print('dataY Shape:', dataY.shape)"
   ]
  },
  {
   "cell_type": "markdown",
   "metadata": {
    "id": "tfJ-SyxwMHHy"
   },
   "source": [
    "## Part 2: Two-Group Fairness via Post-processing (35 Points)\n",
    "\n",
    "In this section, you will implement a method of achieving a fair classifier \"from scratch\" by post-processing a generic linear regression classifier. If you'd like to read about it in depth, this method is described in depth in https://arxiv.org/abs/1610.02413. \n",
    "\n",
    "You will train a classifier which approximately equalizes both True Positive Rate and False Positive Rate for two groups, which is commonly referred to as the Equalized Odds criterion."
   ]
  },
  {
   "cell_type": "markdown",
   "metadata": {
    "id": "FskTQOBiMHH2"
   },
   "source": [
    "### 2.1: Training a Real-Valued Predictor (5 points)\n",
    "\n",
    "So far we've been working with classifiers that predict 0 or 1 scores. There are also models, like linear regression, that predict real-values scores. For now, you can think of these real-valued scores as the estimated probability that that instance's classification should be 1.\n",
    "\n",
    "Now, you will train a real-valued predictor. Use the Linear Regression package from SciKit-Learn to train a regression model on dataX and dataY. Generate predictions for dataY (called y_hat_score) and print them. \n",
    "\n",
    "NOTE: Please make sure to do a train/test split, as this is a general practice in machine learning.\n",
    "\n",
    "https://scikit-learn.org/stable/modules/generated/sklearn.linear_model.LinearRegression.html"
   ]
  },
  {
   "cell_type": "code",
   "execution_count": 5,
   "metadata": {
    "id": "XaJJk0k3MHH5"
   },
   "outputs": [
    {
     "name": "stdout",
     "output_type": "stream",
     "text": [
      "0.432524098660343\n"
     ]
    }
   ],
   "source": [
    "from sklearn.linear_model import LinearRegression\n",
    "from sklearn.model_selection import train_test_split\n",
    "# YOUR CODE HERE\n",
    "dataX_train, dataX_test, dataY_train, dataY_test = train_test_split(dataX, dataY, test_size=0.2)\n",
    "\n",
    "\n",
    "linReg = LinearRegression().fit(dataX_train, dataY_train)\n",
    "\n",
    "print(linReg.score(dataX_test, dataY_test))\n",
    "y_hat_score = linReg.predict(dataX_test)"
   ]
  },
  {
   "cell_type": "code",
   "execution_count": 6,
   "metadata": {
    "id": "e-MwZoRmMHIF"
   },
   "outputs": [
    {
     "name": "stdout",
     "output_type": "stream",
     "text": [
      "[[ 2.90124248e-01]\n",
      " [ 1.25847888e-03]\n",
      " [ 2.50676709e-01]\n",
      " [-9.36864986e-03]\n",
      " [ 4.01602673e-01]\n",
      " [ 5.41955781e-01]\n",
      " [ 2.62661752e-01]\n",
      " [-1.03241640e-01]\n",
      " [ 6.91414136e-01]\n",
      " [ 3.40820503e-01]\n",
      " [ 7.34422070e-01]\n",
      " [ 2.66060711e-01]\n",
      " [-1.68036659e-01]\n",
      " [ 4.05601429e-01]\n",
      " [ 1.48818872e-01]\n",
      " [ 8.61590348e-02]\n",
      " [ 1.11139521e+00]\n",
      " [ 5.60715556e-01]\n",
      " [ 7.90422890e-01]\n",
      " [ 2.02966138e-01]\n",
      " [ 4.88109059e-02]\n",
      " [ 1.11473778e-01]\n",
      " [ 9.73415967e-01]\n",
      " [ 8.36656483e-01]\n",
      " [ 3.87865069e-01]\n",
      " [-7.16517561e-02]\n",
      " [ 1.02215265e+00]\n",
      " [ 4.18856049e-01]\n",
      " [ 1.52343345e-02]\n",
      " [ 2.76937678e-01]\n",
      " [ 5.75532666e-02]\n",
      " [ 2.49126368e-01]\n",
      " [ 5.99717766e-01]\n",
      " [ 3.41323857e-01]\n",
      " [ 2.10527930e-01]\n",
      " [-2.94846786e-02]\n",
      " [ 2.09994027e-01]\n",
      " [ 2.19692711e-01]\n",
      " [ 1.61839426e-02]\n",
      " [ 9.03863202e-02]\n",
      " [ 1.38126719e+00]\n",
      " [ 1.13634756e+00]\n",
      " [ 5.83471129e-01]\n",
      " [ 2.48647682e-01]\n",
      " [ 5.77264750e-01]\n",
      " [ 3.74798380e-01]\n",
      " [ 4.88342875e-01]\n",
      " [ 4.75506189e-01]\n",
      " [ 3.81778990e-01]\n",
      " [ 1.25172689e+00]\n",
      " [ 3.35250507e-01]\n",
      " [ 2.65343939e-02]\n",
      " [ 1.01684904e-01]\n",
      " [-1.10371200e-01]\n",
      " [ 1.63028922e-01]\n",
      " [ 5.54697080e-01]\n",
      " [ 5.75593453e-01]\n",
      " [ 8.48710289e-01]\n",
      " [ 2.86590566e-01]\n",
      " [ 3.59462735e-01]\n",
      " [ 4.54811379e-01]\n",
      " [ 1.01281033e-01]\n",
      " [-9.16043684e-02]\n",
      " [ 3.87936496e-01]\n",
      " [-6.76406502e-02]\n",
      " [-5.02194894e-02]\n",
      " [ 8.71556322e-01]\n",
      " [ 9.78838580e-01]\n",
      " [ 1.56458472e-01]\n",
      " [ 3.23009564e-01]\n",
      " [ 7.77202874e-01]\n",
      " [ 2.07594431e-01]\n",
      " [ 3.97400953e-01]\n",
      " [ 6.03223310e-01]\n",
      " [ 3.95797977e-02]\n",
      " [ 3.93818413e-02]\n",
      " [ 9.18757773e-01]\n",
      " [ 2.55098649e-02]\n",
      " [ 2.64219887e-01]\n",
      " [ 1.89818639e-01]\n",
      " [ 3.47778374e-01]\n",
      " [ 3.91277414e-01]\n",
      " [ 5.10103090e-01]\n",
      " [-5.05592667e-02]\n",
      " [ 5.34576065e-01]\n",
      " [-6.04365360e-02]\n",
      " [-1.24078382e-01]\n",
      " [ 4.54580919e-01]\n",
      " [-5.50424960e-02]\n",
      " [ 4.09312281e-01]\n",
      " [ 1.56129728e-01]\n",
      " [ 8.60369536e-03]\n",
      " [ 5.01507580e-01]\n",
      " [ 8.98477869e-01]\n",
      " [ 8.76496540e-01]\n",
      " [ 1.02359270e-01]\n",
      " [ 4.43900683e-02]\n",
      " [ 3.73209964e-02]\n",
      " [ 4.38622164e-01]\n",
      " [ 5.49006173e-01]\n",
      " [ 2.96280511e-01]\n",
      " [ 1.07193858e-01]\n",
      " [ 9.10953157e-01]\n",
      " [ 5.53181043e-01]\n",
      " [ 1.52230749e-02]\n",
      " [-9.89443474e-03]\n",
      " [ 9.78111080e-02]\n",
      " [-1.63592795e-01]\n",
      " [ 8.39787206e-02]\n",
      " [-1.53345675e-02]\n",
      " [ 7.18280923e-01]\n",
      " [ 1.98339681e-01]\n",
      " [-8.49468452e-02]\n",
      " [ 6.91576174e-02]\n",
      " [ 3.64800499e-01]\n",
      " [-1.12333909e-01]\n",
      " [ 3.27302813e-01]\n",
      " [ 3.85392450e-01]\n",
      " [ 5.33491652e-01]\n",
      " [-6.85045912e-03]\n",
      " [ 1.66499483e-02]\n",
      " [ 5.54636996e-01]\n",
      " [ 4.04156653e-01]\n",
      " [ 1.90756576e-01]\n",
      " [ 5.84766121e-02]\n",
      " [ 7.44660272e-01]\n",
      " [ 6.51144882e-02]\n",
      " [ 1.38990404e-01]\n",
      " [ 8.42000013e-01]\n",
      " [ 2.58845445e-01]\n",
      " [-2.85327394e-01]\n",
      " [ 2.28005183e-01]\n",
      " [ 1.02163643e-02]\n",
      " [-4.42381994e-02]\n",
      " [ 1.17052211e+00]\n",
      " [ 4.40846565e-01]\n",
      " [ 8.73576097e-02]\n",
      " [ 4.12822890e-01]\n",
      " [ 7.66753182e-01]\n",
      " [ 3.45313728e-01]\n",
      " [ 7.02050824e-02]\n",
      " [ 4.63147215e-02]\n",
      " [ 5.43726084e-01]\n",
      " [ 5.11943143e-01]\n",
      " [ 2.85873358e-01]\n",
      " [-4.73384129e-03]\n",
      " [ 3.65811165e-02]\n",
      " [ 7.10194967e-01]\n",
      " [ 2.76729903e-01]\n",
      " [ 1.16619278e-01]\n",
      " [ 5.97759032e-01]\n",
      " [ 1.64845435e-03]\n",
      " [ 9.21464758e-01]\n",
      " [ 4.10817418e-01]\n",
      " [ 7.31290888e-01]\n",
      " [ 1.14602156e-01]\n",
      " [-1.02327464e-01]\n",
      " [ 9.03195036e-01]\n",
      " [ 2.41379028e-01]\n",
      " [ 6.21377526e-01]\n",
      " [ 6.60989250e-02]\n",
      " [ 2.78673349e-01]\n",
      " [ 3.74170025e-01]\n",
      " [ 8.12387709e-01]\n",
      " [ 1.83465353e-01]\n",
      " [ 3.00068454e-02]\n",
      " [-4.38590696e-02]\n",
      " [ 5.24929334e-02]\n",
      " [ 3.28021553e-01]\n",
      " [ 1.24520540e+00]\n",
      " [ 2.29783359e-01]\n",
      " [ 8.69661334e-02]\n",
      " [ 6.71005613e-01]\n",
      " [ 1.92775003e-01]\n",
      " [ 1.17567486e-02]\n",
      " [ 7.28324486e-01]\n",
      " [ 2.78500032e-01]\n",
      " [ 1.21076213e-01]\n",
      " [ 4.37868606e-01]\n",
      " [ 8.99475882e-01]\n",
      " [ 1.01281125e+00]\n",
      " [ 2.79661196e-01]\n",
      " [ 1.65331477e-01]\n",
      " [ 7.11038081e-01]\n",
      " [ 1.50058156e-02]\n",
      " [ 3.40363624e-01]\n",
      " [ 3.51808955e-01]\n",
      " [ 5.50689665e-01]\n",
      " [ 6.17448768e-01]\n",
      " [ 5.91064026e-01]\n",
      " [ 8.96541910e-01]\n",
      " [ 1.17819981e+00]\n",
      " [ 1.16673165e-01]\n",
      " [ 5.66713495e-01]\n",
      " [ 5.47332556e-01]\n",
      " [ 2.02600760e-01]\n",
      " [ 1.55328583e-01]\n",
      " [-6.95959281e-03]\n",
      " [-4.53413867e-02]\n",
      " [ 6.21761513e-01]\n",
      " [ 5.17804118e-01]\n",
      " [-7.83729237e-02]\n",
      " [-4.01622369e-04]\n",
      " [ 4.17846776e-01]\n",
      " [-1.32739553e-01]\n",
      " [-5.91716086e-02]\n",
      " [ 9.90842775e-02]\n",
      " [ 1.78434552e-01]\n",
      " [ 2.69505365e-02]\n",
      " [ 7.32966207e-01]\n",
      " [ 7.24860740e-01]\n",
      " [ 1.04461143e+00]\n",
      " [ 7.22171117e-01]\n",
      " [ 3.31944696e-01]\n",
      " [-9.92243475e-02]\n",
      " [ 2.00474831e-01]\n",
      " [ 9.29234679e-01]\n",
      " [-5.17215549e-03]\n",
      " [ 4.44561457e-01]\n",
      " [ 6.30623500e-02]\n",
      " [ 4.81819651e-01]\n",
      " [-1.57221609e-01]\n",
      " [ 4.21947799e-02]\n",
      " [-4.20877917e-04]\n",
      " [ 1.91578613e-01]\n",
      " [ 3.38264698e-01]\n",
      " [-1.14378197e-01]\n",
      " [ 4.29015539e-01]\n",
      " [ 5.44075241e-01]\n",
      " [ 8.64634661e-01]\n",
      " [ 4.30270977e-01]\n",
      " [ 3.14032524e-01]\n",
      " [ 2.36396533e-01]\n",
      " [ 5.72910388e-01]\n",
      " [ 3.30495607e-01]\n",
      " [ 1.17108559e-01]\n",
      " [ 4.24036645e-02]\n",
      " [-5.08963820e-02]\n",
      " [-3.04891349e-02]\n",
      " [ 9.11971528e-02]\n",
      " [-1.25748800e-01]\n",
      " [ 7.10573563e-02]\n",
      " [ 1.99658638e-01]\n",
      " [ 3.96222920e-01]\n",
      " [ 1.04986266e-01]\n",
      " [ 1.08214479e+00]\n",
      " [ 5.15289060e-02]\n",
      " [ 7.50634892e-01]\n",
      " [ 7.18787102e-01]\n",
      " [ 5.96767225e-01]\n",
      " [ 4.60270409e-01]\n",
      " [ 2.28402794e-01]\n",
      " [ 7.13347065e-02]\n",
      " [ 6.88108373e-01]\n",
      " [ 3.75773987e-01]\n",
      " [ 9.60760887e-02]\n",
      " [ 1.10277946e-01]\n",
      " [ 1.00275423e-01]\n",
      " [ 2.66482177e-01]\n",
      " [ 3.65206962e-01]\n",
      " [-1.96034200e-01]\n",
      " [ 3.31965033e-01]\n",
      " [ 7.39140516e-01]\n",
      " [ 8.59367939e-01]\n",
      " [-1.61990783e-01]\n",
      " [ 2.73407132e-01]\n",
      " [ 2.10350191e-01]\n",
      " [ 2.82270584e-01]\n",
      " [-4.06372119e-03]\n",
      " [ 7.13175793e-01]\n",
      " [ 8.27899212e-01]\n",
      " [-9.96473830e-03]\n",
      " [ 4.58874436e-01]\n",
      " [ 1.44232021e-01]\n",
      " [ 1.23565849e-01]\n",
      " [-5.41550197e-02]\n",
      " [ 5.36174946e-01]\n",
      " [ 3.34929318e-02]\n",
      " [ 1.18768575e+00]\n",
      " [ 7.33636807e-02]\n",
      " [ 5.36183593e-02]\n",
      " [ 4.15102080e-01]\n",
      " [ 1.90597682e-01]\n",
      " [-9.63924371e-02]\n",
      " [ 4.87702026e-02]\n",
      " [ 9.05089404e-01]\n",
      " [ 6.36792588e-01]\n",
      " [ 1.04128687e+00]\n",
      " [ 8.54387648e-02]\n",
      " [ 6.67220785e-01]\n",
      " [ 1.67306856e-01]\n",
      " [ 2.87754043e-02]\n",
      " [ 5.45767088e-01]\n",
      " [ 2.71902916e-01]\n",
      " [ 4.63833888e-01]\n",
      " [ 2.47620193e-01]\n",
      " [ 5.05195885e-01]\n",
      " [ 2.01725208e-01]\n",
      " [ 1.70417228e-01]\n",
      " [ 2.16321857e-01]\n",
      " [ 8.37770244e-03]\n",
      " [ 1.91880193e-02]\n",
      " [ 3.44196296e-02]\n",
      " [ 1.57068618e-02]\n",
      " [ 5.41094153e-01]\n",
      " [ 2.58343729e-01]\n",
      " [ 3.37510279e-01]\n",
      " [ 6.83623453e-01]\n",
      " [ 5.18635514e-01]\n",
      " [-3.00911442e-03]\n",
      " [ 4.47190500e-01]\n",
      " [ 9.39386362e-01]\n",
      " [ 1.40294817e-01]\n",
      " [ 6.05066750e-02]\n",
      " [ 1.70000191e-01]\n",
      " [ 4.06820018e-01]\n",
      " [-5.02694265e-03]\n",
      " [ 2.49526534e-01]\n",
      " [-7.86573008e-02]\n",
      " [ 1.10628583e-01]\n",
      " [ 3.63229152e-01]\n",
      " [-1.37000107e-01]\n",
      " [ 8.83380201e-02]\n",
      " [ 5.23683625e-01]\n",
      " [ 1.41572796e-01]\n",
      " [ 9.09433313e-01]\n",
      " [ 2.51424592e-01]\n",
      " [ 2.72369418e-03]\n",
      " [ 8.64815572e-01]\n",
      " [-5.14294179e-02]\n",
      " [ 2.91757922e-01]\n",
      " [ 7.76136266e-01]\n",
      " [ 2.98325051e-01]\n",
      " [-4.11218430e-02]\n",
      " [ 2.78473410e-01]\n",
      " [ 3.75590591e-01]\n",
      " [ 2.86000573e-01]\n",
      " [-1.11385802e-01]\n",
      " [ 1.32604126e-01]\n",
      " [ 1.48547822e-01]\n",
      " [-4.16912836e-02]\n",
      " [ 4.41801398e-02]\n",
      " [-5.54241758e-02]\n",
      " [ 5.40650561e-01]\n",
      " [ 5.26489928e-01]\n",
      " [ 4.66041916e-01]\n",
      " [-1.30582492e-01]\n",
      " [ 6.54129427e-01]\n",
      " [ 7.18733533e-02]\n",
      " [ 1.31434284e-01]\n",
      " [ 3.62936959e-01]\n",
      " [-7.18150131e-02]\n",
      " [ 1.77722880e-03]\n",
      " [ 3.62601688e-02]\n",
      " [ 9.17147500e-01]\n",
      " [-2.79253668e-02]\n",
      " [ 6.67771314e-02]\n",
      " [ 3.49859620e-02]\n",
      " [ 6.27339938e-01]\n",
      " [ 2.16424443e-01]\n",
      " [ 6.75468174e-01]\n",
      " [ 1.50520074e-01]\n",
      " [-8.66719352e-02]\n",
      " [ 5.42614113e-02]\n",
      " [-6.42805575e-03]\n",
      " [ 6.89922235e-01]\n",
      " [ 1.16558775e-01]\n",
      " [ 4.53844292e-01]\n",
      " [ 4.87203329e-01]\n",
      " [-7.08249736e-02]\n",
      " [ 1.19268836e+00]\n",
      " [ 1.23044497e-01]\n",
      " [ 3.11552504e-01]\n",
      " [ 5.14042588e-01]\n",
      " [ 1.97430437e-01]\n",
      " [ 4.66334362e-01]\n",
      " [ 1.76336979e-02]\n",
      " [ 9.56394821e-02]\n",
      " [ 3.01602040e-01]\n",
      " [-2.51183488e-02]\n",
      " [ 3.54162886e-01]\n",
      " [ 4.44562166e-02]\n",
      " [ 4.71074735e-01]\n",
      " [ 5.56425652e-01]\n",
      " [ 1.71476022e-01]\n",
      " [-4.74466469e-02]\n",
      " [ 6.02450958e-01]\n",
      " [-5.72526213e-02]\n",
      " [ 9.70805551e-02]\n",
      " [ 5.37087795e-01]\n",
      " [ 1.41860904e-01]\n",
      " [ 1.39917375e-01]\n",
      " [ 4.94313300e-01]\n",
      " [ 9.87630749e-01]\n",
      " [ 1.00008283e-01]\n",
      " [ 8.01652796e-01]\n",
      " [ 7.77737159e-02]\n",
      " [ 5.18164748e-01]\n",
      " [ 8.31204995e-01]]\n"
     ]
    }
   ],
   "source": [
    "print(y_hat_score)"
   ]
  },
  {
   "cell_type": "markdown",
   "metadata": {
    "id": "SQdrur0uMHIV"
   },
   "source": [
    "### 2.2: Binary Classification via Thresholding (5 points)\n",
    "\n",
    "We will need to convert our estimated probabilities to 0/1 predictions. Write a function (named threshold_predictions) which takes in a set of predicted linear regression scores, a threshold, and converts the scores to 0/1 predictions (below or equal to threshold $\\to$ 0, above threshold $\\to$ 1). Print out your converted predictions using a threshold of 0.5."
   ]
  },
  {
   "cell_type": "code",
   "execution_count": 7,
   "metadata": {
    "id": "yVyvNYGTMHIW"
   },
   "outputs": [],
   "source": [
    "def threshold_predictions(y_hat_score, threshold):\n",
    "    # YOUR CODE HERE\n",
    "    newArr = np.empty(len(y_hat_score))\n",
    "    for i in range(len(y_hat_score)):\n",
    "        if y_hat_score[i] > threshold:\n",
    "            newArr[i] = 1\n",
    "        else:\n",
    "            newArr[i] = 0\n",
    "    return newArr\n",
    "    "
   ]
  },
  {
   "cell_type": "code",
   "execution_count": 8,
   "metadata": {
    "id": "67fIG1-LMHIe"
   },
   "outputs": [
    {
     "name": "stdout",
     "output_type": "stream",
     "text": [
      "[0. 0. 0. 0. 0. 1. 0. 0. 1. 0. 1. 0. 0. 0. 0. 0. 1. 1. 1. 0. 0. 0. 1. 1.\n",
      " 0. 0. 1. 0. 0. 0. 0. 0. 1. 0. 0. 0. 0. 0. 0. 0. 1. 1. 1. 0. 1. 0. 0. 0.\n",
      " 0. 1. 0. 0. 0. 0. 0. 1. 1. 1. 0. 0. 0. 0. 0. 0. 0. 0. 1. 1. 0. 0. 1. 0.\n",
      " 0. 1. 0. 0. 1. 0. 0. 0. 0. 0. 1. 0. 1. 0. 0. 0. 0. 0. 0. 0. 1. 1. 1. 0.\n",
      " 0. 0. 0. 1. 0. 0. 1. 1. 0. 0. 0. 0. 0. 0. 1. 0. 0. 0. 0. 0. 0. 0. 1. 0.\n",
      " 0. 1. 0. 0. 0. 1. 0. 0. 1. 0. 0. 0. 0. 0. 1. 0. 0. 0. 1. 0. 0. 0. 1. 1.\n",
      " 0. 0. 0. 1. 0. 0. 1. 0. 1. 0. 1. 0. 0. 1. 0. 1. 0. 0. 0. 1. 0. 0. 0. 0.\n",
      " 0. 1. 0. 0. 1. 0. 0. 1. 0. 0. 0. 1. 1. 0. 0. 1. 0. 0. 0. 1. 1. 1. 1. 1.\n",
      " 0. 1. 1. 0. 0. 0. 0. 1. 1. 0. 0. 0. 0. 0. 0. 0. 0. 1. 1. 1. 1. 0. 0. 0.\n",
      " 1. 0. 0. 0. 0. 0. 0. 0. 0. 0. 0. 0. 1. 1. 0. 0. 0. 1. 0. 0. 0. 0. 0. 0.\n",
      " 0. 0. 0. 0. 0. 1. 0. 1. 1. 1. 0. 0. 0. 1. 0. 0. 0. 0. 0. 0. 0. 0. 1. 1.\n",
      " 0. 0. 0. 0. 0. 1. 1. 0. 0. 0. 0. 0. 1. 0. 1. 0. 0. 0. 0. 0. 0. 1. 1. 1.\n",
      " 0. 1. 0. 0. 1. 0. 0. 0. 1. 0. 0. 0. 0. 0. 0. 0. 1. 0. 0. 1. 1. 0. 0. 1.\n",
      " 0. 0. 0. 0. 0. 0. 0. 0. 0. 0. 0. 1. 0. 1. 0. 0. 1. 0. 0. 1. 0. 0. 0. 0.\n",
      " 0. 0. 0. 0. 0. 0. 0. 1. 1. 0. 0. 1. 0. 0. 0. 0. 0. 0. 1. 0. 0. 0. 1. 0.\n",
      " 1. 0. 0. 0. 0. 1. 0. 0. 0. 0. 1. 0. 0. 1. 0. 0. 0. 0. 0. 0. 0. 0. 0. 1.\n",
      " 0. 0. 1. 0. 0. 1. 0. 0. 0. 1. 0. 1. 0. 1. 1.]\n"
     ]
    }
   ],
   "source": [
    "y_hat_0_1 = threshold_predictions(y_hat_score, 0.5)\n",
    "print(y_hat_0_1)"
   ]
  },
  {
   "cell_type": "markdown",
   "metadata": {
    "id": "xS9Dt0shMHIm"
   },
   "source": [
    "### 2.3: Computing TPR and FPR (5 points)\n",
    "\n",
    "There are many peformance measurements for machine learning classifiers. We now introduce two new ones, true positive rate and false positive rate. We define them using the terminology from a confusion matrix:\n",
    "\n",
    "\\begin{equation}\n",
    "TruePosRate = \\frac{True Positive}{True Positive + False Negative}\n",
    "\\end{equation}\n",
    "\n",
    "\\begin{equation}\n",
    "FalsePosRate = \\frac{False Positive}{False Positive + True Negative}\n",
    "\\end{equation}\n",
    "\n",
    "Write functions which compute the true positive rate and false positive rate, given vectors for true labels (y) and binary predictions (y_hat).\n",
    "\n"
   ]
  },
  {
   "cell_type": "code",
   "execution_count": 9,
   "metadata": {
    "id": "KpiP5bLjMHIo"
   },
   "outputs": [],
   "source": [
    "# YOUR CODE HERE\n",
    "def true_positive_rate(y, y_hat):\n",
    "    tp = 0\n",
    "    fn = 0\n",
    "\n",
    "    for i in range(len(y_hat)): \n",
    "        if y[i].all()==y_hat[i]==1:\n",
    "           tp += 1\n",
    "        elif y_hat[i]==0 and y[i].all()!=y_hat[i]:\n",
    "           fn += 1\n",
    "    return (tp)/(tp+fn)\n",
    "    pass\n",
    "\n",
    "def false_positive_rate(y, y_hat):\n",
    "    fp = 0\n",
    "    tn = 0\n",
    "\n",
    "    for i in range(len(y_hat)): \n",
    "        if y_hat[i] == 1 and y[i].all()!=y_hat[i]:\n",
    "           fp += 1\n",
    "        elif y_hat[i]==0 and y[i]==y_hat[i]:\n",
    "           tn += 1\n",
    "    return (fp)/(fp+tn)\n",
    "    pass"
   ]
  },
  {
   "cell_type": "markdown",
   "metadata": {
    "id": "j_iw0FhuMHI6"
   },
   "source": [
    "Now, we compute the TPR and FPR for your predictions from 2.2."
   ]
  },
  {
   "cell_type": "code",
   "execution_count": 10,
   "metadata": {
    "id": "jhoZi2Z6MHI9"
   },
   "outputs": [
    {
     "name": "stdout",
     "output_type": "stream",
     "text": [
      "0.6837606837606838\n",
      "0.1099290780141844\n"
     ]
    }
   ],
   "source": [
    "print(true_positive_rate(dataY_test.values, y_hat_0_1))\n",
    "print(false_positive_rate(dataY_test.values, y_hat_0_1))"
   ]
  },
  {
   "cell_type": "markdown",
   "metadata": {
    "id": "KpD8xGAQMHJM"
   },
   "source": [
    "### 2.4: Computing ROC Curves (5 points)\n",
    "\n",
    "ROC (receiver operating characteristic) curves measure the tradeoff between true positive and false positive rates when thresholding a real-valued predictor. We discussed them in class, but this statquest video can be helpful: https://www.youtube.com/watch?v=4jRBRDbJemM\n",
    "\n",
    "Write a function that:\n",
    "- takes in a set of true labels in {0,1} (such as dataY), a set of predictions within interval [0,1] (such as y_hat_score), and a single integer `num_thresholds`, representing the number of thresholds. \n",
    "- Evenly divide the range [0,1] into `num_thresholds` equally sized intervals. (For example, if num_thresholds = 100, your thresholds should be 0.00, 0.01, 0.02, ... , 0.99.) \n",
    "- For each interval, using the bottom of the interval as a threshold,  compute the TPR and FPR of the thresholded predictions.\n",
    "\n",
    "Then, using your function, compute TPR and FPR arrays for `dataY`, `y_hat_score` and `num_thresholds` at 100. (Hint: see numpy's `arange` function)"
   ]
  },
  {
   "cell_type": "code",
   "execution_count": 11,
   "metadata": {
    "id": "igjw9xooMHJN"
   },
   "outputs": [],
   "source": [
    "def compute_roc_curve(dataY, y_hat_score, num_thresholds):\n",
    "    # Your code here\n",
    "    tpr = []\n",
    "    fpr = []\n",
    "    thresh = np.arange(0.0,1.0, 1/num_thresholds)\n",
    "    for i in range(len(thresh)):\n",
    "        t_predict = threshold_predictions(y_hat_score, thresh[i])\n",
    "        tpr.append(true_positive_rate(dataY, t_predict))\n",
    "        fpr.append(false_positive_rate(dataY, t_predict))\n",
    "    # End of your code\n",
    "    return tpr, fpr\n"
   ]
  },
  {
   "cell_type": "code",
   "execution_count": 12,
   "metadata": {
    "id": "GSG5YRBSMHJb"
   },
   "outputs": [
    {
     "name": "stdout",
     "output_type": "stream",
     "text": [
      "[1.0, 1.0, 0.9914529914529915, 0.9914529914529915, 0.9914529914529915, 0.9914529914529915, 0.9914529914529915, 0.9914529914529915, 0.9914529914529915, 0.9829059829059829, 0.9829059829059829, 0.9829059829059829, 0.9829059829059829, 0.9829059829059829, 0.9829059829059829, 0.9829059829059829, 0.9829059829059829, 0.9743589743589743, 0.9743589743589743, 0.9743589743589743, 0.9658119658119658, 0.9658119658119658, 0.9658119658119658, 0.9658119658119658, 0.9658119658119658, 0.9658119658119658, 0.9487179487179487, 0.9401709401709402, 0.9316239316239316, 0.9145299145299145, 0.9145299145299145, 0.9145299145299145, 0.8974358974358975, 0.8803418803418803, 0.8717948717948718, 0.8547008547008547, 0.8376068376068376, 0.8205128205128205, 0.8205128205128205, 0.7948717948717948, 0.7777777777777778, 0.7692307692307693, 0.7435897435897436, 0.7435897435897436, 0.7350427350427351, 0.717948717948718, 0.7094017094017094, 0.7008547008547008, 0.6923076923076923, 0.6837606837606838, 0.6837606837606838, 0.6752136752136753, 0.6410256410256411, 0.6410256410256411, 0.6239316239316239, 0.5811965811965812, 0.5641025641025641, 0.5555555555555556, 0.5384615384615384, 0.5299145299145299, 0.5299145299145299, 0.5128205128205128, 0.5128205128205128, 0.5042735042735043, 0.49572649572649574, 0.49572649572649574, 0.48717948717948717, 0.47863247863247865, 0.46153846153846156, 0.4444444444444444, 0.4358974358974359, 0.4358974358974359, 0.4017094017094017, 0.38461538461538464, 0.358974358974359, 0.358974358974359, 0.3504273504273504, 0.3418803418803419, 0.3247863247863248, 0.3247863247863248, 0.3162393162393162, 0.3076923076923077, 0.29914529914529914, 0.2905982905982906, 0.27350427350427353, 0.26495726495726496, 0.2564102564102564, 0.23931623931623933, 0.2222222222222222, 0.2222222222222222, 0.19658119658119658, 0.17094017094017094, 0.1452991452991453, 0.13675213675213677, 0.1282051282051282, 0.1282051282051282, 0.1282051282051282, 0.1282051282051282, 0.11965811965811966, 0.1111111111111111] [0.7801418439716312, 0.7588652482269503, 0.7269503546099291, 0.7127659574468085, 0.6808510638297872, 0.6524822695035462, 0.6312056737588653, 0.6099290780141844, 0.5886524822695035, 0.5709219858156028, 0.5460992907801419, 0.5212765957446809, 0.4929078014184397, 0.48226950354609927, 0.46808510638297873, 0.44680851063829785, 0.4326241134751773, 0.425531914893617, 0.41134751773049644, 0.40425531914893614, 0.3829787234042553, 0.3617021276595745, 0.34397163120567376, 0.3333333333333333, 0.32978723404255317, 0.3120567375886525, 0.3049645390070922, 0.29432624113475175, 0.2695035460992908, 0.2624113475177305, 0.24822695035460993, 0.24468085106382978, 0.24468085106382978, 0.24113475177304963, 0.22340425531914893, 0.2127659574468085, 0.20921985815602837, 0.20212765957446807, 0.1879432624113475, 0.18439716312056736, 0.18085106382978725, 0.16666666666666666, 0.1595744680851064, 0.15602836879432624, 0.14893617021276595, 0.1453900709219858, 0.1347517730496454, 0.12411347517730496, 0.12056737588652482, 0.11347517730496454, 0.1099290780141844, 0.10638297872340426, 0.09929078014184398, 0.09219858156028368, 0.0851063829787234, 0.07446808510638298, 0.06382978723404255, 0.06028368794326241, 0.05673758865248227, 0.05673758865248227, 0.0425531914893617, 0.0425531914893617, 0.03900709219858156, 0.031914893617021274, 0.031914893617021274, 0.031914893617021274, 0.031914893617021274, 0.031914893617021274, 0.031914893617021274, 0.028368794326241134, 0.028368794326241134, 0.028368794326241134, 0.024822695035460994, 0.02127659574468085, 0.01773049645390071, 0.014184397163120567, 0.014184397163120567, 0.014184397163120567, 0.014184397163120567, 0.014184397163120567, 0.014184397163120567, 0.014184397163120567, 0.014184397163120567, 0.014184397163120567, 0.014184397163120567, 0.010638297872340425, 0.010638297872340425, 0.010638297872340425, 0.010638297872340425, 0.010638297872340425, 0.010638297872340425, 0.010638297872340425, 0.010638297872340425, 0.0070921985815602835, 0.0070921985815602835, 0.0070921985815602835, 0.0070921985815602835, 0.0070921985815602835, 0.0035460992907801418, 0.0035460992907801418]\n"
     ]
    }
   ],
   "source": [
    "tpr, fpr = compute_roc_curve(dataY_test.values, y_hat_score, 100)\n",
    "print(tpr, fpr)"
   ]
  },
  {
   "cell_type": "markdown",
   "metadata": {
    "id": "EaNl_-FGMHJk"
   },
   "source": [
    "### 2.5: ROC Curve Comparison (5 points)\n",
    "\n",
    "The code below is copied from our solution to Lab 1. It splits the data into two groups (A and B) based on whether the proportion of some attribute is greater than some threshold. We use it to split our data depending on whether the proportion of African American people in a community is greater than 50%. Run the cell below."
   ]
  },
  {
   "cell_type": "code",
   "execution_count": 13,
   "metadata": {
    "id": "Gwj8HAmXMHJm"
   },
   "outputs": [],
   "source": [
    "## RUN THIS CELL\n",
    "## DO NOT MODIFY\n",
    "\n",
    "def split_on_feature(dataX, dataY, dataA, column, thresh):\n",
    "    rows_A = []\n",
    "    rows_B = []\n",
    "    for i in range(dataX.shape[0]):\n",
    "        if dataA[i, column] < thresh:\n",
    "            rows_A.append(i)\n",
    "        else:\n",
    "            rows_B.append(i)\n",
    "    \n",
    "    X_A = dataX[rows_A, :]\n",
    "    X_B = dataX[rows_B, :]\n",
    "    y_A = dataY[rows_A]\n",
    "    y_B = dataY[rows_B]\n",
    "    \n",
    "    return X_A, X_B, y_A, y_B  \n",
    "\n",
    "\n",
    "# change 2 to whatever racepctblack is\n",
    "X_A, X_B, y_A, y_B = split_on_feature(dataX.values, dataY.values, dataA.values, 0, 0.5)"
   ]
  },
  {
   "cell_type": "markdown",
   "metadata": {
    "id": "rS9NAbxgMHJ8"
   },
   "source": [
    "Using the generated arrays (X_A, X_B, y_A, y_B) and your function from 2.4, produce a matplotlib plot showing the ROC curves for each group with 100 threshold values. Use your trained linear regression model for predictions. Your X axis should be FPR and your Y axis should be TPR. Refer to Homework 1 for a reminder on how to use matplotlib."
   ]
  },
  {
   "cell_type": "code",
   "execution_count": 14,
   "metadata": {
    "id": "hhGWa--qMHJ-",
    "scrolled": false
   },
   "outputs": [
    {
     "data": {
      "image/png": "[encoded data removed]",
      "text/plain": [
       "<Figure size 432x288 with 1 Axes>"
      ]
     },
     "metadata": {
      "needs_background": "light"
     },
     "output_type": "display_data"
    }
   ],
   "source": [
    "%matplotlib inline \n",
    "import matplotlib.pyplot as plt\n",
    "\n",
    "## YOUR CODE HERE\n",
    "x_label = 'FPR'\n",
    "y_label = 'TPR'\n",
    "x_axis = np.arange(0.0, 1.0, 0.01)\n",
    "plt.title('ROC Curve Comparison')\n",
    "plt.xlabel(x_label)\n",
    "plt.ylabel(y_label)\n",
    "randomA = np.arange(0.0, 1.0, 0.01)\n",
    "\n",
    "y_hat_scoreA = linReg.predict(X_A)\n",
    "y_hat_scoreB = linReg.predict(X_B)\n",
    "\n",
    "XA_TPR, XA_FPR = compute_roc_curve(y_A, y_hat_scoreA, 100)\n",
    "XB_TPR, XB_FPR = compute_roc_curve(y_B, y_hat_scoreB, 100)\n",
    "\n",
    "plt.plot(XA_FPR, XA_TPR ,'-r', label=\"X_A ROC\")\n",
    "plt.plot(XB_FPR, XB_TPR ,'-y', label=\"X_B ROC\")\n",
    "plt.plot(x_axis, randomA, '--m', label=\"Baseline\")\n",
    "\n",
    "plt.legend()\n",
    "plt.show()\n"
   ]
  },
  {
   "cell_type": "markdown",
   "metadata": {
    "id": "j-IniOiiMHKH"
   },
   "source": [
    "### 2.6: Minimizing Unfairness (5 points)\n",
    "\n",
    "There are many, many different definitions of unfairness. For this lab, we'll be using the **Equalized Odds Criterion**, where we check if the ROC curves of two groups are the same. We check its \"fairness error\" via: $|TPR_A - TPR_B| + |FPR_A - FPR_B|$\n",
    "\n",
    "There are 10,000 possible pairs of thresholds of the form $(a,b)$ where $a$ is the threshold for A and $b$ is the threshold for B in data plotted above. Find and print out the pair of thresholds which minimizes this \"fairness error\". (Graphiaclly, this translates to finding points which are closest between the two ROC curves)"
   ]
  },
  {
   "cell_type": "code",
   "execution_count": 15,
   "metadata": {
    "id": "onLnzIegMHKM"
   },
   "outputs": [],
   "source": [
    "## YOUR CODE HERE\n",
    "min_tpr = abs(XA_TPR[0] - XB_TPR[0])\n",
    "min_fpr = abs(XA_FPR[0] - XB_FPR[0])\n",
    "min_unfairness_A_thresh = 0\n",
    "min_unfairness_B_thresh = 0\n",
    "for i in range(len(XA_TPR)):\n",
    "    for j in range(len(XA_FPR)):\n",
    "        if abs(XA_TPR[i] - XB_TPR[j]) < min_tpr and abs(XB_FPR[i] - XB_FPR[j]) < min_fpr:\n",
    "            min_tpr = abs(XA_TPR[i] - XB_TPR[j])\n",
    "            min_fpr = abs(XB_FPR[i] - XB_FPR[j])\n",
    "            min_unfairness_A_thresh = i/100\n",
    "            min_unfairness_B_thresh = j/100"
   ]
  },
  {
   "cell_type": "code",
   "execution_count": 16,
   "metadata": {
    "id": "inEgDRR2MHKb"
   },
   "outputs": [
    {
     "name": "stdout",
     "output_type": "stream",
     "text": [
      "(0, 0)\n"
     ]
    }
   ],
   "source": [
    "print((min_unfairness_A_thresh, min_unfairness_B_thresh))"
   ]
  },
  {
   "cell_type": "markdown",
   "metadata": {
    "id": "GsxOBch6MHKo"
   },
   "source": [
    "### 2.7: Evaluating Accuracy (5 points)\n",
    "\n",
    "Compute `fair_acc`, the overall accuracy when using the thresholds from 2.6 on their respective groups. Compare this `max_acc`, to the single-value threshold in {0.00, 0.01, 0.02, ... , 0.99} that maximizes overall accuracy."
   ]
  },
  {
   "cell_type": "code",
   "execution_count": 17,
   "metadata": {
    "id": "4suPdux7MHKr"
   },
   "outputs": [],
   "source": [
    "## YOUR CODE HERE\n",
    "# compute fair acc\n",
    "def computeAcc(tps, tns, fps, fns):\n",
    "    return (tps + tns)/(tps + tns + fps + fns)\n",
    "\n",
    "fair_acc = 0\n",
    "max_acc = 0\n",
    "TPs = 0\n",
    "TNs = 0\n",
    "FPs = 0\n",
    "FNs = 0\n",
    "y_hat_A = linReg.predict(X_A)\n",
    "y_hat_B = linReg.predict(X_B)\n",
    "\n",
    "y_hat_A_fair = threshold_predictions(y_hat_A, min_unfairness_A_thresh)\n",
    "y_hat_B_fair = threshold_predictions(y_hat_B, min_unfairness_B_thresh)\n",
    "for i in range(len(y_hat_A)):\n",
    "    if y_A[i] == 1 and y_hat_A_fair[i] ==1:\n",
    "        TPs +=1\n",
    "    elif y_A[i] == 0 and y_hat_A_fair[i] ==0:\n",
    "        TNs +=1\n",
    "    elif y_A[i] == 1 and y_hat_A_fair[i] ==0:\n",
    "        FNs +=1\n",
    "    elif y_A[i] == 0 and y_hat_A_fair[i] ==1:\n",
    "        FPs +=1\n",
    "\n",
    "for i in range(len(y_hat_B)):\n",
    "    if y_B[i] == 1 and y_hat_B_fair[i] ==1:\n",
    "        TPs +=1\n",
    "    elif y_B[i] == 0 and y_hat_B_fair[i] ==0:\n",
    "        TNs +=1\n",
    "    elif y_B[i] == 1 and y_hat_B_fair[i] ==0:\n",
    "        FNs +=1\n",
    "    elif y_B[i] == 0 and y_hat_B_fair[i] ==1:\n",
    "        FPs +=1\n",
    "        \n",
    "fair_acc = computeAcc(TPs, TNs, FPs, FNs)\n",
    "TPs, TNs, FPs, FNs = 0, 0, 0, 0\n",
    "\n",
    "# computer max_acc\n",
    "for x in range(0, 100, 1):\n",
    "    y_hat_A_fair = threshold_predictions(y_hat_A, x/100)\n",
    "    y_hat_B_fair = threshold_predictions(y_hat_B, x/100)\n",
    "    for i in range(len(y_hat_A)):\n",
    "        if y_A[i] == 1 and y_hat_A_fair[i] ==1:\n",
    "            TPs +=1\n",
    "        elif y_A[i] == 0 and y_hat_A_fair[i] ==0:\n",
    "            TNs +=1\n",
    "        elif y_A[i] == 1 and y_hat_A_fair[i] ==0:\n",
    "            FNs +=1\n",
    "        elif y_A[i] == 0 and y_hat_A_fair[i] ==1:\n",
    "            FPs +=1\n",
    "    for i in range(len(y_hat_B)):\n",
    "        if y_B[i] == 1 and y_hat_B_fair[i] ==1:\n",
    "            TPs +=1\n",
    "        elif y_B[i] == 0 and y_hat_B_fair[i] ==0:\n",
    "            TNs +=1\n",
    "        elif y_B[i] == 1 and y_hat_B_fair[i] ==0:\n",
    "            FNs +=1\n",
    "        elif y_B[i] == 0 and y_hat_B_fair[i] ==1:\n",
    "            FPs +=1\n",
    "    max_acc = max(max_acc, computeAcc(TPs, TNs, FPs, FNs))"
   ]
  },
  {
   "cell_type": "code",
   "execution_count": 18,
   "metadata": {
    "id": "bse7iaEIMHKy"
   },
   "outputs": [
    {
     "name": "stdout",
     "output_type": "stream",
     "text": [
      "(0.4684052156469408, 0.7868789294713409)\n"
     ]
    }
   ],
   "source": [
    "print((fair_acc, max_acc))"
   ]
  },
  {
   "cell_type": "markdown",
   "metadata": {
    "id": "9C2UmvWUMHK-"
   },
   "source": [
    "## Part 3: Equalized Odds vs. Demographic Parity (30 Points)"
   ]
  },
  {
   "cell_type": "markdown",
   "metadata": {
    "id": "pgS8q_32MHLA"
   },
   "source": [
    "In this section, we will revisit the equalized odds criterion and investigate further. Specifically, we will compare this fairness metric to another one -- demographic parity. This comparison will give us some insight into how various fairness metrics may or may not interact with each other."
   ]
  },
  {
   "cell_type": "markdown",
   "metadata": {
    "id": "8UbU_6jjMHLC"
   },
   "source": [
    "### 3.1 Revisit Equalized Odds (5 points)"
   ]
  },
  {
   "cell_type": "markdown",
   "metadata": {
    "id": "pFggSSTcMHLD"
   },
   "source": [
    "In the previous problem, you plotted the fairness error of the equalized odds criterion for two thresholds, one for each group. Now, we want just one threshold, therefore we need to have the error computed that is associated with each group."
   ]
  },
  {
   "cell_type": "markdown",
   "metadata": {
    "id": "YLz4HcI-MHLE"
   },
   "source": [
    "For each threshold $(0.00, 0.01... 0.99)$, compute the equalized odds unfairness from part 2. Make sure to save these results in a specified variable. Note: it's important that the ordering of this array is the same as the threshold array."
   ]
  },
  {
   "cell_type": "code",
   "execution_count": 19,
   "metadata": {
    "id": "HX2jUNyRMHLF"
   },
   "outputs": [
    {
     "name": "stdout",
     "output_type": "stream",
     "text": [
      "[0.0, 0.0, 0.0025974025974025983, 0.007792207792207795, 0.007792207792207795, 0.010389610389610393, 0.010389610389610393, 0.010389610389610393, 0.010389610389610393, 0.018181818181818188, 0.020779220779220786, 0.023376623376623384, 0.025974025974025983, 0.025974025974025983, 0.02857142857142858, 0.03116883116883118, 0.038961038961038974, 0.04415584415584417, 0.051948051948051965, 0.05714285714285716, 0.07272727272727275, 0.07532467532467535, 0.08051948051948055, 0.08311688311688314, 0.08831168831168834, 0.08845598845598845, 0.09884559884559885, 0.11183261183261184, 0.12222222222222223, 0.13261183261183263, 0.14040404040404042, 0.14819624819624821, 0.1637806637806637, 0.18715728715728708, 0.19494949494949487, 0.20793650793650786, 0.22611832611832605, 0.24170274170274164, 0.25468975468975463, 0.2702741702741702, 0.27041847041847045, 0.28860028860028863, 0.29148629148629146, 0.2916305916305916, 0.30981240981240976, 0.32799422799422795, 0.35396825396825393, 0.3617604617604617, 0.3773448773448773, 0.3877344877344877, 0.3929292929292929, 0.4085137085137085, 0.4242424242424243, 0.4321789321789322, 0.4427128427128427, 0.455988455988456, 0.45627705627705634, 0.46681096681096684, 0.4621933621933622, 0.45483405483405487, 0.45541125541125543, 0.44805194805194803, 0.44574314574314566, 0.4536796536796537, 0.4513708513708513, 0.44141414141414137, 0.43160173160173154, 0.43694083694083696, 0.43751803751803753, 0.45064935064935063, 0.45093795093795097, 0.4614718614718615, 0.45685425685425685, 0.4574314574314574, 0.4554112554112555, 0.4531024531024531, 0.4483405483405484, 0.45382395382395385, 0.4464646464646465, 0.45194805194805193, 0.4421356421356421, 0.43737373737373736, 0.4151515151515151, 0.40764790764790765, 0.4053391053391054, 0.3978354978354978, 0.3956709956709957, 0.401010101010101, 0.3834054834054834, 0.3682539682539683, 0.35584415584415585, 0.33578643578643574, 0.3056277056277056, 0.2955266955266955, 0.29307359307359304, 0.27056277056277056, 0.2630591630591631, 0.2632034632034632, 0.26075036075036073, 0.2608946608946609]\n"
     ]
    }
   ],
   "source": [
    "### YOUR CODE HERE\n",
    "unfairness_odds = [0] * 100\n",
    "for x in range(0, 100, 1):\n",
    "    unfairness_odds[x] = abs(XA_TPR[x] - XB_TPR[x]) + abs(XB_FPR[x] - XB_FPR[x])\n",
    "print(unfairness_odds)"
   ]
  },
  {
   "cell_type": "markdown",
   "metadata": {
    "id": "kHxycD0HMHLV"
   },
   "source": [
    "### 3.2 Demographic Parity (5 points)"
   ]
  },
  {
   "cell_type": "markdown",
   "metadata": {
    "id": "juQ7cT6XMHLW"
   },
   "source": [
    "Intuitively demographic parity says that the ratio of the group in the whole population will be the same as the ratio of the group in the predicted classes. Formally for protected attribute $G$ and classifier $\\hat{Y}$, this can be specified as $$ P(G = g | \\hat{Y} = y) = P(G = g).$$\n",
    "\n",
    "The demographic parity unfairness can be computed as $$ \\sum_{g, y} | P(G = g | \\hat{Y} = y) - P(G = g) | .$$"
   ]
  },
  {
   "cell_type": "markdown",
   "metadata": {
    "id": "zz9LG5i7MHLY"
   },
   "source": [
    "Write a function to compute the demographic parity error."
   ]
  },
  {
   "cell_type": "code",
   "execution_count": 20,
   "metadata": {
    "id": "0ToHOhosMHLa"
   },
   "outputs": [],
   "source": [
    "### YOUR CODE HERE\n",
    "def demographic_parity_error(y_hat_a,y_hat_b):\n",
    "    # SUMMATE THE UNFAIRNESS AND THATS THE ANSWER\n",
    "    # np.unique on y_hat_a and y_hat_b\n",
    "    err1 = np.unique(y_hat_a, return_counts=True)\n",
    "    err2 = np.unique(y_hat_b, return_counts=True)\n",
    "    p_g0 = len(y_hat_a)/len(dataY) #P(g=0)\n",
    "    p_g1 = len(y_hat_b)/len(dataY) #P(g=1)\n",
    "    p_g0_y0 = abs(err1[1][0]/(err1[1][0] + err2[1][0]) - p_g0)\n",
    "    p_g0_y1 = abs(err1[1][1]/(err1[1][1] + err2[1][1]) - p_g0)\n",
    "    p_g1_y0 = abs(err2[1][0]/(err1[1][0] + err2[1][0]) - p_g1)\n",
    "    p_g1_y1 = abs(err2[1][1]/(err1[1][1] + err2[1][1]) - p_g1)\n",
    "    return p_g0_y0 + p_g0_y1 + p_g1_y0 + p_g1_y1"
   ]
  },
  {
   "cell_type": "markdown",
   "metadata": {
    "id": "pKJegyQ2MHLi"
   },
   "source": [
    "Write a function that computes an array of demographic parity errors given a list of thresholds. Note: The thresholds need to be all in the same order as the equalized odds thresholds."
   ]
  },
  {
   "cell_type": "code",
   "execution_count": 21,
   "metadata": {
    "id": "YQopgoYlMHLl"
   },
   "outputs": [
    {
     "name": "stdout",
     "output_type": "stream",
     "text": [
      "[0.2901023594876304, 0.2966550207039338, 0.3046289650024905, 0.31290337165010795, 0.32288777558034193, 0.33221100454953767, 0.34100603807622787, 0.3471016463774589, 0.35689440993788824, 0.36635105934672874, 0.3747935233083748, 0.38392114066249355, 0.3879987473126471, 0.39376601885986146, 0.39874262852986253, 0.40979112338687695, 0.4241836510174311, 0.43359543327604655, 0.4433937101428191, 0.4491332043218835, 0.4574860782035224, 0.46784593093455684, 0.4781090118035693, 0.4915221900882758, 0.5021820095538823, 0.511013932014371, 0.5220009792720745, 0.5319404773630125, 0.5315837253445572, 0.5418938745884854, 0.5513154706703094, 0.56549837931844, 0.5787581699346406, 0.5984696157283289, 0.6088669843903338, 0.627011245081306, 0.6378354756525395, 0.6482502622589235, 0.6626868375758674, 0.6709836979876203, 0.6796621122599704, 0.6945944015744621, 0.7046864884778121, 0.7112506012506012, 0.7243135564390045, 0.7480113266827428, 0.7675613701042115, 0.7779809575118368, 0.7957357700361698, 0.794700609221932, 0.7996462408384846, 0.8155030152613589, 0.8358039085054408, 0.8475340548675429, 0.8601736494607297, 0.8779380204938145, 0.8865700506195553, 0.9034304579164824, 0.9074858789983606, 0.9059394717950656, 0.9239300760064633, 0.9191625333053274, 0.9306478797276343, 0.9526388314730605, 0.9567184815854528, 0.953069208336297, 0.955885780885781, 0.9648301608517307, 0.9824517159489734, 1.010463590532848, 1.021256217503984, 1.040879554063626, 1.0448226107621796, 1.0631177357820958, 1.0835827513579426, 1.0998099286818328, 1.0986046420603546, 1.1179617808590319, 1.1215609594174412, 1.143810836420019, 1.150680044593088, 1.1631879813459993, 1.1822430342434447, 1.1800808387015285, 1.2017550722369998, 1.2033251466730106, 1.2266233766233767, 1.2587184663792947, 1.2481831831831833, 1.2425026968716288, 1.2523301806369767, 1.2467455219061216, 1.2290935253108937, 1.2290406868234416, 1.23536890845605, 1.2366190385731082, 1.2373178458289336, 1.259851420310963, 1.2615453527435612, 1.2865054021123385]\n"
     ]
    }
   ],
   "source": [
    "### YOUR CODE HERE\n",
    "# call threshold predictions for every threshold on y_hat_a and y_hat_b\n",
    "# call unique on each threshold before demographic_parity_error()\n",
    "total_error = [0] * 100\n",
    "for i in range(0, 100, 1):\n",
    "    threshA = threshold_predictions(y_hat_scoreA, i/100)\n",
    "    threshB = threshold_predictions(y_hat_scoreB, i/100)\n",
    "    total_error[i] = demographic_parity_error(threshA, threshB)\n",
    "print(total_error)"
   ]
  },
  {
   "cell_type": "markdown",
   "metadata": {
    "id": "dLSfiq4eMHLy"
   },
   "source": [
    "### 3.3 Combine Equalized Odds & Demographic Parity (5 points)"
   ]
  },
  {
   "cell_type": "markdown",
   "metadata": {
    "id": "QzIsI-WTMHLz"
   },
   "source": [
    "Now that you have computed the errors for both fairness metrics -- equalized odds and demographic parity -- we can investigate further into our comparison, which will be achieved by correlating the error for both. "
   ]
  },
  {
   "cell_type": "markdown",
   "metadata": {
    "id": "KCw3LPwPMHL0"
   },
   "source": [
    "Currently, both errors exist as 'columns', or vectors. We would like to combine them into a single matrix $[equalized\\:odds\\:error, demographic\\:parity\\:error]$. \n",
    "\n",
    "Sort the row of the matrix in ascending order according to the equalized odds error. This ordering will enable us to complete the next part."
   ]
  },
  {
   "cell_type": "code",
   "execution_count": 253,
   "metadata": {
    "id": "9auzYtxxMHL1"
   },
   "outputs": [
    {
     "name": "stdout",
     "output_type": "stream",
     "text": [
      "[[0.0025974  0.0025974  0.0025974  0.0025974  0.00779221 0.01038961\n",
      "  0.01298701 0.01298701 0.01818182 0.02597403 0.02597403 0.02597403\n",
      "  0.03116883 0.03376623 0.03896104 0.04935065 0.05194805 0.05454545\n",
      "  0.05714286 0.06233766 0.06493506 0.07532468 0.09090909 0.0987013\n",
      "  0.1038961  0.10649351 0.11688312 0.12467532 0.13766234 0.14285714\n",
      "  0.15064935 0.16623377 0.16897547 0.18455988 0.18975469 0.2001443\n",
      "  0.21572872 0.22871573 0.24184704 0.25223665 0.26782107 0.28600289\n",
      "  0.29379509 0.30678211 0.31717172 0.32525253 0.33823954 0.35382395\n",
      "  0.36435786 0.37215007 0.39047619 0.3982684  0.41904762 0.41399711\n",
      "  0.42178932 0.43506494 0.45079365 0.46392496 0.46695527 0.46753247\n",
      "  0.47994228 0.49090909 0.48427128 0.47705628 0.4966811  0.5038961\n",
      "  0.48239538 0.48253968 0.4981241  0.49119769 0.5010101  0.4992785\n",
      "  0.5023088  0.5025974  0.47099567 0.502886   0.47835498 0.495671\n",
      "  0.47633478 0.46897547 0.47950938 0.47994228 0.48008658 0.46767677\n",
      "  0.46046176 0.43318903 0.45815296 0.4008658  0.42092352 0.39350649\n",
      "  0.29090909 0.31847042 0.31096681 0.37113997 0.38874459 0.33362193\n",
      "  0.34617605 0.35873016 0.37388167 0.27864358]\n",
      " [0.29106058 0.29906497 0.30726888 0.3145695  0.32474064 0.3328701\n",
      "  0.34027561 0.35011717 0.35873548 0.366544   0.37062057 0.37944196\n",
      "  0.38820083 0.39982395 0.40716548 0.41590645 0.42376767 0.43547762\n",
      "  0.44598284 0.45324333 0.46198237 0.46784593 0.47619278 0.49248929\n",
      "  0.50333819 0.51523597 0.52576005 0.53865812 0.5452883  0.55655148\n",
      "  0.56481899 0.58009583 0.58781765 0.60531562 0.6131915  0.62859559\n",
      "  0.62898891 0.64233623 0.65971519 0.67171717 0.68990525 0.70779774\n",
      "  0.71670929 0.72863142 0.743905   0.75224148 0.76617701 0.78754047\n",
      "  0.79798038 0.80787149 0.81397784 0.82457536 0.83919682 0.84687431\n",
      "  0.85875229 0.87573233 0.89329004 0.9081355  0.91555925 0.9298239\n",
      "  0.93352469 0.961206   0.97412575 0.9767804  0.97860528 0.97946881\n",
      "  0.98779407 0.99680897 1.02022186 1.04286274 1.04400011 1.05747548\n",
      "  1.06957417 1.0825447  1.09473942 1.09630489 1.09708289 1.09850058\n",
      "  1.1109366  1.11913635 1.15983085 1.18915614 1.20391772 1.20625418\n",
      "  1.23040028 1.23378347 1.23917848 1.24564192 1.25204863 1.2537261\n",
      "  1.26974716 1.27211051 1.27320859 1.27888749 1.28859609 1.28918362\n",
      "  1.2934181  1.29757656 1.30166722 1.31253568]]\n"
     ]
    }
   ],
   "source": [
    "### YOUR CODE HERE\n",
    "combined_err = np.column_stack([unfairness_odds, total_error])\n",
    "combined_err_sort = combined_err[np.argsort(combined_err[:, 1])]\n",
    "combined_err_sort = np.transpose(combined_err_sort)\n",
    "print(combined_err_sort)"
   ]
  },
  {
   "cell_type": "markdown",
   "metadata": {
    "id": "4Y0FAYHOMHME"
   },
   "source": [
    "### 3.4 Visualization of Equalized Odds vs. Demographic Parity (5 points)"
   ]
  },
  {
   "cell_type": "markdown",
   "metadata": {
    "id": "IBlAUKd2MHMF"
   },
   "source": [
    "Now, we want to visualize this comparison. Plot the two rows of the matrix (from 3.3) as two separate line graphs. When plotted, you will notice a particular trend, specifically in the direction of the lines for equalized odds and demographic parity."
   ]
  },
  {
   "cell_type": "code",
   "execution_count": 243,
   "metadata": {
    "id": "BBUfixsOMHMH"
   },
   "outputs": [],
   "source": [
    "%matplotlib inline\n",
    "\n",
    "import matplotlib.pyplot as plt\n",
    "import random"
   ]
  },
  {
   "cell_type": "code",
   "execution_count": 256,
   "metadata": {
    "id": "VcDNDjqEMHMS"
   },
   "outputs": [
    {
     "data": {
      "image/png": "[encoded data removed]",
      "text/plain": [
       "<Figure size 432x288 with 1 Axes>"
      ]
     },
     "metadata": {
      "needs_background": "light"
     },
     "output_type": "display_data"
    }
   ],
   "source": [
    "### YOUR CODE HERE\n",
    "    \n",
    "x_label = 'Threshold Value'\n",
    "y_label = 'Error Rate'\n",
    "x_axis = np.arange(0.0, 1.0, 0.01)\n",
    "plt.title('Equalized Odds vs Demographic Parity')\n",
    "plt.xlabel(x_label)\n",
    "plt.ylabel(y_label)\n",
    "\n",
    "plt.plot(x_axis, combined_err_sort[0] ,'-r', label=\"Equalized Odds\")\n",
    "plt.plot(x_axis ,combined_err_sort[1] ,'-y', label=\"Demographic Parity\")\n",
    "plt.legend()\n",
    "plt.show()"
   ]
  },
  {
   "cell_type": "markdown",
   "metadata": {
    "id": "EnN-Z9lGMHMf"
   },
   "source": [
    "### 3.5 Now You Pick! (10 points)"
   ]
  },
  {
   "cell_type": "markdown",
   "metadata": {
    "id": "rMM0OVUAMHMh"
   },
   "source": [
    "From this [Towards Data Science article](https://towardsdatascience.com/a-tutorial-on-fairness-in-machine-learning-3ff8ba1040cb), choose another definition of fairness. Explain here why you are interested in investigating this definition, and mention a scenario where it could be violated."
   ]
  },
  {
   "cell_type": "markdown",
   "metadata": {
    "id": "46CXXMOSMHMk"
   },
   "source": [
    "I think Predictive Rate Parity is really interesting, it seems similar to Demographic Parity and aims to help all parties benefit, but it seems like it's not as helpful for being fair between each group."
   ]
  },
  {
   "cell_type": "markdown",
   "metadata": {
    "id": "NIUiIhTKMHMv"
   },
   "source": [
    "Now, just like you did earlier in part 3, plot this error against those for demographic parity and equalized odds."
   ]
  },
  {
   "cell_type": "code",
   "execution_count": 259,
   "metadata": {
    "id": "VHJ0jJczMHMx"
   },
   "outputs": [
    {
     "data": {
      "image/png": "[encoded data removed]",
      "text/plain": [
       "<Figure size 432x288 with 1 Axes>"
      ]
     },
     "metadata": {
      "needs_background": "light"
     },
     "output_type": "display_data"
    }
   ],
   "source": [
    "### YOUR CODE HERE\n",
    "\n",
    "def predictive_parity_error(y_hat_A, y_hat_B):\n",
    "    err1 = np.unique(y_hat_A, return_counts=True)\n",
    "    err2 = np.unique(y_hat_B, return_counts=True)\n",
    "    p_y0 = (err1[1][0] + err2[1][0])/len(dataY) #P(y=0)\n",
    "    p_y1 = (err1[1][1] + err2[1][1])/len(dataY) #P(y=1)\n",
    "    p_y0_g0 = abs(err1[1][0]/(len(y_hat_A)) - p_y0)\n",
    "    p_y1_g0 = abs(err1[1][1]/(len(y_hat_A)) - p_y0)\n",
    "    p_y0_g1 = abs(err2[1][0]/(len(y_hat_B)) - p_y1)\n",
    "    p_y1_g1 = abs(err2[1][1]/(len(y_hat_B)) - p_y1)\n",
    "    return p_y0_g0 + p_y1_g0 + p_y0_g1 + p_y1_g1\n",
    "\n",
    "pr_error = [0] * 100\n",
    "for i in range(0, 100, 1):\n",
    "    threshA = threshold_predictions(y_hat_scoreA, i/100)\n",
    "    threshB = threshold_predictions(y_hat_scoreB, i/100)\n",
    "    pr_error[i] = predictive_parity_error(threshA, threshB)\n",
    "\n",
    "combined_err = np.column_stack([unfairness_odds, total_error, pr_error])\n",
    "combined_err_sort = combined_err[np.argsort(combined_err[:, 1])]\n",
    "combined_err_sort = np.transpose(combined_err_sort)\n",
    "    \n",
    "x_label = 'Threshold Value'\n",
    "y_label = 'Error Rate'\n",
    "x_axis = np.arange(0.0, 1.0, 0.01)\n",
    "plt.title('Equalized Odds vs Demographic Parity vs Predictive Rate Parity')\n",
    "plt.xlabel(x_label)\n",
    "plt.ylabel(y_label)\n",
    "\n",
    "plt.plot(x_axis, combined_err_sort[0] ,'-r', label=\"Equalized Odds\")\n",
    "plt.plot(x_axis ,combined_err_sort[1] ,'-y', label=\"Demographic Parity\")\n",
    "plt.plot(x_axis ,combined_err_sort[2] ,'-b', label=\"Predictive Rate Parity\")\n",
    "plt.legend()\n",
    "plt.show()\n"
   ]
  },
  {
   "cell_type": "markdown",
   "metadata": {
    "id": "Cet5tVzhMHNE"
   },
   "source": [
    "## Part 4: Short Response Questions (30 Points)"
   ]
  },
  {
   "cell_type": "markdown",
   "metadata": {
    "id": "WBGWuVIuMHNF"
   },
   "source": [
    "**Question 1 (5 points):** Below is a gif of a heatmap which shows how false positive disparity change for specific subgroups as the Learner and Auditor interact in each round. Each square represents a subgroup, the z-axis is the fairness disparity of that subgroup. What does it mean when the heatmap is \\\"flat\\\"?\n",
    "![heatmap](./heatmap.gif)"
   ]
  },
  {
   "cell_type": "markdown",
   "metadata": {
    "id": "kAR_fYpmMHNH"
   },
   "source": [
    "When the answer is flat, that means our fairness disparity is near 0, so that means the curve gets flatter our predictions become more fair."
   ]
  },
  {
   "cell_type": "markdown",
   "metadata": {
    "id": "t1oq7TfUMHNI"
   },
   "source": [
    "**Question 2 (5 points):** In Part 2, you should have seen that the accuracy for the fair thresholds was much smaller than the error the accuracy-maximizing threshold. Suppose that you are allowed to randomize between thresholds (randomly switch between thresholding on fairness and thresholding on accurate thresholds). Is this a smart approach to maximizing accuracy while maintaining fairness? Can you think of a better approach?"
   ]
  },
  {
   "cell_type": "markdown",
   "metadata": {
    "id": "LRnVDQehMHNK"
   },
   "source": [
    "I think randomizing between fairness and accuracy is more fair in terms of maximizing accuracy, but I think the better approach would be to try and figure out how to make the fair model more accurate, in terms of maybe varying the threshhold to a certain degree. If we randomize the chances between accuracy and fairness, we get a simple version of maximizing fairness + accuracy, but I think we can try to set a degree of unfairness and a degree of accuracy that we can try to optimize for in one set of predictions. So instead of randomizing the results, we have a more consistent model that is more fair and more accurate."
   ]
  },
  {
   "cell_type": "markdown",
   "metadata": {
    "id": "EWU165JtMHNL"
   },
   "source": [
    "**Question 3 (5 points):** What is the relationship between error of a fair classifier and the number of protected attributes? That is, if we increase the number of protected attributes, would you expect the error to increase, decrease, or stay the same?"
   ]
  },
  {
   "cell_type": "markdown",
   "metadata": {
    "id": "26wnBwCOMHNN"
   },
   "source": [
    "If we increase the number of protected attributes, the error definitely increases. We might overfit our model to focus so much on a few specific attributes that it tailors to try and be more fair than accurate"
   ]
  },
  {
   "cell_type": "markdown",
   "metadata": {
    "id": "N7Nc4vUsMHNP"
   },
   "source": [
    "**Question 4 (5 points):** Was accuracy a good measure to evaluate each threshold in part 2.7? Why or why not?"
   ]
  },
  {
   "cell_type": "markdown",
   "metadata": {
    "id": "tqsZ_62_MHNR"
   },
   "source": [
    "I think accuracy was a good way to measure each threshold. It gives us a view at how our model is preserving its accuracy while still measuring for fairness. We can see how much accuracy we lose when optimizing for fairness. Accuracy also summarizes our results for the confusion matrix summary"
   ]
  },
  {
   "cell_type": "markdown",
   "metadata": {
    "id": "K0AOQdoOMHNT"
   },
   "source": [
    "**Question 5 (5 points):** Take a look at your plot from 3.4. Thinking of the trends in the two lines, what is the relationship between equalized odds and demographic parity? What could this possibly mean for how fairness measures interact in general?"
   ]
  },
  {
   "cell_type": "markdown",
   "metadata": {
    "id": "bvKx3EoEMHNU"
   },
   "source": [
    "It seems like sorted Demographic Parity has a higher error rate than equalized odds, except for the tail end. This relationship shows that the fairness measurements really have quite a bit of sway on one another, and definitely impact the way each one is viewed. If you don't compare the fairness measures you may not get the full story, or may not have what is best for your purposes."
   ]
  },
  {
   "cell_type": "markdown",
   "metadata": {
    "id": "C8Ly-82dMHNW"
   },
   "source": [
    "**Question 6 (5 points):** Provide an interpretation of your plot from 3.5. Keep in mind again the trends of the two lines. "
   ]
  },
  {
   "cell_type": "markdown",
   "metadata": {
    "id": "0CBaLyC1MHNX"
   },
   "source": [
    "It looks like Predictive Rate Parity has a higher error rate than both of our previous fairness measures. This probably means that we should focus on more accurate/fair models like Demographic Parity or Equalized Odds."
   ]
  },
  {
   "cell_type": "code",
   "execution_count": null,
   "metadata": {},
   "outputs": [],
   "source": []
  }
 ],
 "metadata": {
  "colab": {
   "collapsed_sections": [
    "KpD8xGAQMHJM",
    "EaNl_-FGMHJk",
    "j-IniOiiMHKH",
    "GsxOBch6MHKo",
    "8UbU_6jjMHLC",
    "kHxycD0HMHLV",
    "dLSfiq4eMHLy",
    "4Y0FAYHOMHME",
    "EnN-Z9lGMHMf"
   ],
   "name": "CSE146_Lab3--[YOURNAMEHERE]_2020.ipynb",
   "provenance": []
  },
  "kernelspec": {
   "display_name": "Python 3",
   "language": "python",
   "name": "python3"
  },
  "language_info": {
   "codemirror_mode": {
    "name": "ipython",
    "version": 3
   },
   "file_extension": ".py",
   "mimetype": "text/x-python",
   "name": "python",
   "nbconvert_exporter": "python",
   "pygments_lexer": "ipython3",
   "version": "3.8.5"
  }
 },
 "nbformat": 4,
 "nbformat_minor": 1
}
