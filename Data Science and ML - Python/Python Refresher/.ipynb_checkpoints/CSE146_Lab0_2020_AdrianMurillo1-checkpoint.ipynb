{
 "cells": [
  {
   "cell_type": "markdown",
   "metadata": {
    "id": "nWu_LQohjgc8"
   },
   "source": [
    "The purpose of this lab is to warm up with Python in regards to CSV files (comma separated values), dataframe handling, and numpy analysis.  Please spend time to play around and understand what everything's doing."
   ]
  },
  {
   "cell_type": "markdown",
   "metadata": {
    "id": "ad8z8Ta9fCOH"
   },
   "source": [
    "# Basics of Numpy and Pandas"
   ]
  },
  {
   "cell_type": "code",
   "execution_count": 20,
   "metadata": {
    "id": "QNf9m6iEi1Z3"
   },
   "outputs": [],
   "source": [
    "import pandas as pd\n",
    "import numpy as np"
   ]
  },
  {
   "cell_type": "markdown",
   "metadata": {
    "id": "SwOn6bZjig46"
   },
   "source": [
    "# NumPys"
   ]
  },
  {
   "cell_type": "markdown",
   "metadata": {
    "id": "Gxbdhzj9h0y3"
   },
   "source": [
    "NumPys are multi-dimensional arrays (matrices) that allow users to efficiently manipulate data/subarrays, split arrays, reshape arrays, and much more. Think of it as a nested List[List, List, List], but with more functionality"
   ]
  },
  {
   "cell_type": "code",
   "execution_count": 21,
   "metadata": {
    "id": "DB5pBaUPfvef"
   },
   "outputs": [],
   "source": [
    "'''We will generate random numbers with Numpys of various sizes''' \n",
    "# One-dimensional array with numbers from 0-10\n",
    "x0 = np.random.randint(10, size=6) \n",
    "# One-dimensional array with numbers from 0-10\n",
    "x1 = np.random.randint(10, size=(1,6)) \n",
    "# Two-dimensional array with numbers from 0-10\n",
    "x2 = np.random.randint(10, size=(3, 4))  \n",
    "# Three-dimensional array with numbers from 0-10\n",
    "x3 = np.random.randint(10, size=(3, 4, 5))  \n"
   ]
  },
  {
   "cell_type": "markdown",
   "metadata": {
    "id": "gYWaCRfRqBcg"
   },
   "source": [
    "Each Numpy array has the following attributes: \n",
    "\n",
    "1. ndim (the number of dimensions)\n",
    "2. shape (the size of each dimension)\n",
    "3. size (the total size of the array).\n",
    "\n",
    "\n",
    "\n",
    "\n"
   ]
  },
  {
   "cell_type": "code",
   "execution_count": 123,
   "metadata": {
    "colab": {
     "base_uri": "https://localhost:8080/",
     "height": 686
    },
    "executionInfo": {
     "elapsed": 1684,
     "status": "ok",
     "timestamp": 1600143236846,
     "user": {
      "displayName": "Sabyasachi Basu",
      "photoUrl": "https://lh3.googleusercontent.com/a-/AOh14Gin9ImPHXIS7jAscKOqdY17YZmmr148F_NJXYazIA=s64",
      "userId": "10825804676665851938"
     },
     "user_tz": 420
    },
    "id": "lej4Amo1p_oj",
    "outputId": "353a5f15-999a-4237-f8ab-93be7f2a6d95"
   },
   "outputs": [
    {
     "name": "stdout",
     "output_type": "stream",
     "text": [
      "x0 is a 1-D 1x6 matrix:\n",
      " [3 0 2 0 8 9]\n",
      "x0 ndim:  1\n",
      "x0 shape: (6,)\n",
      "x0 size:  6\n",
      "\n",
      "x1 is a 2-D 1x6 matrix:\n",
      " [[5 2 1 3 9 2]]\n",
      "x1 ndim:  2\n",
      "x1 shape: (1, 6)\n",
      "x1 size:  6\n",
      "\n",
      "x2 is a 2-D 3x4 matrix:\n",
      " [[99  1  0  5]\n",
      " [ 9  1  7  6]\n",
      " [ 0  9  1  9]]\n",
      "x2 ndim:  2\n",
      "x2 shape: (3, 4)\n",
      "x2 size:  12\n",
      "\n",
      "x3 is a 3-D 3x4x5 matrix:\n",
      " [[[1 4 6 7 3]\n",
      "  [0 5 3 3 2]\n",
      "  [3 6 2 7 2]\n",
      "  [9 4 7 9 1]]\n",
      "\n",
      " [[2 5 3 6 1]\n",
      "  [1 8 0 6 5]\n",
      "  [9 4 0 6 3]\n",
      "  [2 6 4 6 5]]\n",
      "\n",
      " [[4 1 6 5 6]\n",
      "  [8 0 1 7 9]\n",
      "  [1 1 2 0 5]\n",
      "  [2 5 2 9 8]]]\n",
      "x3 ndim:  3\n",
      "x3 shape: (3, 4, 5)\n",
      "x3 size:  60\n"
     ]
    }
   ],
   "source": [
    "print(\"x0 is a 1-D 1x6 matrix:\\n\",x0)\n",
    "print(\"x0 ndim: \", x0.ndim)\n",
    "print(\"x0 shape:\", x0.shape)\n",
    "print(\"x0 size: \", x0.size)\n",
    "print()\n",
    "print(\"x1 is a 2-D 1x6 matrix:\\n\",x1)\n",
    "print(\"x1 ndim: \", x1.ndim)\n",
    "print(\"x1 shape:\", x1.shape)\n",
    "print(\"x1 size: \", x1.size)\n",
    "print()\n",
    "print(\"x2 is a 2-D 3x4 matrix:\\n\",x2)\n",
    "print(\"x2 ndim: \", x2.ndim)\n",
    "print(\"x2 shape:\", x2.shape)\n",
    "print(\"x2 size: \", x2.size)\n",
    "print()\n",
    "print(\"x3 is a 3-D 3x4x5 matrix:\\n\",x3)\n",
    "print(\"x3 ndim: \", x3.ndim)\n",
    "print(\"x3 shape:\", x3.shape)\n",
    "print(\"x3 size: \", x3.size)"
   ]
  },
  {
   "cell_type": "markdown",
   "metadata": {
    "id": "jneXhzwXu07Y"
   },
   "source": [
    "Accessing elements in a NumPy is very similar to accessing elements in a list.  "
   ]
  },
  {
   "cell_type": "code",
   "execution_count": 23,
   "metadata": {
    "colab": {
     "base_uri": "https://localhost:8080/",
     "height": 87
    },
    "executionInfo": {
     "elapsed": 1669,
     "status": "ok",
     "timestamp": 1600143236847,
     "user": {
      "displayName": "Sabyasachi Basu",
      "photoUrl": "https://lh3.googleusercontent.com/a-/AOh14Gin9ImPHXIS7jAscKOqdY17YZmmr148F_NJXYazIA=s64",
      "userId": "10825804676665851938"
     },
     "user_tz": 420
    },
    "id": "02U3atwAuyjr",
    "outputId": "8ffe6a90-f91f-4d95-fc39-a03c72419699"
   },
   "outputs": [
    {
     "name": "stdout",
     "output_type": "stream",
     "text": [
      "[3 0 2 0 8 9]\n",
      "4th element:  0\n",
      "last element:  9\n",
      "second to last element:  8\n"
     ]
    }
   ],
   "source": [
    "#getting elements from the x0 (1-D) array\n",
    "print(x0)\n",
    "print(\"4th element: \",x0[3])\n",
    "print(\"last element: \",x0[-1])\n",
    "print(\"second to last element: \",x0[-2])"
   ]
  },
  {
   "cell_type": "code",
   "execution_count": 24,
   "metadata": {
    "colab": {
     "base_uri": "https://localhost:8080/",
     "height": 140
    },
    "executionInfo": {
     "elapsed": 1654,
     "status": "ok",
     "timestamp": 1600143236847,
     "user": {
      "displayName": "Sabyasachi Basu",
      "photoUrl": "https://lh3.googleusercontent.com/a-/AOh14Gin9ImPHXIS7jAscKOqdY17YZmmr148F_NJXYazIA=s64",
      "userId": "10825804676665851938"
     },
     "user_tz": 420
    },
    "id": "ZVWE9BidwfXQ",
    "outputId": "f3e22e48-3eb4-4bee-e918-1b8b084f2d2d"
   },
   "outputs": [
    {
     "name": "stdout",
     "output_type": "stream",
     "text": [
      "[[2 1 0 5]\n",
      " [9 1 7 6]\n",
      " [0 9 1 9]]\n",
      "1st row, 1st column:  2\n",
      "last row, last column:  9\n",
      "2nd row, last column:  6\n",
      "2nd row, third column:  9\n"
     ]
    }
   ],
   "source": [
    "\"\"\"In a multi-dimensional array, items can \n",
    "be accessed using a comma-separated tuple \n",
    "of indices.\n",
    "For a 2-D array the first value is the row # (n)\n",
    "you want the value from, the second value\n",
    "is the column # (m) you want the value from. \n",
    "array[n, m]\"\"\"\n",
    "print(x2)\n",
    "print(\"1st row, 1st column: \", x2[0,0])\n",
    "print(\"last row, last column: \", x2[-1, -1])\n",
    "print(\"2nd row, last column: \",x2[1, -1])\n",
    "print(\"2nd row, third column: \",x2[2, 3])\n"
   ]
  },
  {
   "cell_type": "markdown",
   "metadata": {
    "id": "m4Z1rEGQzgjE"
   },
   "source": [
    "Numpy arrays have a fixed number type when they are created, so they can't be changed individual values to a different number type. The type of values in a numpy array can be checked with array.dtype"
   ]
  },
  {
   "cell_type": "code",
   "execution_count": 25,
   "metadata": {
    "colab": {
     "base_uri": "https://localhost:8080/",
     "height": 35
    },
    "executionInfo": {
     "elapsed": 1638,
     "status": "ok",
     "timestamp": 1600143236848,
     "user": {
      "displayName": "Sabyasachi Basu",
      "photoUrl": "https://lh3.googleusercontent.com/a-/AOh14Gin9ImPHXIS7jAscKOqdY17YZmmr148F_NJXYazIA=s64",
      "userId": "10825804676665851938"
     },
     "user_tz": 420
    },
    "id": "WI-kGKtWzwWs",
    "outputId": "af64e5ca-50ba-44eb-d5af-474d8fa12e47"
   },
   "outputs": [
    {
     "name": "stdout",
     "output_type": "stream",
     "text": [
      "type for x3:  int32\n"
     ]
    }
   ],
   "source": [
    "print(\"type for x3: \", x3.dtype)\n",
    "#in this case we cant change individual values in x3 to float64 types,\n",
    "#unless we change the entire array"
   ]
  },
  {
   "cell_type": "markdown",
   "metadata": {
    "id": "mkFsdwLK20jU"
   },
   "source": [
    "Array Slicing: Accessing Subarrays\n",
    "array[start:stop:step].\n",
    "If they are undefined it will default to start=0, stop=size of dimension, step=1.\n"
   ]
  },
  {
   "cell_type": "code",
   "execution_count": 26,
   "metadata": {
    "colab": {
     "base_uri": "https://localhost:8080/",
     "height": 211
    },
    "executionInfo": {
     "elapsed": 1621,
     "status": "ok",
     "timestamp": 1600143236849,
     "user": {
      "displayName": "Sabyasachi Basu",
      "photoUrl": "https://lh3.googleusercontent.com/a-/AOh14Gin9ImPHXIS7jAscKOqdY17YZmmr148F_NJXYazIA=s64",
      "userId": "10825804676665851938"
     },
     "user_tz": 420
    },
    "id": "lBdX0Np73WXi",
    "outputId": "08e560e9-bc4e-4706-9505-7ac0f8a74e6d"
   },
   "outputs": [
    {
     "name": "stdout",
     "output_type": "stream",
     "text": [
      "[3 0 2 0 8 9]\n",
      "[3 0 2]\n",
      "[0 8 9]\n",
      "[0 2 0 8]\n",
      "[0 2 0 8]\n",
      "[0 2 0 8 9]\n",
      "[3 0]\n",
      "[0 9]\n",
      "[9 8 0 2 0 3]\n",
      "[8 0 2 0 3]\n",
      "[8 0 2 0 3]\n"
     ]
    }
   ],
   "source": [
    "#Example with 1-D arrays\n",
    "print(x0)\n",
    "#array[inclusive:exclusive]\n",
    "#all elements before index 3, exclusive of value at index 3\n",
    "print(x0[:3]) \n",
    "#all elements after index 3, inclusive of value at index 3\n",
    "print(x0[3:])\n",
    "#the 2nd element to the 2nd last element\n",
    "print(x0[1:-1])\n",
    "#or\n",
    "print(x0[1:5])\n",
    "#if exclusive value > len(list) then it its equivalent to array[x:]\n",
    "print(x0[1:10]) #len of x0 is 6\n",
    "#accessing every 3rd element in the array\n",
    "print(x0[::3])\n",
    "#accessing every other element starting from the 4th element (value at index 3)\n",
    "print(x0[3::2])\n",
    "#reversing the elements\n",
    "print(x0[::-1])\n",
    "#reversing from the 2nd to last element\n",
    "print(x0[-2::-1])\n",
    "#or\n",
    "print(x0[4::-1])\n",
    "\n",
    "\n",
    "\n",
    "\n"
   ]
  },
  {
   "cell_type": "code",
   "execution_count": 27,
   "metadata": {
    "colab": {
     "base_uri": "https://localhost:8080/",
     "height": 263
    },
    "executionInfo": {
     "elapsed": 1606,
     "status": "ok",
     "timestamp": 1600143236850,
     "user": {
      "displayName": "Sabyasachi Basu",
      "photoUrl": "https://lh3.googleusercontent.com/a-/AOh14Gin9ImPHXIS7jAscKOqdY17YZmmr148F_NJXYazIA=s64",
      "userId": "10825804676665851938"
     },
     "user_tz": 420
    },
    "id": "kY4sRd5l6vWm",
    "outputId": "72d339e9-bee6-4b3d-c0d4-611cffec80fc"
   },
   "outputs": [
    {
     "name": "stdout",
     "output_type": "stream",
     "text": [
      "[[2 1 0 5]\n",
      " [9 1 7 6]\n",
      " [0 9 1 9]]\n",
      "[[2 1 0]\n",
      " [9 1 7]]\n",
      "[[2 0]\n",
      " [9 7]\n",
      " [0 1]]\n",
      "[[9 1 9 0]\n",
      " [6 7 1 9]\n",
      " [5 0 1 2]]\n",
      "[1 1 9]\n",
      "[0 9 1 9]\n",
      "[0 9 1 9]\n"
     ]
    }
   ],
   "source": [
    "#Example with multi-dimensional arrays\n",
    "print(x2)\n",
    "#print 1st 2 rows and 1st 3 columns\n",
    "print(x2[:2, :3])\n",
    "#print all rows and every other columns\n",
    "print(x2[:, ::2])\n",
    "#reversing the array\n",
    "print(x2[::-1, ::-1])\n",
    "#getting the second column of x2\n",
    "print(x2[:, 1])\n",
    "#getting the last row of x2\n",
    "print(x2[2, :])\n",
    "#or\n",
    "print(x2[2])"
   ]
  },
  {
   "cell_type": "markdown",
   "metadata": {
    "id": "hop9UtrzRz6P"
   },
   "source": [
    "When creating copies of Sub-Arrays, explicitly state array.copy(), otherwise itll create a slice of that subarray that will reflect any changes done to that slice"
   ]
  },
  {
   "cell_type": "code",
   "execution_count": 28,
   "metadata": {
    "colab": {
     "base_uri": "https://localhost:8080/",
     "height": 193
    },
    "executionInfo": {
     "elapsed": 1590,
     "status": "ok",
     "timestamp": 1600143236850,
     "user": {
      "displayName": "Sabyasachi Basu",
      "photoUrl": "https://lh3.googleusercontent.com/a-/AOh14Gin9ImPHXIS7jAscKOqdY17YZmmr148F_NJXYazIA=s64",
      "userId": "10825804676665851938"
     },
     "user_tz": 420
    },
    "id": "nMJxWF-5Cheo",
    "outputId": "36b72432-27c8-45d9-81a1-cfd9d776ba58"
   },
   "outputs": [
    {
     "name": "stdout",
     "output_type": "stream",
     "text": [
      "[[2 1 0 5]\n",
      " [9 1 7 6]\n",
      " [0 9 1 9]]\n",
      "[[2 1]\n",
      " [9 1]]\n",
      "[[99  1]\n",
      " [ 9  1]]\n",
      "[[99  1  0  5]\n",
      " [ 9  1  7  6]\n",
      " [ 0  9  1  9]]\n"
     ]
    }
   ],
   "source": [
    "#without array.copy()\n",
    "print(x2)\n",
    "x2_sub = x2[:2, :2]\n",
    "print(x2_sub)\n",
    "x2_sub[0, 0] = 99\n",
    "print(x2_sub)\n",
    "print(x2)"
   ]
  },
  {
   "cell_type": "code",
   "execution_count": 29,
   "metadata": {
    "colab": {
     "base_uri": "https://localhost:8080/",
     "height": 193
    },
    "executionInfo": {
     "elapsed": 1574,
     "status": "ok",
     "timestamp": 1600143236851,
     "user": {
      "displayName": "Sabyasachi Basu",
      "photoUrl": "https://lh3.googleusercontent.com/a-/AOh14Gin9ImPHXIS7jAscKOqdY17YZmmr148F_NJXYazIA=s64",
      "userId": "10825804676665851938"
     },
     "user_tz": 420
    },
    "id": "NM1_rBDoYgdb",
    "outputId": "a7d0e4d7-b3a2-490b-e523-50f3d8ff56b4"
   },
   "outputs": [
    {
     "name": "stdout",
     "output_type": "stream",
     "text": [
      "[[99  1  0  5]\n",
      " [ 9  1  7  6]\n",
      " [ 0  9  1  9]]\n",
      "[[99  1]\n",
      " [ 9  1]]\n",
      "[[0 1]\n",
      " [9 1]]\n",
      "[[99  1  0  5]\n",
      " [ 9  1  7  6]\n",
      " [ 0  9  1  9]]\n"
     ]
    }
   ],
   "source": [
    "#with array.copy()\n",
    "print(x2)\n",
    "x2_sub = x2[:2, :2].copy()\n",
    "print(x2_sub)\n",
    "x2_sub[0, 0] = 0\n",
    "print(x2_sub)\n",
    "print(x2)"
   ]
  },
  {
   "cell_type": "markdown",
   "metadata": {
    "id": "GlccH79GbKrC"
   },
   "source": [
    "Reshaping Arrays: array.reshape(n, m), where n and m are the respective dimensions. NOTE: for this to work the initial array size must match the size of the reshaped array. RESHAPING WILL NOT AFFECT THE ORIGINAL ARRAY, IF YOU WANT TO USE THE RESHAPED ARRAY SET IT TO SOMETHING NEW"
   ]
  },
  {
   "cell_type": "code",
   "execution_count": 30,
   "metadata": {
    "colab": {
     "base_uri": "https://localhost:8080/",
     "height": 70
    },
    "executionInfo": {
     "elapsed": 1554,
     "status": "ok",
     "timestamp": 1600143236851,
     "user": {
      "displayName": "Sabyasachi Basu",
      "photoUrl": "https://lh3.googleusercontent.com/a-/AOh14Gin9ImPHXIS7jAscKOqdY17YZmmr148F_NJXYazIA=s64",
      "userId": "10825804676665851938"
     },
     "user_tz": 420
    },
    "id": "3kpirWQtbrSv",
    "outputId": "f5fe03aa-9f65-447f-cbda-7718692c3a71"
   },
   "outputs": [
    {
     "name": "stdout",
     "output_type": "stream",
     "text": [
      "[[1 2 3]\n",
      " [4 5 6]\n",
      " [7 8 9]]\n"
     ]
    }
   ],
   "source": [
    "#making the numbers 1 to 10 in a 3 by 3 matrix\n",
    "grid = np.arange(1, 10).reshape((3, 3))\n",
    "print(grid)"
   ]
  },
  {
   "cell_type": "code",
   "execution_count": 31,
   "metadata": {
    "colab": {
     "base_uri": "https://localhost:8080/",
     "height": 105
    },
    "executionInfo": {
     "elapsed": 1540,
     "status": "ok",
     "timestamp": 1600143236852,
     "user": {
      "displayName": "Sabyasachi Basu",
      "photoUrl": "https://lh3.googleusercontent.com/a-/AOh14Gin9ImPHXIS7jAscKOqdY17YZmmr148F_NJXYazIA=s64",
      "userId": "10825804676665851938"
     },
     "user_tz": 420
    },
    "id": "kulsfZM7dTUE",
    "outputId": "acfeda57-5ab0-41bd-a880-b6057ec7abde"
   },
   "outputs": [
    {
     "name": "stdout",
     "output_type": "stream",
     "text": [
      "[1 2 3]\n",
      "[[1 2 3]]\n",
      "[[1]\n",
      " [2]\n",
      " [3]]\n"
     ]
    }
   ],
   "source": [
    "#reshaping a 1D array to a 2D array\n",
    "x = np.array([1, 2, 3])\n",
    "print(x)\n",
    "# row vector via reshape\n",
    "reshapedx = x.reshape((1, 3))\n",
    "print(reshapedx)\n",
    "reX = x.reshape((3, 1))\n",
    "print(reX)"
   ]
  },
  {
   "cell_type": "markdown",
   "metadata": {
    "id": "7esRX66TeWgw"
   },
   "source": [
    "Use np.concatenate, np.vstack, and np.hstack. np.concatenate to concatenate NumPy arrays."
   ]
  },
  {
   "cell_type": "code",
   "execution_count": 32,
   "metadata": {
    "colab": {
     "base_uri": "https://localhost:8080/",
     "height": 70
    },
    "executionInfo": {
     "elapsed": 1523,
     "status": "ok",
     "timestamp": 1600143236853,
     "user": {
      "displayName": "Sabyasachi Basu",
      "photoUrl": "https://lh3.googleusercontent.com/a-/AOh14Gin9ImPHXIS7jAscKOqdY17YZmmr148F_NJXYazIA=s64",
      "userId": "10825804676665851938"
     },
     "user_tz": 420
    },
    "id": "FWfftY4demzN",
    "outputId": "e5898d37-56ba-4331-d3ca-112afa197762"
   },
   "outputs": [
    {
     "name": "stdout",
     "output_type": "stream",
     "text": [
      "[1 2 3] [3 2 1]\n",
      "[1 2 3 3 2 1]\n",
      "[ 1  2  3  3  2  1 99 99 99]\n"
     ]
    }
   ],
   "source": [
    "#1-D example\n",
    "x = np.array([1, 2, 3])\n",
    "y = np.array([3, 2, 1])\n",
    "print(x, y)\n",
    "comb = np.concatenate([x, y])\n",
    "print(comb)\n",
    "#can have more than 2 arrays as well\n",
    "z = [99, 99, 99]\n",
    "print(np.concatenate([x, y, z]))"
   ]
  },
  {
   "cell_type": "code",
   "execution_count": 33,
   "metadata": {
    "colab": {
     "base_uri": "https://localhost:8080/",
     "height": 87
    },
    "executionInfo": {
     "elapsed": 1507,
     "status": "ok",
     "timestamp": 1600143236853,
     "user": {
      "displayName": "Sabyasachi Basu",
      "photoUrl": "https://lh3.googleusercontent.com/a-/AOh14Gin9ImPHXIS7jAscKOqdY17YZmmr148F_NJXYazIA=s64",
      "userId": "10825804676665851938"
     },
     "user_tz": 420
    },
    "id": "7DrI17Kbf_Uv",
    "outputId": "8cf4fffc-1e17-40fc-deac-37918cbb508e"
   },
   "outputs": [
    {
     "name": "stdout",
     "output_type": "stream",
     "text": [
      "[[1 2 3]\n",
      " [4 5 6]\n",
      " [1 2 3]\n",
      " [4 5 6]]\n"
     ]
    }
   ],
   "source": [
    "#2-D example\n",
    "grid = np.array([[1, 2, 3],\n",
    "                 [4, 5, 6]])\n",
    "combogrid = np.concatenate([grid, grid])\n",
    "print(combogrid)"
   ]
  },
  {
   "cell_type": "markdown",
   "metadata": {
    "id": "4yCTvNICgrbq"
   },
   "source": [
    "np.vstack (verical stack) and np.hstack (horizontal stack) offer more control in how the arrays will combined"
   ]
  },
  {
   "cell_type": "code",
   "execution_count": 34,
   "metadata": {
    "colab": {
     "base_uri": "https://localhost:8080/",
     "height": 105
    },
    "executionInfo": {
     "elapsed": 1492,
     "status": "ok",
     "timestamp": 1600143236854,
     "user": {
      "displayName": "Sabyasachi Basu",
      "photoUrl": "https://lh3.googleusercontent.com/a-/AOh14Gin9ImPHXIS7jAscKOqdY17YZmmr148F_NJXYazIA=s64",
      "userId": "10825804676665851938"
     },
     "user_tz": 420
    },
    "id": "cWeenB00gaZY",
    "outputId": "4d833c59-c7f0-47f5-fe60-b082573ef2b1"
   },
   "outputs": [
    {
     "name": "stdout",
     "output_type": "stream",
     "text": [
      "[[1 2 3]\n",
      " [9 8 7]\n",
      " [6 5 4]]\n",
      "[[ 9  8  7 99]\n",
      " [ 6  5  4 99]]\n"
     ]
    }
   ],
   "source": [
    "#Mixed dimensions example \n",
    "x = np.array([1, 2, 3])\n",
    "grid = np.array([[9, 8, 7],\n",
    "                 [6, 5, 4]])\n",
    "# vertically stack the arrays\n",
    "vxgrid = np.vstack([x, grid])\n",
    "print(vxgrid)\n",
    "# we cant horizontally combine the arrays because the dimensions dont\n",
    "# line up, x = (1,3) and grid = (2, 3)\n",
    "\n",
    "# horizontally stack the y and grid\n",
    "y = np.array([[99],\n",
    "              [99]])\n",
    "#this can be combined horizontally: grid = (2,2) and y = (2,1)\n",
    "hygrid = np.hstack([grid, y])\n",
    "print(hygrid)\n",
    "\n",
    "#np.dstack stacks arrays along the 3rd axis"
   ]
  },
  {
   "cell_type": "markdown",
   "metadata": {
    "id": "siGnnZW1DUvh"
   },
   "source": [
    "add np.dotprod()"
   ]
  },
  {
   "cell_type": "markdown",
   "metadata": {
    "id": "nDoqucvWimiz"
   },
   "source": [
    "# Pandas\n"
   ]
  },
  {
   "cell_type": "markdown",
   "metadata": {
    "id": "ImtVEgNKiuIw"
   },
   "source": [
    "`pandas` is a great way to manipulate dataframes that are already existing \n",
    "\n",
    "(CSV files). They can also be created from lists and dictionaries.\n",
    "\n",
    "\n"
   ]
  },
  {
   "cell_type": "code",
   "execution_count": 35,
   "metadata": {
    "colab": {
     "base_uri": "https://localhost:8080/",
     "height": 313
    },
    "executionInfo": {
     "elapsed": 1478,
     "status": "ok",
     "timestamp": 1600143236855,
     "user": {
      "displayName": "Sabyasachi Basu",
      "photoUrl": "https://lh3.googleusercontent.com/a-/AOh14Gin9ImPHXIS7jAscKOqdY17YZmmr148F_NJXYazIA=s64",
      "userId": "10825804676665851938"
     },
     "user_tz": 420
    },
    "id": "dHEXCYc8i-Mj",
    "outputId": "1d486380-4bd4-4cbb-dfea-3cac419a7f53"
   },
   "outputs": [
    {
     "name": "stdout",
     "output_type": "stream",
     "text": [
      "{'Name': ['kartik', 'fahed', 'zainub', 'kyle', 'spencer', 'kaleen', 'andrew', 'lise'], 'Grade': [79, 99, 89, 80, 87, 90, 81, None], 'Hired': ['y', 'n', 'y', 'y', 'n', 'n', 'y', 'n']}\n"
     ]
    },
    {
     "data": {
      "text/html": [
       "<div>\n",
       "<style scoped>\n",
       "    .dataframe tbody tr th:only-of-type {\n",
       "        vertical-align: middle;\n",
       "    }\n",
       "\n",
       "    .dataframe tbody tr th {\n",
       "        vertical-align: top;\n",
       "    }\n",
       "\n",
       "    .dataframe thead th {\n",
       "        text-align: right;\n",
       "    }\n",
       "</style>\n",
       "<table border=\"1\" class=\"dataframe\">\n",
       "  <thead>\n",
       "    <tr style=\"text-align: right;\">\n",
       "      <th></th>\n",
       "      <th>Name</th>\n",
       "      <th>Grade</th>\n",
       "      <th>Hired</th>\n",
       "    </tr>\n",
       "  </thead>\n",
       "  <tbody>\n",
       "    <tr>\n",
       "      <th>0</th>\n",
       "      <td>kartik</td>\n",
       "      <td>79.0</td>\n",
       "      <td>y</td>\n",
       "    </tr>\n",
       "    <tr>\n",
       "      <th>1</th>\n",
       "      <td>fahed</td>\n",
       "      <td>99.0</td>\n",
       "      <td>n</td>\n",
       "    </tr>\n",
       "    <tr>\n",
       "      <th>2</th>\n",
       "      <td>zainub</td>\n",
       "      <td>89.0</td>\n",
       "      <td>y</td>\n",
       "    </tr>\n",
       "    <tr>\n",
       "      <th>3</th>\n",
       "      <td>kyle</td>\n",
       "      <td>80.0</td>\n",
       "      <td>y</td>\n",
       "    </tr>\n",
       "    <tr>\n",
       "      <th>4</th>\n",
       "      <td>spencer</td>\n",
       "      <td>87.0</td>\n",
       "      <td>n</td>\n",
       "    </tr>\n",
       "    <tr>\n",
       "      <th>5</th>\n",
       "      <td>kaleen</td>\n",
       "      <td>90.0</td>\n",
       "      <td>n</td>\n",
       "    </tr>\n",
       "    <tr>\n",
       "      <th>6</th>\n",
       "      <td>andrew</td>\n",
       "      <td>81.0</td>\n",
       "      <td>y</td>\n",
       "    </tr>\n",
       "    <tr>\n",
       "      <th>7</th>\n",
       "      <td>lise</td>\n",
       "      <td>NaN</td>\n",
       "      <td>n</td>\n",
       "    </tr>\n",
       "  </tbody>\n",
       "</table>\n",
       "</div>"
      ],
      "text/plain": [
       "      Name  Grade Hired\n",
       "0   kartik   79.0     y\n",
       "1    fahed   99.0     n\n",
       "2   zainub   89.0     y\n",
       "3     kyle   80.0     y\n",
       "4  spencer   87.0     n\n",
       "5   kaleen   90.0     n\n",
       "6   andrew   81.0     y\n",
       "7     lise    NaN     n"
      ]
     },
     "execution_count": 35,
     "metadata": {},
     "output_type": "execute_result"
    }
   ],
   "source": [
    "#example dictionary of names and grades\n",
    "data = {'Name':['kartik', 'fahed', 'zainub', 'kyle', 'spencer', 'kaleen', 'andrew', 'lise'],\n",
    "        'Grade': [79, 99, 89, 80, 87, 90, 81, None],\n",
    "        'Hired': ['y', 'n', 'y', 'y', 'n', 'n', 'y', 'n']}\n",
    "print(data)\n",
    "#creating a dataframe\n",
    "df = pd.DataFrame(data)\n",
    "df"
   ]
  },
  {
   "cell_type": "code",
   "execution_count": 36,
   "metadata": {
    "colab": {
     "base_uri": "https://localhost:8080/",
     "height": 203
    },
    "executionInfo": {
     "elapsed": 1462,
     "status": "ok",
     "timestamp": 1600143236856,
     "user": {
      "displayName": "Sabyasachi Basu",
      "photoUrl": "https://lh3.googleusercontent.com/a-/AOh14Gin9ImPHXIS7jAscKOqdY17YZmmr148F_NJXYazIA=s64",
      "userId": "10825804676665851938"
     },
     "user_tz": 420
    },
    "id": "yAmmJfemqtng",
    "outputId": "f2cd6c0a-64c4-4b59-f2ba-4b4a4dca71a8"
   },
   "outputs": [
    {
     "data": {
      "text/html": [
       "<div>\n",
       "<style scoped>\n",
       "    .dataframe tbody tr th:only-of-type {\n",
       "        vertical-align: middle;\n",
       "    }\n",
       "\n",
       "    .dataframe tbody tr th {\n",
       "        vertical-align: top;\n",
       "    }\n",
       "\n",
       "    .dataframe thead th {\n",
       "        text-align: right;\n",
       "    }\n",
       "</style>\n",
       "<table border=\"1\" class=\"dataframe\">\n",
       "  <thead>\n",
       "    <tr style=\"text-align: right;\">\n",
       "      <th></th>\n",
       "      <th>Name</th>\n",
       "      <th>Grade</th>\n",
       "      <th>Hired</th>\n",
       "    </tr>\n",
       "  </thead>\n",
       "  <tbody>\n",
       "    <tr>\n",
       "      <th>0</th>\n",
       "      <td>kartik</td>\n",
       "      <td>79.0</td>\n",
       "      <td>y</td>\n",
       "    </tr>\n",
       "    <tr>\n",
       "      <th>1</th>\n",
       "      <td>fahed</td>\n",
       "      <td>99.0</td>\n",
       "      <td>n</td>\n",
       "    </tr>\n",
       "    <tr>\n",
       "      <th>2</th>\n",
       "      <td>zainub</td>\n",
       "      <td>89.0</td>\n",
       "      <td>y</td>\n",
       "    </tr>\n",
       "    <tr>\n",
       "      <th>3</th>\n",
       "      <td>kyle</td>\n",
       "      <td>80.0</td>\n",
       "      <td>y</td>\n",
       "    </tr>\n",
       "    <tr>\n",
       "      <th>4</th>\n",
       "      <td>spencer</td>\n",
       "      <td>87.0</td>\n",
       "      <td>n</td>\n",
       "    </tr>\n",
       "  </tbody>\n",
       "</table>\n",
       "</div>"
      ],
      "text/plain": [
       "      Name  Grade Hired\n",
       "0   kartik   79.0     y\n",
       "1    fahed   99.0     n\n",
       "2   zainub   89.0     y\n",
       "3     kyle   80.0     y\n",
       "4  spencer   87.0     n"
      ]
     },
     "execution_count": 36,
     "metadata": {},
     "output_type": "execute_result"
    }
   ],
   "source": [
    "#looking at the first rows of the dataframe (default value 5)\n",
    "df.head()"
   ]
  },
  {
   "cell_type": "code",
   "execution_count": 37,
   "metadata": {
    "colab": {
     "base_uri": "https://localhost:8080/",
     "height": 295
    },
    "executionInfo": {
     "elapsed": 1442,
     "status": "ok",
     "timestamp": 1600143236857,
     "user": {
      "displayName": "Sabyasachi Basu",
      "photoUrl": "https://lh3.googleusercontent.com/a-/AOh14Gin9ImPHXIS7jAscKOqdY17YZmmr148F_NJXYazIA=s64",
      "userId": "10825804676665851938"
     },
     "user_tz": 420
    },
    "id": "ynQtnSE4y-f_",
    "outputId": "480e8343-7616-435a-eff0-561d2068aff8"
   },
   "outputs": [
    {
     "data": {
      "text/html": [
       "<div>\n",
       "<style scoped>\n",
       "    .dataframe tbody tr th:only-of-type {\n",
       "        vertical-align: middle;\n",
       "    }\n",
       "\n",
       "    .dataframe tbody tr th {\n",
       "        vertical-align: top;\n",
       "    }\n",
       "\n",
       "    .dataframe thead th {\n",
       "        text-align: right;\n",
       "    }\n",
       "</style>\n",
       "<table border=\"1\" class=\"dataframe\">\n",
       "  <thead>\n",
       "    <tr style=\"text-align: right;\">\n",
       "      <th></th>\n",
       "      <th>Name</th>\n",
       "      <th>Grade</th>\n",
       "      <th>Hired</th>\n",
       "    </tr>\n",
       "  </thead>\n",
       "  <tbody>\n",
       "    <tr>\n",
       "      <th>0</th>\n",
       "      <td>False</td>\n",
       "      <td>False</td>\n",
       "      <td>False</td>\n",
       "    </tr>\n",
       "    <tr>\n",
       "      <th>1</th>\n",
       "      <td>False</td>\n",
       "      <td>False</td>\n",
       "      <td>False</td>\n",
       "    </tr>\n",
       "    <tr>\n",
       "      <th>2</th>\n",
       "      <td>False</td>\n",
       "      <td>False</td>\n",
       "      <td>False</td>\n",
       "    </tr>\n",
       "    <tr>\n",
       "      <th>3</th>\n",
       "      <td>False</td>\n",
       "      <td>False</td>\n",
       "      <td>False</td>\n",
       "    </tr>\n",
       "    <tr>\n",
       "      <th>4</th>\n",
       "      <td>False</td>\n",
       "      <td>False</td>\n",
       "      <td>False</td>\n",
       "    </tr>\n",
       "    <tr>\n",
       "      <th>5</th>\n",
       "      <td>False</td>\n",
       "      <td>False</td>\n",
       "      <td>False</td>\n",
       "    </tr>\n",
       "    <tr>\n",
       "      <th>6</th>\n",
       "      <td>False</td>\n",
       "      <td>False</td>\n",
       "      <td>False</td>\n",
       "    </tr>\n",
       "    <tr>\n",
       "      <th>7</th>\n",
       "      <td>False</td>\n",
       "      <td>True</td>\n",
       "      <td>False</td>\n",
       "    </tr>\n",
       "  </tbody>\n",
       "</table>\n",
       "</div>"
      ],
      "text/plain": [
       "    Name  Grade  Hired\n",
       "0  False  False  False\n",
       "1  False  False  False\n",
       "2  False  False  False\n",
       "3  False  False  False\n",
       "4  False  False  False\n",
       "5  False  False  False\n",
       "6  False  False  False\n",
       "7  False   True  False"
      ]
     },
     "execution_count": 37,
     "metadata": {},
     "output_type": "execute_result"
    }
   ],
   "source": [
    "#looking for missing values\n",
    "#returns a table with trues and falses for NaNs\n",
    "df.isnull()"
   ]
  },
  {
   "cell_type": "code",
   "execution_count": 38,
   "metadata": {
    "colab": {
     "base_uri": "https://localhost:8080/",
     "height": 87
    },
    "executionInfo": {
     "elapsed": 1422,
     "status": "ok",
     "timestamp": 1600143236858,
     "user": {
      "displayName": "Sabyasachi Basu",
      "photoUrl": "https://lh3.googleusercontent.com/a-/AOh14Gin9ImPHXIS7jAscKOqdY17YZmmr148F_NJXYazIA=s64",
      "userId": "10825804676665851938"
     },
     "user_tz": 420
    },
    "id": "WVpB3buLzeY2",
    "outputId": "292f0479-5152-4bdf-d8ef-cc6c1a4ac513"
   },
   "outputs": [
    {
     "data": {
      "text/plain": [
       "Name     0\n",
       "Grade    1\n",
       "Hired    0\n",
       "dtype: int64"
      ]
     },
     "execution_count": 38,
     "metadata": {},
     "output_type": "execute_result"
    }
   ],
   "source": [
    "#finding the total number of missing values\n",
    "df.isnull().sum()"
   ]
  },
  {
   "cell_type": "code",
   "execution_count": 39,
   "metadata": {
    "colab": {
     "base_uri": "https://localhost:8080/",
     "height": 52
    },
    "executionInfo": {
     "elapsed": 1406,
     "status": "ok",
     "timestamp": 1600143236860,
     "user": {
      "displayName": "Sabyasachi Basu",
      "photoUrl": "https://lh3.googleusercontent.com/a-/AOh14Gin9ImPHXIS7jAscKOqdY17YZmmr148F_NJXYazIA=s64",
      "userId": "10825804676665851938"
     },
     "user_tz": 420
    },
    "id": "udmzksUen16A",
    "outputId": "53905c2c-442c-4267-b185-a744dab50a4d"
   },
   "outputs": [
    {
     "name": "stdout",
     "output_type": "stream",
     "text": [
      "24\n",
      "(8, 3)\n"
     ]
    }
   ],
   "source": [
    "#getting the number of elements in a pandas dataframe\n",
    "print(df.size)\n",
    "#getting the dimensionality of a pandas dataframe\n",
    "print(df.shape)"
   ]
  },
  {
   "cell_type": "code",
   "execution_count": 40,
   "metadata": {
    "colab": {
     "base_uri": "https://localhost:8080/",
     "height": 326
    },
    "executionInfo": {
     "elapsed": 451,
     "status": "ok",
     "timestamp": 1600156695522,
     "user": {
      "displayName": "Sabyasachi Basu",
      "photoUrl": "https://lh3.googleusercontent.com/a-/AOh14Gin9ImPHXIS7jAscKOqdY17YZmmr148F_NJXYazIA=s64",
      "userId": "10825804676665851938"
     },
     "user_tz": 420
    },
    "id": "JdzRNuJUl7LV",
    "outputId": "c1257433-cb50-4e66-e183-cf079ad61f0a"
   },
   "outputs": [
    {
     "data": {
      "text/html": [
       "<div>\n",
       "<style scoped>\n",
       "    .dataframe tbody tr th:only-of-type {\n",
       "        vertical-align: middle;\n",
       "    }\n",
       "\n",
       "    .dataframe tbody tr th {\n",
       "        vertical-align: top;\n",
       "    }\n",
       "\n",
       "    .dataframe thead th {\n",
       "        text-align: right;\n",
       "    }\n",
       "</style>\n",
       "<table border=\"1\" class=\"dataframe\">\n",
       "  <thead>\n",
       "    <tr style=\"text-align: right;\">\n",
       "      <th></th>\n",
       "      <th>Name</th>\n",
       "    </tr>\n",
       "  </thead>\n",
       "  <tbody>\n",
       "    <tr>\n",
       "      <th>0</th>\n",
       "      <td>kartik</td>\n",
       "    </tr>\n",
       "    <tr>\n",
       "      <th>1</th>\n",
       "      <td>fahed</td>\n",
       "    </tr>\n",
       "    <tr>\n",
       "      <th>2</th>\n",
       "      <td>zainub</td>\n",
       "    </tr>\n",
       "    <tr>\n",
       "      <th>3</th>\n",
       "      <td>kyle</td>\n",
       "    </tr>\n",
       "    <tr>\n",
       "      <th>4</th>\n",
       "      <td>spencer</td>\n",
       "    </tr>\n",
       "    <tr>\n",
       "      <th>5</th>\n",
       "      <td>kaleen</td>\n",
       "    </tr>\n",
       "    <tr>\n",
       "      <th>6</th>\n",
       "      <td>andrew</td>\n",
       "    </tr>\n",
       "    <tr>\n",
       "      <th>7</th>\n",
       "      <td>lise</td>\n",
       "    </tr>\n",
       "  </tbody>\n",
       "</table>\n",
       "</div>"
      ],
      "text/plain": [
       "      Name\n",
       "0   kartik\n",
       "1    fahed\n",
       "2   zainub\n",
       "3     kyle\n",
       "4  spencer\n",
       "5   kaleen\n",
       "6   andrew\n",
       "7     lise"
      ]
     },
     "execution_count": 40,
     "metadata": {},
     "output_type": "execute_result"
    }
   ],
   "source": [
    "# Selecting columns\n",
    "df[['Name']]"
   ]
  },
  {
   "cell_type": "code",
   "execution_count": 41,
   "metadata": {
    "colab": {
     "base_uri": "https://localhost:8080/",
     "height": 35
    },
    "executionInfo": {
     "elapsed": 1374,
     "status": "ok",
     "timestamp": 1600143236862,
     "user": {
      "displayName": "Sabyasachi Basu",
      "photoUrl": "https://lh3.googleusercontent.com/a-/AOh14Gin9ImPHXIS7jAscKOqdY17YZmmr148F_NJXYazIA=s64",
      "userId": "10825804676665851938"
     },
     "user_tz": 420
    },
    "id": "MDR8gJzmc1my",
    "outputId": "56e40d5b-5e12-4990-8236-6fcd6abb25da"
   },
   "outputs": [
    {
     "data": {
      "text/plain": [
       "Index(['Name', 'Grade', 'Hired'], dtype='object')"
      ]
     },
     "execution_count": 41,
     "metadata": {},
     "output_type": "execute_result"
    }
   ],
   "source": [
    "#getting column names\n",
    "df.columns"
   ]
  },
  {
   "cell_type": "markdown",
   "metadata": {
    "id": "u62aYvUGpvBm"
   },
   "source": [
    "Selecting rows with .loc\n",
    "1.   Selecting rows by label/index\n",
    "2.   Selecting rows with a boolean / conditional lookup\n"
   ]
  },
  {
   "cell_type": "code",
   "execution_count": 42,
   "metadata": {
    "colab": {
     "base_uri": "https://localhost:8080/",
     "height": 233
    },
    "executionInfo": {
     "elapsed": 1360,
     "status": "ok",
     "timestamp": 1600143236863,
     "user": {
      "displayName": "Sabyasachi Basu",
      "photoUrl": "https://lh3.googleusercontent.com/a-/AOh14Gin9ImPHXIS7jAscKOqdY17YZmmr148F_NJXYazIA=s64",
      "userId": "10825804676665851938"
     },
     "user_tz": 420
    },
    "id": "wyDMmiaoqADj",
    "outputId": "3acbfb72-b123-43c9-be8e-4d0eaa3a551c"
   },
   "outputs": [
    {
     "data": {
      "text/html": [
       "<div>\n",
       "<style scoped>\n",
       "    .dataframe tbody tr th:only-of-type {\n",
       "        vertical-align: middle;\n",
       "    }\n",
       "\n",
       "    .dataframe tbody tr th {\n",
       "        vertical-align: top;\n",
       "    }\n",
       "\n",
       "    .dataframe thead th {\n",
       "        text-align: right;\n",
       "    }\n",
       "</style>\n",
       "<table border=\"1\" class=\"dataframe\">\n",
       "  <thead>\n",
       "    <tr style=\"text-align: right;\">\n",
       "      <th></th>\n",
       "      <th>Name</th>\n",
       "      <th>Hired</th>\n",
       "    </tr>\n",
       "    <tr>\n",
       "      <th>Grade</th>\n",
       "      <th></th>\n",
       "      <th></th>\n",
       "    </tr>\n",
       "  </thead>\n",
       "  <tbody>\n",
       "    <tr>\n",
       "      <th>79.0</th>\n",
       "      <td>kartik</td>\n",
       "      <td>y</td>\n",
       "    </tr>\n",
       "    <tr>\n",
       "      <th>99.0</th>\n",
       "      <td>fahed</td>\n",
       "      <td>n</td>\n",
       "    </tr>\n",
       "    <tr>\n",
       "      <th>89.0</th>\n",
       "      <td>zainub</td>\n",
       "      <td>y</td>\n",
       "    </tr>\n",
       "    <tr>\n",
       "      <th>80.0</th>\n",
       "      <td>kyle</td>\n",
       "      <td>y</td>\n",
       "    </tr>\n",
       "    <tr>\n",
       "      <th>87.0</th>\n",
       "      <td>spencer</td>\n",
       "      <td>n</td>\n",
       "    </tr>\n",
       "  </tbody>\n",
       "</table>\n",
       "</div>"
      ],
      "text/plain": [
       "          Name Hired\n",
       "Grade               \n",
       "79.0    kartik     y\n",
       "99.0     fahed     n\n",
       "89.0    zainub     y\n",
       "80.0      kyle     y\n",
       "87.0   spencer     n"
      ]
     },
     "execution_count": 42,
     "metadata": {},
     "output_type": "execute_result"
    }
   ],
   "source": [
    "#finding specific values by setting the index of a df to that column\n",
    "#lets find the score of 99\n",
    "copyDf = df.copy()\n",
    "df.set_index(\"Grade\", inplace=True)\n",
    "df.head()"
   ]
  },
  {
   "cell_type": "code",
   "execution_count": 43,
   "metadata": {
    "colab": {
     "base_uri": "https://localhost:8080/",
     "height": 70
    },
    "executionInfo": {
     "elapsed": 1331,
     "status": "ok",
     "timestamp": 1600143236864,
     "user": {
      "displayName": "Sabyasachi Basu",
      "photoUrl": "https://lh3.googleusercontent.com/a-/AOh14Gin9ImPHXIS7jAscKOqdY17YZmmr148F_NJXYazIA=s64",
      "userId": "10825804676665851938"
     },
     "user_tz": 420
    },
    "id": "E4n0kB7DmPCM",
    "outputId": "53c400f8-6c45-4535-9c86-4e2e1b54495e"
   },
   "outputs": [
    {
     "data": {
      "text/plain": [
       "Name     spencer\n",
       "Hired          n\n",
       "Name: 87.0, dtype: object"
      ]
     },
     "execution_count": 43,
     "metadata": {},
     "output_type": "execute_result"
    }
   ],
   "source": [
    "#selecting rows with .loc\n",
    "row = df.loc[87]\n",
    "row"
   ]
  },
  {
   "cell_type": "code",
   "execution_count": 44,
   "metadata": {
    "colab": {
     "base_uri": "https://localhost:8080/",
     "height": 70
    },
    "executionInfo": {
     "elapsed": 1312,
     "status": "ok",
     "timestamp": 1600143236865,
     "user": {
      "displayName": "Sabyasachi Basu",
      "photoUrl": "https://lh3.googleusercontent.com/a-/AOh14Gin9ImPHXIS7jAscKOqdY17YZmmr148F_NJXYazIA=s64",
      "userId": "10825804676665851938"
     },
     "user_tz": 420
    },
    "id": "NyZcKS18q8YV",
    "outputId": "2367cdc5-ea8c-4b93-8938-bc9376d1a9f1"
   },
   "outputs": [
    {
     "data": {
      "text/plain": [
       "Name     fahed\n",
       "Hired        n\n",
       "Name: 99.0, dtype: object"
      ]
     },
     "execution_count": 44,
     "metadata": {},
     "output_type": "execute_result"
    }
   ],
   "source": [
    "df.loc[99]\n",
    "#faheds the only person to score a 99"
   ]
  },
  {
   "cell_type": "markdown",
   "metadata": {
    "id": "cpfp9s79raR0"
   },
   "source": [
    "Changing the index values can be a quick fix but in practice it isn't very practical because everytime we have a new column, we would be changing our index column to that column value we desire. Alternatively we do the following."
   ]
  },
  {
   "cell_type": "code",
   "execution_count": 45,
   "metadata": {
    "colab": {
     "base_uri": "https://localhost:8080/",
     "height": 79
    },
    "executionInfo": {
     "elapsed": 1296,
     "status": "ok",
     "timestamp": 1600143236866,
     "user": {
      "displayName": "Sabyasachi Basu",
      "photoUrl": "https://lh3.googleusercontent.com/a-/AOh14Gin9ImPHXIS7jAscKOqdY17YZmmr148F_NJXYazIA=s64",
      "userId": "10825804676665851938"
     },
     "user_tz": 420
    },
    "id": "JISTbyuNrswY",
    "outputId": "a0031d72-1cc9-4f83-917e-a49302d2cd1e"
   },
   "outputs": [
    {
     "data": {
      "text/html": [
       "<div>\n",
       "<style scoped>\n",
       "    .dataframe tbody tr th:only-of-type {\n",
       "        vertical-align: middle;\n",
       "    }\n",
       "\n",
       "    .dataframe tbody tr th {\n",
       "        vertical-align: top;\n",
       "    }\n",
       "\n",
       "    .dataframe thead th {\n",
       "        text-align: right;\n",
       "    }\n",
       "</style>\n",
       "<table border=\"1\" class=\"dataframe\">\n",
       "  <thead>\n",
       "    <tr style=\"text-align: right;\">\n",
       "      <th></th>\n",
       "      <th>Name</th>\n",
       "      <th>Grade</th>\n",
       "      <th>Hired</th>\n",
       "    </tr>\n",
       "  </thead>\n",
       "  <tbody>\n",
       "    <tr>\n",
       "      <th>1</th>\n",
       "      <td>fahed</td>\n",
       "      <td>99.0</td>\n",
       "      <td>n</td>\n",
       "    </tr>\n",
       "  </tbody>\n",
       "</table>\n",
       "</div>"
      ],
      "text/plain": [
       "    Name  Grade Hired\n",
       "1  fahed   99.0     n"
      ]
     },
     "execution_count": 45,
     "metadata": {},
     "output_type": "execute_result"
    }
   ],
   "source": [
    "#our original df is now copyDf\n",
    "copyDf.loc[copyDf['Grade'] == 99]"
   ]
  },
  {
   "cell_type": "code",
   "execution_count": 46,
   "metadata": {
    "colab": {
     "base_uri": "https://localhost:8080/",
     "height": 141
    },
    "executionInfo": {
     "elapsed": 1790,
     "status": "ok",
     "timestamp": 1600143237378,
     "user": {
      "displayName": "Sabyasachi Basu",
      "photoUrl": "https://lh3.googleusercontent.com/a-/AOh14Gin9ImPHXIS7jAscKOqdY17YZmmr148F_NJXYazIA=s64",
      "userId": "10825804676665851938"
     },
     "user_tz": 420
    },
    "id": "ieBJcvEOsdf6",
    "outputId": "93e87840-c167-4b46-bb2d-9d18cd718240"
   },
   "outputs": [
    {
     "data": {
      "text/html": [
       "<div>\n",
       "<style scoped>\n",
       "    .dataframe tbody tr th:only-of-type {\n",
       "        vertical-align: middle;\n",
       "    }\n",
       "\n",
       "    .dataframe tbody tr th {\n",
       "        vertical-align: top;\n",
       "    }\n",
       "\n",
       "    .dataframe thead th {\n",
       "        text-align: right;\n",
       "    }\n",
       "</style>\n",
       "<table border=\"1\" class=\"dataframe\">\n",
       "  <thead>\n",
       "    <tr style=\"text-align: right;\">\n",
       "      <th></th>\n",
       "      <th>Name</th>\n",
       "      <th>Grade</th>\n",
       "      <th>Hired</th>\n",
       "    </tr>\n",
       "  </thead>\n",
       "  <tbody>\n",
       "    <tr>\n",
       "      <th>1</th>\n",
       "      <td>fahed</td>\n",
       "      <td>99.0</td>\n",
       "      <td>n</td>\n",
       "    </tr>\n",
       "    <tr>\n",
       "      <th>4</th>\n",
       "      <td>spencer</td>\n",
       "      <td>87.0</td>\n",
       "      <td>n</td>\n",
       "    </tr>\n",
       "    <tr>\n",
       "      <th>5</th>\n",
       "      <td>kaleen</td>\n",
       "      <td>90.0</td>\n",
       "      <td>n</td>\n",
       "    </tr>\n",
       "  </tbody>\n",
       "</table>\n",
       "</div>"
      ],
      "text/plain": [
       "      Name  Grade Hired\n",
       "1    fahed   99.0     n\n",
       "4  spencer   87.0     n\n",
       "5   kaleen   90.0     n"
      ]
     },
     "execution_count": 46,
     "metadata": {},
     "output_type": "execute_result"
    }
   ],
   "source": [
    "#searching for multiple values\n",
    "copyDf.loc[(copyDf['Grade'] > 85) & (copyDf['Hired'] == 'n')]"
   ]
  },
  {
   "cell_type": "code",
   "execution_count": 47,
   "metadata": {
    "colab": {
     "base_uri": "https://localhost:8080/",
     "height": 110
    },
    "executionInfo": {
     "elapsed": 1776,
     "status": "ok",
     "timestamp": 1600143237379,
     "user": {
      "displayName": "Sabyasachi Basu",
      "photoUrl": "https://lh3.googleusercontent.com/a-/AOh14Gin9ImPHXIS7jAscKOqdY17YZmmr148F_NJXYazIA=s64",
      "userId": "10825804676665851938"
     },
     "user_tz": 420
    },
    "id": "TOCRruECweK2",
    "outputId": "a2de3240-2ebf-4de7-c642-7e1851107c89"
   },
   "outputs": [
    {
     "data": {
      "text/html": [
       "<div>\n",
       "<style scoped>\n",
       "    .dataframe tbody tr th:only-of-type {\n",
       "        vertical-align: middle;\n",
       "    }\n",
       "\n",
       "    .dataframe tbody tr th {\n",
       "        vertical-align: top;\n",
       "    }\n",
       "\n",
       "    .dataframe thead th {\n",
       "        text-align: right;\n",
       "    }\n",
       "</style>\n",
       "<table border=\"1\" class=\"dataframe\">\n",
       "  <thead>\n",
       "    <tr style=\"text-align: right;\">\n",
       "      <th></th>\n",
       "      <th>Name</th>\n",
       "      <th>Grade</th>\n",
       "      <th>Hired</th>\n",
       "    </tr>\n",
       "  </thead>\n",
       "  <tbody>\n",
       "    <tr>\n",
       "      <th>3</th>\n",
       "      <td>kyle</td>\n",
       "      <td>80.0</td>\n",
       "      <td>y</td>\n",
       "    </tr>\n",
       "    <tr>\n",
       "      <th>6</th>\n",
       "      <td>andrew</td>\n",
       "      <td>81.0</td>\n",
       "      <td>y</td>\n",
       "    </tr>\n",
       "  </tbody>\n",
       "</table>\n",
       "</div>"
      ],
      "text/plain": [
       "     Name  Grade Hired\n",
       "3    kyle   80.0     y\n",
       "6  andrew   81.0     y"
      ]
     },
     "execution_count": 47,
     "metadata": {},
     "output_type": "execute_result"
    }
   ],
   "source": [
    "#searching for multiple values\n",
    "copyDf.loc[copyDf['Grade'].isin([80, 81, 82, 84])]"
   ]
  },
  {
   "cell_type": "markdown",
   "metadata": {
    "id": "8G97Yc82w6o6"
   },
   "source": [
    "Note, most of the values that are being returned are still in a panda format, so they can't be used for arithmetic operations yet. Additionally when we get to making models, they only input numerical values so the categorical data must be converted to numerical representations. There are various ways to do this so refer to this [link](https://https://towardsdatascience.com/all-about-categorical-variable-encoding-305f3361fd02) for more insights."
   ]
  },
  {
   "cell_type": "code",
   "execution_count": 48,
   "metadata": {
    "colab": {
     "base_uri": "https://localhost:8080/",
     "height": 52
    },
    "executionInfo": {
     "elapsed": 1763,
     "status": "ok",
     "timestamp": 1600143237381,
     "user": {
      "displayName": "Sabyasachi Basu",
      "photoUrl": "https://lh3.googleusercontent.com/a-/AOh14Gin9ImPHXIS7jAscKOqdY17YZmmr148F_NJXYazIA=s64",
      "userId": "10825804676665851938"
     },
     "user_tz": 420
    },
    "id": "4iBFhZutd_NJ",
    "outputId": "a33593b8-e3b9-404a-a3bb-89d554177db6"
   },
   "outputs": [
    {
     "name": "stdout",
     "output_type": "stream",
     "text": [
      "hired students:  4 \n",
      "non-hired students:  4\n"
     ]
    }
   ],
   "source": [
    "#finding how many people got hired would also be the same on copyDf\n",
    "hiredStud = df['Hired'].value_counts()[0]\n",
    "nonhiredStud = df['Hired'].value_counts()[1]\n",
    "print(\"hired students: \",hiredStud, \"\\nnon-hired students: \", nonhiredStud)"
   ]
  },
  {
   "cell_type": "markdown",
   "metadata": {
    "id": "-HUH6excl6CD"
   },
   "source": [
    "Selecting row with iloc\n",
    "\n",
    "\n",
    "1.   similar to numpy slicing\n",
    "\n"
   ]
  },
  {
   "cell_type": "code",
   "execution_count": 49,
   "metadata": {
    "colab": {
     "base_uri": "https://localhost:8080/",
     "height": 211
    },
    "executionInfo": {
     "elapsed": 1749,
     "status": "ok",
     "timestamp": 1600143237382,
     "user": {
      "displayName": "Sabyasachi Basu",
      "photoUrl": "https://lh3.googleusercontent.com/a-/AOh14Gin9ImPHXIS7jAscKOqdY17YZmmr148F_NJXYazIA=s64",
      "userId": "10825804676665851938"
     },
     "user_tz": 420
    },
    "id": "ODO4urRPmpjm",
    "outputId": "d35b249e-2a10-4847-f1d4-56063450e38a"
   },
   "outputs": [
    {
     "name": "stdout",
     "output_type": "stream",
     "text": [
      "Name     lise\n",
      "Hired       n\n",
      "Name: nan, dtype: object\n",
      "\n",
      "          Name Hired\n",
      "Grade               \n",
      "79.0    kartik     y\n",
      "99.0     fahed     n\n",
      "89.0    zainub     y\n",
      "80.0      kyle     y\n",
      "87.0   spencer     n\n"
     ]
    }
   ],
   "source": [
    "#selecting rows with .iloc\n",
    "row = df.iloc[-1]\n",
    "print(row)\n",
    "#selecting first 5 rows of data frame with all cols\n",
    "print()\n",
    "temp = df.iloc[:5, :]\n",
    "print(temp)\n"
   ]
  },
  {
   "cell_type": "markdown",
   "metadata": {
    "id": "69SaqOU0fKRB"
   },
   "source": [
    "Adding/Dropping Columns"
   ]
  },
  {
   "cell_type": "code",
   "execution_count": 50,
   "metadata": {
    "colab": {
     "base_uri": "https://localhost:8080/",
     "height": 295
    },
    "executionInfo": {
     "elapsed": 1737,
     "status": "ok",
     "timestamp": 1600143237384,
     "user": {
      "displayName": "Sabyasachi Basu",
      "photoUrl": "https://lh3.googleusercontent.com/a-/AOh14Gin9ImPHXIS7jAscKOqdY17YZmmr148F_NJXYazIA=s64",
      "userId": "10825804676665851938"
     },
     "user_tz": 420
    },
    "id": "VAptrnKFfOUS",
    "outputId": "d860fb0b-eb7c-48fe-af1e-1dde5a7a145b"
   },
   "outputs": [
    {
     "data": {
      "text/html": [
       "<div>\n",
       "<style scoped>\n",
       "    .dataframe tbody tr th:only-of-type {\n",
       "        vertical-align: middle;\n",
       "    }\n",
       "\n",
       "    .dataframe tbody tr th {\n",
       "        vertical-align: top;\n",
       "    }\n",
       "\n",
       "    .dataframe thead th {\n",
       "        text-align: right;\n",
       "    }\n",
       "</style>\n",
       "<table border=\"1\" class=\"dataframe\">\n",
       "  <thead>\n",
       "    <tr style=\"text-align: right;\">\n",
       "      <th></th>\n",
       "      <th>Name</th>\n",
       "      <th>Grade</th>\n",
       "      <th>Hired</th>\n",
       "      <th>LG</th>\n",
       "    </tr>\n",
       "  </thead>\n",
       "  <tbody>\n",
       "    <tr>\n",
       "      <th>0</th>\n",
       "      <td>kartik</td>\n",
       "      <td>79.0</td>\n",
       "      <td>y</td>\n",
       "      <td>C</td>\n",
       "    </tr>\n",
       "    <tr>\n",
       "      <th>1</th>\n",
       "      <td>fahed</td>\n",
       "      <td>99.0</td>\n",
       "      <td>n</td>\n",
       "      <td>A</td>\n",
       "    </tr>\n",
       "    <tr>\n",
       "      <th>2</th>\n",
       "      <td>zainub</td>\n",
       "      <td>89.0</td>\n",
       "      <td>y</td>\n",
       "      <td>B</td>\n",
       "    </tr>\n",
       "    <tr>\n",
       "      <th>3</th>\n",
       "      <td>kyle</td>\n",
       "      <td>80.0</td>\n",
       "      <td>y</td>\n",
       "      <td>B</td>\n",
       "    </tr>\n",
       "    <tr>\n",
       "      <th>4</th>\n",
       "      <td>spencer</td>\n",
       "      <td>87.0</td>\n",
       "      <td>n</td>\n",
       "      <td>B</td>\n",
       "    </tr>\n",
       "    <tr>\n",
       "      <th>5</th>\n",
       "      <td>kaleen</td>\n",
       "      <td>90.0</td>\n",
       "      <td>n</td>\n",
       "      <td>A</td>\n",
       "    </tr>\n",
       "    <tr>\n",
       "      <th>6</th>\n",
       "      <td>andrew</td>\n",
       "      <td>81.0</td>\n",
       "      <td>y</td>\n",
       "      <td>B</td>\n",
       "    </tr>\n",
       "    <tr>\n",
       "      <th>7</th>\n",
       "      <td>lise</td>\n",
       "      <td>NaN</td>\n",
       "      <td>n</td>\n",
       "      <td>Fail</td>\n",
       "    </tr>\n",
       "  </tbody>\n",
       "</table>\n",
       "</div>"
      ],
      "text/plain": [
       "      Name  Grade Hired    LG\n",
       "0   kartik   79.0     y     C\n",
       "1    fahed   99.0     n     A\n",
       "2   zainub   89.0     y     B\n",
       "3     kyle   80.0     y     B\n",
       "4  spencer   87.0     n     B\n",
       "5   kaleen   90.0     n     A\n",
       "6   andrew   81.0     y     B\n",
       "7     lise    NaN     n  Fail"
      ]
     },
     "execution_count": 50,
     "metadata": {},
     "output_type": "execute_result"
    }
   ],
   "source": [
    "#adding a column of equivalent letter grades to copyDf\n",
    "# A = 90-100, B = 80-89, C = 70-79, NaN = failed\n",
    "letterGrades = []\n",
    "for val in copyDf[\"Grade\"]:\n",
    "  if 90 <= val <=100:\n",
    "    letterGrades.append(\"A\")\n",
    "  elif 80 <= val <=89:\n",
    "    letterGrades.append(\"B\")\n",
    "  elif 70 <= val <=79:\n",
    "    letterGrades.append(\"C\")\n",
    "  elif np.isnan(val):\n",
    "    letterGrades.append(\"Fail\")\n",
    "letterGrades\n",
    "copyDf['LG'] = letterGrades\n",
    "copyDf\n",
    "\n",
    "\n"
   ]
  },
  {
   "cell_type": "code",
   "execution_count": 51,
   "metadata": {
    "colab": {
     "base_uri": "https://localhost:8080/",
     "height": 295
    },
    "executionInfo": {
     "elapsed": 1721,
     "status": "ok",
     "timestamp": 1600143237385,
     "user": {
      "displayName": "Sabyasachi Basu",
      "photoUrl": "https://lh3.googleusercontent.com/a-/AOh14Gin9ImPHXIS7jAscKOqdY17YZmmr148F_NJXYazIA=s64",
      "userId": "10825804676665851938"
     },
     "user_tz": 420
    },
    "id": "Z_44eohriSIo",
    "outputId": "12f9af83-47ef-4311-8d2d-d44993a5be07"
   },
   "outputs": [
    {
     "data": {
      "text/html": [
       "<div>\n",
       "<style scoped>\n",
       "    .dataframe tbody tr th:only-of-type {\n",
       "        vertical-align: middle;\n",
       "    }\n",
       "\n",
       "    .dataframe tbody tr th {\n",
       "        vertical-align: top;\n",
       "    }\n",
       "\n",
       "    .dataframe thead th {\n",
       "        text-align: right;\n",
       "    }\n",
       "</style>\n",
       "<table border=\"1\" class=\"dataframe\">\n",
       "  <thead>\n",
       "    <tr style=\"text-align: right;\">\n",
       "      <th></th>\n",
       "      <th>Name</th>\n",
       "      <th>Hired</th>\n",
       "      <th>LG</th>\n",
       "    </tr>\n",
       "  </thead>\n",
       "  <tbody>\n",
       "    <tr>\n",
       "      <th>0</th>\n",
       "      <td>kartik</td>\n",
       "      <td>y</td>\n",
       "      <td>C</td>\n",
       "    </tr>\n",
       "    <tr>\n",
       "      <th>1</th>\n",
       "      <td>fahed</td>\n",
       "      <td>n</td>\n",
       "      <td>A</td>\n",
       "    </tr>\n",
       "    <tr>\n",
       "      <th>2</th>\n",
       "      <td>zainub</td>\n",
       "      <td>y</td>\n",
       "      <td>B</td>\n",
       "    </tr>\n",
       "    <tr>\n",
       "      <th>3</th>\n",
       "      <td>kyle</td>\n",
       "      <td>y</td>\n",
       "      <td>B</td>\n",
       "    </tr>\n",
       "    <tr>\n",
       "      <th>4</th>\n",
       "      <td>spencer</td>\n",
       "      <td>n</td>\n",
       "      <td>B</td>\n",
       "    </tr>\n",
       "    <tr>\n",
       "      <th>5</th>\n",
       "      <td>kaleen</td>\n",
       "      <td>n</td>\n",
       "      <td>A</td>\n",
       "    </tr>\n",
       "    <tr>\n",
       "      <th>6</th>\n",
       "      <td>andrew</td>\n",
       "      <td>y</td>\n",
       "      <td>B</td>\n",
       "    </tr>\n",
       "    <tr>\n",
       "      <th>7</th>\n",
       "      <td>lise</td>\n",
       "      <td>n</td>\n",
       "      <td>Fail</td>\n",
       "    </tr>\n",
       "  </tbody>\n",
       "</table>\n",
       "</div>"
      ],
      "text/plain": [
       "      Name Hired    LG\n",
       "0   kartik     y     C\n",
       "1    fahed     n     A\n",
       "2   zainub     y     B\n",
       "3     kyle     y     B\n",
       "4  spencer     n     B\n",
       "5   kaleen     n     A\n",
       "6   andrew     y     B\n",
       "7     lise     n  Fail"
      ]
     },
     "execution_count": 51,
     "metadata": {},
     "output_type": "execute_result"
    }
   ],
   "source": [
    "#now lets drop the Grade column as the data is repetitive\n",
    "copyDf.drop(['Grade'], axis = 1, inplace = True)\n",
    "copyDf"
   ]
  },
  {
   "cell_type": "markdown",
   "metadata": {
    "id": "ffXM9opPjXAD"
   },
   "source": [
    "# Exercise with real data\n",
    "\n"
   ]
  },
  {
   "cell_type": "markdown",
   "metadata": {
    "id": "86MJ4lT_lZg5"
   },
   "source": [
    "* Import [**CAvideos.csv**](https://www.kaggle.com/datasnaek/youtube-new)\n",
    "  * If you are on Google Colaboratory, import the file using the left sidebar (under the colab logo).  \n",
    "> Files -> Upload to session storage\n",
    "\n",
    "  * If you are on another notebook program, just make sure the file is in the same directory as this notebook.\n",
    "\n",
    "\n",
    "\n",
    "\n",
    "\n",
    "\n",
    "\n",
    "\n",
    "\n",
    "\n"
   ]
  },
  {
   "cell_type": "markdown",
   "metadata": {
    "id": "Js36lNgZ1cir"
   },
   "source": [
    "Dataframe handling"
   ]
  },
  {
   "cell_type": "markdown",
   "metadata": {
    "id": "pniKArFHha4a"
   },
   "source": [
    "First we import Pandas to help use load our CSV file to a DataFrame object.  \n",
    "For more info, click here: https://pandas.pydata.org/pandas-docs/stable/reference/api/pandas.DataFrame.html\n"
   ]
  },
  {
   "cell_type": "code",
   "execution_count": 52,
   "metadata": {
    "colab": {
     "base_uri": "https://localhost:8080/",
     "height": 438
    },
    "executionInfo": {
     "elapsed": 1912,
     "status": "error",
     "timestamp": 1600143237592,
     "user": {
      "displayName": "Sabyasachi Basu",
      "photoUrl": "https://lh3.googleusercontent.com/a-/AOh14Gin9ImPHXIS7jAscKOqdY17YZmmr148F_NJXYazIA=s64",
      "userId": "10825804676665851938"
     },
     "user_tz": 420
    },
    "id": "vkD4ruIIjc8O",
    "outputId": "e1758da3-7564-44c3-bc15-6bc4a6eb45ef"
   },
   "outputs": [
    {
     "data": {
      "text/html": [
       "<div>\n",
       "<style scoped>\n",
       "    .dataframe tbody tr th:only-of-type {\n",
       "        vertical-align: middle;\n",
       "    }\n",
       "\n",
       "    .dataframe tbody tr th {\n",
       "        vertical-align: top;\n",
       "    }\n",
       "\n",
       "    .dataframe thead th {\n",
       "        text-align: right;\n",
       "    }\n",
       "</style>\n",
       "<table border=\"1\" class=\"dataframe\">\n",
       "  <thead>\n",
       "    <tr style=\"text-align: right;\">\n",
       "      <th></th>\n",
       "      <th>video_id</th>\n",
       "      <th>trending_date</th>\n",
       "      <th>title</th>\n",
       "      <th>channel_title</th>\n",
       "      <th>category_id</th>\n",
       "      <th>publish_time</th>\n",
       "      <th>tags</th>\n",
       "      <th>views</th>\n",
       "      <th>likes</th>\n",
       "      <th>dislikes</th>\n",
       "      <th>comment_count</th>\n",
       "      <th>thumbnail_link</th>\n",
       "      <th>comments_disabled</th>\n",
       "      <th>ratings_disabled</th>\n",
       "      <th>video_error_or_removed</th>\n",
       "      <th>description</th>\n",
       "    </tr>\n",
       "  </thead>\n",
       "  <tbody>\n",
       "    <tr>\n",
       "      <th>0</th>\n",
       "      <td>n1WpP7iowLc</td>\n",
       "      <td>17.14.11</td>\n",
       "      <td>Eminem - Walk On Water (Audio) ft. Beyoncé</td>\n",
       "      <td>EminemVEVO</td>\n",
       "      <td>10</td>\n",
       "      <td>2017-11-10T17:00:03.000Z</td>\n",
       "      <td>Eminem|\"Walk\"|\"On\"|\"Water\"|\"Aftermath/Shady/In...</td>\n",
       "      <td>17158579</td>\n",
       "      <td>787425</td>\n",
       "      <td>43420</td>\n",
       "      <td>125882</td>\n",
       "      <td>https://i.ytimg.com/vi/n1WpP7iowLc/default.jpg</td>\n",
       "      <td>False</td>\n",
       "      <td>False</td>\n",
       "      <td>False</td>\n",
       "      <td>Eminem's new track Walk on Water ft. Beyoncé i...</td>\n",
       "    </tr>\n",
       "    <tr>\n",
       "      <th>1</th>\n",
       "      <td>0dBIkQ4Mz1M</td>\n",
       "      <td>17.14.11</td>\n",
       "      <td>PLUSH - Bad Unboxing Fan Mail</td>\n",
       "      <td>iDubbbzTV</td>\n",
       "      <td>23</td>\n",
       "      <td>2017-11-13T17:00:00.000Z</td>\n",
       "      <td>plush|\"bad unboxing\"|\"unboxing\"|\"fan mail\"|\"id...</td>\n",
       "      <td>1014651</td>\n",
       "      <td>127794</td>\n",
       "      <td>1688</td>\n",
       "      <td>13030</td>\n",
       "      <td>https://i.ytimg.com/vi/0dBIkQ4Mz1M/default.jpg</td>\n",
       "      <td>False</td>\n",
       "      <td>False</td>\n",
       "      <td>False</td>\n",
       "      <td>STill got a lot of packages. Probably will las...</td>\n",
       "    </tr>\n",
       "    <tr>\n",
       "      <th>2</th>\n",
       "      <td>5qpjK5DgCt4</td>\n",
       "      <td>17.14.11</td>\n",
       "      <td>Racist Superman | Rudy Mancuso, King Bach &amp; Le...</td>\n",
       "      <td>Rudy Mancuso</td>\n",
       "      <td>23</td>\n",
       "      <td>2017-11-12T19:05:24.000Z</td>\n",
       "      <td>racist superman|\"rudy\"|\"mancuso\"|\"king\"|\"bach\"...</td>\n",
       "      <td>3191434</td>\n",
       "      <td>146035</td>\n",
       "      <td>5339</td>\n",
       "      <td>8181</td>\n",
       "      <td>https://i.ytimg.com/vi/5qpjK5DgCt4/default.jpg</td>\n",
       "      <td>False</td>\n",
       "      <td>False</td>\n",
       "      <td>False</td>\n",
       "      <td>WATCH MY PREVIOUS VIDEO ▶ \\n\\nSUBSCRIBE ► http...</td>\n",
       "    </tr>\n",
       "    <tr>\n",
       "      <th>3</th>\n",
       "      <td>d380meD0W0M</td>\n",
       "      <td>17.14.11</td>\n",
       "      <td>I Dare You: GOING BALD!?</td>\n",
       "      <td>nigahiga</td>\n",
       "      <td>24</td>\n",
       "      <td>2017-11-12T18:01:41.000Z</td>\n",
       "      <td>ryan|\"higa\"|\"higatv\"|\"nigahiga\"|\"i dare you\"|\"...</td>\n",
       "      <td>2095828</td>\n",
       "      <td>132239</td>\n",
       "      <td>1989</td>\n",
       "      <td>17518</td>\n",
       "      <td>https://i.ytimg.com/vi/d380meD0W0M/default.jpg</td>\n",
       "      <td>False</td>\n",
       "      <td>False</td>\n",
       "      <td>False</td>\n",
       "      <td>I know it's been a while since we did this sho...</td>\n",
       "    </tr>\n",
       "    <tr>\n",
       "      <th>4</th>\n",
       "      <td>2Vv-BfVoq4g</td>\n",
       "      <td>17.14.11</td>\n",
       "      <td>Ed Sheeran - Perfect (Official Music Video)</td>\n",
       "      <td>Ed Sheeran</td>\n",
       "      <td>10</td>\n",
       "      <td>2017-11-09T11:04:14.000Z</td>\n",
       "      <td>edsheeran|\"ed sheeran\"|\"acoustic\"|\"live\"|\"cove...</td>\n",
       "      <td>33523622</td>\n",
       "      <td>1634130</td>\n",
       "      <td>21082</td>\n",
       "      <td>85067</td>\n",
       "      <td>https://i.ytimg.com/vi/2Vv-BfVoq4g/default.jpg</td>\n",
       "      <td>False</td>\n",
       "      <td>False</td>\n",
       "      <td>False</td>\n",
       "      <td>🎧: https://ad.gt/yt-perfect\\n💰: https://atlant...</td>\n",
       "    </tr>\n",
       "  </tbody>\n",
       "</table>\n",
       "</div>"
      ],
      "text/plain": [
       "      video_id trending_date  \\\n",
       "0  n1WpP7iowLc      17.14.11   \n",
       "1  0dBIkQ4Mz1M      17.14.11   \n",
       "2  5qpjK5DgCt4      17.14.11   \n",
       "3  d380meD0W0M      17.14.11   \n",
       "4  2Vv-BfVoq4g      17.14.11   \n",
       "\n",
       "                                               title channel_title  \\\n",
       "0         Eminem - Walk On Water (Audio) ft. Beyoncé    EminemVEVO   \n",
       "1                      PLUSH - Bad Unboxing Fan Mail     iDubbbzTV   \n",
       "2  Racist Superman | Rudy Mancuso, King Bach & Le...  Rudy Mancuso   \n",
       "3                           I Dare You: GOING BALD!?      nigahiga   \n",
       "4        Ed Sheeran - Perfect (Official Music Video)    Ed Sheeran   \n",
       "\n",
       "   category_id              publish_time  \\\n",
       "0           10  2017-11-10T17:00:03.000Z   \n",
       "1           23  2017-11-13T17:00:00.000Z   \n",
       "2           23  2017-11-12T19:05:24.000Z   \n",
       "3           24  2017-11-12T18:01:41.000Z   \n",
       "4           10  2017-11-09T11:04:14.000Z   \n",
       "\n",
       "                                                tags     views    likes  \\\n",
       "0  Eminem|\"Walk\"|\"On\"|\"Water\"|\"Aftermath/Shady/In...  17158579   787425   \n",
       "1  plush|\"bad unboxing\"|\"unboxing\"|\"fan mail\"|\"id...   1014651   127794   \n",
       "2  racist superman|\"rudy\"|\"mancuso\"|\"king\"|\"bach\"...   3191434   146035   \n",
       "3  ryan|\"higa\"|\"higatv\"|\"nigahiga\"|\"i dare you\"|\"...   2095828   132239   \n",
       "4  edsheeran|\"ed sheeran\"|\"acoustic\"|\"live\"|\"cove...  33523622  1634130   \n",
       "\n",
       "   dislikes  comment_count                                  thumbnail_link  \\\n",
       "0     43420         125882  https://i.ytimg.com/vi/n1WpP7iowLc/default.jpg   \n",
       "1      1688          13030  https://i.ytimg.com/vi/0dBIkQ4Mz1M/default.jpg   \n",
       "2      5339           8181  https://i.ytimg.com/vi/5qpjK5DgCt4/default.jpg   \n",
       "3      1989          17518  https://i.ytimg.com/vi/d380meD0W0M/default.jpg   \n",
       "4     21082          85067  https://i.ytimg.com/vi/2Vv-BfVoq4g/default.jpg   \n",
       "\n",
       "   comments_disabled  ratings_disabled  video_error_or_removed  \\\n",
       "0              False             False                   False   \n",
       "1              False             False                   False   \n",
       "2              False             False                   False   \n",
       "3              False             False                   False   \n",
       "4              False             False                   False   \n",
       "\n",
       "                                         description  \n",
       "0  Eminem's new track Walk on Water ft. Beyoncé i...  \n",
       "1  STill got a lot of packages. Probably will las...  \n",
       "2  WATCH MY PREVIOUS VIDEO ▶ \\n\\nSUBSCRIBE ► http...  \n",
       "3  I know it's been a while since we did this sho...  \n",
       "4  🎧: https://ad.gt/yt-perfect\\n💰: https://atlant...  "
      ]
     },
     "execution_count": 52,
     "metadata": {},
     "output_type": "execute_result"
    }
   ],
   "source": [
    "# converts the CSV file to a dataframe object\n",
    "dataframe = pd.read_csv('CAvideos.csv') \n",
    "\n",
    "dataframe.head() # shows the first 5 rows of the df"
   ]
  },
  {
   "cell_type": "markdown",
   "metadata": {
    "id": "ZoR9kZbhvaJk"
   },
   "source": [
    "Here, we do some data cleaning.  We remove the first column \"video_id\", and store the new dataframe."
   ]
  },
  {
   "cell_type": "code",
   "execution_count": 53,
   "metadata": {
    "id": "XvUQTPrrutTh"
   },
   "outputs": [
    {
     "data": {
      "text/html": [
       "<div>\n",
       "<style scoped>\n",
       "    .dataframe tbody tr th:only-of-type {\n",
       "        vertical-align: middle;\n",
       "    }\n",
       "\n",
       "    .dataframe tbody tr th {\n",
       "        vertical-align: top;\n",
       "    }\n",
       "\n",
       "    .dataframe thead th {\n",
       "        text-align: right;\n",
       "    }\n",
       "</style>\n",
       "<table border=\"1\" class=\"dataframe\">\n",
       "  <thead>\n",
       "    <tr style=\"text-align: right;\">\n",
       "      <th></th>\n",
       "      <th>trending_date</th>\n",
       "      <th>title</th>\n",
       "      <th>channel_title</th>\n",
       "      <th>category_id</th>\n",
       "      <th>publish_time</th>\n",
       "      <th>tags</th>\n",
       "      <th>views</th>\n",
       "      <th>likes</th>\n",
       "      <th>dislikes</th>\n",
       "      <th>comment_count</th>\n",
       "      <th>thumbnail_link</th>\n",
       "      <th>comments_disabled</th>\n",
       "      <th>ratings_disabled</th>\n",
       "      <th>video_error_or_removed</th>\n",
       "      <th>description</th>\n",
       "    </tr>\n",
       "  </thead>\n",
       "  <tbody>\n",
       "    <tr>\n",
       "      <th>0</th>\n",
       "      <td>17.14.11</td>\n",
       "      <td>Eminem - Walk On Water (Audio) ft. Beyoncé</td>\n",
       "      <td>EminemVEVO</td>\n",
       "      <td>10</td>\n",
       "      <td>2017-11-10T17:00:03.000Z</td>\n",
       "      <td>Eminem|\"Walk\"|\"On\"|\"Water\"|\"Aftermath/Shady/In...</td>\n",
       "      <td>17158579</td>\n",
       "      <td>787425</td>\n",
       "      <td>43420</td>\n",
       "      <td>125882</td>\n",
       "      <td>https://i.ytimg.com/vi/n1WpP7iowLc/default.jpg</td>\n",
       "      <td>False</td>\n",
       "      <td>False</td>\n",
       "      <td>False</td>\n",
       "      <td>Eminem's new track Walk on Water ft. Beyoncé i...</td>\n",
       "    </tr>\n",
       "    <tr>\n",
       "      <th>1</th>\n",
       "      <td>17.14.11</td>\n",
       "      <td>PLUSH - Bad Unboxing Fan Mail</td>\n",
       "      <td>iDubbbzTV</td>\n",
       "      <td>23</td>\n",
       "      <td>2017-11-13T17:00:00.000Z</td>\n",
       "      <td>plush|\"bad unboxing\"|\"unboxing\"|\"fan mail\"|\"id...</td>\n",
       "      <td>1014651</td>\n",
       "      <td>127794</td>\n",
       "      <td>1688</td>\n",
       "      <td>13030</td>\n",
       "      <td>https://i.ytimg.com/vi/0dBIkQ4Mz1M/default.jpg</td>\n",
       "      <td>False</td>\n",
       "      <td>False</td>\n",
       "      <td>False</td>\n",
       "      <td>STill got a lot of packages. Probably will las...</td>\n",
       "    </tr>\n",
       "    <tr>\n",
       "      <th>2</th>\n",
       "      <td>17.14.11</td>\n",
       "      <td>Racist Superman | Rudy Mancuso, King Bach &amp; Le...</td>\n",
       "      <td>Rudy Mancuso</td>\n",
       "      <td>23</td>\n",
       "      <td>2017-11-12T19:05:24.000Z</td>\n",
       "      <td>racist superman|\"rudy\"|\"mancuso\"|\"king\"|\"bach\"...</td>\n",
       "      <td>3191434</td>\n",
       "      <td>146035</td>\n",
       "      <td>5339</td>\n",
       "      <td>8181</td>\n",
       "      <td>https://i.ytimg.com/vi/5qpjK5DgCt4/default.jpg</td>\n",
       "      <td>False</td>\n",
       "      <td>False</td>\n",
       "      <td>False</td>\n",
       "      <td>WATCH MY PREVIOUS VIDEO ▶ \\n\\nSUBSCRIBE ► http...</td>\n",
       "    </tr>\n",
       "    <tr>\n",
       "      <th>3</th>\n",
       "      <td>17.14.11</td>\n",
       "      <td>I Dare You: GOING BALD!?</td>\n",
       "      <td>nigahiga</td>\n",
       "      <td>24</td>\n",
       "      <td>2017-11-12T18:01:41.000Z</td>\n",
       "      <td>ryan|\"higa\"|\"higatv\"|\"nigahiga\"|\"i dare you\"|\"...</td>\n",
       "      <td>2095828</td>\n",
       "      <td>132239</td>\n",
       "      <td>1989</td>\n",
       "      <td>17518</td>\n",
       "      <td>https://i.ytimg.com/vi/d380meD0W0M/default.jpg</td>\n",
       "      <td>False</td>\n",
       "      <td>False</td>\n",
       "      <td>False</td>\n",
       "      <td>I know it's been a while since we did this sho...</td>\n",
       "    </tr>\n",
       "    <tr>\n",
       "      <th>4</th>\n",
       "      <td>17.14.11</td>\n",
       "      <td>Ed Sheeran - Perfect (Official Music Video)</td>\n",
       "      <td>Ed Sheeran</td>\n",
       "      <td>10</td>\n",
       "      <td>2017-11-09T11:04:14.000Z</td>\n",
       "      <td>edsheeran|\"ed sheeran\"|\"acoustic\"|\"live\"|\"cove...</td>\n",
       "      <td>33523622</td>\n",
       "      <td>1634130</td>\n",
       "      <td>21082</td>\n",
       "      <td>85067</td>\n",
       "      <td>https://i.ytimg.com/vi/2Vv-BfVoq4g/default.jpg</td>\n",
       "      <td>False</td>\n",
       "      <td>False</td>\n",
       "      <td>False</td>\n",
       "      <td>🎧: https://ad.gt/yt-perfect\\n💰: https://atlant...</td>\n",
       "    </tr>\n",
       "  </tbody>\n",
       "</table>\n",
       "</div>"
      ],
      "text/plain": [
       "  trending_date                                              title  \\\n",
       "0      17.14.11         Eminem - Walk On Water (Audio) ft. Beyoncé   \n",
       "1      17.14.11                      PLUSH - Bad Unboxing Fan Mail   \n",
       "2      17.14.11  Racist Superman | Rudy Mancuso, King Bach & Le...   \n",
       "3      17.14.11                           I Dare You: GOING BALD!?   \n",
       "4      17.14.11        Ed Sheeran - Perfect (Official Music Video)   \n",
       "\n",
       "  channel_title  category_id              publish_time  \\\n",
       "0    EminemVEVO           10  2017-11-10T17:00:03.000Z   \n",
       "1     iDubbbzTV           23  2017-11-13T17:00:00.000Z   \n",
       "2  Rudy Mancuso           23  2017-11-12T19:05:24.000Z   \n",
       "3      nigahiga           24  2017-11-12T18:01:41.000Z   \n",
       "4    Ed Sheeran           10  2017-11-09T11:04:14.000Z   \n",
       "\n",
       "                                                tags     views    likes  \\\n",
       "0  Eminem|\"Walk\"|\"On\"|\"Water\"|\"Aftermath/Shady/In...  17158579   787425   \n",
       "1  plush|\"bad unboxing\"|\"unboxing\"|\"fan mail\"|\"id...   1014651   127794   \n",
       "2  racist superman|\"rudy\"|\"mancuso\"|\"king\"|\"bach\"...   3191434   146035   \n",
       "3  ryan|\"higa\"|\"higatv\"|\"nigahiga\"|\"i dare you\"|\"...   2095828   132239   \n",
       "4  edsheeran|\"ed sheeran\"|\"acoustic\"|\"live\"|\"cove...  33523622  1634130   \n",
       "\n",
       "   dislikes  comment_count                                  thumbnail_link  \\\n",
       "0     43420         125882  https://i.ytimg.com/vi/n1WpP7iowLc/default.jpg   \n",
       "1      1688          13030  https://i.ytimg.com/vi/0dBIkQ4Mz1M/default.jpg   \n",
       "2      5339           8181  https://i.ytimg.com/vi/5qpjK5DgCt4/default.jpg   \n",
       "3      1989          17518  https://i.ytimg.com/vi/d380meD0W0M/default.jpg   \n",
       "4     21082          85067  https://i.ytimg.com/vi/2Vv-BfVoq4g/default.jpg   \n",
       "\n",
       "   comments_disabled  ratings_disabled  video_error_or_removed  \\\n",
       "0              False             False                   False   \n",
       "1              False             False                   False   \n",
       "2              False             False                   False   \n",
       "3              False             False                   False   \n",
       "4              False             False                   False   \n",
       "\n",
       "                                         description  \n",
       "0  Eminem's new track Walk on Water ft. Beyoncé i...  \n",
       "1  STill got a lot of packages. Probably will las...  \n",
       "2  WATCH MY PREVIOUS VIDEO ▶ \\n\\nSUBSCRIBE ► http...  \n",
       "3  I know it's been a while since we did this sho...  \n",
       "4  🎧: https://ad.gt/yt-perfect\\n💰: https://atlant...  "
      ]
     },
     "execution_count": 53,
     "metadata": {},
     "output_type": "execute_result"
    }
   ],
   "source": [
    "trimmed_dataframe = dataframe.drop(columns=['video_id'])\n",
    "trimmed_dataframe.head()\n",
    "\n",
    "\n",
    "# Be careful if you use the same object. Example:\n",
    "# dataframe = dataframe.drop(columns=['id'])\n",
    "# if you use the above line, then the cell can only be run once (due to itempotency)\n",
    "# You can do dataframe.drop(columns=['video_id'], inplace=True) to avoid making a\n",
    "# new copy"
   ]
  },
  {
   "cell_type": "markdown",
   "metadata": {
    "id": "1jB6Stv6mZfK"
   },
   "source": [
    "The following prints out the column values (some of these are useful features)!  "
   ]
  },
  {
   "cell_type": "code",
   "execution_count": 54,
   "metadata": {
    "id": "n3FbBgpPq8qC"
   },
   "outputs": [
    {
     "data": {
      "text/plain": [
       "['trending_date',\n",
       " 'title',\n",
       " 'channel_title',\n",
       " 'category_id',\n",
       " 'publish_time',\n",
       " 'tags',\n",
       " 'views',\n",
       " 'likes',\n",
       " 'dislikes',\n",
       " 'comment_count',\n",
       " 'thumbnail_link',\n",
       " 'comments_disabled',\n",
       " 'ratings_disabled',\n",
       " 'video_error_or_removed',\n",
       " 'description']"
      ]
     },
     "execution_count": 54,
     "metadata": {},
     "output_type": "execute_result"
    }
   ],
   "source": [
    "trimmed_dataframe.columns.values.tolist()"
   ]
  },
  {
   "cell_type": "markdown",
   "metadata": {
    "id": "V5l9Swnw2lcE"
   },
   "source": [
    "QUESTION:\n",
    "\n",
    "Check for missing values as they will prevent us from using our values in our model/any other calculations we may perform\n",
    "\n",
    "1.   Find any missing values if they exist (2.5 points)\n",
    "2.   Drop the missing values rows if they exist without creating a new dataset (2.5 points)\n",
    "\n",
    "HINT: https://www.journaldev.com/33492/pandas-dropna-drop-null-na-values-from-dataframe\n",
    "\n",
    "\n",
    "\n",
    "\n",
    "\n"
   ]
  },
  {
   "cell_type": "code",
   "execution_count": 55,
   "metadata": {
    "id": "c9H_la-55HUW"
   },
   "outputs": [
    {
     "data": {
      "text/plain": [
       "trending_date                0\n",
       "title                        0\n",
       "channel_title                0\n",
       "category_id                  0\n",
       "publish_time                 0\n",
       "tags                         0\n",
       "views                        0\n",
       "likes                        0\n",
       "dislikes                     0\n",
       "comment_count                0\n",
       "thumbnail_link               0\n",
       "comments_disabled            0\n",
       "ratings_disabled             0\n",
       "video_error_or_removed       0\n",
       "description               1296\n",
       "dtype: int64"
      ]
     },
     "execution_count": 55,
     "metadata": {},
     "output_type": "execute_result"
    }
   ],
   "source": [
    "trimmed_dataframe.isnull().sum()\n"
   ]
  },
  {
   "cell_type": "code",
   "execution_count": 56,
   "metadata": {
    "id": "ywFwnrKf20Xq"
   },
   "outputs": [
    {
     "data": {
      "text/html": [
       "<div>\n",
       "<style scoped>\n",
       "    .dataframe tbody tr th:only-of-type {\n",
       "        vertical-align: middle;\n",
       "    }\n",
       "\n",
       "    .dataframe tbody tr th {\n",
       "        vertical-align: top;\n",
       "    }\n",
       "\n",
       "    .dataframe thead th {\n",
       "        text-align: right;\n",
       "    }\n",
       "</style>\n",
       "<table border=\"1\" class=\"dataframe\">\n",
       "  <thead>\n",
       "    <tr style=\"text-align: right;\">\n",
       "      <th></th>\n",
       "      <th>trending_date</th>\n",
       "      <th>title</th>\n",
       "      <th>channel_title</th>\n",
       "      <th>category_id</th>\n",
       "      <th>publish_time</th>\n",
       "      <th>tags</th>\n",
       "      <th>views</th>\n",
       "      <th>likes</th>\n",
       "      <th>dislikes</th>\n",
       "      <th>comment_count</th>\n",
       "      <th>thumbnail_link</th>\n",
       "      <th>comments_disabled</th>\n",
       "      <th>ratings_disabled</th>\n",
       "      <th>video_error_or_removed</th>\n",
       "    </tr>\n",
       "  </thead>\n",
       "  <tbody>\n",
       "    <tr>\n",
       "      <th>0</th>\n",
       "      <td>17.14.11</td>\n",
       "      <td>Eminem - Walk On Water (Audio) ft. Beyoncé</td>\n",
       "      <td>EminemVEVO</td>\n",
       "      <td>10</td>\n",
       "      <td>2017-11-10T17:00:03.000Z</td>\n",
       "      <td>Eminem|\"Walk\"|\"On\"|\"Water\"|\"Aftermath/Shady/In...</td>\n",
       "      <td>17158579</td>\n",
       "      <td>787425</td>\n",
       "      <td>43420</td>\n",
       "      <td>125882</td>\n",
       "      <td>https://i.ytimg.com/vi/n1WpP7iowLc/default.jpg</td>\n",
       "      <td>False</td>\n",
       "      <td>False</td>\n",
       "      <td>False</td>\n",
       "    </tr>\n",
       "    <tr>\n",
       "      <th>1</th>\n",
       "      <td>17.14.11</td>\n",
       "      <td>PLUSH - Bad Unboxing Fan Mail</td>\n",
       "      <td>iDubbbzTV</td>\n",
       "      <td>23</td>\n",
       "      <td>2017-11-13T17:00:00.000Z</td>\n",
       "      <td>plush|\"bad unboxing\"|\"unboxing\"|\"fan mail\"|\"id...</td>\n",
       "      <td>1014651</td>\n",
       "      <td>127794</td>\n",
       "      <td>1688</td>\n",
       "      <td>13030</td>\n",
       "      <td>https://i.ytimg.com/vi/0dBIkQ4Mz1M/default.jpg</td>\n",
       "      <td>False</td>\n",
       "      <td>False</td>\n",
       "      <td>False</td>\n",
       "    </tr>\n",
       "    <tr>\n",
       "      <th>2</th>\n",
       "      <td>17.14.11</td>\n",
       "      <td>Racist Superman | Rudy Mancuso, King Bach &amp; Le...</td>\n",
       "      <td>Rudy Mancuso</td>\n",
       "      <td>23</td>\n",
       "      <td>2017-11-12T19:05:24.000Z</td>\n",
       "      <td>racist superman|\"rudy\"|\"mancuso\"|\"king\"|\"bach\"...</td>\n",
       "      <td>3191434</td>\n",
       "      <td>146035</td>\n",
       "      <td>5339</td>\n",
       "      <td>8181</td>\n",
       "      <td>https://i.ytimg.com/vi/5qpjK5DgCt4/default.jpg</td>\n",
       "      <td>False</td>\n",
       "      <td>False</td>\n",
       "      <td>False</td>\n",
       "    </tr>\n",
       "    <tr>\n",
       "      <th>3</th>\n",
       "      <td>17.14.11</td>\n",
       "      <td>I Dare You: GOING BALD!?</td>\n",
       "      <td>nigahiga</td>\n",
       "      <td>24</td>\n",
       "      <td>2017-11-12T18:01:41.000Z</td>\n",
       "      <td>ryan|\"higa\"|\"higatv\"|\"nigahiga\"|\"i dare you\"|\"...</td>\n",
       "      <td>2095828</td>\n",
       "      <td>132239</td>\n",
       "      <td>1989</td>\n",
       "      <td>17518</td>\n",
       "      <td>https://i.ytimg.com/vi/d380meD0W0M/default.jpg</td>\n",
       "      <td>False</td>\n",
       "      <td>False</td>\n",
       "      <td>False</td>\n",
       "    </tr>\n",
       "    <tr>\n",
       "      <th>4</th>\n",
       "      <td>17.14.11</td>\n",
       "      <td>Ed Sheeran - Perfect (Official Music Video)</td>\n",
       "      <td>Ed Sheeran</td>\n",
       "      <td>10</td>\n",
       "      <td>2017-11-09T11:04:14.000Z</td>\n",
       "      <td>edsheeran|\"ed sheeran\"|\"acoustic\"|\"live\"|\"cove...</td>\n",
       "      <td>33523622</td>\n",
       "      <td>1634130</td>\n",
       "      <td>21082</td>\n",
       "      <td>85067</td>\n",
       "      <td>https://i.ytimg.com/vi/2Vv-BfVoq4g/default.jpg</td>\n",
       "      <td>False</td>\n",
       "      <td>False</td>\n",
       "      <td>False</td>\n",
       "    </tr>\n",
       "    <tr>\n",
       "      <th>...</th>\n",
       "      <td>...</td>\n",
       "      <td>...</td>\n",
       "      <td>...</td>\n",
       "      <td>...</td>\n",
       "      <td>...</td>\n",
       "      <td>...</td>\n",
       "      <td>...</td>\n",
       "      <td>...</td>\n",
       "      <td>...</td>\n",
       "      <td>...</td>\n",
       "      <td>...</td>\n",
       "      <td>...</td>\n",
       "      <td>...</td>\n",
       "      <td>...</td>\n",
       "    </tr>\n",
       "    <tr>\n",
       "      <th>40876</th>\n",
       "      <td>18.14.06</td>\n",
       "      <td>HOW2: How to Solve a Mystery</td>\n",
       "      <td>Annoying Orange</td>\n",
       "      <td>24</td>\n",
       "      <td>2018-06-13T18:00:07.000Z</td>\n",
       "      <td>annoying orange|\"funny\"|\"fruit\"|\"talking\"|\"ani...</td>\n",
       "      <td>80685</td>\n",
       "      <td>1701</td>\n",
       "      <td>99</td>\n",
       "      <td>1312</td>\n",
       "      <td>https://i.ytimg.com/vi/sGolxsMSGfQ/default.jpg</td>\n",
       "      <td>False</td>\n",
       "      <td>False</td>\n",
       "      <td>False</td>\n",
       "    </tr>\n",
       "    <tr>\n",
       "      <th>40877</th>\n",
       "      <td>18.14.06</td>\n",
       "      <td>Eli Lik Lik Episode 13 Partie 01</td>\n",
       "      <td>Elhiwar Ettounsi</td>\n",
       "      <td>24</td>\n",
       "      <td>2018-06-13T19:01:18.000Z</td>\n",
       "      <td>hkayet tounsia|\"elhiwar ettounsi\"|\"denya okhra...</td>\n",
       "      <td>103339</td>\n",
       "      <td>460</td>\n",
       "      <td>66</td>\n",
       "      <td>51</td>\n",
       "      <td>https://i.ytimg.com/vi/8HNuRNi8t70/default.jpg</td>\n",
       "      <td>False</td>\n",
       "      <td>False</td>\n",
       "      <td>False</td>\n",
       "    </tr>\n",
       "    <tr>\n",
       "      <th>40878</th>\n",
       "      <td>18.14.06</td>\n",
       "      <td>KINGDOM HEARTS III – SQUARE ENIX E3 SHOWCASE 2...</td>\n",
       "      <td>Kingdom Hearts</td>\n",
       "      <td>20</td>\n",
       "      <td>2018-06-11T17:30:53.000Z</td>\n",
       "      <td>Kingdom Hearts|\"KH3\"|\"Kingdom Hearts 3\"|\"Froze...</td>\n",
       "      <td>773347</td>\n",
       "      <td>25900</td>\n",
       "      <td>224</td>\n",
       "      <td>3881</td>\n",
       "      <td>https://i.ytimg.com/vi/GWlKEM3m2EE/default.jpg</td>\n",
       "      <td>False</td>\n",
       "      <td>False</td>\n",
       "      <td>False</td>\n",
       "    </tr>\n",
       "    <tr>\n",
       "      <th>40879</th>\n",
       "      <td>18.14.06</td>\n",
       "      <td>Trump Advisor Grovels To Trudeau</td>\n",
       "      <td>The Young Turks</td>\n",
       "      <td>25</td>\n",
       "      <td>2018-06-13T04:00:05.000Z</td>\n",
       "      <td>180612__TB02SorryExcuse|\"News\"|\"Politics\"|\"The...</td>\n",
       "      <td>115225</td>\n",
       "      <td>2115</td>\n",
       "      <td>182</td>\n",
       "      <td>1672</td>\n",
       "      <td>https://i.ytimg.com/vi/lbMKLzQ4cNQ/default.jpg</td>\n",
       "      <td>False</td>\n",
       "      <td>False</td>\n",
       "      <td>False</td>\n",
       "    </tr>\n",
       "    <tr>\n",
       "      <th>40880</th>\n",
       "      <td>18.14.06</td>\n",
       "      <td>【完整版】遇到恐怖情人該怎麼辦？2018.06.13小明星大跟班</td>\n",
       "      <td>我愛小明星大跟班</td>\n",
       "      <td>24</td>\n",
       "      <td>2018-06-13T16:00:03.000Z</td>\n",
       "      <td>吳宗憲|\"吳姍儒\"|\"小明星大跟班\"|\"Sandy\"|\"Jacky wu\"|\"憲哥\"|\"中天...</td>\n",
       "      <td>107392</td>\n",
       "      <td>300</td>\n",
       "      <td>62</td>\n",
       "      <td>251</td>\n",
       "      <td>https://i.ytimg.com/vi/POTgw38-m58/default.jpg</td>\n",
       "      <td>False</td>\n",
       "      <td>False</td>\n",
       "      <td>False</td>\n",
       "    </tr>\n",
       "  </tbody>\n",
       "</table>\n",
       "<p>40881 rows × 14 columns</p>\n",
       "</div>"
      ],
      "text/plain": [
       "      trending_date                                              title  \\\n",
       "0          17.14.11         Eminem - Walk On Water (Audio) ft. Beyoncé   \n",
       "1          17.14.11                      PLUSH - Bad Unboxing Fan Mail   \n",
       "2          17.14.11  Racist Superman | Rudy Mancuso, King Bach & Le...   \n",
       "3          17.14.11                           I Dare You: GOING BALD!?   \n",
       "4          17.14.11        Ed Sheeran - Perfect (Official Music Video)   \n",
       "...             ...                                                ...   \n",
       "40876      18.14.06                       HOW2: How to Solve a Mystery   \n",
       "40877      18.14.06                   Eli Lik Lik Episode 13 Partie 01   \n",
       "40878      18.14.06  KINGDOM HEARTS III – SQUARE ENIX E3 SHOWCASE 2...   \n",
       "40879      18.14.06                   Trump Advisor Grovels To Trudeau   \n",
       "40880      18.14.06                   【完整版】遇到恐怖情人該怎麼辦？2018.06.13小明星大跟班   \n",
       "\n",
       "          channel_title  category_id              publish_time  \\\n",
       "0            EminemVEVO           10  2017-11-10T17:00:03.000Z   \n",
       "1             iDubbbzTV           23  2017-11-13T17:00:00.000Z   \n",
       "2          Rudy Mancuso           23  2017-11-12T19:05:24.000Z   \n",
       "3              nigahiga           24  2017-11-12T18:01:41.000Z   \n",
       "4            Ed Sheeran           10  2017-11-09T11:04:14.000Z   \n",
       "...                 ...          ...                       ...   \n",
       "40876   Annoying Orange           24  2018-06-13T18:00:07.000Z   \n",
       "40877  Elhiwar Ettounsi           24  2018-06-13T19:01:18.000Z   \n",
       "40878    Kingdom Hearts           20  2018-06-11T17:30:53.000Z   \n",
       "40879   The Young Turks           25  2018-06-13T04:00:05.000Z   \n",
       "40880          我愛小明星大跟班           24  2018-06-13T16:00:03.000Z   \n",
       "\n",
       "                                                    tags     views    likes  \\\n",
       "0      Eminem|\"Walk\"|\"On\"|\"Water\"|\"Aftermath/Shady/In...  17158579   787425   \n",
       "1      plush|\"bad unboxing\"|\"unboxing\"|\"fan mail\"|\"id...   1014651   127794   \n",
       "2      racist superman|\"rudy\"|\"mancuso\"|\"king\"|\"bach\"...   3191434   146035   \n",
       "3      ryan|\"higa\"|\"higatv\"|\"nigahiga\"|\"i dare you\"|\"...   2095828   132239   \n",
       "4      edsheeran|\"ed sheeran\"|\"acoustic\"|\"live\"|\"cove...  33523622  1634130   \n",
       "...                                                  ...       ...      ...   \n",
       "40876  annoying orange|\"funny\"|\"fruit\"|\"talking\"|\"ani...     80685     1701   \n",
       "40877  hkayet tounsia|\"elhiwar ettounsi\"|\"denya okhra...    103339      460   \n",
       "40878  Kingdom Hearts|\"KH3\"|\"Kingdom Hearts 3\"|\"Froze...    773347    25900   \n",
       "40879  180612__TB02SorryExcuse|\"News\"|\"Politics\"|\"The...    115225     2115   \n",
       "40880  吳宗憲|\"吳姍儒\"|\"小明星大跟班\"|\"Sandy\"|\"Jacky wu\"|\"憲哥\"|\"中天...    107392      300   \n",
       "\n",
       "       dislikes  comment_count  \\\n",
       "0         43420         125882   \n",
       "1          1688          13030   \n",
       "2          5339           8181   \n",
       "3          1989          17518   \n",
       "4         21082          85067   \n",
       "...         ...            ...   \n",
       "40876        99           1312   \n",
       "40877        66             51   \n",
       "40878       224           3881   \n",
       "40879       182           1672   \n",
       "40880        62            251   \n",
       "\n",
       "                                       thumbnail_link  comments_disabled  \\\n",
       "0      https://i.ytimg.com/vi/n1WpP7iowLc/default.jpg              False   \n",
       "1      https://i.ytimg.com/vi/0dBIkQ4Mz1M/default.jpg              False   \n",
       "2      https://i.ytimg.com/vi/5qpjK5DgCt4/default.jpg              False   \n",
       "3      https://i.ytimg.com/vi/d380meD0W0M/default.jpg              False   \n",
       "4      https://i.ytimg.com/vi/2Vv-BfVoq4g/default.jpg              False   \n",
       "...                                               ...                ...   \n",
       "40876  https://i.ytimg.com/vi/sGolxsMSGfQ/default.jpg              False   \n",
       "40877  https://i.ytimg.com/vi/8HNuRNi8t70/default.jpg              False   \n",
       "40878  https://i.ytimg.com/vi/GWlKEM3m2EE/default.jpg              False   \n",
       "40879  https://i.ytimg.com/vi/lbMKLzQ4cNQ/default.jpg              False   \n",
       "40880  https://i.ytimg.com/vi/POTgw38-m58/default.jpg              False   \n",
       "\n",
       "       ratings_disabled  video_error_or_removed  \n",
       "0                 False                   False  \n",
       "1                 False                   False  \n",
       "2                 False                   False  \n",
       "3                 False                   False  \n",
       "4                 False                   False  \n",
       "...                 ...                     ...  \n",
       "40876             False                   False  \n",
       "40877             False                   False  \n",
       "40878             False                   False  \n",
       "40879             False                   False  \n",
       "40880             False                   False  \n",
       "\n",
       "[40881 rows x 14 columns]"
      ]
     },
     "execution_count": 56,
     "metadata": {},
     "output_type": "execute_result"
    }
   ],
   "source": [
    "trimmed_dataframe.drop(['description'], axis = 1, inplace = True)\n",
    "trimmed_dataframe"
   ]
  },
  {
   "cell_type": "markdown",
   "metadata": {
    "id": "sXp0TlHWoCt1"
   },
   "source": [
    "We can use these to pull out certain columns.  \n",
    "For example, here are the names of the titles."
   ]
  },
  {
   "cell_type": "code",
   "execution_count": 57,
   "metadata": {
    "id": "nB_0dWW-1g2i"
   },
   "outputs": [
    {
     "data": {
      "text/plain": [
       "['Eminem - Walk On Water (Audio) ft. Beyoncé',\n",
       " 'PLUSH - Bad Unboxing Fan Mail',\n",
       " 'Racist Superman | Rudy Mancuso, King Bach & Lele Pons',\n",
       " 'I Dare You: GOING BALD!?',\n",
       " 'Ed Sheeran - Perfect (Official Music Video)',\n",
       " 'Jake Paul Says Alissa Violet CHEATED with LOGAN PAUL! #DramaAlert Team 10 vs  Martinez Twins!',\n",
       " 'Vanoss Superhero School - New Students',\n",
       " 'WE WANT TO TALK ABOUT OUR MARRIAGE',\n",
       " 'THE LOGANG MADE HISTORY. LOL. AGAIN.',\n",
       " 'Finally Sheldon is winning an argument about the existence of God',\n",
       " '21 Savage - Bank Account (Official Music Video)',\n",
       " '12 Weird Ways To Sneak Food Into Class / Back To School Pranks',\n",
       " '猎场 | Game Of Hunting 12【TV版】（胡歌、張嘉譯、祖峰等主演）',\n",
       " 'Daang ( Full Video ) | Mankirt Aulakh | Sukh Sanghera | Latest Punjabi Song 2017 | Speed Records',\n",
       " 'YOUTUBERS REACT TO TOP 10 TWITTER ACCOUNTS OF ALL TIME',\n",
       " 'I Hired An MI6 Spy To Help Me Disappear',\n",
       " 'Fake Pet Smart Employee Prank!',\n",
       " 'Jason Momoa Wows Hugh Grant With Some Dothraki | The Graham Norton Show',\n",
       " 'Rooster Teeth Animated Adventures - Drunk Baby Sitting',\n",
       " 'Sharry Mann: Cute Munda ( Song Teaser) | Parmish Verma | Releasing on 17 November',\n",
       " '5 Ice Cream Gadgets put to the Test',\n",
       " 'Nickelback Lyrics: Real or Fake?',\n",
       " 'Smart Girl Shows How to Build Candy Dispenser',\n",
       " 'Jake Paul - Saturday Night (Song) feat. Nick Crompton & Chad Tepper (Official Music Video)',\n",
       " 'DO COLLEGE KIDS KNOW 80s MUSIC? #8 (REACT: Do They Know It?)',\n",
       " 'WRESTLING NIGAHIGA!!! (WILD CARD)',\n",
       " 'Throwing Things Into A Fan!',\n",
       " '10 FILMS que LES PARENTS CROYAIENT ÊTRE pour ENFANTS, ALORS que NON | Lama Faché',\n",
       " 'So We Started A Fire...',\n",
       " 'Telefoon || Babbu Maan || Promo || Full Song 15th November || Latest Punjabi Songs 2017 || Hey Yolo',\n",
       " 'CARPOOL KARAOKE w/ FaZe Banks!!',\n",
       " 'Mythical Dog Party',\n",
       " 'The Try Guys Bake Bread Without A Recipe',\n",
       " 'PAPY GRENIER - METAL GEAR SOLID',\n",
       " '急诊科医生 | Emergency Physician 25（张嘉译、王珞丹、柯蓝等主演）',\n",
       " 'Barnicle: World Leaders Are Laughing At The US | Morning Joe | MSNBC',\n",
       " 'Cats Hate Pregnant - Off Topic #102',\n",
       " 'H3 Podcast #38 - Hila Klein',\n",
       " \"Autumn's sick...\",\n",
       " 'He Almost Died Pier Jumping ...',\n",
       " 'ON VOUS DÉVOILE NOTRE VRAI SALAIRE',\n",
       " \"Canada Soccer's Women's National Team v USA International Friendly LIVE from Avaya Stadium, San Jose\",\n",
       " 'Emotionally Responsive Digital Human',\n",
       " 'Ex-intelligence chiefs fire back at Trump criticism (Entire CNN interview)',\n",
       " 'HOLIDAY 2017 ⭐️ COLLECTION & SKIN FROST PALETTE REVEAL | Jeffree Star Cosmetics',\n",
       " 'Gerrymandering, Conservative Comedians, Bobby Kennedy | Overtime with Bill Maher (HBO)',\n",
       " 'NELK - Before They Were Famous - Kyle Forgeard & Jesse Sebastiani',\n",
       " 'LFR11 - Game 19 - B Sweeper - Tor 4, Bos 1',\n",
       " 'LES PIRES DOUBLAGES FRANÇAIS',\n",
       " 'Padmavati : Ek Dil Ek Jaan Video Song | Deepika Padukone | Shahid Kapoor | Sanjay Leela Bhansali',\n",
       " '蒙面唱将猜猜猜第二季 EP10 Ella抛媚眼狂撩侦探奥特曼 171112',\n",
       " 'STRANGER JOKES : Jokes de Papa avec les teens de Stranger Things',\n",
       " 'WOW NAPAKAHUSAY ! DUTERTE AT TRUMP NAPAHANGA SA MGA BIGATING SINGING ARTIST KUMANTA SA 31st ASEAN',\n",
       " 'SHOPPING FOR NEW FISH!!!',\n",
       " 'KOKE (Full Video) | SUNANDA SHARMA | Latest Punjabi Songs 2017 | AMAR AUDIO',\n",
       " 'Jennifer Lopez - Amor, Amor, Amor (Official Video) ft. Wisin',\n",
       " \"Celebs You Didn't Know Passed Away\",\n",
       " '《猎场》第15、16、17、18集最全预告集合：夏部长下马，罗伊人投靠郑秋冬。郑秋冬熊青春办结婚证',\n",
       " 'John Oliver Tackles Louis C.K. And Donald Trump In Season Finale Featuring Tom Hanks',\n",
       " 'How green delegates keep warm at UN Climate Change Conference',\n",
       " 'Valérie Plante, la première mairesse de Montréal à Tout Le Monde En Parle TLMEP',\n",
       " 'NAV - Wanted You feat. Lil Uzi Vert (Official Audio)',\n",
       " 'BREAKING: LiAngelo Ball Just Got THROWN INTO PRISON!! Will China MURDER LiAngelo Ball?',\n",
       " 'RUM (Regular Use Medicine) By Meet Hundal || Deep Jandu || Bamb Beats || Latest Punjabi Song 2017',\n",
       " 'KUWTK | Khloe & Kourtney Kardashian Workout Hungover | E!',\n",
       " '24 Oras November 13 2017',\n",
       " 'AMAZING Street Food  in CHINA | RARELY SEEN Street Food ADVENTURE TRAVEL VLOG 2017',\n",
       " 'Drako - Watch Me Do It [Official Video]',\n",
       " \"Let's Play - Civic Doodle with Tim Gettys\",\n",
       " 'Secrets of Dairy: Larson Dairy Farm',\n",
       " 'The National for Sunday, November 12, 2017',\n",
       " \"Cat's Hate Plastic!: Best Fails of the Week | FailArmy\",\n",
       " 'Final Nail In The Coffin: SNL Turns Against The Clinton Crime Machine',\n",
       " 'Operation: Dry Tank',\n",
       " 'Fukrey Returns | Trailer | Pulkit Samrat | Varun Sharma | Manjot Singh | Ali Fazal | Richa Chadha',\n",
       " 'Crime Patrol Dial 100 - क्राइम पेट्रोल - Ep 650 - Full Episode - 10th November, 2017',\n",
       " 'Why the rise of the robots won’t mean the end of work',\n",
       " \"McElhinney shines in Leafs' 4-1 win over the Bruins\",\n",
       " 'Taylor Swift Perform Ready For It - SNL',\n",
       " 'Live with Dr.Shahid Masood | Asif Zardari | NawazSharif | MQM | 12-November-2017',\n",
       " 'Angry Racist Gamer Gets HACKED (crazy)',\n",
       " 'ABS-CBN Christmas Station ID 2017 “Just Love Ngayong Christmas”',\n",
       " 'Will Grace Davies make you love her? | Live Shows | The X Factor 2017',\n",
       " 'Last Video of Hashtag Franco Before He Died',\n",
       " 'Vikings vs. Redskins | NFL Week 10 Game Highlights',\n",
       " '【Full】《极限挑战III》第11期20171110：黄渤魔性PK斗鸡眼 张艺兴罗志祥戏精上身喝毒酒话离别！ Go Fighting S3 EP.11【东方卫视官方高清】',\n",
       " 'LATEST Q POSTS: ROTHSCHILDS, HOUSE OF SAUD, lLLUMlNATl +++MASSIVE INTEL DROP -PART4',\n",
       " 'Transforming a Homeless Mans Life... **SUPER EMOTIONAL**',\n",
       " 'Steam Code how to get FREE and easily',\n",
       " 'Online Gaming Insults Gone Wild',\n",
       " \"The 'Stranger Things' Kids Were Nearly a Motown Super Group\",\n",
       " '10 More Famous Men EXPOSED After The Harvey Weinstein Scandal',\n",
       " '【FULL】王俊凯不满章子顶嘴争执火药味十足？ 欧阳娜娜郑昊致敬经典被评演技不太好 《演员的诞生》第3期 20171111 [浙江卫视官方HD]',\n",
       " 'I Tried To Plan The Perfect Wedding',\n",
       " 'IS GPU MINING STILL PROFITABLE? - Mining Adventure Part 1',\n",
       " '非诚勿扰 完整版 “小朱亚文”亮相《非诚勿扰》 孟非上演cosplay首秀 171111',\n",
       " \"'Helping People' Sneak Peek Ep. 805 | The Walking Dead\",\n",
       " \"《文茜世界周報》美媒狂酸川普\\u3000對華貿易選前選後判若兩人2017.11.11|Sisy's World News【完整版-FULL HD】\",\n",
       " '三屆TVB視帝，拋棄10年青梅竹馬髮妻，為娶小三還不惜與母絕交！',\n",
       " \"LA PIRE PARTIE ft Le Rire Jaune, Pierre Croce, Fabien Olicard, Nad Rich' Hard, Max Bird, Studio Vrac\",\n",
       " 'MatPat, Gabbie Hanna, and Ricky Dillon | You Posted That?',\n",
       " \"Donnie ft. Puffy L'z - Feeling Great (Official Video)\",\n",
       " \"Remembrance Day: Paying tribute to Canada's fallen heroes\",\n",
       " 'Everything Wrong With Baby Driver In 14 Minutes Or Less',\n",
       " '2 Weeks with iPhone X',\n",
       " \"Ireland Fans In Copenhagen Outside Victoria's Secret - Denmark vs Ireland\",\n",
       " '《亲爱的客栈》第6期20171111: 杨紫自曝为了赵薇当演员 王珂刘涛变客栈运动担当 The Inn【湖南卫视官方频道】',\n",
       " 'Alisah Bonaobra sings Amazing Praying for Time -Her Last Song for X Factor 2017 Live Show Week 3',\n",
       " 'Toronto Raptors vs Boston Celtics: November 12, 2017',\n",
       " \"Trump's Ménage À Terrible Phone Call With France\",\n",
       " \"I'm More Jamaican Than You ft. 4 YALL ENT I DT Skit\",\n",
       " \"Here's a Tour of the 2019 Chevy Corvette ZR1\",\n",
       " '31st ASEAN Summit  gala celebration dinner  November 12, 2017  President Trump Attend a gala dinner',\n",
       " 'Hyundai Accent - CarManía',\n",
       " \"Grey's Anatomy - (It's the End of the World) - In the sun - 2x16\",\n",
       " '‘Too Alabama for Alabama’: SNL brutally mocks Roy Moore in opening sketch',\n",
       " '川普离京后立马“翻脸”  中国发布“惊人”政策（《万维读报》20171110）',\n",
       " 'How To EASILY Make Money Online',\n",
       " 'Davido - FIA (Official Video)',\n",
       " 'HUGE BEAUTY FAVOURITES! AUTUMN LOVES!',\n",
       " '睡過范冰冰的20個男人首次揭秘，看完驚呆了！',\n",
       " 'Dude Perfect Face Off | Spikeball',\n",
       " 'G-Eazy - The Plan (Official Video)',\n",
       " 'New Eritrean film Dama (ዳማ)  part 13 Shalom Entertainment  2017',\n",
       " 'Emilie, 10 ans, Coach De Vie',\n",
       " \"6 Kitchen Gadgets That'll BLOW YOUR MIND. Maybe.\",\n",
       " 'WHOEVER WINS, WE LOSE - Surfers VS Skaters Gameplay',\n",
       " 'OMG! MY ANTS ARE LEARNING!',\n",
       " \"Pres. Trump: Putin's Denials Of Interference In Election Are Sincere | The View\",\n",
       " 'The Alt-Right Is Crushing On Taylor Swift',\n",
       " \"Canada's Trudeau charms Manila as he orders fried chicken\",\n",
       " 'Taylor Swift SNL Call It What You Want on Saturday Night Live',\n",
       " '5 Hellhounds Caught On Camera & Spotted In Real Life!',\n",
       " 'Deivamagal Episode 1387, 13/11/17',\n",
       " 'New Emirates First Class Suite | Boeing 777 | Emirates',\n",
       " '24 Oras November 14, 2017',\n",
       " 'CANADIAN PRIME MINISTER TRUDEAU & PRES. TRUMP GOT A SELFIE WITH DDS VLOGGER SASS AND ASEC MOCHA',\n",
       " 'Graham Norton Show S22E07 Hugh Grant, Jason Momoa, Sarah Millican and Kelly Clarkson',\n",
       " 'Coco - Movie Review',\n",
       " 'Eat Bulaga  November 13, 2017 (FULL) Juan for All - All for Juan Sugod Bahay HD',\n",
       " 'Founding An Inbreeding-Free Space Colony',\n",
       " 'This Week in Stupid (12/11/2017)',\n",
       " 'Bellator 187: Conor McGregor storms the Bellator MMA Cage',\n",
       " 'வாணி ராணி - VAANI RANI -  Episode 1416 - 13/11/2017',\n",
       " 'Gucci Mane  - Curve (ft. The Weeknd)',\n",
       " 'The Emoji Movie: What Went Wrong?  – Wisecrack Edition',\n",
       " 'Stephen Curry New Hair Debut! Nick Young Left Wide Open! 2017-18 Season',\n",
       " 'DESSINS ANIMÉS FRANÇAIS VS RUSSES 2 - Daniil le Russe',\n",
       " 'Top 10 2000s Songs You Forgot Were Awesome',\n",
       " 'Zvezde Granda - Cela emisija 06 - ZG 2017/18 - 11.11.2017.',\n",
       " 'YOU WILL HATE COW CHOP AFTER WATCHING THIS • WRONG SIDE OF YOUTUBE',\n",
       " 'Taylor Phelan Monsters - Official Lyric Video',\n",
       " 'Think Fast | Booger Eater??',\n",
       " 'Best Of r/MildlyVandalised',\n",
       " \"Côte d'Ivoire vs Maroc 0 - 2\",\n",
       " \"THERE'S ONLY SO MUCH RAGE I CAN HANDLE.. [GETTING OVER IT]\",\n",
       " 'Switching to the iPhone X...',\n",
       " 'President Trump ASEAN Gala Dinner in Philippines, Manila 11/12/2017',\n",
       " '15 Clear Signs Your Phone Was Hacked',\n",
       " 'What $1 Gets You Around The World!',\n",
       " 'Kuladheivam SUN TV Episode - 771 (13-11-17)',\n",
       " 'Troydon bent - Jam African',\n",
       " 'Alena TV -Tesfit Abraha - Dgul Hiyab - Part  4 - (ድጉል ህያብ ራብዓይ ክፋል)- New Eritrean Movie 2017',\n",
       " \"Grey's Anatomy S10 Ep12 Jackson Stops The Wedding\",\n",
       " 'Will It Watermarble?! Sister Edition | Watermarbling 9 random objects in nail polish!',\n",
       " \"Outlander S03E09 i'm melting with you''\",\n",
       " 'Dr. Greger in the Kitchen: My New Favorite Beverage',\n",
       " \"Si vous voyez ceci en forêt, courez vite et demandez de l'aide!\",\n",
       " 'Traveling in Bali - AMAZING FOOD and Attractions in UBUD, Bali, Indonesia!',\n",
       " 'How To Make Money Online With Mobile/Tablet ( Make Money By Installing Apps )',\n",
       " 'How to Get Him Hooked in the First Two Weeks (Matthew Hussey, Get The Guy)',\n",
       " 'Badnaam Episode 13 - 12th November 2017 - ARY Digital Drama',\n",
       " 'Successful Failure',\n",
       " \"Intégrale - On n'est pas couché 11 novembre 2017 #ONPC\",\n",
       " 'Lil Pump - Gucci Gang PARODY',\n",
       " '访谈曹长青：永不放弃——如何看待郭文贵的现状与未来 《重磅访谈 郭宝胜政论》',\n",
       " '12 BLAGUES À MOURIR DE RIRE ! LA GUERRE DES BLAGUES !',\n",
       " 'Trump meets Duterte in Manila for ASEAN gala dinner',\n",
       " 'Journey of Remembrance | Three Sisters Trio',\n",
       " 'شاهد انبهار الاعلام المصري  بتأهل المغرب لكأس العالم  و يعتبر المغرب أقوى فريق عربي و افريقي',\n",
       " 'Making Chocolate Croissants: Behind Tasty',\n",
       " '8 PIRES OBJETS de BATMAN',\n",
       " 'بالفيديو ... سعد الحريري يتلقى معلومة من خلف الكاميرا',\n",
       " \"Trump's Big Day Out In China | The Daily Show\",\n",
       " 'Benzema balance ses dur vérités Deschamps et Les bleus Dans le CFC !',\n",
       " 'Which Countries Are About To Collapse?',\n",
       " 'Republicans Push Their Tax Plan After Election Losses: A Closer Look',\n",
       " 'VLOG DAD REACTS! |  MARTINEZ TWINS leaving Team 10 and dissing Jake Paul',\n",
       " 'r/oopsdidntmeanto Top Posts of All Time [2]',\n",
       " '赵乐际出手了，否定王岐山的私货“政治腐败”（2017.11.12）',\n",
       " 'Juan For All, All For Juan | November 11, 2017',\n",
       " '2017 Brazil Grand Prix: Race Highlights',\n",
       " 'Mehjabi Reveals Hina Khan Dirty Politics | Exclusive Interview | Bigg Boss  11',\n",
       " \"Rick Santorum SPEAKS Out Against Roy Moore, There's TEN Other People That Could Win That Race\",\n",
       " 'The Trump Presidency (11/12/17) Last Week Tonight with John Oliver(HBO)',\n",
       " 'The Original Ramen in Japan - Chuka Soba',\n",
       " 'What They Found Should Rewrite History!',\n",
       " '7 Second Challenge: KNOCK-OFF DAN & PHIL',\n",
       " 'Post Malone – Rockstar (feat. 21 Savage)',\n",
       " 'Воскресный вечер с Владимиром Соловьевым от 12.11.2017',\n",
       " 'PLUSH - Bad Unboxing Fan Mail',\n",
       " 'Selling My iPhone X To a Machine at Walmart',\n",
       " 'Jimmy Fallon Pays Tribute to His Mother Gloria',\n",
       " 'Mean Tweets – Jimmy Kimmel Edition',\n",
       " 'The New SpotMini',\n",
       " \"Brent Pella - Why You Shouldn't Fly on Spirit Airlines\",\n",
       " 'How I Trained My Cats',\n",
       " 'StarCraft II Free to Play: Legacy',\n",
       " 'Slow Mo Katana Sword - 4K - The Slow Mo Guys',\n",
       " 'Huge IGN Failure Exposed, Why Zoella Is Being Called a Scammer, and EA Comes Under Fire...',\n",
       " 'Binging with Babish: Harry Potter Special',\n",
       " 'Everything Wrong With Wonder Woman In 14 Minutes Or Less',\n",
       " '猎场 | Game Of Hunting 16【TV版】（胡歌、張嘉譯、祖峰等主演）',\n",
       " 'Allegations Mount Against Roy Moore; Trump Cozies Up to Putin: A Closer Look',\n",
       " 'Eminem - Walk On Water (Audio) ft. Beyoncé',\n",
       " 'Wax Presidents Trailer: Last Week Tonight with John Oliver (HBO)',\n",
       " 'STRANGER JOKES : Jokes de Papa avec les teens de Stranger Things',\n",
       " 'Big Mac vs Whopper: Which Is Healthier?',\n",
       " 'WE WANT TO TALK ABOUT OUR MARRIAGE',\n",
       " 'Racist Superman | Rudy Mancuso, King Bach & Lele Pons',\n",
       " \"Kim Jong-Un Hurt President Trump's 'Old' Feelings\",\n",
       " 'Cards Against Humanity Saves America',\n",
       " 'LOWBALLING CAR SALESMAN PRANK!',\n",
       " 'Fly Reef - No Top',\n",
       " 'RNC update on Courtney Lake homicide',\n",
       " 'People Guess Who is White In a Group of People - Lineup',\n",
       " '26 SIMPLE WAYS TO SPEED UP YOUR EVERYDAY ROUTINE',\n",
       " 'I Dare You: GOING BALD!?',\n",
       " 'Dashcam Norway - Semi-truck narrowly missing kids',\n",
       " 'Lie Detector | Anwar Jibawi',\n",
       " 'John Oliver Tackles Louis C.K. And Donald Trump In Season Finale Featuring Tom Hanks',\n",
       " 'Honest Trailers - Batman Forever',\n",
       " 'Roy Moore Would Never Date A Girl Without “The Permission Of Her Mother” | The Daily Show',\n",
       " 'venting online about a hard part in a video game',\n",
       " 'DIY Escape Room: Can They Build Their Way Out?',\n",
       " 'Marie-Louise Arsenault réplique à Denise Bombardier, 1998',\n",
       " 'KOKE (Full Video) | SUNANDA SHARMA | Latest Punjabi Songs 2017 | AMAR AUDIO',\n",
       " 'DUEL DE BLAGUES NULLES ! #2 (Vs Google Home)',\n",
       " '10 LIFE HACKS YOU NEED TO KNOW with TEENS (REACT)',\n",
       " 'Shower - Cyanide & Happiness Minis',\n",
       " 'Triple H returns to join Team Raw at Survivor Series: Raw, Nov. 13, 2017',\n",
       " 'Magic Mud Face Mask Test',\n",
       " 'Jon Stewart: I Was ‘Shocked’ At Sexual Misconduct Accusations Against Louis C.K. | TODAY',\n",
       " 'UNHhhh Ep 68: Goodbye Barbara w/ Trixie Mattel & Katya Zamolodchikova',\n",
       " 'Vanoss Superhero School - New Students',\n",
       " 'Stephen Colbert monologue 11/13/17 : Too Much Moore !',\n",
       " 'YOUTUBERS REACT TO TOP 10 TWITTER ACCOUNTS OF ALL TIME',\n",
       " 'Finally Sheldon is winning an argument about the existence of God',\n",
       " '急诊科医生 | Emergency Physician 30（张嘉译、王珞丹、柯蓝等主演）',\n",
       " '《猎场》第15、16、17、18集最全预告集合：夏部长下马，罗伊人投靠郑秋冬。郑秋冬熊青春办结婚证',\n",
       " 'Jason Momoa Shows Off His Aquaman Quindent | The Graham Norton Show',\n",
       " 'Changey Din | Kambi | Sukh E | Sukh Sanghera | Latest Punjabi Song 2017 | Speed Records',\n",
       " 'THE LOGANG MADE HISTORY. LOL. AGAIN.',\n",
       " '12 Weird Ways To Sneak Food Into Class / Back To School Pranks',\n",
       " 'வாணி ராணி - VAANI RANI -  Episode 1417 - 14/11/2017',\n",
       " 'Barnicle: World Leaders Are Laughing At The US | Morning Joe | MSNBC',\n",
       " \"Congressman PINS Sessions For Lying About Trump's Russia Collusion\",\n",
       " 'The Voice 2017 Davon Fleming - The Playoffs: I Am Changing',\n",
       " '21 Savage - Bank Account (Official Music Video)',\n",
       " 'ALL MY NEW FISH!!',\n",
       " 'how to get Steam Code  FREE and easily',\n",
       " 'JOFFREE DUMPS LAURA LEE, MANNY MUA, NIKITA + JACLYN HILL EYE SHADOW PALETTE',\n",
       " 'How beauty brands failed women of color',\n",
       " 'DI NAPIGILAN TUMAWA NI CANADIAN PRIME MINISTER JUSTIN TRUDEAU SA KAKULITAN NI DUTERTE',\n",
       " 'Deivamagal Episode 1388, 14/11/17',\n",
       " \"Eminem Performs 'Walk On Water' | MTV EMAs 2017 | Live Performance\",\n",
       " 'Joe Rogan on Louis CK',\n",
       " 'American Things Europeans Find Weird',\n",
       " 'Alif Allah Aur Insaan Episode 30 HUM TV Drama | 14 November 2017',\n",
       " 'The Flash 4x07 Promo Therefore I Am (HD) Season 4 Episode 7 Promo',\n",
       " '2 Weeks with iPhone X',\n",
       " 'How does Yoonla work? Learning CPA',\n",
       " 'Live with Dr Shahid Masood | 14 November 2017 | Nawaz Sharif | Maryam Nawaz |',\n",
       " 'BEST Taiwan STREET FOOD & NIGHT MARKET in Kaohsiung!',\n",
       " \"What's inside a Cocao Pod?\",\n",
       " 'So We Started A Fire...',\n",
       " \"Writer: My Kids Can't Be Friends With White People | The View\",\n",
       " \"The Last Word With Lawrence O'Donnell - Nov 13, 2017\",\n",
       " 'How to Get a FREE iPhone X!',\n",
       " 'The myth of Prometheus - Iseult Gillespie',\n",
       " 'I Hired An MI6 Spy To Help Me Disappear',\n",
       " \"L'OBJET QUI TE DONNE DES SUPER POUVOIRS !\",\n",
       " 'Ed Sheeran - Perfect (Official Music Video)',\n",
       " '5 Ice Cream Gadgets put to the Test',\n",
       " 'Stephen A. Smith sides with LeBron James in scuffle with Knicks | First Take | ESPN',\n",
       " 'Landlord | ( Full HD) | Rajvir Jawanda Ft. Preet Hundal | New Punjabi Songs 2017',\n",
       " 'Apple iPhone X Review: The Best Yet!',\n",
       " 'Grill Disk Dub',\n",
       " 'Cleveland Cavaliers vs New York Knicks Full Game Highlights / Week 5 / 2017 NBA Season',\n",
       " 'CHRISTMAS ADVERTS & HOW WE MET',\n",
       " 'Gary V. Talks Mindset, K-Swiss + Why He Will Never Do Business With Michael Jordan',\n",
       " 'The Greatest Showman | Official Trailer 2 [HD] | 20th Century FOX',\n",
       " \"Canada Soccer's Women's National Team v USA International Friendly LIVE from Avaya Stadium, San Jose\",\n",
       " 'Getting Back At Your Flaky Friends',\n",
       " 'Philippines President Duterte offended by Trudeau raising human rights issues',\n",
       " 'Sharry Mann: Cute Munda ( Song Teaser) | Parmish Verma | Releasing on 17 November',\n",
       " 'Mario Kart Balloon Battle!!',\n",
       " 'Last Week Tonight with John Oliver - S04E30 (HBO) 11/13/2017',\n",
       " \"Bill Burr - Louis C.K.'s Sexual Misconduct\",\n",
       " 'How green delegates keep warm at UN Climate Change Conference',\n",
       " 'POP SONG REVIEW: Thunder by Imagine Dragons/Feel It Still by Portugal. The Man',\n",
       " 'Review of the ION Bottleless Water Cooler',\n",
       " \"LEAKED: Donald Trump Jr.'s Communications With Wikileaks\",\n",
       " 'Heartland Episode 1108 Preview',\n",
       " 'Smart Girl Shows How to Build Candy Dispenser',\n",
       " 'Jake Paul - Saturday Night (Song) feat. Nick Crompton & Chad Tepper (Official Music Video)',\n",
       " 'ABS-CBN Christmas Station ID 2017 “Just Love Ngayong Christmas”',\n",
       " 'QNA#2, MERCH, INKTOBER + FACE REVEAL',\n",
       " 'Dog & Beth: Fight of Their Lives | Official Trailer | Premieres November 27 | A&E',\n",
       " 'Cheapest Guy Ever (Shrink Wrapped His Whole House)',\n",
       " 'Online Gaming Insults Gone Wild',\n",
       " 'Caldo Verde - Portuguese Sausage Kale Soup - Food Wishes',\n",
       " 'WRESTLING NIGAHIGA!!! (WILD CARD)',\n",
       " \"Today's News: It's On - Get The Goods, November 14th, 2017\",\n",
       " 'Eat Bulaga  November 14, 2017 (FULL) Juan for All - All for Juan Sugod Bahay HD',\n",
       " 'Joe Biden To Stephen Colbert: Donald Trump Has Created Fear About The Stability Of The Country',\n",
       " '【完整版】對簿公堂看你怎麼說？小大公審大會！2017.11.14小明星大跟班',\n",
       " 'AIB : Lightning Fast Movies',\n",
       " 'Ask Dr. Dax Shepard',\n",
       " 'Tiffany Haddish Makes SNL History',\n",
       " 'Removing The Notch From iPhone X',\n",
       " 'MatPat, Gabbie Hanna, and Ricky Dillon | You Posted That?',\n",
       " 'ماذا قالت الإعلامية بولا يعقوبيان لدى وصولها إلى بيروت من السعودية؟',\n",
       " 'Sau Ánh Hào Quang #7 FULL | Cát Phượng: Cái sai khi ly dị Thái Hòa là đúng (13/11/2017)',\n",
       " 'Valérie Plante, la première mairesse de Montréal à Tout Le Monde En Parle TLMEP',\n",
       " '10 FILMS que LES PARENTS CROYAIENT ÊTRE pour ENFANTS, ALORS que NON | Lama Faché',\n",
       " 'Vamsam - வம்சம் | Tamil Serial | Sun TV |  Epi 1335 | 14/11/2017 | Vision Time',\n",
       " 'Telefoon || Babbu Maan || Promo || Full Song 15th November || Latest Punjabi Songs 2017 || Hey Yolo',\n",
       " 'Omour Jedia S02 Episode 10 14-11-2017 Partie 03',\n",
       " 'Need For Speed [IN REAL LIFE!!] 350Z',\n",
       " \"Grant's DIY Mystery Puzzle Box\",\n",
       " 'Marc Maron on the Louis C.K Allegations (11/13/2017)',\n",
       " '11.14 - NSA Breach/Trump Jr./Rothschild/Trump Major Statement',\n",
       " 'CHICKEN GIRLS | Annie & Hayden in “Photograph” | Ep. 7',\n",
       " \"2017년 11월 14일 (화) 뉴스룸 다시보기 - '사이버사 증원, 청와대 승인' 적시\",\n",
       " 'Egg Burrito - Protein Treats By Nutracelle',\n",
       " 'Pod et Marichou - Saison 2 - Episode  53',\n",
       " 'Couples Commentary (Arielle vs. Jimmy)',\n",
       " 'Hyundai Accent - CarManía',\n",
       " '7 Second Challenge: KNOCK-OFF DAN & PHIL',\n",
       " 'TEAM 10 IS BREAKING UP?',\n",
       " \"'Lightning Strike' B777-300 on departure @ KL743 // PH-BVS\",\n",
       " 'MapapaWOW ka sa Galing!!! 31st ASEAN Summit World-Class Performances at the Opening Ceremonies',\n",
       " 'RUM (Regular Use Medicine) By Meet Hundal || Deep Jandu || Bamb Beats || Latest Punjabi Song 2017',\n",
       " '21 Savage - Bank Account (Official Music Video)- REACTION',\n",
       " '2017.11.13新聞深喉嚨\\u3000請教蔡總統一年過去了！勞工還是「心中最軟的那塊？」',\n",
       " \"'Helping People' Sneak Peek Ep. 805 | The Walking Dead\",\n",
       " 'GERMANY vs FRANCE 2-2 ● All Goals & Highlights HD ● 14 Nov 2017 - FRIENDLY',\n",
       " 'DESSINS ANIMÉS FRANÇAIS VS RUSSES 2 - Daniil le Russe',\n",
       " 'Слуга Народа 2 - От любви до импичмента, 22 серия | Сериал 2017 в 4к',\n",
       " '习大大李克强乘风破浪全线出击 中日韩东盟空前合体 特朗普遭重创提前出局？',\n",
       " 'The Try Guys Bake Bread Without A Recipe',\n",
       " 'Fukrey Returns | Trailer | Pulkit Samrat | Varun Sharma | Manjot Singh | Ali Fazal | Richa Chadha',\n",
       " 'Patriots vs. Broncos | NFL Week 10 Game Highlights',\n",
       " 'Taiwan High Speed Train BUSINESS Class Taipei to Kaohsiung',\n",
       " 'PAPY GRENIER - METAL GEAR SOLID',\n",
       " \"Trump's presidency: Last Week Tonight with John Oliver (HBO) 11/12/2017\",\n",
       " 'Brooke Baldwin is STUNNED at What This Roy Moore Supporter Just Said.',\n",
       " 'Operation: Dry Tank',\n",
       " 'Ex-intelligence chiefs fire back at Trump criticism (Entire CNN interview)',\n",
       " 'Rep. Jordan presses Jeff Sessions to appoint special counsel',\n",
       " 'CARPOOL KARAOKE w/ FaZe Banks!!',\n",
       " 'NAV - Wanted You feat. Lil Uzi Vert (Official Audio)',\n",
       " 'Seth Rogen & Jason Segel Almost Took a Prank Too Far',\n",
       " 'Pinoy Singers, binigyan ni Donald Trump ng standing ovation sa ASEAN Summit',\n",
       " 'Kamli: Gurinder Rai (Full Song) | Preet Hundal | Latest Punjabi Songs 2017 | T-Series',\n",
       " 'RAW Team Attack Smackdown Team - WWE Smackdown 14th November 2017',\n",
       " 'LeBron vs Kanter! Cavs Stun Knicks With Epic 23 Point Comeback! 2017-18 Season',\n",
       " 'Deweni Inima | Episode  202 14th November 2017',\n",
       " \"This is why UFC won't allow Conor McGregor to fight on Dec 30 at UFC 219,Bisping on Silva,Woodley\",\n",
       " 'WOW: Trey Gowdy to AG Jeff Sessions: Its NOT Appropriate for Trump to speaks on a Open Investigation',\n",
       " 'WATCH LIVE: Attorney General Sessions testifies to the House Judiciary Committee',\n",
       " 'Pranque : Le serveur amnésique',\n",
       " 'MY YOUTUBE DECADE | What Makeup STILL Works? Laughs, Tears & Reminiscing',\n",
       " 'Jennifer Lopez - Amor, Amor, Amor (Official Video) ft. Wisin',\n",
       " 'Joe Rogan Experience #1039 - Iliza Shlesinger',\n",
       " '【宇哥】7岁女儿竟然与智障父亲偷偷“私奔”……豆瓣8.8分催泪神片《我是山姆》',\n",
       " 'Skip and Shannon talk Enes vs LeBron James after the Cavs beat the Knicks | UNDISPUTED',\n",
       " 'Usain Bolt Goes Sneaker Shopping With Complex',\n",
       " 'Borgore feat Bella Thorne - Salad Dressing [Official Music Video]',\n",
       " 'LeBron James vs Frank Ntilikina and Enes Kanter - LeBron mocks Ntilikina!',\n",
       " 'HOLIDAY 2017 ⭐️ COLLECTION & SKIN FROST PALETTE REVEAL | Jeffree Star Cosmetics',\n",
       " 'Can My Kids Be Friends with White People? Tucker Interviews Ekow Yankah About His Op-Ed',\n",
       " 'The National for Monday November 13, 2017 - Kidnapping scam, misconduct, pollution',\n",
       " \"Here's a Tour of the 2019 Chevy Corvette ZR1\",\n",
       " 'Week 4 Challenge: Check out “My Email Leads”',\n",
       " 'THE CHAMPION RETURNS • WWE 2K18 Tournament',\n",
       " 'H3 Podcast #38 - Hila Klein',\n",
       " \"80's SciFi Egyptian - Character Design Session!\",\n",
       " '“伟大领袖”已经喊出来了，喊“万岁”还有多远？（2017.11.13）',\n",
       " '5 Deep-Fried Carnival Recipes',\n",
       " '蒙面唱将猜猜猜第二季 EP11 Ella抛媚眼狂撩侦探奥特曼 171112',\n",
       " 'NELK - Before They Were Famous - Kyle Forgeard & Jesse Sebastiani',\n",
       " 'The Black Triangles Are Here',\n",
       " 'Faisla Episode 21 & 22 - 14th November 2017 - ARY Digital Drama',\n",
       " 'Padmavati : Ek Dil Ek Jaan Video Song | Deepika Padukone | Shahid Kapoor | Sanjay Leela Bhansali',\n",
       " 'الجزيره تعرض لحظه تهـديـد سعد الحريرى على الهواء ونظراته اليه بتحليل محترف لخبراء',\n",
       " 'THE THANKSGIVING SONG',\n",
       " \"On The View November 13 2017 | Whoopi Goldberg's birthday with a performance by Andra Day\",\n",
       " 'Spilling Tea About Each Other!!',\n",
       " 'Deadpool’s “Wet on Wet” Teaser',\n",
       " 'The New SpotMini',\n",
       " 'Selling My iPhone X To a Machine at Walmart',\n",
       " 'Jimmy Fallon Pays Tribute to His Mother Gloria',\n",
       " 'Mean Tweets – Jimmy Kimmel Edition',\n",
       " \"Brent Pella - Why You Shouldn't Fly on Spirit Airlines\",\n",
       " 'How I Trained My Cats',\n",
       " 'PLUSH - Bad Unboxing Fan Mail',\n",
       " 'Free Steam Wallet Codes - How To Get Steam Gift Cards New Method 2017',\n",
       " 'ea',\n",
       " 'P!nk Carpool Karaoke',\n",
       " 'StarCraft II Free to Play: Legacy',\n",
       " 'Telefoon (Full Song) Babbu Maan | Latest Punjabi Songs 2017 | Hey Yolo & Swag Music',\n",
       " 'Slow Mo Katana Sword - 4K - The Slow Mo Guys',\n",
       " 'Cards Against Humanity Saves America',\n",
       " '2oK - Count On Me',\n",
       " 'Donald Trump Jr. and WikiLeaks; Trump Meets Duterte: A Closer Look',\n",
       " '猎场 | Game Of Hunting 18【TV版】（胡歌、張嘉譯、祖峰等主演）',\n",
       " 'Huge IGN Failure Exposed, Why Zoella Is Being Called a Scammer, and EA Comes Under Fire...',\n",
       " 'FLIPPING OVER SUPERCAR! *GONE VERY WRONG*',\n",
       " 'Everything Wrong With Wonder Woman In 14 Minutes Or Less',\n",
       " 'Roy Moore Was Banned From A Mall And YMCA',\n",
       " 'Dog & Beth: Fight of Their Lives | Official Trailer | Premieres November 27 | A&E',\n",
       " 'Binging with Babish: Harry Potter Special',\n",
       " 'UNE HISTOIRE DE FABLES ! - LE RIRE JAUNE',\n",
       " 'People Guess Who is White In a Group of People - Lineup',\n",
       " 'Kim Kardashian Lets Gender of Third Child Slip',\n",
       " 'venting online about a hard part in a video game',\n",
       " 'LOWBALLING CAR SALESMAN PRANK!',\n",
       " 'Fox News’ Shep Smith Methodically Debunks Uranium One Conspiracy Theories',\n",
       " 'NERF Dungeons & Dragons Challenge! [Ep. 4]',\n",
       " 'Naachiyaar - Official Teaser I Director Bala I Ilaiyaraaja I Jyotika, G.V. Prakash Kumar',\n",
       " 'Pumpkin Pie - You Suck at Cooking (episode 68)',\n",
       " \"YOU'RE LYING!!! Jeff Sessions GETS DESTROYED on His Russia Lies & Trump's Russia Ties\",\n",
       " 'You, but in emojis. (YIAY #375)',\n",
       " 'Big Mac vs Whopper: Which Is Healthier?',\n",
       " 'STRANGER JOKES : Jokes de Papa avec les teens de Stranger Things',\n",
       " 'Il fait la statue et échappe à la police pendant une perquisition !',\n",
       " 'Kurt Angle & The Shield lead a Raw raid of SmackDown: SmackDown LIVE, Nov. 14, 2017',\n",
       " 'Arnold VS Megalodon',\n",
       " 'Why Was Roy Moore “Banned From The Mall”? | The Daily Show',\n",
       " 'Yaaran Da Yaar | Harf Cheema | Deep Jandu | Sukh Sanghera | Latest Punjabi Song 2017 | Speed Records',\n",
       " 'Wax Presidents Trailer: Last Week Tonight with John Oliver (HBO)',\n",
       " 'Bangarang - Nostalgia Critic',\n",
       " 'Lie Detector | Anwar Jibawi',\n",
       " 'Jon Stewart: I Was ‘Shocked’ At Sexual Misconduct Accusations Against Louis C.K. | TODAY',\n",
       " 'LES PIRES PUBLICITÉS',\n",
       " 'John Oliver Tackles Louis C.K. And Donald Trump In Season Finale Featuring Tom Hanks',\n",
       " 'Racist Superman | Rudy Mancuso, King Bach & Lele Pons',\n",
       " 'Honest Trailers - Batman Forever',\n",
       " 'Drake interrupts Australia show to tell fan to stop touching women',\n",
       " 'Joe Rogan on Louis CK',\n",
       " 'Stephen Colbert - Nov 14, 2017  : Sessions In The Hot Seat !',\n",
       " 'KOKE (Full Video) | SUNANDA SHARMA | Latest Punjabi Songs 2017 | AMAR AUDIO',\n",
       " 'WE WANT TO TALK ABOUT OUR MARRIAGE',\n",
       " 'Shower - Cyanide & Happiness Minis',\n",
       " 'WHY MANNY MUA LEFT JOFFREE (ALL EVIDENCE) + Nikkietutorials, Laura Lee & Jaclyn Hill Makeup',\n",
       " 'Jimmy Kimmel monologue 11/14/17: Sessions Testimony, Don Jr. Wikileaks',\n",
       " '26 SIMPLE WAYS TO SPEED UP YOUR EVERYDAY ROUTINE',\n",
       " 'வாணி ராணி - VAANI RANI -  Episode 1418 - 15/11/2017',\n",
       " 'Young Dolph Speaks On Issues With Yo Gotti, Family Struggles + More',\n",
       " 'Baited! Ep #29 - FaZe Banks tells it all!',\n",
       " '急诊科医生 | Emergency Physician 30（张嘉译、王珞丹、柯蓝等主演）',\n",
       " 'Deivamagal Episode 1389, 15/11/17',\n",
       " 'Live with Dr Shahid Masood | 15 November 2017 | Nawaz Sharif | Ishaq Dar | Shahid Khaqan Abbasi |',\n",
       " 'EPIC ART with KIDS ART SUPPLIES!?',\n",
       " 'What ‘Dr. Phil’ Team Discovers In Kenya When Searching For Woman’s Boyfriend',\n",
       " 'Landlord | ( Full HD) | Rajvir Jawanda Ft. Preet Hundal | New Punjabi Songs 2017',\n",
       " \"Lily's ART CLASS :D - temmie & scarra\",\n",
       " 'The Voice 2017 Addison Agen - The Playoffs: Angel From Montgomery',\n",
       " \"Gabourey Sidibe's Classy Clapback At A Troll | The View\",\n",
       " \"The all-American fruit you've probably never heard of\",\n",
       " 'DIY Escape Room: Can They Build Their Way Out?',\n",
       " 'TOP 10 des THÉORIES DU COMPLOT les plus CRÉDIBLES',\n",
       " 'Voyeur: Heating Up - PART 2 - Game Grumps',\n",
       " 'OrelSan - Tout va bien [CLIP OFFICIEL]',\n",
       " \"HOLO CAPPUCCINO | DIY Diamond Cappuccino test (maybe don't drink this?)\",\n",
       " 'I Built a Fort out of Red Cups & Spent the Night... It Was Funny AF (Sleep in a Cup House Challenge)',\n",
       " 'DUEL DE BLAGUES NULLES ! #2 (Vs Google Home)',\n",
       " 'Le Coup de Foudre - Partie 2',\n",
       " 'The Flash 4x07 Promo Therefore I Am (HD) Season 4 Episode 7 Promo',\n",
       " 'Marie-Louise Arsenault réplique à Denise Bombardier, 1998',\n",
       " 'Justice League - Movie Review',\n",
       " 'I Dare You: GOING BALD!?',\n",
       " 'The Most Insane Workstation + Gaming Setup',\n",
       " 'Peephole Reverser? | 9 Pointless Tech Gadgets!',\n",
       " 'Pennhurst Asylum - Q+A',\n",
       " \"Rick's Rant - Jason Kenney\",\n",
       " 'Terry Crews: Speaks Out On Being Victim Of Sexual Harassment - GMA',\n",
       " 'ORIGINAL: Dashcam Norway - Semi truck narrowly missing kids',\n",
       " \"The Last Word with Lawrence O'Donnell - Nov 14, 2017 |\",\n",
       " 'Crime Patrol Dial 100 - क्राइम पेट्रोल - Ep 651 - Full Episode - 13th November, 2017',\n",
       " 'Irish People Try Justice League Cocktails',\n",
       " 'National Clean Out Your Fridge Day with Matt | Fidel Gastro',\n",
       " \"LEAKED: Donald Trump Jr.'s Communications With Wikileaks\",\n",
       " 'Dateline ID new 2017: The Dream House Mystery',\n",
       " 'RNC update on Courtney Lake homicide',\n",
       " 'UNHhhh Ep 68: Goodbye Barbara w/ Trixie Mattel & Katya Zamolodchikova',\n",
       " 'Eminem - Walk On Water (Audio) ft. Beyoncé',\n",
       " 'Fly Reef - No Top',\n",
       " 'Super Mario Odyssey (Zero Punctuation)',\n",
       " 'Apple iPhone X Review: The Best Yet!',\n",
       " \"What's inside a Cocao Pod?\",\n",
       " 'FURIOUS Showdown Between “Gordy” & Ungrateful Owner! | Kitchen Nightmares',\n",
       " '“Meltdown!” Trump trolls UN Climate Conference, sends ENERGY EXECS',\n",
       " \"Avant d'être morte - Épisode 02\",\n",
       " 'Alif Allah Aur Insaan Episode 30 HUM TV Drama | 14 November 2017',\n",
       " 'TRANSFORMERS: THE LAST KNIGHT -ralphthemoviemaker',\n",
       " '10 Weird Bottle Openers put to the Test - Part 2',\n",
       " 'The Lead W/ Jake Tapper 11/14/17| The stupidity of Donald Trump Jr.',\n",
       " 'Decades of memories gone',\n",
       " \"'Lightning Strike' B777-300 on departure @ KL743 // PH-BVS\",\n",
       " 'Stephen A. Smith calls for LiAngelo Ball and UCLA players to be suspended | First Take | ESPN',\n",
       " 'McDavid, Oilers rout Golden Knights in 8-2 win',\n",
       " 'Rep. Jordan presses Jeff Sessions to appoint special counsel',\n",
       " '10 LIFE HACKS YOU NEED TO KNOW with TEENS (REACT)',\n",
       " 'Jason Momoa Shows Off His Aquaman Quindent | The Graham Norton Show',\n",
       " 'Dizzy Baseball Challenge!!',\n",
       " '6 ASTUCES pour SURVIVRE AUX ANIMAUX SAUVAGES',\n",
       " 'Kuladheivam SUN TV Episode - 773 (15-11-17)',\n",
       " 'Magic Mud Face Mask Test',\n",
       " 'Vamsam - வம்சம் | Tamil Serial | Sun TV |  Epi 1335 | 15/11/2017 | Vision Time',\n",
       " 'DI NAPIGILAN TUMAWA NI CANADlAN PRIME MINlSTER JUSTIN TRUDEAU SA KAKULlTAN NI DUTERTE',\n",
       " 'RAW Team Attack Smackdown Team - WWE Smackdown 14th November 2017',\n",
       " 'BEST Taiwan STREET FOOD & NIGHT MARKET in Kaohsiung!',\n",
       " 'Attorney General Jeff Sessions Does The Right Thing And Pushes Back | Morning Joe | MSNBC',\n",
       " 'Toronto Raptors vs Houston Rockets - Full Game Highlights | Nov 14 | 2017-18 NBA Season',\n",
       " 'Google Play Protect - The security system that never sleeps',\n",
       " '《猎场》17、18、19、20集最全预告集合：郑秋冬私会罗伊人，张嘉译正式上线',\n",
       " 'PLAYING PHONE TAG WITH DEVIN BOOKER! *Basketball Game*',\n",
       " \"Bill Burr - Louis C.K.'s Sexual Misconduct\",\n",
       " 'Argentina vs Nigeria 2-4 - All Goals & Extended Highlights - Friendly 14/11/2017 HD',\n",
       " 'G-Eazy - The Beautiful & Damned (Audio) ft. Zoe Nash',\n",
       " 'Cleveland Cavaliers vs Charlotte Hornets Full Game Highlights / Week 5 / 2017 NBA Season',\n",
       " 'Gotta See It: Chaotic bench brawl erupts between Flames and Red Wings',\n",
       " 'American Things Europeans Find Weird',\n",
       " 'Juan For All, All For Juan Sugod Bahay | November 15, 2017',\n",
       " 'CHRISTMAS ADVERTS & HOW WE MET',\n",
       " 'DIY CLEAR PUMPKIN PIE',\n",
       " 'Q Clearance Patriot AKA Q Anon - Breaking Down the Coming Storm! HRC, Saudi Arabia, Trump & More',\n",
       " '한국 편의점에서 영국남자 조니가 요리를 하면?!',\n",
       " 'Joe Rogan Experience #1039 - Iliza Shlesinger',\n",
       " 'OG Anunoby 16 Points Full Highlights (11/14/2017)',\n",
       " 'ALL MY NEW FISH!!',\n",
       " \"Congressman PINS Sessions For Lying About Trump's Russia Collusion\",\n",
       " 'The myth of Prometheus - Iseult Gillespie',\n",
       " 'Vanoss Superhero School - New Students',\n",
       " 'Grill Disk Dub',\n",
       " 'Deweni Inima | Episode  203 15th November 2017',\n",
       " 'YOUTUBERS REACT TO TOP 10 TWITTER ACCOUNTS OF ALL TIME',\n",
       " 'ULTIMATE SEPHORA GUIDE #TatiApproved',\n",
       " 'Homemade Vs. Store-bought: Cinnamon Rolls',\n",
       " 'WWE Smackdown 14 November Highlights HD - WWE Smackdown 14/11/2017 Highlights HD',\n",
       " 'ARGENTINA vs NIGERIA 2-4 ● All Goals & Highlights HD ● 14 Nov 2017 - FRIENDLY',\n",
       " 'Getting Back At Your Flaky Friends',\n",
       " 'Aisi Hai Tanhai Episode 3 & 4 - 15th Nov 2017  - ARY Digital Drama',\n",
       " 'Слуга Народа 2 - От любви до импичмента, 23 серия',\n",
       " 'THE LOGANG MADE HISTORY. LOL. AGAIN.',\n",
       " '（画在脸上的SEPHORA HAUL！)  红色秋冬新品妆容 | 小眼睛怎么hold住大热的红色系妆容？ft. Huda Beauty 九色眼影盘| AUTUMN MAUVE LOOK',\n",
       " 'What Does A Cochlear Implant Sound Like?',\n",
       " '2 Weeks with iPhone X',\n",
       " '12 Weird Ways To Sneak Food Into Class / Back To School Pranks',\n",
       " \"L'EMISSION - الحلقة 11 الجزء الأول\",\n",
       " 'The Flash 4x06 Ending Team Flash meets DeVoe',\n",
       " 'Street Food in Lombok - BEST GRILLED CHICKEN in the WORLD!!  Mataram, Indonesia!',\n",
       " 'Muqabil   15th November 2017',\n",
       " 'Most INSANE SSD RAID Setup – IT BOOTS!',\n",
       " 'Yung Dre ft V-Lo.. Guess Who (Studio session)',\n",
       " '[FULL]爱情保卫战：男友谎话连篇不可理喻 事事强词夺理惨遭拆穿 20171115【官方超清1080P】涂磊',\n",
       " '‘WACO’ Official Revelations Trailer Starring Michael Shannon & Taylor Kitsch | Paramount Network',\n",
       " 'Meek Mill Outrage',\n",
       " 'CHICKEN GIRLS | Annie & Hayden in “Photograph” | Ep. 7',\n",
       " \"The Pizza Show: NYC's Other Boroughs\",\n",
       " 'Anderson Cooper ASKS Jason Miller, “Is Donald Trump Jr. a Complete MO_RO_N?”',\n",
       " 'Tony Hawk Answers Skateboarding Questions From Twitter | Tech Support | WIRED',\n",
       " '中国财长的三句话火了，亿万中产家庭愁大了（20171114第250期）',\n",
       " 'Drop the Mic: Rascal Flatts vs Boyz II Men - FULL BATTLE | TBS',\n",
       " '2018 BMW M4 CS vs. 2018 Porsche 911 GTS - Head 2 Head Ep. 95',\n",
       " '10 Shocking Urban Legends That Turned Out To Be TRUE',\n",
       " '018 Algebra Lineal 18-10-2011',\n",
       " '[ENGSUB] 171115 MBC Weekly Idol EP329 with Super Junior - Yesung & Heechul fighting',\n",
       " 'UKG: Labi ni Franco Hernandez, nasa Arlington Memorial Chapels sa Quezon City',\n",
       " 'WHEN WE BECAME A COUPLE',\n",
       " 'ANTI-HAUL Holiday Gift Set Edition! Not Worth Your Money!',\n",
       " 'Good vybz only',\n",
       " 'Caldo Verde - Portuguese Sausage Kale Soup - Food Wishes',\n",
       " \"Jimmy Fallon CRIES During Taylor Swift's New Years Day Performance\",\n",
       " 'Need For Speed [IN REAL LIFE!!] 350Z',\n",
       " \"Eminem Performs 'Walk On Water' | MTV EMAs 2017 | Live Performance\",\n",
       " 'Claire Makes Brûléed Pumpkin Pie | From the Test Kitchen | Bon Appetit',\n",
       " \"Tu m'aimes tu me respectes ! (feat. JHON RACHID - AUDREY PIRAULT) - Parlons peu...\",\n",
       " 'Official Kia Stinger Pricing',\n",
       " 'WATCH: President Trump discusses trade, Asia trip',\n",
       " 'Marc Maron on the Louis C.K Allegations (11/13/2017)',\n",
       " '11.14 - NSA Breach/Trump Jr./Rothschild/Trump Major Statement',\n",
       " '【六點半新聞】2017 11 15【高鐵一地兩檢通過】38票贊成22票反對議案獲通過/袁國強：無諮詢不代表漠視民意/民主派批評政府通過一地兩檢動議製造假民意/沙田蘇浙公學8名師生患肺結核',\n",
       " 'Raptors 45 Points 2nd QTR Franchise Record! James Harden 38 Pts! 2017-18 Season',\n",
       " 'Tyron Woodley to defend his belt against Nate Diaz on Dec 30 at UFC 219?,DC on Volkan,Conor McGregor',\n",
       " 'Ryan Bang greets Vic Sotto on air!',\n",
       " \"L'OBJET QUI TE DONNE DES SUPER POUVOIRS !\",\n",
       " 'Deadpool’s “Wet on Wet” Teaser',\n",
       " 'Spill Your Guts or Fill Your Guts w/ Kim Kardashian',\n",
       " \"What's new, Atlas?\",\n",
       " 'Selling My iPhone X To a Machine at Walmart',\n",
       " 'Jimmy Fallon Pays Tribute to His Mother Gloria',\n",
       " \"Rick's Rant - Jason Kenney\",\n",
       " \"Brent Pella - Why You Shouldn't Fly on Spirit Airlines\",\n",
       " 'We Can All Do Better Than Roy Moore | November 15, 2017 Act 1 | Full Frontal on TBS',\n",
       " 'RAMPAGE - OFFICIAL TRAILER 1 [HD]',\n",
       " '猎场 | Game Of Hunting 20【TV版】（胡歌、張嘉譯、祖峰等主演）',\n",
       " 'Mean Tweets – Jimmy Kimmel Edition',\n",
       " 'How I Trained My Cats',\n",
       " 'DROPPING OUT OF AN EXAM PRANK!',\n",
       " 'PLUSH - Bad Unboxing Fan Mail',\n",
       " 'Sexual Harassment in Congress: A Closer Look',\n",
       " 'Telefoon (Full Song) Babbu Maan | Latest Punjabi Songs 2017 | Hey Yolo & Swag Music',\n",
       " 'Cards Against Humanity Saves America',\n",
       " '2oK - Count On Me',\n",
       " 'What Is The Most Dangerous Drug In The World? ft. In A Nutshell (Kurzgesagt)',\n",
       " 'ea',\n",
       " 'Everything Wrong With The Dark Tower In 17 Minutes Or Less',\n",
       " 'Gotta See It: Chaotic bench brawl erupts between Flames and Red Wings',\n",
       " '73 Questions With Liza Koshy | Vogue',\n",
       " 'A Quiet Place (2018) - Official Teaser Trailer - Paramount Pictures',\n",
       " 'Roy Moore Still Has Robots On His Side',\n",
       " 'You, but in emojis. (YIAY #375)',\n",
       " 'Emergence – How Stupid Things Become Smart Together',\n",
       " 'Slow Mo Katana Sword - 4K - The Slow Mo Guys',\n",
       " 'Bob Saget Hiccups Uncontrollably While Eating Spicy Wings | Hot Ones',\n",
       " 'StarCraft II Free to Play: Legacy',\n",
       " 'TEASER | DESIGNER | NIMRAT KHAIRA | DEEP JANDU| HAPPY RAIKOTI | HUMBLE MUSIC | RELEASING ON 20TH NOV',\n",
       " 'Walking while black',\n",
       " 'A New View - OnePlus 5T Launch Event Live',\n",
       " 'Dog & Beth: Fight of Their Lives | Official Trailer | Premieres November 27 | A&E',\n",
       " 'Kim Kardashian Lets Gender of Third Child Slip',\n",
       " 'Huge IGN Failure Exposed, Why Zoella Is Being Called a Scammer, and EA Comes Under Fire...',\n",
       " \"Rhett & Link's Buddy System Season 2  (Official Trailer)\",\n",
       " \"Miranda Sings Hijacks a Stranger's Tinder | Vanity Fair\",\n",
       " 'Cute Munda - Sharry Mann (Full Video Song) | Parmish Verma | Punjabi Songs 2017 | Lokdhun Punjabi',\n",
       " 'Pumpkin Pie - You Suck at Cooking (episode 68)',\n",
       " 'HOTEL TRANSYLVANIA 3 Official Trailer #1 (2018) Animated Movie HD',\n",
       " 'UNE HISTOIRE DE FABLES ! - LE RIRE JAUNE',\n",
       " '24 HOUR BOX FORT IN THE FORREST SURVIVAL CHALLENGE! 📦🌲 Coyotes, DIY Gear & More!',\n",
       " 'FLIPPING OVER SUPERCAR! *GONE VERY WRONG*',\n",
       " \"Fashion Photo Ruview: All Stars 3 RuPaul's Drag Race with Raja & Raven\",\n",
       " 'NERF Dungeons & Dragons Challenge! [Ep. 4]',\n",
       " 'Why Was Roy Moore “Banned From The Mall”? | The Daily Show',\n",
       " \"Remy Ma - Wake Me Up ft. Lil' Kim\",\n",
       " 'Rhett & Link REACT to Buddy System S2 Trailer Post Pepper Challenge',\n",
       " \"The Sorting Hat's BIG Secret | Harry Potter Theory\",\n",
       " 'Bangarang - Nostalgia Critic',\n",
       " 'Binging with Babish: Harry Potter Special',\n",
       " 'venting online about a hard part in a video game',\n",
       " 'What will happen to Frank?',\n",
       " 'Drake interrupts Australia show to tell fan to stop touching women',\n",
       " 'Destroying Unbreakable Phones!',\n",
       " 'Voyeur: Heating Up - PART 2 - Game Grumps',\n",
       " 'Baited! Ep #29 - FaZe Banks tells it all!',\n",
       " 'Arnold VS Megalodon',\n",
       " 'Yaaran Da Yaar | Harf Cheema | Deep Jandu | Sukh Sanghera | Latest Punjabi Song 2017 | Speed Records',\n",
       " \"YOU'RE LYING!!! Jeff Sessions GETS DESTROYED on His Russia Lies & Trump's Russia Ties\",\n",
       " 'Golden State Warriors vs Boston Celtics Full Game Highlights / Week 5 / 2017 NBA Season',\n",
       " 'Fox News’ Shep Smith Methodically Debunks Uranium One Conspiracy Theories',\n",
       " 'OnePlus 5T Unboxing - Is This The One?',\n",
       " 'Kurt Angle & The Shield lead a Raw raid of SmackDown: SmackDown LIVE, Nov. 14, 2017',\n",
       " 'Riverdale 2x07 Extended Promo Tales from the Darkside (HD) Season 2 Episode 7 Extended Promo',\n",
       " '《爸爸去哪儿5》第10期完整版20171116: Jasper嗯哼默契满分赢比赛 篝火晚会爸爸团大秀舞技 Dad Where Are We Going S05【湖南卫视官方频道】',\n",
       " 'Peephole Reverser? | 9 Pointless Tech Gadgets!',\n",
       " 'Jon Stewart: I Was ‘Shocked’ At Sexual Misconduct Accusations Against Louis C.K. | TODAY',\n",
       " 'The Problem with Lab Mice',\n",
       " 'A Boatload of Fails: Throwback Fails (November 2017) | FailArmy',\n",
       " 'LES PIRES PUBLICITÉS',\n",
       " 'TRY NOT LAUGH CHALLENGE #3 (Squad Vlogs)',\n",
       " 'i’m sorry',\n",
       " 'STRANGER JOKES : Jokes de Papa avec les teens de Stranger Things',\n",
       " 'Justice League - Movie Review',\n",
       " 'HELLO! Teaser - Akhil Akkineni, Kalyani Priyadarshan || Directed by Vikram K Kumar',\n",
       " 'Young Dolph Speaks On Issues With Yo Gotti, Family Struggles + More',\n",
       " '急诊科医生 | Emergency Physician 32（张嘉译、王珞丹、柯蓝等主演）',\n",
       " 'Stuffed Rolled Steak - Retro Recipe Review - brutalfoods',\n",
       " 'Toronto Raptors vs. New Orleans Pelicans - November 15, 2017',\n",
       " 'Priyamanaval Episode 866, 16/11/17',\n",
       " 'I Tried Period Yoga Pants',\n",
       " \"BTS (방탄소년단) 'MIC Drop (Steve Aoki Remix)' Official Teaser\",\n",
       " '#GiveAToast with Connor McDavid on November 20',\n",
       " 'Lie Detector | Anwar Jibawi',\n",
       " \"Lily's ART CLASS :D - temmie & scarra\",\n",
       " 'Landlord | ( Full HD) | Rajvir Jawanda Ft. Preet Hundal | New Punjabi Songs 2017',\n",
       " 'Top 5 OnePlus 5T Features!',\n",
       " 'Jimmy Kimmel monologue - Nov 15, 2017 Trump Water Scandal',\n",
       " \"The Voice 2017 Brooke Simpson - The Playoffs: It's a Man's Man's Man's World\",\n",
       " 'Wax Presidents Trailer: Last Week Tonight with John Oliver (HBO)',\n",
       " 'How-To Cook Breakfast Hash with Matty Matheson',\n",
       " 'KOKE (Full Video) | SUNANDA SHARMA | Latest Punjabi Songs 2017 | AMAR AUDIO',\n",
       " 'OrelSan - Tout va bien [CLIP OFFICIEL]',\n",
       " 'Joe Rogan on Louis CK',\n",
       " 'McDavid, Oilers rout Golden Knights in 8-2 win',\n",
       " 'Terry Crews: Speaks Out On Being Victim Of Sexual Harassment - GMA',\n",
       " 'Can We Go Vegan?! PT.2',\n",
       " \"DIY - Simon's Cat  | NEW BLACK & WHITE!\",\n",
       " 'LAURA LEE KICKS OFF WITH THOMAS HALBERT - CATS PAJAMAS EYE SHADOW PALETTE MAKEUP',\n",
       " \"SIMON COWELL STOPS THEM and Gives SECOND CHANCE! TOP Simon's DISCOVERY MOMENTS?\",\n",
       " \"The Mercedes CLK DTM Is the $450,000 Supercar You've Never Heard Of\",\n",
       " '《猎场》第21、22、23、24集最全预告集合：熊青春移情旧人去英国，惠成功跳槽',\n",
       " 'வாணி ராணி - VAANI RANI -  Episode 1419 - 16/11/2017',\n",
       " 'EPIC ART with KIDS ART SUPPLIES!?',\n",
       " 'Try Not To Laugh - WE BACK',\n",
       " 'How North West Is Handling Being a Big Sister Again',\n",
       " 'Honest Trailers - Batman Forever',\n",
       " 'TOP 10 des THÉORIES DU COMPLOT les plus CRÉDIBLES',\n",
       " 'Stephen A. Smith calls for LiAngelo Ball and UCLA players to be suspended | First Take | ESPN',\n",
       " 'People Guess Who is White In a Group of People - Lineup',\n",
       " 'LONG DISTANCE RELATIONSHIPS - Lunch Break!',\n",
       " 'I Built a Fort out of Red Cups & Spent the Night... It Was Funny AF (Sleep in a Cup House Challenge)',\n",
       " 'DIY Escape Room: Can They Build Their Way Out?',\n",
       " 'Exiled Chinese Billionaire Uses YouTube To Wage A War On Corruption (HBO)',\n",
       " '100TH EPISODE! - ICE CREAM CAKE CHALLENGE! | College Kids Vs. Food',\n",
       " 'TRANSFORMERS: THE LAST KNIGHT -ralphthemoviemaker',\n",
       " 'UCLA Basketball Players Admit To Shoplifting In China, Thank Trump | The View',\n",
       " 'Sean Hannity 11/15/17 - Hannity Fox News Today November 15, 2017',\n",
       " 'RAW Team Attack Smackdown Team - WWE Smackdown 14th November 2017',\n",
       " 'Internet - 1, EA - 0',\n",
       " 'Racist Superman | Rudy Mancuso, King Bach & Lele Pons',\n",
       " \"HOLO CAPPUCCINO | DIY Diamond Cappuccino test (maybe don't drink this?)\",\n",
       " 'Pennhurst Asylum - Q+A',\n",
       " 'Anime Crimes Division: Episode 1, ft. ProZD',\n",
       " 'Shower - Cyanide & Happiness Minis',\n",
       " 'Crime Patrol Dial 100 - क्राइम पेट्रोल - Ep 651 - Full Episode - 13th November, 2017',\n",
       " 'Le Coup de Foudre - Partie 2',\n",
       " 'THE MINI TAKER VS BANANA MAN • WWE 2K18 Tournament',\n",
       " 'Ex CIA- Robert David Steele - Trump Counter Coup In Play, Deep State, Pedophiles, Satanist Are Toast',\n",
       " 'Live with Dr.Shahid Masood | 16-November-2017 | Nawaz Sharif | Ishaq Dar | Sindh Operation |',\n",
       " '52歲的劉嘉玲已經懷孕2個月了，梁朝偉高興的合不攏嘴?',\n",
       " 'PONY THE GLOBETROTTER + GRWM (With subs) - New York 포니 더 글로브 트롯터 + 겟레디윗미 - 뉴욕 편',\n",
       " 'WE WANT TO TALK ABOUT OUR MARRIAGE',\n",
       " 'FURIOUS Showdown Between “Gordy” & Ungrateful Owner! | Kitchen Nightmares',\n",
       " 'Daldal Episode 14 HUM TV Drama - 16 November 2017',\n",
       " 'Stephen Colbert - Nov 14, 2017  : Sessions In The Hot Seat !',\n",
       " 'G-Eazy - The Beautiful & Damned (Audio) ft. Zoe Nash',\n",
       " 'John Oliver Tackles Louis C.K. And Donald Trump In Season Finale Featuring Tom Hanks',\n",
       " '26 SIMPLE WAYS TO SPEED UP YOUR EVERYDAY ROUTINE',\n",
       " 'The complicated history of surfing - Scott Laderman',\n",
       " '15 ÉNIGMES QUI METTRONT VOTRE CERVEAU À L’ÉPREUVE | Lama Faché',\n",
       " \"Gene Simmons To Women: Life Isn't Fair\",\n",
       " \"Grey's Anatomy 14x08  Ending / End Scene Jo & Husband Paul - Hey Brooke Season 14 Episode 8\",\n",
       " 'Our First Date',\n",
       " \"2017년 11월 16일 (목) 뉴스룸 다시보기 - 최경환에 '국정원 특활비' 전달 정황\",\n",
       " '5000HP DEVEL SIXTEEN !!! * CRAZIEST SUPERCAR EVER*',\n",
       " \"Woman Whose Mom Left When She Was 13 Says, 'I Have A Very Negative Outlook On Life'\",\n",
       " 'DUEL DE BLAGUES NULLES ! #2 (Vs Google Home)',\n",
       " 'Corey Feldman Reveals the Name of an Alleged Abuser',\n",
       " '10 Weird Bottle Openers put to the Test - Part 2',\n",
       " 'Manja: Sony Dhugga, Deep Jandu (Full Song) | Latest Punjabi Songs 2017 | T-Series',\n",
       " 'Dizzy Baseball Challenge!!',\n",
       " 'RHOBH: Official Season 6 First Look - Beverly Hills Is Back, Baby! | Bravo',\n",
       " 'Kim Kardashian West greets the audience on “The Late Late Show with James Corden,”',\n",
       " 'Super Mario Odyssey (Zero Punctuation)',\n",
       " 'Irish People Try Justice League Cocktails',\n",
       " \"Nick Jonas Answers the Web's Most Searched Questions | WIRED\",\n",
       " 'Street Food in Lombok - BEST GRILLED CHICKEN in the WORLD!!  Mataram, Indonesia!',\n",
       " \"Skip and Shannon react to Joel Embiid's 46-point, 15-rebound night vs the Lakers | UNDISPUTED\",\n",
       " 'Alabama Voters Continue Deliberation On Senate Candidate Roy Moore | Morning Joe | MSNBC',\n",
       " 'Teri Raza Episode 20 - 16th November 2017 - ARY Digital Drama',\n",
       " 'RNC update on Courtney Lake homicide',\n",
       " \"Red Velvet 레드벨벳 '피카부 (Peek-A-Boo)' Teaser Part.2\",\n",
       " 'CELEBRACIÓN CON LLANTOS DE LA SELECCIÓN PERÚ TRAS CLASIFICAR AL MUNDIAL LUEGO DE 36 AÑOS',\n",
       " 'Homemade Vs. Store-bought: Cinnamon Rolls',\n",
       " 'I Dare You: GOING BALD!?',\n",
       " 'Found Possible Human Bone, 2 Knives and Diamonds Underwater in River! (Scuba Diving)',\n",
       " \"Nicki Minaj's Paper Magazine Cover\",\n",
       " 'ULTIMATE SEPHORA GUIDE #TatiApproved',\n",
       " \"Avant d'être morte - Épisode 03\",\n",
       " 'SootHouse Fixes Your Life #1',\n",
       " 'Слуга Народа 2 - От любви до импичмента, 24 серия',\n",
       " 'This Healthy Tiny Home Gives A Young Family A Bright Future',\n",
       " 'KUWTK | Kris Jenner Brings Her Personal Scribe to Lunch | E!',\n",
       " 'Budweiser | One Last Ride',\n",
       " 'Golden Knights Goalie Injuries',\n",
       " '6 ASTUCES pour SURVIVRE AUX ANIMAUX SAUVAGES',\n",
       " 'How to Build a Paint Stick Puzzle Box',\n",
       " 'What To Buy HER: Christmas 2017 | FleurDeForce',\n",
       " 'Fall Out Boy - HOLD ME TIGHT OR DON’T',\n",
       " 'BMW M3 - Everything You Need to Know | Up to Speed',\n",
       " 'Tibo InShape - Papy InShape (clip officiel)',\n",
       " 'WWE Smackdown 14 November Highlights HD - WWE Smackdown 14/11/2017 Highlights HD',\n",
       " 'Jason Momoa Made A Grave Mistake While Shooting in Ice Cold Water - The Graham Norton Show',\n",
       " \"What's inside a Cocao Pod?\",\n",
       " 'PLAYING PHONE TAG WITH DEVIN BOOKER! *Basketball Game*',\n",
       " '2017.11.15新聞深喉嚨\\u3000否認錄音檔喬24億說\\u3000府：不受犯罪嫌疑人影射\\u3000能撇清？',\n",
       " 'CNN Panel ERUPTS When Paris Dennard  Pokes Fun at Jeff Sessions MEMORY, I Cannot Recall',\n",
       " '（画在脸上的SEPHORA HAUL！)  红色秋冬新品妆容 | 小眼睛怎么hold住大热的红色系妆容？ft. Huda Beauty 九色眼影盘| AUTUMN MAUVE LOOK',\n",
       " 'Eminem - Walk On Water (Audio) ft. Beyoncé',\n",
       " 'How to Make Plasma in Your Microwave ... With a Grape',\n",
       " 'Ryan Bang greets Vic Sotto on air!',\n",
       " 'A Perfect Circle - The Doomed [Official Video]',\n",
       " '#619【谷阿莫】4分鐘隨便認識即將上映的正義聯盟成員',\n",
       " 'ARGENTINA vs NIGERIA 2-4 ● All Goals & Highlights HD ● 14 Nov 2017 - FRIENDLY',\n",
       " 'Kuladheivam SUN TV Episode - 773 (15-11-17)',\n",
       " 'Jason Momoa Shows Off His Aquaman Quindent | The Graham Norton Show',\n",
       " 'Machine Gun Kelly, X Ambassadors & Bebe Rexha - Home (from Bright: The Album) [Official Audio]',\n",
       " 'Deadpool’s “Wet on Wet” Teaser',\n",
       " 'Spill Your Guts or Fill Your Guts w/ Kim Kardashian',\n",
       " \"What's new, Atlas?\",\n",
       " 'Cute Munda - Sharry Mann (Full Video Song) | Parmish Verma | Punjabi Songs 2017 | Lokdhun Punjabi',\n",
       " 'RAMPAGE - OFFICIAL TRAILER 1 [HD]',\n",
       " 'Gotta See It: Chaotic bench brawl erupts between Flames and Red Wings',\n",
       " 'ea',\n",
       " 'Sexual Harassment in Congress: A Closer Look',\n",
       " 'HOTEL TRANSYLVANIA 3 Official Trailer #1 (2018) Animated Movie HD',\n",
       " 'What Is The Most Dangerous Drug In The World? ft. In A Nutshell (Kurzgesagt)',\n",
       " 'A Quiet Place (2018) - Official Teaser Trailer - Paramount Pictures',\n",
       " 'The Bipartisan Pastime Of Harassing Women',\n",
       " 'Jimmy Kimmel Monologue 11/16/17 Kimmel Tackles Al Franken, Updates Roy Moore',\n",
       " 'DE L’ACIDE SUR UNE POMME ? Will it dissolve',\n",
       " \"Rick's Rant - Jason Kenney\",\n",
       " 'Selling My iPhone X To a Machine at Walmart',\n",
       " '2oK - Count On Me',\n",
       " 'Luis Fonsi, Demi Lovato - Échame La Culpa',\n",
       " 'We Can All Do Better Than Roy Moore | November 15, 2017 Act 1 | Full Frontal on TBS',\n",
       " 'Your Tooth Is Missing: Best Fails of the Week (November 2017) | FailArmy',\n",
       " 'GIANT Ramen Challenge (vs Morgan) (3,000,000 Sub Video!)',\n",
       " 'Stephen Colbert Monologue 11/16/17 - Al Franken',\n",
       " 'Pasta | Basics with Babish',\n",
       " 'Emergence – How Stupid Things Become Smart Together',\n",
       " 'Tesla Semi truck and Roadster event in 9 minutes',\n",
       " 'Jimmy Fallon Pays Tribute to His Mother Gloria',\n",
       " \"Brent Pella - Why You Shouldn't Fly on Spirit Airlines\",\n",
       " '猎场 | Game Of Hunting 20【TV版】（胡歌、張嘉譯、祖峰等主演）',\n",
       " 'WE ARE ALL GOING TO D1E.',\n",
       " '【Full】《极限挑战III》第12期20171117：孙红雷张艺兴回忆杀 黄渤化身游客拍照不停 Go Fighting S3 EP.12【东方卫视官方高清】',\n",
       " '73 Questions With Liza Koshy | Vogue',\n",
       " 'Hells Kitchen Season 17 Episode 7 - Trimming Fat',\n",
       " 'How I Trained My Cats',\n",
       " 'DROPPING OUT OF AN EXAM PRANK!',\n",
       " 'Telefoon (Full Song) Babbu Maan | Latest Punjabi Songs 2017 | Hey Yolo & Swag Music',\n",
       " 'What Does The Sign Say? (GAME)',\n",
       " 'Mean Tweets – Jimmy Kimmel Edition',\n",
       " 'Bob Saget Hiccups Uncontrollably While Eating Spicy Wings | Hot Ones',\n",
       " 'Everything Wrong With The Dark Tower In 17 Minutes Or Less',\n",
       " \"Roy Moore's Fake News | The Daily Show\",\n",
       " 'TRY NOT LAUGH CHALLENGE #3 (Squad Vlogs)',\n",
       " 'The environmental cost of free two-day shipping',\n",
       " 'Green Day - Back In The USA (Official Music Video)',\n",
       " 'Cards Against Humanity Saves America',\n",
       " \"The First Doctor Enters The Twelfth Doctor's TARDIS - Christmas Special Preview - Doctor Who - BBC\",\n",
       " '24 HOUR BOX FORT IN THE FORREST SURVIVAL CHALLENGE! 📦🌲 Coyotes, DIY Gear & More!',\n",
       " 'Golden State Warriors vs Boston Celtics Full Game Highlights / Week 5 / 2017 NBA Season',\n",
       " 'Mythical Crew Undercover Interview',\n",
       " \"Remy Ma - Wake Me Up ft. Lil' Kim\",\n",
       " 'Sheldon parents taking Sheldon to family Psychiatrist',\n",
       " \"Equipe d'Algérie : Rabah Madjer - Maamar Djebbour c'est  le clash\",\n",
       " 'PANCAKE ART!! Did I FAIL or NAIL IT? (ft. HowToCookThat)',\n",
       " 'TEASER | DESIGNER | NIMRAT KHAIRA | DEEP JANDU| HAPPY RAIKOTI | HUMBLE MUSIC | RELEASING ON 20TH NOV',\n",
       " 'i’m sorry',\n",
       " 'Origin of STINGS!',\n",
       " 'The Secret Protocol for When the Queen Dies',\n",
       " 'PLUSH - Bad Unboxing Fan Mail',\n",
       " 'You, but in emojis. (YIAY #375)',\n",
       " 'Paramore: Fake Happy [OFFICIAL VIDEO]',\n",
       " 'Baited! Ep #29 - FaZe Banks tells it all!',\n",
       " \"Fashion Photo Ruview: All Stars 3 RuPaul's Drag Race with Raja & Raven\",\n",
       " '急诊科医生 | Emergency Physician 34（张嘉译、王珞丹、柯蓝等主演）',\n",
       " 'Roadster',\n",
       " 'Arnold VS Megalodon',\n",
       " 'Tesla Roadster 2020 Presentation Extended Highlights',\n",
       " '《猎场》22、23、24、25集最全预告集合：郑秋冬误会罗伊人有新恋情，第一次猎头成功，闽京会面涂方至',\n",
       " \"Let's Talk About Tesla Roadster 2020!\",\n",
       " 'Leeann Tweeden Reads Apology Letter From Sen. Al Franken | The View',\n",
       " '#GiveAToast with Connor McDavid on November 20',\n",
       " 'Internet - 1, EA - 0',\n",
       " \"Red Velvet 레드벨벳 '피카부 (Peek-A-Boo)' MV\",\n",
       " 'GIANT Skeeball!!',\n",
       " \"The Sorting Hat's BIG Secret | Harry Potter Theory\",\n",
       " \"BTS Boys Reveal Fans' Weirdest Requests and More! | E! Live from the Red Carpet\",\n",
       " \"Miranda Sings Hijacks a Stranger's Tinder | Vanity Fair\",\n",
       " 'Slow Mo Katana Sword - 4K - The Slow Mo Guys',\n",
       " 'Priyamanaval Episode 867, 17/11/17',\n",
       " 'Glitter Purple Sunset | Morphe 39A - Colourpop SUPERNOVA Shadow + NEW UD All Nighter Concealer!',\n",
       " 'Drake interrupts Australia show to tell fan to stop touching women',\n",
       " 'Voyeur: The Truth Comes Out - FINALE - Game Grumps',\n",
       " 'Dog & Beth: Fight of Their Lives | Official Trailer | Premieres November 27 | A&E',\n",
       " 'StarCraft II Free to Play: Legacy',\n",
       " 'A New View - OnePlus 5T Launch Event Live',\n",
       " 'The Strangers: Prey at Night  - OFFICIAL TEASER TRAILER - In Theaters this March',\n",
       " '《爸爸去哪儿5》第10期完整版20171116: Jasper嗯哼默契满分赢比赛 篝火晚会爸爸团大秀舞技 Dad Where Are We Going S05【湖南卫视官方频道】',\n",
       " 'Quand les YouTubers vous arnaquent ! (MISS BONGO)',\n",
       " 'NERF Modded Gun Showdown!',\n",
       " 'COLLEGE KIDS REACT TO TAYLOR SWIFT - REPUTATION (Full Album Reaction)',\n",
       " 'Kim Kardashian Lets Gender of Third Child Slip',\n",
       " 'New Eritrean Drama 2017 Nabrana S02 Part 15',\n",
       " 'Time Traveler Who Has Been to The Year 2118 Speaks Out',\n",
       " 'Pumpkin Pie - You Suck at Cooking (episode 68)',\n",
       " \"Avant d'être morte - Épisode 04\",\n",
       " 'New  Eritrean film Dama (ዳማ ) part  14 Shalom Entertainment 2017',\n",
       " '10 CHOSES INCROYABLES QUE SEULS LES RICHES PEUVENT ACHETER | Lama Faché',\n",
       " 'Abandoned - Sears Canada',\n",
       " 'DIY LAPTOP!!! Evan Builds His First Computer!  Coding with Kano!',\n",
       " 'Golden Knights score three in the 3rd to beat Canucks',\n",
       " 'Fox News’ Shep Smith Methodically Debunks Uranium One Conspiracy Theories',\n",
       " \"SIMON COWELL STOPS THEM and Gives SECOND CHANCE! TOP Simon's DISCOVERY MOMENTS?\",\n",
       " 'UNE HISTOIRE DE FABLES ! - LE RIRE JAUNE',\n",
       " 'Live with Dr.Shahid Masood | 16-November-2017 | Nawaz Sharif | Ishaq Dar | Sindh Operation |',\n",
       " 'Destroying Unbreakable Phones!',\n",
       " 'Mersal - Maacho Tamil Video | Vijay, Kajal Aggarwal | A.R. Rahman',\n",
       " '[ FULL ] 林俊杰张靓颖“双J”同台飙歌 林忆莲神级演绎张惠妹经典 李荣浩“放狠话”改编神曲《梦想的声音2》EP.3 20171117 /浙江卫视官方HD/',\n",
       " 'Peposo - Tuscan Black Pepper Beef - Food Wishes',\n",
       " 'Huge IGN Failure Exposed, Why Zoella Is Being Called a Scammer, and EA Comes Under Fire...',\n",
       " 'Inside the NBA: The Crew Reacts to Warriors Upset by Celtics | Game Highlights and Analysis',\n",
       " 'Femininity So Fragile',\n",
       " '[FULL] BTS (방탄소년단) - INTERVIEW With Jojo @ KIIS FM 20171117',\n",
       " 'Papa Bad Buzz',\n",
       " 'Elon Musk Reveals the Dream Truck: Tesla Semi.',\n",
       " 'What will happen to Frank?',\n",
       " 'வாணி ராணி - VAANI RANI -  Episode 1419 - 16/11/2017',\n",
       " 'FLIPPING OVER SUPERCAR! *GONE VERY WRONG*',\n",
       " 'Why President Donald Trump Could Be Brought Back Into Harassment Conversation | Morning Joe | MSNBC',\n",
       " 'Crime Patrol Dial 100 - क्राइम पेट्रोल - Ep 652 - Full Episode - 14th November, 2017',\n",
       " 'Yaaran Da Yaar | Harf Cheema | Deep Jandu | Sukh Sanghera | Latest Punjabi Song 2017 | Speed Records',\n",
       " 'overprotective dog parent 2',\n",
       " 'Joseline Hernandez Drops A Weak Diss Track Aimed At Cardi B.',\n",
       " 'VICIOUS Republican Tax Plan Passes House',\n",
       " 'Found Possible Human Bone, 2 Knives and Diamonds Underwater in River! (Scuba Diving)',\n",
       " 'RHOBH: Official Season 8 First Look - Beverly Hills Is Back, Baby! | Bravo',\n",
       " 'Naachiyaar - Official Teaser I Director Bala I Ilaiyaraaja I Jyotika, G.V. Prakash Kumar',\n",
       " 'گزینش هرات -  فصل سیزدهم ستاره افغان - قسمت ۰۳ / Herat Auditions - Afghan Star S13 - Ep.03',\n",
       " 'New Tesla Roadster 2020 Unveiled by Elon Musk - 2017-11-16 [Full HD]',\n",
       " 'OnePlus 5T Unboxing - Is This The One?',\n",
       " 'Bangarang - Nostalgia Critic',\n",
       " 'CNN’s Chris Cuomo and Stelter Mocks Hannity’s Ultimatum on Roy Moore',\n",
       " 'Parents and Kids Play Truth or Drink (Duranged & Debi)',\n",
       " 'FOR REAL (Mark Angel Comedy) (Episode 135)',\n",
       " 'Should One Bad Apple Spoil the Holiday Party?',\n",
       " 'Anes Tina Rani za3fane , راني زعفان',\n",
       " 'How-To Cook Breakfast Hash with Matty Matheson',\n",
       " 'Try Not To Laugh - WE BACK',\n",
       " \"Nicki Minaj's Paper Magazine Cover\",\n",
       " 'Landlord | ( Full HD) | Rajvir Jawanda Ft. Preet Hundal | New Punjabi Songs 2017',\n",
       " 'Titans vs. Steelers | NFL Week 11 Game Highlights',\n",
       " 'Why Are Taxes So Complicated? (The Musical?)',\n",
       " 'venting online about a hard part in a video game',\n",
       " 'HELLO! Teaser - Akhil Akkineni, Kalyani Priyadarshan || Directed by Vikram K Kumar',\n",
       " \"Nick Jonas Answers the Web's Most Searched Questions | WIRED\",\n",
       " \"YOU'RE LYING!!! Jeff Sessions GETS DESTROYED on His Russia Lies & Trump's Russia Ties\",\n",
       " 'RAW Team Attack Smackdown Team - WWE Smackdown 14th November 2017',\n",
       " \"It's Showtime Miss Q & A: Vice and Vhong poke fun at each other during Miss Q & A\",\n",
       " '뮤직뱅크 Music Bank - 피카부(Peek-A-Boo) - 레드벨벳 (Peek-A-Boo - Red Velvet).20171117',\n",
       " 'Drunk Irish People Try An Escape Room',\n",
       " \"The Voice 2017 Brooke Simpson - The Playoffs: It's a Man's Man's Man's World\",\n",
       " 'وزير خارجية فرنسا يصل الى السعوديه  وياخذ الحريرى وعائلته معه الى فرنسا ومنها الى لبنان',\n",
       " 'Eat Bulaga! (November 18, 2017)',\n",
       " '抓到了！慶富父子進蔡英文總統府  一次搞定24億？少康戰情室 20171116 (完整版)',\n",
       " 'Jon Stewart: I Was ‘Shocked’ At Sexual Misconduct Accusations Against Louis C.K. | TODAY',\n",
       " '5 Grilled Cheese Recipes',\n",
       " 'Kuladheivam SUN TV Episode - 775 (17-11-17)',\n",
       " 'Bendy: Chapter Four - NOW IN PRODUCTION!',\n",
       " 'The Problem with Lab Mice',\n",
       " '100TH EPISODE! - ICE CREAM CAKE CHALLENGE! | College Kids Vs. Food',\n",
       " 'JRE MMA Show #1',\n",
       " 'Golden State Warriors vs Boston Celtics - Full Game Highlights | Nov 16 | 2017-18 NBA Season',\n",
       " 'GORILLAZ ARE COMING HOME #HUMANZWORLDTOUR',\n",
       " 'Kurt Angle & The Shield lead a Raw raid of SmackDown: SmackDown LIVE, Nov. 14, 2017',\n",
       " 'Anime Crimes Division: Episode 1, ft. ProZD',\n",
       " 'Warriors Blew 17 Pt Lead! Celtics 14 Game Win Streak! Warriors vs Celtics 2017-18 Season',\n",
       " 'Peephole Reverser? | 9 Pointless Tech Gadgets!',\n",
       " 'Justice League - Movie Review',\n",
       " 'Daldal Episode 14 HUM TV Drama - 16 November 2017',\n",
       " \"BREAKING NEWS TRUMP 11/16/17: Hillary Clinton's email probe special status\",\n",
       " 'Liangelo Ball, Cody Riley & Jalen Hill Comments on Shoplifting in China',\n",
       " '6 ASTUCES pour SURVIVRE AUX ANIMAUX SAUVAGES',\n",
       " 'LONG DISTANCE RELATIONSHIPS - Lunch Break!',\n",
       " \"Sarah 'Huckabee' Sanders gets ANNOYED on roy moore questions & al franken leeann tweeden\",\n",
       " 'Arrow 6x07 Promo Thanksgiving (HD) Season 6 Episode 7 Promo',\n",
       " \"DIY - Simon's Cat  | NEW BLACK & WHITE!\",\n",
       " 'The big bang theory S11 E08: Cherry on top',\n",
       " 'Montreal',\n",
       " 'STRANGER JOKES : Jokes de Papa avec les teens de Stranger Things',\n",
       " 'TESTING VIRAL INSTAGRAM SLIME TRENDS! RAINBOW GLITTER SLIME, INSTANT CLEAR SLIME, NAPPY SLIME + MORE',\n",
       " 'Golden State Warriors vs Boston Celtics: November 16, 2017',\n",
       " 'I Tried Period Yoga Pants',\n",
       " 'KOKE (Full Video) | SUNANDA SHARMA | Latest Punjabi Songs 2017 | AMAR AUDIO',\n",
       " 'GUESS THE FILM CHALLENGE!',\n",
       " 'Stuffed Rolled Steak - Retro Recipe Review - brutalfoods',\n",
       " \"Free Speech Protesters Can't Compete with Ben Shapiro Supporters at UCLA\",\n",
       " 'Machine Gun Kelly, X Ambassadors & Bebe Rexha - Home (from Bright: The Album) [Official Audio]',\n",
       " '17 Funny Hacks That Work Magic',\n",
       " \"Dropping an iPhone X Down 4000 FT Deep Hole! - What's In There?\",\n",
       " \"The Mercedes CLK DTM Is the $450,000 Supercar You've Never Heard Of\",\n",
       " 'Q Clearance Patriot #4chan #QAnon Drops — The Coming Storm & Reconstituted Revolution #Oligarchicide',\n",
       " \"BTS On Their Upcoming AMAs Performance: 'It's Unbelievable!' | Access Hollywood\",\n",
       " '2017.11.16新聞深喉嚨\\u3000又是黃志芳！巴紐案搬10億\\u300010年後幫慶富喬24億',\n",
       " \"2017년 11월 17일 (금) 뉴스룸 다시보기 - '다스 실소유주' 관련 첫 실명 증언\",\n",
       " 'Skinny Girl In Transit S4E8 : Bittersweet',\n",
       " 'LES PIRES PUBLICITÉS',\n",
       " '2017.11.15郭文贵登上美国主流媒体HBO完美穿越防火墙，进入中国各大酒店',\n",
       " '趙薇黃有龍夫婦不服判決、反抗習大大、這陝西包子算老幾！',\n",
       " 'Surprising my Mom with Her Dream Car!!!',\n",
       " \"Treat Yo' Self: MOST EXPENSIVEST (Full Episode)\",\n",
       " 'Hailee Steinfeld, Alesso - Let Me Go ft. Florida Georgia Line, watt',\n",
       " 'CELEBRACIÓN CON LLANTOS DE LA SELECCIÓN PERÚ TRAS CLASIFICAR AL MUNDIAL LUEGO DE 36 AÑOS',\n",
       " 'Lie Detector | Anwar Jibawi',\n",
       " ...]"
      ]
     },
     "execution_count": 57,
     "metadata": {},
     "output_type": "execute_result"
    }
   ],
   "source": [
    "trimmed_dataframe[\"title\"].tolist()\n",
    "# this line does the same exact thing\n",
    "# list(dataframe['name'])"
   ]
  },
  {
   "cell_type": "markdown",
   "metadata": {
    "id": "nawLNFTNqVB0"
   },
   "source": [
    "# **Very Useful Tip**: \n",
    "Use `type(obj)` to learn about how the dataframe works to help prevent type mismatches.   \n",
    "\n",
    "Notice that *dataframe.values* is a numpy array. \n",
    "\n",
    "\n"
   ]
  },
  {
   "cell_type": "code",
   "execution_count": 58,
   "metadata": {
    "id": "Gym9rdFZq230"
   },
   "outputs": [
    {
     "data": {
      "text/plain": [
       "pandas.core.frame.DataFrame"
      ]
     },
     "execution_count": 58,
     "metadata": {},
     "output_type": "execute_result"
    }
   ],
   "source": [
    "type(trimmed_dataframe)"
   ]
  },
  {
   "cell_type": "code",
   "execution_count": 59,
   "metadata": {
    "id": "fhWxpa1Zq7-6"
   },
   "outputs": [
    {
     "data": {
      "text/plain": [
       "numpy.ndarray"
      ]
     },
     "execution_count": 59,
     "metadata": {},
     "output_type": "execute_result"
    }
   ],
   "source": [
    "type(trimmed_dataframe.values)"
   ]
  },
  {
   "cell_type": "code",
   "execution_count": 60,
   "metadata": {
    "id": "K9gsXpv3rIkJ"
   },
   "outputs": [
    {
     "data": {
      "text/plain": [
       "pandas.core.indexes.base.Index"
      ]
     },
     "execution_count": 60,
     "metadata": {},
     "output_type": "execute_result"
    }
   ],
   "source": [
    "type(trimmed_dataframe.columns)"
   ]
  },
  {
   "cell_type": "code",
   "execution_count": 61,
   "metadata": {
    "id": "SJ65Msa_rUbS",
    "scrolled": true
   },
   "outputs": [
    {
     "data": {
      "text/plain": [
       "list"
      ]
     },
     "execution_count": 61,
     "metadata": {},
     "output_type": "execute_result"
    }
   ],
   "source": [
    "type(trimmed_dataframe.columns.values.tolist())"
   ]
  },
  {
   "cell_type": "markdown",
   "metadata": {
    "id": "QydDeO9otkNb"
   },
   "source": [
    "We can extract the numerical and categorical values from a DataFrame into a Numpy array. \n"
   ]
  },
  {
   "cell_type": "code",
   "execution_count": 62,
   "metadata": {
    "id": "73HFNkJ817pb"
   },
   "outputs": [],
   "source": [
    "# slices everything into the a numpy7 data array\n",
    "data_array = trimmed_dataframe.values[:, :]"
   ]
  },
  {
   "cell_type": "markdown",
   "metadata": {
    "id": "i0VSLeaouEXi"
   },
   "source": [
    "QUESTION: Show the key three attributes of the numpy array above (3 points)\n"
   ]
  },
  {
   "cell_type": "code",
   "execution_count": 63,
   "metadata": {
    "id": "b_OMeN13uCtU"
   },
   "outputs": [
    {
     "data": {
      "text/plain": [
       "2"
      ]
     },
     "execution_count": 63,
     "metadata": {},
     "output_type": "execute_result"
    }
   ],
   "source": [
    "trimmed_dataframe.ndim"
   ]
  },
  {
   "cell_type": "code",
   "execution_count": 64,
   "metadata": {
    "id": "SQsSrZvGXt1V"
   },
   "outputs": [
    {
     "data": {
      "text/plain": [
       "(40881, 14)"
      ]
     },
     "execution_count": 64,
     "metadata": {},
     "output_type": "execute_result"
    }
   ],
   "source": [
    "trimmed_dataframe.shape\n"
   ]
  },
  {
   "cell_type": "code",
   "execution_count": 65,
   "metadata": {
    "id": "O-ZHU103uRBO"
   },
   "outputs": [
    {
     "data": {
      "text/plain": [
       "572334"
      ]
     },
     "execution_count": 65,
     "metadata": {},
     "output_type": "execute_result"
    }
   ],
   "source": [
    "trimmed_dataframe.size\n"
   ]
  },
  {
   "cell_type": "markdown",
   "metadata": {
    "id": "GwbJRB6kuXNU"
   },
   "source": [
    "QUESTION: Show the first 5 rows and the last column (3 points)"
   ]
  },
  {
   "cell_type": "code",
   "execution_count": 66,
   "metadata": {
    "id": "D_XM3_kluVxe"
   },
   "outputs": [
    {
     "data": {
      "text/html": [
       "<div>\n",
       "<style scoped>\n",
       "    .dataframe tbody tr th:only-of-type {\n",
       "        vertical-align: middle;\n",
       "    }\n",
       "\n",
       "    .dataframe tbody tr th {\n",
       "        vertical-align: top;\n",
       "    }\n",
       "\n",
       "    .dataframe thead th {\n",
       "        text-align: right;\n",
       "    }\n",
       "</style>\n",
       "<table border=\"1\" class=\"dataframe\">\n",
       "  <thead>\n",
       "    <tr style=\"text-align: right;\">\n",
       "      <th></th>\n",
       "      <th>video_error_or_removed</th>\n",
       "    </tr>\n",
       "  </thead>\n",
       "  <tbody>\n",
       "    <tr>\n",
       "      <th>0</th>\n",
       "      <td>False</td>\n",
       "    </tr>\n",
       "    <tr>\n",
       "      <th>1</th>\n",
       "      <td>False</td>\n",
       "    </tr>\n",
       "    <tr>\n",
       "      <th>2</th>\n",
       "      <td>False</td>\n",
       "    </tr>\n",
       "    <tr>\n",
       "      <th>3</th>\n",
       "      <td>False</td>\n",
       "    </tr>\n",
       "    <tr>\n",
       "      <th>4</th>\n",
       "      <td>False</td>\n",
       "    </tr>\n",
       "  </tbody>\n",
       "</table>\n",
       "</div>"
      ],
      "text/plain": [
       "   video_error_or_removed\n",
       "0                   False\n",
       "1                   False\n",
       "2                   False\n",
       "3                   False\n",
       "4                   False"
      ]
     },
     "execution_count": 66,
     "metadata": {},
     "output_type": "execute_result"
    }
   ],
   "source": [
    "trimmed_dataframe[[\"video_error_or_removed\"]].head()"
   ]
  },
  {
   "cell_type": "markdown",
   "metadata": {
    "id": "m4hiuMnNvJbY"
   },
   "source": [
    "QUESTION: Sort the df by the most disliked videos. (3 points)\n",
    "\n",
    "Use .head() for your answer\n",
    "\n"
   ]
  },
  {
   "cell_type": "code",
   "execution_count": 67,
   "metadata": {
    "id": "zfmDBsxmw2u4"
   },
   "outputs": [
    {
     "data": {
      "text/html": [
       "<div>\n",
       "<style scoped>\n",
       "    .dataframe tbody tr th:only-of-type {\n",
       "        vertical-align: middle;\n",
       "    }\n",
       "\n",
       "    .dataframe tbody tr th {\n",
       "        vertical-align: top;\n",
       "    }\n",
       "\n",
       "    .dataframe thead th {\n",
       "        text-align: right;\n",
       "    }\n",
       "</style>\n",
       "<table border=\"1\" class=\"dataframe\">\n",
       "  <thead>\n",
       "    <tr style=\"text-align: right;\">\n",
       "      <th></th>\n",
       "      <th>trending_date</th>\n",
       "      <th>title</th>\n",
       "      <th>channel_title</th>\n",
       "      <th>category_id</th>\n",
       "      <th>publish_time</th>\n",
       "      <th>tags</th>\n",
       "      <th>views</th>\n",
       "      <th>likes</th>\n",
       "      <th>dislikes</th>\n",
       "      <th>comment_count</th>\n",
       "      <th>thumbnail_link</th>\n",
       "      <th>comments_disabled</th>\n",
       "      <th>ratings_disabled</th>\n",
       "      <th>video_error_or_removed</th>\n",
       "    </tr>\n",
       "  </thead>\n",
       "  <tbody>\n",
       "    <tr>\n",
       "      <th>5900</th>\n",
       "      <td>17.13.12</td>\n",
       "      <td>YouTube Rewind: The Shape of 2017 | #YouTubeRe...</td>\n",
       "      <td>YouTube Spotlight</td>\n",
       "      <td>24</td>\n",
       "      <td>2017-12-06T17:58:51.000Z</td>\n",
       "      <td>Rewind|\"Rewind 2017\"|\"youtube rewind 2017\"|\"#Y...</td>\n",
       "      <td>137843120</td>\n",
       "      <td>3014479</td>\n",
       "      <td>1602383</td>\n",
       "      <td>817582</td>\n",
       "      <td>https://i.ytimg.com/vi/FlsCjmMhFmw/default.jpg</td>\n",
       "      <td>False</td>\n",
       "      <td>False</td>\n",
       "      <td>False</td>\n",
       "    </tr>\n",
       "    <tr>\n",
       "      <th>5623</th>\n",
       "      <td>17.12.12</td>\n",
       "      <td>YouTube Rewind: The Shape of 2017 | #YouTubeRe...</td>\n",
       "      <td>YouTube Spotlight</td>\n",
       "      <td>24</td>\n",
       "      <td>2017-12-06T17:58:51.000Z</td>\n",
       "      <td>Rewind|\"Rewind 2017\"|\"youtube rewind 2017\"|\"#Y...</td>\n",
       "      <td>125431369</td>\n",
       "      <td>2912715</td>\n",
       "      <td>1545018</td>\n",
       "      <td>807558</td>\n",
       "      <td>https://i.ytimg.com/vi/FlsCjmMhFmw/default.jpg</td>\n",
       "      <td>False</td>\n",
       "      <td>False</td>\n",
       "      <td>False</td>\n",
       "    </tr>\n",
       "    <tr>\n",
       "      <th>5398</th>\n",
       "      <td>17.11.12</td>\n",
       "      <td>YouTube Rewind: The Shape of 2017 | #YouTubeRe...</td>\n",
       "      <td>YouTube Spotlight</td>\n",
       "      <td>24</td>\n",
       "      <td>2017-12-06T17:58:51.000Z</td>\n",
       "      <td>Rewind|\"Rewind 2017\"|\"youtube rewind 2017\"|\"#Y...</td>\n",
       "      <td>113876217</td>\n",
       "      <td>2811217</td>\n",
       "      <td>1470387</td>\n",
       "      <td>787174</td>\n",
       "      <td>https://i.ytimg.com/vi/FlsCjmMhFmw/default.jpg</td>\n",
       "      <td>False</td>\n",
       "      <td>False</td>\n",
       "      <td>False</td>\n",
       "    </tr>\n",
       "    <tr>\n",
       "      <th>5197</th>\n",
       "      <td>17.10.12</td>\n",
       "      <td>YouTube Rewind: The Shape of 2017 | #YouTubeRe...</td>\n",
       "      <td>YouTube Spotlight</td>\n",
       "      <td>24</td>\n",
       "      <td>2017-12-06T17:58:51.000Z</td>\n",
       "      <td>Rewind|\"Rewind 2017\"|\"youtube rewind 2017\"|\"#Y...</td>\n",
       "      <td>100911567</td>\n",
       "      <td>2656678</td>\n",
       "      <td>1353655</td>\n",
       "      <td>682890</td>\n",
       "      <td>https://i.ytimg.com/vi/FlsCjmMhFmw/default.jpg</td>\n",
       "      <td>False</td>\n",
       "      <td>False</td>\n",
       "      <td>False</td>\n",
       "    </tr>\n",
       "    <tr>\n",
       "      <th>4996</th>\n",
       "      <td>17.09.12</td>\n",
       "      <td>YouTube Rewind: The Shape of 2017 | #YouTubeRe...</td>\n",
       "      <td>YouTube Spotlight</td>\n",
       "      <td>24</td>\n",
       "      <td>2017-12-06T17:58:51.000Z</td>\n",
       "      <td>Rewind|\"Rewind 2017\"|\"youtube rewind 2017\"|\"#Y...</td>\n",
       "      <td>75969469</td>\n",
       "      <td>2251826</td>\n",
       "      <td>1127811</td>\n",
       "      <td>827755</td>\n",
       "      <td>https://i.ytimg.com/vi/FlsCjmMhFmw/default.jpg</td>\n",
       "      <td>False</td>\n",
       "      <td>False</td>\n",
       "      <td>False</td>\n",
       "    </tr>\n",
       "  </tbody>\n",
       "</table>\n",
       "</div>"
      ],
      "text/plain": [
       "     trending_date                                              title  \\\n",
       "5900      17.13.12  YouTube Rewind: The Shape of 2017 | #YouTubeRe...   \n",
       "5623      17.12.12  YouTube Rewind: The Shape of 2017 | #YouTubeRe...   \n",
       "5398      17.11.12  YouTube Rewind: The Shape of 2017 | #YouTubeRe...   \n",
       "5197      17.10.12  YouTube Rewind: The Shape of 2017 | #YouTubeRe...   \n",
       "4996      17.09.12  YouTube Rewind: The Shape of 2017 | #YouTubeRe...   \n",
       "\n",
       "          channel_title  category_id              publish_time  \\\n",
       "5900  YouTube Spotlight           24  2017-12-06T17:58:51.000Z   \n",
       "5623  YouTube Spotlight           24  2017-12-06T17:58:51.000Z   \n",
       "5398  YouTube Spotlight           24  2017-12-06T17:58:51.000Z   \n",
       "5197  YouTube Spotlight           24  2017-12-06T17:58:51.000Z   \n",
       "4996  YouTube Spotlight           24  2017-12-06T17:58:51.000Z   \n",
       "\n",
       "                                                   tags      views    likes  \\\n",
       "5900  Rewind|\"Rewind 2017\"|\"youtube rewind 2017\"|\"#Y...  137843120  3014479   \n",
       "5623  Rewind|\"Rewind 2017\"|\"youtube rewind 2017\"|\"#Y...  125431369  2912715   \n",
       "5398  Rewind|\"Rewind 2017\"|\"youtube rewind 2017\"|\"#Y...  113876217  2811217   \n",
       "5197  Rewind|\"Rewind 2017\"|\"youtube rewind 2017\"|\"#Y...  100911567  2656678   \n",
       "4996  Rewind|\"Rewind 2017\"|\"youtube rewind 2017\"|\"#Y...   75969469  2251826   \n",
       "\n",
       "      dislikes  comment_count                                  thumbnail_link  \\\n",
       "5900   1602383         817582  https://i.ytimg.com/vi/FlsCjmMhFmw/default.jpg   \n",
       "5623   1545018         807558  https://i.ytimg.com/vi/FlsCjmMhFmw/default.jpg   \n",
       "5398   1470387         787174  https://i.ytimg.com/vi/FlsCjmMhFmw/default.jpg   \n",
       "5197   1353655         682890  https://i.ytimg.com/vi/FlsCjmMhFmw/default.jpg   \n",
       "4996   1127811         827755  https://i.ytimg.com/vi/FlsCjmMhFmw/default.jpg   \n",
       "\n",
       "      comments_disabled  ratings_disabled  video_error_or_removed  \n",
       "5900              False             False                   False  \n",
       "5623              False             False                   False  \n",
       "5398              False             False                   False  \n",
       "5197              False             False                   False  \n",
       "4996              False             False                   False  "
      ]
     },
     "execution_count": 67,
     "metadata": {},
     "output_type": "execute_result"
    }
   ],
   "source": [
    "trimmed_dataframe.sort_values(by='dislikes',ascending=False).head()\n"
   ]
  },
  {
   "cell_type": "markdown",
   "metadata": {
    "id": "36mNBEcUxD1j"
   },
   "source": [
    "QUESTION: How many videos had > 50,000,000 views (3 points)"
   ]
  },
  {
   "cell_type": "code",
   "execution_count": 105,
   "metadata": {
    "id": "5kfsOoGtxNYQ"
   },
   "outputs": [
    {
     "data": {
      "text/plain": [
       "27"
      ]
     },
     "execution_count": 105,
     "metadata": {},
     "output_type": "execute_result"
    }
   ],
   "source": [
    "np.count_nonzero(data_array[:,6]>50000000)"
   ]
  },
  {
   "cell_type": "markdown",
   "metadata": {
    "id": "wXxaQt8Oy-lK"
   },
   "source": [
    "QUESTION: Calculate the average views per video.  \n",
    "\n",
    "1.   Using np.average (2.5 points)\n",
    "2.   using df['column'].mean() (2.5 points)\n",
    "\n",
    "\n",
    "\n",
    "\n",
    "\n"
   ]
  },
  {
   "cell_type": "code",
   "execution_count": 131,
   "metadata": {
    "id": "MGzYnsOy179p"
   },
   "outputs": [
    {
     "data": {
      "text/plain": [
       "1147035.9107898534"
      ]
     },
     "execution_count": 131,
     "metadata": {},
     "output_type": "execute_result"
    }
   ],
   "source": [
    "views = np.array(data_array[:,6], dtype=np.int64)\n",
    "np.average(views)"
   ]
  },
  {
   "cell_type": "code",
   "execution_count": 129,
   "metadata": {
    "id": "dX6KuUuj2AHg"
   },
   "outputs": [
    {
     "data": {
      "text/plain": [
       "1147035.9107898534"
      ]
     },
     "execution_count": 129,
     "metadata": {},
     "output_type": "execute_result"
    }
   ],
   "source": [
    "trimmed_dataframe['views'].mean()"
   ]
  },
  {
   "cell_type": "markdown",
   "metadata": {
    "id": "R9NJlvk60844"
   },
   "source": [
    "QUESTION: How many videos are by \"Ed Sheeran?\" (Column name is \"channel_title\") (3 points)"
   ]
  },
  {
   "cell_type": "code",
   "execution_count": 106,
   "metadata": {
    "id": "LhdtvlzbzIvo"
   },
   "outputs": [
    {
     "data": {
      "text/plain": [
       "24"
      ]
     },
     "execution_count": 106,
     "metadata": {},
     "output_type": "execute_result"
    }
   ],
   "source": [
    "np.count_nonzero(data_array[:,2]=='Ed Sheeran')"
   ]
  },
  {
   "cell_type": "markdown",
   "metadata": {
    "id": "vOzmRo953E7V"
   },
   "source": [
    "QUESTION: Find the number of video titles that include Beyonce (3 points)\n"
   ]
  },
  {
   "cell_type": "code",
   "execution_count": 162,
   "metadata": {
    "id": "r77pCJjb2Rso"
   },
   "outputs": [
    {
     "data": {
      "text/plain": [
       "19"
      ]
     },
     "execution_count": 162,
     "metadata": {},
     "output_type": "execute_result"
    }
   ],
   "source": [
    "trimmed_dataframe[trimmed_dataframe['title'].str.contains('Beyonce')].shape[1]+np.count_nonzero(data_array[:,2]=='Beyonce')"
   ]
  },
  {
   "cell_type": "markdown",
   "metadata": {
    "id": "pSmZ9JC03LoK"
   },
   "source": [
    "QUESTION: Find the Number of Videos that disabled comments (3 points)"
   ]
  },
  {
   "cell_type": "code",
   "execution_count": 103,
   "metadata": {
    "id": "AkgKz95Y3Jpe"
   },
   "outputs": [
    {
     "data": {
      "text/plain": [
       "583"
      ]
     },
     "execution_count": 103,
     "metadata": {},
     "output_type": "execute_result"
    }
   ],
   "source": [
    "np.count_nonzero(data_array[:,11])"
   ]
  },
  {
   "cell_type": "markdown",
   "metadata": {
    "id": "gA9RGGu17Py-"
   },
   "source": [
    "EXTRA CREDIT: Find the Video with the best Like to Disklike Ratio (5 points)"
   ]
  },
  {
   "cell_type": "code",
   "execution_count": 194,
   "metadata": {
    "id": "9S2ev74NfFm1"
   },
   "outputs": [
    {
     "name": "stdout",
     "output_type": "stream",
     "text": [
      "\"The Reaction of The Streets (I Wait-Day6 Edition)\" has likes/dislikes ratio of 2844.3333333333335 \n",
      "(if video has 0 dislikes then the ratio is 1:0 which is trivial, thus ignored for this calculation)\n"
     ]
    }
   ],
   "source": [
    "copy = trimmed_dataframe.copy()\n",
    "copy = copy[copy['dislikes'] != 0]\n",
    "copy['likes'] = copy['likes']/copy['dislikes']\n",
    "copy = copy.sort_values(by='likes',ascending=False)\n",
    "print(\"\\\"\"+copy.values[0,1]+\"\\\" has likes/dislikes ratio of \"+str(copy.values[0,7])+\" \\n(if video has 0 dislikes then the ratio is 1:0 which is trivial, thus ignored for this calculation)\")"
   ]
  }
 ],
 "metadata": {
  "colab": {
   "collapsed_sections": [],
   "name": "Copy of Copy of Copy of Python Warmup",
   "provenance": [
    {
     "file_id": "1Sp4pZ5AEiSzKnwjn-iW-DwKsY34SnI06",
     "timestamp": 1601442674496
    },
    {
     "file_id": "1YOeCfujIsCxRteasPJPR5lm9Z-MzB5Za",
     "timestamp": 1601442542513
    },
    {
     "file_id": "1RcTRLDuzbYibNZFLUJA6fsPbpPHhbmaZ",
     "timestamp": 1601441225399
    }
   ]
  },
  "kernelspec": {
   "display_name": "Python 3",
   "language": "python",
   "name": "python3"
  },
  "language_info": {
   "codemirror_mode": {
    "name": "ipython",
    "version": 3
   },
   "file_extension": ".py",
   "mimetype": "text/x-python",
   "name": "python",
   "nbconvert_exporter": "python",
   "pygments_lexer": "ipython3",
   "version": "3.9.0"
  }
 },
 "nbformat": 4,
 "nbformat_minor": 1
}
