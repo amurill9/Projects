{
 "cells": [
  {
   "cell_type": "markdown",
   "metadata": {
    "id": "S6C8MvcaMHGf"
   },
   "source": [
    "# CSE 146 Lab 3: Algorithmic Fairness\n",
    "\n",
    "### ASSIGNED: Tueday, October 20\n",
    "### DUE: Tuesday, October 29\n",
    "### 100 points total\n",
    "\n",
    "In this homework, you will gain experience with tools for implementing classifiers that provide fairness guarantees. In part 2, you will try to get a fair classifier if you only have access to a normal classifier. In parts 3 and 4, you will get to explore the different outcomes when using different definitions of fairness for classifiers. You will also look at the tradeoffs between fairness and accuracy. \n",
    "\n",
    "All cells where code is required are marked with a \"# YOUR CODE HERE\" comment. All cells where a written answer is required are marked with \"Please type your answers here!\". The point values for each code block are written in the header for the associated subsection."
   ]
  },
  {
   "cell_type": "markdown",
   "metadata": {
    "id": "N33PR9c0MHGi"
   },
   "source": [
    "## Instructions \n",
    "For each question, you should write Python code to compute the answer to the questions that renders in a readable way according to the specifications of the question. You may only use the packages provided in the Background and Setup code. We will not be installing any packages during grading, and code that does not compile will negatively affect your grade.\n",
    "\n",
    "This assignment can be done collaboratively, and please be sure to list the student(s) you worked with in the space provided below. Please reach out to each other if you have any questions or difficulties.\n",
    "\n",
    "Be sure to rename this homework notebook (in [YOUR NAME HERE] so that it includes your name. \n",
    "\n",
    "### List the student(s) you worked with on this assignment here:\n",
    "1. Zachary Zulanas\n",
    "2. [person 2]\n",
    "3. [etc.]"
   ]
  },
  {
   "cell_type": "markdown",
   "metadata": {
    "id": "cAHEbLv5MHGk"
   },
   "source": [
    "## Part 1: Importing Data (5 Points)\n",
    "Before working with the algorithms for fair classification, we must first import the dataset we wish to use. We will again be working with the \"Communities and Crime\" dataset from [UC Irvine's Machine Learning Repository](http://archive.ics.uci.edu/ml/datasets/communities+and+crime). It includes data about the different types of crimes among various communities, socioeconomic and racial data about each community, and information about the police force in each community.\n",
    "\n",
    "The algorithms will require that your data is split into 3 DataFrames:\n",
    "\n",
    "- `dataX`: The features of each instance, not including any protected attributes\n",
    "- `dataA`: The protected attributes of each instance\n",
    "- `dataY`: The label for each instance (the value to be predicted)\n",
    "\n",
    "Currently, we provide you with 2 CSV files:\n",
    "\n",
    "- `communities.csv`, which contains all information for each instance\n",
    "- `communities_protected.csv`, which is a single-row dataframe, indicating how each column within `communities.csv` should be used. If the column value is 0 the attribute is unprotected, if its 1 the attribute is a protected feature, and 2 if the attribute is the value to be predicted (the label for each instance).\n",
    "\n",
    "In part 2, we will focus on only one of the protected features. In parts 3 and 4, we will use all 18 protected features for upholding our fairness metrics.\n",
    "\n",
    "Write code to generate the 3 Pandas DataFrames, `dataX`, `dataA` and `dataY`. \n",
    "\n",
    "*Hint: Remember how we checked for DataFrame values in Lab1 via dataframe[dataframe == some_val], and read pandas' .dropna() function for dataframes!*"
   ]
  },
  {
   "cell_type": "code",
   "execution_count": 1,
   "metadata": {
    "id": "_4d_D5IQMHGm"
   },
   "outputs": [],
   "source": [
    "%load_ext autoreload\n",
    "%autoreload 2"
   ]
  },
  {
   "cell_type": "code",
   "execution_count": 2,
   "metadata": {
    "id": "SWmpeHEqMHG1"
   },
   "outputs": [],
   "source": [
    "import pandas as pd # Necessary libraries\n",
    "import numpy as np\n",
    "import warnings # Suppressing warnings\n",
    "warnings.filterwarnings('ignore') "
   ]
  },
  {
   "cell_type": "code",
   "execution_count": 3,
   "metadata": {
    "id": "32Pu7DDEMHHM"
   },
   "outputs": [],
   "source": [
    "# YOUR CODE HERE\n",
    "dataframe = pd.read_csv(\"communities.csv\")\n",
    "mask  = pd.read_csv(\"communities_protected.csv\")\n",
    "\n",
    "dataX = dataframe.loc[:,(mask!=1).any()]\n",
    "dataA = dataframe.loc[:,(mask==1).any()]\n",
    "\n",
    "dataY = dataX[['ViolentCrimesPerPop']]\n",
    "dataX = dataX.iloc[:,:-1]"
   ]
  },
  {
   "cell_type": "code",
   "execution_count": 4,
   "metadata": {
    "id": "uDFMY9CQMHHf"
   },
   "outputs": [
    {
     "name": "stdout",
     "output_type": "stream",
     "text": [
      "dataX Shape: (1994, 104)\n",
      "dataA Shape: (1994, 18)\n",
      "dataY Shape: (1994, 1)\n"
     ]
    }
   ],
   "source": [
    "print('dataX Shape:', dataX.shape)\n",
    "print('dataA Shape:', dataA.shape)\n",
    "print('dataY Shape:', dataY.shape)"
   ]
  },
  {
   "cell_type": "markdown",
   "metadata": {
    "id": "tfJ-SyxwMHHy"
   },
   "source": [
    "## Part 2: Two-Group Fairness via Post-processing (35 Points)\n",
    "\n",
    "In this section, you will implement a method of achieving a fair classifier \"from scratch\" by post-processing a generic linear regression classifier. If you'd like to read about it in depth, this method is described in depth in https://arxiv.org/abs/1610.02413. \n",
    "\n",
    "You will train a classifier which approximately equalizes both True Positive Rate and False Positive Rate for two groups, which is commonly referred to as the Equalized Odds criterion."
   ]
  },
  {
   "cell_type": "markdown",
   "metadata": {
    "id": "FskTQOBiMHH2"
   },
   "source": [
    "### 2.1: Training a Real-Valued Predictor (5 points)\n",
    "\n",
    "So far we've been working with classifiers that predict 0 or 1 scores. There are also models, like linear regression, that predict real-values scores. For now, you can think of these real-valued scores as the estimated probability that that instance's classification should be 1.\n",
    "\n",
    "Now, you will train a real-valued predictor. Use the Linear Regression package from SciKit-Learn to train a regression model on dataX and dataY. Generate predictions for dataY (called y_hat_score) and print them. \n",
    "\n",
    "NOTE: Please make sure to do a train/test split, as this is a general practice in machine learning.\n",
    "\n",
    "https://scikit-learn.org/stable/modules/generated/sklearn.linear_model.LinearRegression.html"
   ]
  },
  {
   "cell_type": "code",
   "execution_count": 5,
   "metadata": {
    "id": "XaJJk0k3MHH5"
   },
   "outputs": [],
   "source": [
    "from sklearn import linear_model\n",
    "\n",
    "lin = linear_model.LinearRegression()\n",
    "\n",
    "split = 1400\n",
    "\n",
    "dataX_train = dataX.iloc[:split,:].copy()\n",
    "dataX_test  = dataX.iloc[split:,:].copy()\n",
    "dataY_train = dataY.iloc[:split,:].copy()\n",
    "dataY_test  = dataY.iloc[split:,:].copy()\n",
    "\n",
    "lin.fit(dataX_train,dataY_train)\n",
    "\n",
    "y_hat_score = lin.predict(dataX_test)"
   ]
  },
  {
   "cell_type": "code",
   "execution_count": 6,
   "metadata": {
    "id": "e-MwZoRmMHIF"
   },
   "outputs": [
    {
     "name": "stdout",
     "output_type": "stream",
     "text": [
      "[[ 4.72331171e-02]\n",
      " [-5.92331642e-02]\n",
      " [ 8.50879921e-01]\n",
      " [ 2.15518365e-01]\n",
      " [ 5.54857886e-01]\n",
      " [-1.74606880e-02]\n",
      " [ 9.57364181e-02]\n",
      " [ 7.39211990e-03]\n",
      " [-2.17783718e-01]\n",
      " [-7.61167012e-02]\n",
      " [ 3.15576211e-01]\n",
      " [ 2.32233771e-02]\n",
      " [ 2.13038214e-01]\n",
      " [ 7.90119636e-01]\n",
      " [ 1.21508139e-01]\n",
      " [ 8.73048555e-02]\n",
      " [ 1.53655046e-01]\n",
      " [-1.09766947e-01]\n",
      " [ 9.46412781e-03]\n",
      " [-7.68878958e-02]\n",
      " [ 3.90699870e-01]\n",
      " [ 5.35733862e-01]\n",
      " [ 5.01692872e-03]\n",
      " [ 8.90632533e-02]\n",
      " [-6.34965373e-02]\n",
      " [ 9.72350223e-02]\n",
      " [-3.06318121e-03]\n",
      " [ 2.55372768e-01]\n",
      " [ 6.70337982e-01]\n",
      " [ 8.02534046e-02]\n",
      " [-5.04501407e-02]\n",
      " [ 4.24222792e-01]\n",
      " [ 6.50531297e-01]\n",
      " [ 3.18279797e-02]\n",
      " [-1.61536029e-01]\n",
      " [ 1.75537399e-01]\n",
      " [ 1.01490533e+00]\n",
      " [-8.91905971e-02]\n",
      " [ 4.81069980e-01]\n",
      " [-1.10146484e-01]\n",
      " [ 3.35079883e-01]\n",
      " [ 9.14459272e-01]\n",
      " [ 9.11896303e-02]\n",
      " [ 2.86207200e-01]\n",
      " [ 4.61525126e-01]\n",
      " [ 1.43888008e-01]\n",
      " [ 3.32542055e-01]\n",
      " [ 5.25847695e-02]\n",
      " [-1.58365341e-01]\n",
      " [ 1.57778686e-01]\n",
      " [ 7.40564033e-01]\n",
      " [ 6.74087403e-01]\n",
      " [ 1.41601377e-01]\n",
      " [ 4.39749253e-01]\n",
      " [ 1.66374041e-02]\n",
      " [ 2.80443042e-01]\n",
      " [ 5.20982048e-01]\n",
      " [ 2.85285761e-01]\n",
      " [-1.35700355e-02]\n",
      " [ 1.48980724e-01]\n",
      " [-9.32381629e-03]\n",
      " [ 1.59193578e-01]\n",
      " [-1.15982030e-01]\n",
      " [ 1.93558054e-02]\n",
      " [ 1.49243487e-02]\n",
      " [ 4.73960154e-01]\n",
      " [ 1.71229293e-01]\n",
      " [ 3.96610745e-01]\n",
      " [ 1.94786339e-01]\n",
      " [ 6.01849928e-01]\n",
      " [ 5.75105881e-01]\n",
      " [ 4.78407333e-02]\n",
      " [ 3.70930202e-01]\n",
      " [ 8.25478046e-02]\n",
      " [-1.31103803e-01]\n",
      " [ 3.70872816e-01]\n",
      " [ 5.15716892e-01]\n",
      " [ 7.79429118e-01]\n",
      " [-9.52455484e-02]\n",
      " [ 4.27393738e-01]\n",
      " [ 4.19549078e-01]\n",
      " [ 1.09077772e+00]\n",
      " [ 2.20610501e-01]\n",
      " [ 7.32411297e-03]\n",
      " [ 1.60458144e-01]\n",
      " [-2.32343189e-01]\n",
      " [ 1.16207480e+00]\n",
      " [ 4.39446827e-01]\n",
      " [ 2.30835812e-01]\n",
      " [-1.24203636e-01]\n",
      " [-1.43563327e-01]\n",
      " [ 3.05259910e-01]\n",
      " [ 9.36239436e-01]\n",
      " [-1.31552397e-02]\n",
      " [ 7.78029998e-01]\n",
      " [ 2.28567010e-01]\n",
      " [-3.81297776e-01]\n",
      " [ 2.45720239e-01]\n",
      " [ 1.25898288e-02]\n",
      " [ 1.32351326e-01]\n",
      " [ 6.74816336e-03]\n",
      " [ 3.82225780e-01]\n",
      " [ 6.26996366e-01]\n",
      " [ 3.53750922e-02]\n",
      " [ 3.62612585e-01]\n",
      " [ 2.98863143e-01]\n",
      " [ 7.84434545e-01]\n",
      " [ 2.62347146e-01]\n",
      " [ 9.62931627e-01]\n",
      " [ 3.80964547e-01]\n",
      " [ 2.79891040e-01]\n",
      " [ 7.16771496e-01]\n",
      " [ 8.74719794e-01]\n",
      " [ 2.65172313e-01]\n",
      " [ 4.88695912e-01]\n",
      " [-1.05427427e-01]\n",
      " [-5.81396356e-03]\n",
      " [ 2.90625126e-01]\n",
      " [ 1.66585069e-01]\n",
      " [-7.72644291e-02]\n",
      " [-4.50996071e-02]\n",
      " [ 5.32053236e-03]\n",
      " [ 1.66311338e-03]\n",
      " [ 6.75592869e-01]\n",
      " [ 1.07998468e+00]\n",
      " [ 1.04938911e-01]\n",
      " [ 2.46426352e-01]\n",
      " [ 2.39585002e-01]\n",
      " [ 2.80660731e-01]\n",
      " [ 7.71656295e-03]\n",
      " [ 4.50539481e-02]\n",
      " [-9.98295057e-02]\n",
      " [ 3.19370829e-01]\n",
      " [-3.12772417e-02]\n",
      " [ 6.20545550e-01]\n",
      " [ 1.69779437e-01]\n",
      " [ 1.04564219e+00]\n",
      " [ 3.61804294e-01]\n",
      " [ 6.92461166e-01]\n",
      " [ 5.07520480e-01]\n",
      " [ 5.53149245e-01]\n",
      " [ 4.07895532e-01]\n",
      " [ 3.26397402e-01]\n",
      " [ 7.60016445e-01]\n",
      " [ 6.36422134e-01]\n",
      " [ 1.02863743e-01]\n",
      " [ 9.75490869e-03]\n",
      " [ 5.57059185e-01]\n",
      " [ 7.34948677e-03]\n",
      " [ 3.18985162e-02]\n",
      " [-4.86584621e-02]\n",
      " [ 1.90044017e-01]\n",
      " [ 1.61445639e-01]\n",
      " [ 3.53878947e-01]\n",
      " [ 4.73432963e-01]\n",
      " [-2.90901761e-02]\n",
      " [ 3.44277118e-01]\n",
      " [ 2.54731324e-02]\n",
      " [ 2.17496409e-01]\n",
      " [ 1.44901740e-01]\n",
      " [ 3.78441514e-01]\n",
      " [-2.34201069e-01]\n",
      " [-1.07044631e-01]\n",
      " [ 1.37001473e+00]\n",
      " [ 9.48633628e-02]\n",
      " [ 3.66973008e-02]\n",
      " [ 8.29937437e-01]\n",
      " [ 6.10621151e-01]\n",
      " [ 2.01611647e-01]\n",
      " [ 9.17183321e-01]\n",
      " [ 4.35573542e-01]\n",
      " [ 1.68096523e-01]\n",
      " [-8.50403638e-02]\n",
      " [ 4.83551873e-01]\n",
      " [ 4.73201457e-01]\n",
      " [ 5.74367673e-01]\n",
      " [ 2.49259645e-01]\n",
      " [ 3.85723841e-02]\n",
      " [ 5.66649279e-02]\n",
      " [-4.19129764e-02]\n",
      " [ 7.70750678e-01]\n",
      " [ 7.40533046e-02]\n",
      " [ 7.19767457e-01]\n",
      " [ 9.90879544e-02]\n",
      " [ 3.12600057e-01]\n",
      " [ 5.20691122e-01]\n",
      " [ 4.15453815e-02]\n",
      " [ 4.41989083e-01]\n",
      " [ 8.52246871e-02]\n",
      " [ 4.27231287e-02]\n",
      " [ 4.72249694e-01]\n",
      " [ 6.40006915e-02]\n",
      " [-9.31031367e-03]\n",
      " [-3.45856735e-01]\n",
      " [ 4.93654123e-01]\n",
      " [ 1.14776399e+00]\n",
      " [-4.72256883e-02]\n",
      " [ 3.57151473e-01]\n",
      " [ 2.14610702e-01]\n",
      " [ 5.13127276e-02]\n",
      " [-1.94591533e-01]\n",
      " [ 9.24438272e-01]\n",
      " [ 2.87245012e-01]\n",
      " [ 2.83875243e-01]\n",
      " [ 2.93458053e-01]\n",
      " [ 1.87896820e-01]\n",
      " [-1.35916393e-01]\n",
      " [ 8.17037019e-01]\n",
      " [ 9.60426342e-02]\n",
      " [-9.71092509e-02]\n",
      " [ 6.68909054e-01]\n",
      " [-1.72934068e-02]\n",
      " [ 1.12895554e+00]\n",
      " [-2.72354438e-01]\n",
      " [ 1.54500106e-01]\n",
      " [ 6.31147994e-02]\n",
      " [-8.35809156e-02]\n",
      " [ 4.06290703e-01]\n",
      " [ 5.92271540e-02]\n",
      " [ 9.32827788e-01]\n",
      " [ 3.06984215e-01]\n",
      " [ 1.17646892e-01]\n",
      " [ 7.09340978e-02]\n",
      " [ 4.83414251e-01]\n",
      " [ 2.04449015e-01]\n",
      " [ 9.68459408e-01]\n",
      " [ 4.87005234e-01]\n",
      " [-1.11347956e-01]\n",
      " [ 3.35663971e-01]\n",
      " [-1.18293695e-02]\n",
      " [ 2.58456990e-03]\n",
      " [-1.83081709e-01]\n",
      " [ 7.73786282e-01]\n",
      " [ 1.13586996e+00]\n",
      " [ 6.34679363e-02]\n",
      " [-2.69445610e-02]\n",
      " [ 4.77352591e-01]\n",
      " [ 2.48077062e-01]\n",
      " [ 3.06900707e-01]\n",
      " [-4.25490079e-02]\n",
      " [ 1.20818167e+11]\n",
      " [ 4.37197926e-01]\n",
      " [ 4.25626168e-02]\n",
      " [ 1.65486793e-01]\n",
      " [-1.66835940e-02]\n",
      " [ 3.28434497e-01]\n",
      " [-7.06470297e-02]\n",
      " [ 4.50091412e-01]\n",
      " [ 1.76995337e-01]\n",
      " [ 1.61311032e-01]\n",
      " [ 1.05128864e-01]\n",
      " [ 2.10535084e-01]\n",
      " [-1.28098915e-01]\n",
      " [ 4.35883171e-01]\n",
      " [ 1.20811008e-01]\n",
      " [ 6.41232370e-01]\n",
      " [-6.11270204e-02]\n",
      " [ 4.45569487e-02]\n",
      " [-1.58526314e-01]\n",
      " [-1.32624209e-01]\n",
      " [-1.28721043e-03]\n",
      " [ 8.99788790e-01]\n",
      " [ 9.31642007e-01]\n",
      " [ 3.86149483e-01]\n",
      " [ 3.03480430e-01]\n",
      " [ 4.87151668e-01]\n",
      " [ 1.64075980e-01]\n",
      " [ 1.35811005e-01]\n",
      " [-2.84423797e-02]\n",
      " [ 8.54631789e-01]\n",
      " [ 9.65900232e-01]\n",
      " [ 2.96019434e-01]\n",
      " [-7.31692284e-02]\n",
      " [ 1.07591435e-01]\n",
      " [ 2.42316664e-01]\n",
      " [ 1.19508248e-02]\n",
      " [ 7.39601672e-01]\n",
      " [ 6.57473296e-01]\n",
      " [ 8.37118064e-01]\n",
      " [-5.13661938e-02]\n",
      " [ 2.16455024e-02]\n",
      " [ 1.93407879e-03]\n",
      " [-1.80992810e-01]\n",
      " [ 1.84253955e-01]\n",
      " [ 9.92903583e-01]\n",
      " [ 2.00720287e-01]\n",
      " [ 4.98710602e-01]\n",
      " [-8.96073243e-02]\n",
      " [ 8.27040892e-02]\n",
      " [ 2.03694058e-01]\n",
      " [ 5.87861327e-01]\n",
      " [ 2.62816702e-01]\n",
      " [ 5.41816267e-01]\n",
      " [ 3.87467811e-01]\n",
      " [ 9.06164803e-02]\n",
      " [ 4.73314574e-01]\n",
      " [-2.59634733e-02]\n",
      " [ 1.12368345e-01]\n",
      " [ 1.49210140e+00]\n",
      " [ 6.10700434e-01]\n",
      " [ 4.90217513e-01]\n",
      " [ 8.88545676e-03]\n",
      " [ 1.45992996e-01]\n",
      " [ 5.64771099e-01]\n",
      " [-6.23355616e-02]\n",
      " [ 2.89973029e-02]\n",
      " [ 2.45215794e-02]\n",
      " [ 7.83812371e-01]\n",
      " [-8.95663930e-02]\n",
      " [ 2.83388316e-01]\n",
      " [ 8.42341047e-01]\n",
      " [ 6.29961190e-01]\n",
      " [ 1.87408025e-01]\n",
      " [ 6.40791536e-02]\n",
      " [-3.43111059e-03]\n",
      " [ 1.42428638e-01]\n",
      " [ 5.18587552e-01]\n",
      " [ 5.39607824e-02]\n",
      " [ 5.68753477e-01]\n",
      " [ 3.34876158e-01]\n",
      " [ 3.44202755e-01]\n",
      " [ 1.21586432e+00]\n",
      " [-1.27339596e-01]\n",
      " [ 3.33920618e-02]\n",
      " [ 4.32061265e-01]\n",
      " [-1.20002219e-01]\n",
      " [ 5.84238199e-01]\n",
      " [ 7.01454826e-01]\n",
      " [ 3.67977698e-01]\n",
      " [ 2.48488008e-01]\n",
      " [ 1.80399846e-02]\n",
      " [-7.99332837e-02]\n",
      " [ 4.80578628e-01]\n",
      " [ 1.88920475e-01]\n",
      " [ 6.74896832e-02]\n",
      " [ 1.71610256e-01]\n",
      " [-4.42871834e-02]\n",
      " [ 2.91434058e-01]\n",
      " [-3.10178476e-03]\n",
      " [ 3.56057167e-02]\n",
      " [ 2.74816453e-02]\n",
      " [ 4.96743203e-02]\n",
      " [ 7.36929401e-01]\n",
      " [-8.15602744e-03]\n",
      " [-1.44449719e-02]\n",
      " [-8.08686700e-02]\n",
      " [ 1.76673782e-01]\n",
      " [ 4.04021259e-01]\n",
      " [ 7.02416495e-02]\n",
      " [ 8.16480375e-01]\n",
      " [ 5.75222711e-02]\n",
      " [ 6.69146344e-01]\n",
      " [-1.85754451e-02]\n",
      " [ 3.38983894e-01]\n",
      " [ 4.31593311e-01]\n",
      " [ 3.25562444e-02]\n",
      " [ 3.71235551e-01]\n",
      " [ 8.40987213e-02]\n",
      " [-1.51814247e-01]\n",
      " [ 9.24606301e-01]\n",
      " [ 1.03231357e-01]\n",
      " [-5.07261873e-02]\n",
      " [-1.08443216e-01]\n",
      " [ 1.22195607e-02]\n",
      " [ 3.00275569e-01]\n",
      " [-9.40678379e-04]\n",
      " [-2.33146191e-02]\n",
      " [ 4.74534407e-01]\n",
      " [ 2.35943369e-02]\n",
      " [ 1.59790457e-01]\n",
      " [ 6.47009083e-01]\n",
      " [ 5.34543959e-02]\n",
      " [ 2.42166849e-01]\n",
      " [ 8.54023671e-01]\n",
      " [ 4.51992708e-01]\n",
      " [ 7.52640562e-01]\n",
      " [ 1.31165781e-02]\n",
      " [ 1.01692430e+00]\n",
      " [ 6.95218481e-01]\n",
      " [ 4.88575461e-01]\n",
      " [ 1.19048754e-01]\n",
      " [-1.78686654e-01]\n",
      " [-1.12442602e-02]\n",
      " [ 5.04362943e-01]\n",
      " [ 1.52326781e-01]\n",
      " [-1.04849537e-01]\n",
      " [ 2.60196332e-02]\n",
      " [ 6.56822752e-01]\n",
      " [ 5.66079159e-01]\n",
      " [ 6.43639899e-01]\n",
      " [ 7.12337429e-01]\n",
      " [ 3.37177051e-02]\n",
      " [ 6.06776295e-01]\n",
      " [ 3.04796008e-02]\n",
      " [-8.11558764e-02]\n",
      " [ 1.67020190e-01]\n",
      " [ 1.89381612e-01]\n",
      " [ 2.15671812e-01]\n",
      " [ 1.24064750e-01]\n",
      " [ 2.16804014e-01]\n",
      " [ 2.15763668e-01]\n",
      " [ 1.33406636e+00]\n",
      " [ 2.28875114e-01]\n",
      " [ 4.72026055e-01]\n",
      " [-1.23615034e-01]\n",
      " [ 1.39106857e-01]\n",
      " [ 2.14126615e-01]\n",
      " [ 2.82506584e-02]\n",
      " [ 5.61543389e-01]\n",
      " [ 8.07187406e-02]\n",
      " [ 1.04896961e+00]\n",
      " [ 3.08606978e-01]\n",
      " [ 8.73975281e-02]\n",
      " [ 3.83017550e-01]\n",
      " [ 3.29740762e-02]\n",
      " [ 1.24822177e+00]\n",
      " [-1.04450292e-01]\n",
      " [ 8.55315506e-01]\n",
      " [ 4.38566434e-02]\n",
      " [ 4.23954941e-01]\n",
      " [ 2.15659877e-01]\n",
      " [ 3.47795240e-02]\n",
      " [ 1.27197349e+00]\n",
      " [ 1.77722450e-01]\n",
      " [-6.67478434e-02]\n",
      " [ 3.65326052e-01]\n",
      " [-3.60610973e-02]\n",
      " [-7.08741047e-02]\n",
      " [ 1.53895176e-01]\n",
      " [ 2.31230687e-02]\n",
      " [ 5.89585462e-02]\n",
      " [ 6.36970209e-01]\n",
      " [-1.48625075e-01]\n",
      " [-3.96704386e-02]\n",
      " [-1.01194349e-01]\n",
      " [ 8.96129610e-01]\n",
      " [ 1.07915651e+00]\n",
      " [ 3.47543688e-01]\n",
      " [ 1.07334903e+00]\n",
      " [ 1.64261576e-01]\n",
      " [ 3.68691327e-01]\n",
      " [ 6.61266261e-01]\n",
      " [ 8.44423037e-01]\n",
      " [ 5.89230278e-01]\n",
      " [-1.36405924e-01]\n",
      " [ 2.40236038e-01]\n",
      " [ 1.05921334e-01]\n",
      " [ 6.64497576e-01]\n",
      " [ 2.66204510e-02]\n",
      " [ 1.17869097e+00]\n",
      " [ 1.60672810e-02]\n",
      " [ 4.82172040e-01]\n",
      " [ 4.33883390e-01]\n",
      " [ 4.30401952e-02]\n",
      " [ 1.17218237e-01]\n",
      " [ 3.28098748e-01]\n",
      " [ 2.45586495e-01]\n",
      " [-6.36186570e-02]\n",
      " [ 1.92760650e-01]\n",
      " [ 6.15781443e-01]\n",
      " [ 2.92232211e-01]\n",
      " [ 2.13491176e-01]\n",
      " [ 2.71029006e-01]\n",
      " [-5.62517157e-02]\n",
      " [-2.06882033e-01]\n",
      " [ 1.40037441e+00]\n",
      " [ 2.49858179e-01]\n",
      " [ 1.32880974e-01]\n",
      " [-1.52063053e-01]\n",
      " [ 9.39785337e-02]\n",
      " [ 3.95176323e-01]\n",
      " [ 4.81991278e-03]\n",
      " [ 9.34561726e-01]\n",
      " [ 2.51674090e-01]\n",
      " [ 2.92115570e-01]\n",
      " [ 3.50506301e-01]\n",
      " [ 1.47157870e-02]\n",
      " [ 1.98504097e-01]\n",
      " [ 1.14992147e+00]\n",
      " [ 1.32339716e+00]\n",
      " [ 3.53146638e-01]\n",
      " [-1.26929215e-01]\n",
      " [-5.66556926e-02]\n",
      " [ 1.76422712e-01]\n",
      " [ 4.63908955e-01]\n",
      " [ 4.30361072e-03]\n",
      " [ 1.05096388e-01]\n",
      " [ 4.86045773e-01]\n",
      " [ 1.63025597e-01]\n",
      " [ 4.74014761e-01]\n",
      " [ 1.00919102e-01]\n",
      " [ 4.31592091e-01]\n",
      " [ 1.44674086e-01]\n",
      " [ 3.17567523e-01]\n",
      " [ 1.32216748e-02]\n",
      " [ 5.58926344e-02]\n",
      " [ 1.45193149e-01]\n",
      " [-1.08011157e-01]\n",
      " [ 2.05190189e-01]\n",
      " [-2.83817703e-02]\n",
      " [ 9.02330101e-02]\n",
      " [ 8.09075413e-02]\n",
      " [ 3.07639775e-01]\n",
      " [ 2.67879618e-01]\n",
      " [ 1.96686487e-02]\n",
      " [ 6.33056012e-03]\n",
      " [ 1.28558611e-01]\n",
      " [ 8.80520535e-01]\n",
      " [ 1.95343065e-01]\n",
      " [ 3.33621635e-01]\n",
      " [ 1.02680581e+00]\n",
      " [ 1.04699039e-01]\n",
      " [ 8.78401377e-02]\n",
      " [ 1.93246543e-01]\n",
      " [ 3.32735886e-01]\n",
      " [-3.27341761e-03]\n",
      " [ 1.05619581e+00]\n",
      " [ 1.41151311e-01]\n",
      " [ 4.32376358e-01]\n",
      " [ 3.92610435e-01]\n",
      " [ 3.57017354e-01]\n",
      " [ 3.22761238e-01]\n",
      " [ 4.50081976e-01]\n",
      " [-3.00726801e-02]\n",
      " [ 7.66679886e-02]\n",
      " [ 8.31951794e-01]\n",
      " [-1.77177119e-02]\n",
      " [-2.90198900e-01]\n",
      " [ 2.97275233e-01]\n",
      " [ 3.33916970e-02]\n",
      " [-4.12194366e-02]\n",
      " [ 5.21017510e-02]\n",
      " [-6.27772595e-02]\n",
      " [-1.53523823e-02]\n",
      " [-1.55324231e-01]\n",
      " [-1.80356154e-01]\n",
      " [-1.58376795e-01]\n",
      " [-5.09891478e-03]\n",
      " [ 1.11829342e-01]\n",
      " [ 2.07445590e-01]\n",
      " [ 6.17239339e-01]\n",
      " [ 3.34248162e-01]\n",
      " [ 3.12630104e-01]\n",
      " [ 3.02477743e-01]\n",
      " [ 6.08050112e-02]\n",
      " [ 2.38200339e-01]\n",
      " [ 4.32492678e-01]\n",
      " [-8.43922311e-02]\n",
      " [ 8.38966497e-02]\n",
      " [ 5.35938913e-01]\n",
      " [ 9.04649782e-02]\n",
      " [ 1.82925317e-01]\n",
      " [ 3.92800695e-02]\n",
      " [ 7.70326568e-02]\n",
      " [ 7.41074219e-01]\n",
      " [-6.28068663e-02]\n",
      " [ 5.13714207e-01]\n",
      " [ 7.40068858e-01]\n",
      " [ 2.77841602e-01]\n",
      " [ 2.17182715e-01]\n",
      " [ 1.56525717e-01]\n",
      " [ 2.57351720e-01]\n",
      " [ 5.63498574e-01]\n",
      " [ 7.94826832e-01]\n",
      " [ 5.23827993e-01]\n",
      " [ 6.92006931e-01]\n",
      " [ 3.78272138e-01]\n",
      " [-1.72170288e-01]\n",
      " [ 5.39949208e-01]\n",
      " [ 8.96308914e-01]\n",
      " [ 4.14495813e-01]\n",
      " [ 2.76061873e-01]\n",
      " [ 4.26785427e-01]\n",
      " [ 1.39531412e-02]\n",
      " [ 7.48699918e-01]\n",
      " [ 5.74561076e-02]\n",
      " [-1.46318123e-02]\n",
      " [ 1.50847721e-01]\n",
      " [-4.50338195e-02]\n",
      " [ 1.22800552e-01]\n",
      " [ 2.34265459e-01]\n",
      " [ 1.63065454e-01]\n",
      " [-1.72383258e-01]\n",
      " [ 5.58910672e-01]\n",
      " [ 4.93527884e-03]\n",
      " [ 5.13377001e-01]\n",
      " [-6.76714268e-02]\n",
      " [-1.44422129e-03]\n",
      " [ 9.28357207e-01]\n",
      " [ 8.25676015e-02]\n",
      " [ 8.21575012e-01]\n",
      " [ 7.22616319e-01]\n",
      " [ 1.54412022e-01]\n",
      " [ 7.65984611e-01]]\n"
     ]
    }
   ],
   "source": [
    "print(y_hat_score)"
   ]
  },
  {
   "cell_type": "markdown",
   "metadata": {
    "id": "SQdrur0uMHIV"
   },
   "source": [
    "### 2.2: Binary Classification via Thresholding (5 points)\n",
    "\n",
    "We will need to convert our estimated probabilities to 0/1 predictions. Write a function (named threshold_predictions) which takes in a set of predicted linear regression scores, a threshold, and converts the scores to 0/1 predictions (below or equal to threshold $\\to$ 0, above threshold $\\to$ 1). Print out your converted predictions using a threshold of 0.5."
   ]
  },
  {
   "cell_type": "code",
   "execution_count": 7,
   "metadata": {
    "id": "yVyvNYGTMHIW"
   },
   "outputs": [],
   "source": [
    "def threshold_predictions(y_hat_score, threshold):\n",
    "    y_hat_0_1 = y_hat_score.copy()\n",
    "    for i in range(0, y_hat_0_1.shape[0]):\n",
    "        if y_hat_0_1[i,0] <= threshold:\n",
    "            y_hat_0_1[i,0] = 0\n",
    "        else:\n",
    "            y_hat_0_1[i,0] = 1\n",
    "    return y_hat_0_1"
   ]
  },
  {
   "cell_type": "code",
   "execution_count": 8,
   "metadata": {
    "id": "67fIG1-LMHIe"
   },
   "outputs": [],
   "source": [
    "y_hat_0_1 = threshold_predictions(y_hat_score, 0.5)"
   ]
  },
  {
   "cell_type": "markdown",
   "metadata": {
    "id": "xS9Dt0shMHIm"
   },
   "source": [
    "### 2.3: Computing TPR and FPR (5 points)\n",
    "\n",
    "There are many peformance measurements for machine learning classifiers. We now introduce two new ones, true positive rate and false positive rate. We define them using the terminology from a confusion matrix:\n",
    "\n",
    "\\begin{equation}\n",
    "TruePosRate = \\frac{True Positive}{True Positive + False Negative}\n",
    "\\end{equation}\n",
    "\n",
    "\\begin{equation}\n",
    "FalsePosRate = \\frac{False Positive}{False Positive + True Negative}\n",
    "\\end{equation}\n",
    "\n",
    "Write functions which compute the true positive rate and false positive rate, given vectors for true labels (y) and binary predictions (y_hat).\n",
    "\n"
   ]
  },
  {
   "cell_type": "code",
   "execution_count": 9,
   "metadata": {
    "id": "KpiP5bLjMHIo"
   },
   "outputs": [],
   "source": [
    "# YOUR CODE HERE\n",
    "def true_positive_rate(y, y_hat):\n",
    "    true_positive  = 0\n",
    "    false_negative = 0\n",
    "    for i in range(0, y.shape[0]):\n",
    "        if y[i,0] == 1:\n",
    "            if y_hat[i,0] == 1:\n",
    "                true_positive  += 1\n",
    "            else:\n",
    "                false_negative += 1\n",
    "    return ((true_positive)/(true_positive+false_negative))\n",
    "\n",
    "def false_positive_rate(y, y_hat):\n",
    "    true_negative  = 0\n",
    "    false_positive = 0\n",
    "    for i in range(0, y.shape[0]):\n",
    "        if y[i,0] == 0:\n",
    "            if y_hat[i,0] == 0:\n",
    "                true_negative  += 1\n",
    "            else:\n",
    "                false_positive += 1\n",
    "    return ((false_positive)/(false_positive+true_negative))"
   ]
  },
  {
   "cell_type": "markdown",
   "metadata": {
    "id": "j_iw0FhuMHI6"
   },
   "source": [
    "Now, we compute the TPR and FPR for your predictions from 2.2."
   ]
  },
  {
   "cell_type": "code",
   "execution_count": 10,
   "metadata": {
    "id": "jhoZi2Z6MHI9"
   },
   "outputs": [
    {
     "name": "stdout",
     "output_type": "stream",
     "text": [
      "0.5906432748538012\n",
      "0.07092198581560284\n"
     ]
    }
   ],
   "source": [
    "print(true_positive_rate(dataY_test.values, y_hat_0_1))\n",
    "print(false_positive_rate(dataY_test.values, y_hat_0_1))"
   ]
  },
  {
   "cell_type": "markdown",
   "metadata": {
    "id": "KpD8xGAQMHJM"
   },
   "source": [
    "### 2.4: Computing ROC Curves (5 points)\n",
    "\n",
    "ROC (receiver operating characteristic) curves measure the tradeoff between true positive and false positive rates when thresholding a real-valued predictor. We discussed them in class, but this statquest video can be helpful: https://www.youtube.com/watch?v=4jRBRDbJemM\n",
    "\n",
    "Write a function that:\n",
    "- takes in a set of true labels in {0,1} (such as dataY), a set of predictions within interval [0,1] (such as y_hat_score), and a single integer `num_thresholds`, representing the number of thresholds. \n",
    "- Evenly divide the range [0,1] into `num_thresholds` equally sized intervals. (For example, if num_thresholds = 100, your thresholds should be 0.00, 0.01, 0.02, ... , 0.99.) \n",
    "- For each interval, using the bottom of the interval as a threshold,  compute the TPR and FPR of the thresholded predictions.\n",
    "\n",
    "Then, using your function, compute TPR and FPR arrays for `dataY`, `y_hat_score` and `num_thresholds` at 100. (Hint: see numpy's `arange` function)"
   ]
  },
  {
   "cell_type": "code",
   "execution_count": 11,
   "metadata": {
    "id": "igjw9xooMHJN"
   },
   "outputs": [],
   "source": [
    "def compute_roc_curve(y, y_hat_score, num_thresholds):\n",
    "    # Your code here\n",
    "    tpr = np.zeros(num_thresholds)\n",
    "    fpr = np.zeros(num_thresholds)\n",
    "\n",
    "    for i in range(0, num_thresholds):\n",
    "        y_hat_0_1 = threshold_predictions(y_hat_score,i/num_thresholds)\n",
    "        fpr[i]    = false_positive_rate(y,y_hat_0_1)\n",
    "        tpr[i]    = true_positive_rate(y,y_hat_0_1)\n",
    "    # End of your code\n",
    "    return tpr, fpr\n"
   ]
  },
  {
   "cell_type": "code",
   "execution_count": 12,
   "metadata": {
    "id": "GSG5YRBSMHJb"
   },
   "outputs": [],
   "source": [
    "tpr, fpr = compute_roc_curve(dataY_test.values, y_hat_score, 100)"
   ]
  },
  {
   "cell_type": "markdown",
   "metadata": {
    "id": "EaNl_-FGMHJk"
   },
   "source": [
    "### 2.5: ROC Curve Comparison (5 points)\n",
    "\n",
    "The code below is copied from our solution to Lab 1. It splits the data into two groups (A and B) based on whether the proportion of some attribute is greater than some threshold. We use it to split our data depending on whether the proportion of African American people in a community is greater than 50%. Run the cell below."
   ]
  },
  {
   "cell_type": "code",
   "execution_count": 13,
   "metadata": {
    "id": "Gwj8HAmXMHJm"
   },
   "outputs": [],
   "source": [
    "## RUN THIS CELL\n",
    "## DO NOT MODIFY\n",
    "\n",
    "def split_on_feature(dataX, dataY, dataA, column, thresh):\n",
    "    rows_A = []\n",
    "    rows_B = []\n",
    "    for i in range(dataX.shape[0]):\n",
    "        if dataA[i, column] < thresh:\n",
    "            rows_A.append(i)\n",
    "        else:\n",
    "            rows_B.append(i)\n",
    "    \n",
    "    X_A = dataX[rows_A, :]\n",
    "    X_B = dataX[rows_B, :]\n",
    "    y_A = dataY[rows_A]\n",
    "    y_B = dataY[rows_B]\n",
    "    \n",
    "    return X_A, X_B, y_A, y_B  \n",
    "\n",
    "\n",
    "# change 2 to whatever racepctblack is\n",
    "X_A, X_B, y_A, y_B = split_on_feature(dataX.values, dataY.values, dataA.values, 0, 0.5)"
   ]
  },
  {
   "cell_type": "markdown",
   "metadata": {
    "id": "rS9NAbxgMHJ8"
   },
   "source": [
    "Using the generated arrays (X_A, X_B, y_A, y_B) and your function from 2.4, produce a matplotlib plot showing the ROC curves for each group with 100 threshold values. Use your trained linear regression model for predictions. Your X axis should be FPR and your Y axis should be TPR. Refer to Homework 1 for a reminder on how to use matplotlib."
   ]
  },
  {
   "cell_type": "code",
   "execution_count": 14,
   "metadata": {
    "id": "hhGWa--qMHJ-"
   },
   "outputs": [
    {
     "data": {
      "image/png": "[encoded data removed]",
      "text/plain": [
       "<Figure size 432x288 with 1 Axes>"
      ]
     },
     "metadata": {
      "needs_background": "light"
     },
     "output_type": "display_data"
    }
   ],
   "source": [
    "%matplotlib inline \n",
    "import matplotlib.pyplot as plt\n",
    "\n",
    "## YOUR CODE HERE\n",
    "\n",
    "y_A_hat = lin.predict(X_A)\n",
    "y_B_hat = lin.predict(X_B)\n",
    "\n",
    "tpr_A, fpr_A = compute_roc_curve(y_A, y_A_hat, 100)\n",
    "tpr_B, fpr_B = compute_roc_curve(y_B, y_B_hat, 100)\n",
    "\n",
    "plt.title('ROC Curve')\n",
    "plt.xlabel('FPR')\n",
    "plt.ylabel('TPR')\n",
    "\n",
    "plt.plot(fpr_A, tpr_A, color='blue', label='A curve')\n",
    "plt.plot(fpr_B, tpr_B, color='red' , label='B curve')\n",
    "plt.grid(True)\n",
    "\n",
    "plt.legend()\n",
    "\n",
    "plt.show()"
   ]
  },
  {
   "cell_type": "markdown",
   "metadata": {
    "id": "j-IniOiiMHKH"
   },
   "source": [
    "### 2.6: Minimizing Unfairness (5 points)\n",
    "\n",
    "There are many, many different definitions of unfairness. For this lab, we'll be using the **Equalized Odds Criterion**, where we check if the ROC curves of two groups are the same. We check its \"fairness error\" via: $|TPR_A - TPR_B| + |FPR_A - FPR_B|$\n",
    "\n",
    "There are 10,000 possible pairs of thresholds of the form $(a,b)$ where $a$ is the threshold for A and $b$ is the threshold for B in data plotted above. Find and print out the pair of thresholds which minimizes this \"fairness error\". (Graphiaclly, this translates to finding points which are closest between the two ROC curves)"
   ]
  },
  {
   "cell_type": "code",
   "execution_count": 15,
   "metadata": {
    "id": "onLnzIegMHKM"
   },
   "outputs": [],
   "source": [
    "## YOUR CODE HERE\n",
    "min_unfairness_A_thresh = 100\n",
    "min_unfairness_B_thresh = 100\n",
    "min_error = 100\n",
    "for j in range(0 , 100):\n",
    "    for i in range (0 , 100):\n",
    "        equalized_error = (abs(tpr_A[i]-tpr_B[j])+abs(fpr_A[i]-fpr_B[j]))\n",
    "        if min_error > equalized_error:\n",
    "            min_error = equalized_error\n",
    "            min_unfairness_A_thresh = i/100\n",
    "            min_unfairness_B_thresh = j/100"
   ]
  },
  {
   "cell_type": "code",
   "execution_count": 16,
   "metadata": {
    "id": "inEgDRR2MHKb"
   },
   "outputs": [
    {
     "name": "stdout",
     "output_type": "stream",
     "text": [
      "(0.05, 0.43)\n"
     ]
    }
   ],
   "source": [
    "print((min_unfairness_A_thresh, min_unfairness_B_thresh))"
   ]
  },
  {
   "cell_type": "markdown",
   "metadata": {
    "id": "GsxOBch6MHKo"
   },
   "source": [
    "### 2.7: Evaluating Accuracy (5 points)\n",
    "\n",
    "Compute `fair_acc`, the overall accuracy when using the thresholds from 2.6 on their respective groups. Compare this `max_acc`, to the single-value threshold in {0.00, 0.01, 0.02, ... , 0.99} that maximizes overall accuracy."
   ]
  },
  {
   "cell_type": "code",
   "execution_count": 17,
   "metadata": {
    "id": "4suPdux7MHKr"
   },
   "outputs": [],
   "source": [
    "## YOUR CODE HERE\n",
    "\n",
    "def acc(y,y_hat):\n",
    "    true_value = 0\n",
    "    for i in range(0, y.shape[0]):\n",
    "        if y[i,0] == y_hat[i,0]:\n",
    "            true_value += 1\n",
    "    return (true_value)/(y.shape[0])\n",
    "\n",
    "fair_acc_A = acc(y_A,threshold_predictions(y_A_hat,min_unfairness_A_thresh))\n",
    "fair_acc_B = acc(y_B,threshold_predictions(y_B_hat,min_unfairness_B_thresh))\n",
    "fair_acc   = (fair_acc_A + fair_acc_B)/2\n",
    "\n",
    "max_acc    = 0\n",
    "\n",
    "y_hat_ = lin.predict(dataX)\n",
    "for i in range (0,100):\n",
    "    y_hat_temp  = threshold_predictions(y_hat_,i/100)\n",
    "    temp_acc    = acc(dataY.values, y_hat_temp)\n",
    "    if temp_acc > max_acc:\n",
    "        max_acc = temp_acc"
   ]
  },
  {
   "cell_type": "code",
   "execution_count": 18,
   "metadata": {
    "id": "bse7iaEIMHKy"
   },
   "outputs": [
    {
     "name": "stdout",
     "output_type": "stream",
     "text": [
      "(0.7088103044496488, 0.872617853560682)\n"
     ]
    }
   ],
   "source": [
    "print((fair_acc,max_acc))"
   ]
  },
  {
   "cell_type": "markdown",
   "metadata": {
    "id": "9C2UmvWUMHK-"
   },
   "source": [
    "## Part 3: Equalized Odds vs. Demographic Parity (30 Points)"
   ]
  },
  {
   "cell_type": "markdown",
   "metadata": {
    "id": "pgS8q_32MHLA"
   },
   "source": [
    "In this section, we will revisit the equalized odds criterion and investigate further. Specifically, we will compare this fairness metric to another one -- demographic parity. This comparison will give us some insight into how various fairness metrics may or may not interact with each other."
   ]
  },
  {
   "cell_type": "markdown",
   "metadata": {
    "id": "8UbU_6jjMHLC"
   },
   "source": [
    "### 3.1 Revisit Equalized Odds (5 points)"
   ]
  },
  {
   "cell_type": "markdown",
   "metadata": {
    "id": "pFggSSTcMHLD"
   },
   "source": [
    "In the previous problem, you plotted the fairness error of the equalized odds criterion for two thresholds, one for each group. Now, we want just one threshold, therefore we need to have the error computed that is associated with each group."
   ]
  },
  {
   "cell_type": "markdown",
   "metadata": {
    "id": "YLz4HcI-MHLE"
   },
   "source": [
    "For each threshold $(0.00, 0.01... 0.99)$, compute the equalized odds unfairness from part 2. Make sure to save these results in a specified variable. Note: it's important that the ordering of this array is the same as the threshold array."
   ]
  },
  {
   "cell_type": "code",
   "execution_count": 19,
   "metadata": {
    "id": "HX2jUNyRMHLF"
   },
   "outputs": [],
   "source": [
    "### YOUR CODE HERE\n",
    "equalized_odds = np.zeros(100)\n",
    "\n",
    "for i in range(0, 100):\n",
    "    equalized_odds[i] = abs(tpr_A[i]-tpr_B[i])+abs(fpr_A[i]-fpr_B[i])"
   ]
  },
  {
   "cell_type": "markdown",
   "metadata": {
    "id": "kHxycD0HMHLV"
   },
   "source": [
    "### 3.2 Demographic Parity (5 points)"
   ]
  },
  {
   "cell_type": "markdown",
   "metadata": {
    "id": "juQ7cT6XMHLW"
   },
   "source": [
    "Intuitively demographic parity says that the ratio of the group in the whole population will be the same as the ratio of the group in the predicted classes. Formally for protected attribute $G$ and classifier $\\hat{Y}$, this can be specified as $$ P(G = g | \\hat{Y} = y) = P(G = g).$$\n",
    "\n",
    "The demographic parity unfairness can be computed as $$ \\sum_{g, y} | P(G = g | \\hat{Y} = y) - P(G = g) | .$$"
   ]
  },
  {
   "cell_type": "markdown",
   "metadata": {
    "id": "zz9LG5i7MHLY"
   },
   "source": [
    "Write a function to compute the demographic parity error."
   ]
  },
  {
   "cell_type": "code",
   "execution_count": 20,
   "metadata": {
    "id": "0ToHOhosMHLa"
   },
   "outputs": [],
   "source": [
    "### YOUR CODE HERE\n",
    "def demographic_parity_error(y_hat_a,y_hat_b):\n",
    "    error_A = np.unique(y_hat_a, return_counts=True)\n",
    "    error_B = np.unique(y_hat_, return_counts=True)\n",
    "    \n",
    "    d_p_e =  abs(error_A[1][0]/(error_A[1][0] + error_B[1][0]) - (y_hat_a.shape[0]/dataY.shape[0]))\n",
    "    \n",
    "    d_p_e += abs(error_B[1][0]/(error_A[1][0] + error_B[1][0]) - (y_hat_b.shape[0]/dataY.shape[0]))\n",
    "    \n",
    "    d_p_e += abs(error_A[1][1]/(error_A[1][1] + error_B[1][1]) - (y_hat_a.shape[0]/dataY.shape[0]))\n",
    "    \n",
    "    d_p_e += abs(error_B[1][1]/(error_A[1][1] + error_B[1][1]) - (y_hat_b.shape[0]/dataY.shape[0]))\n",
    "\n",
    "    return d_p_e"
   ]
  },
  {
   "cell_type": "markdown",
   "metadata": {
    "id": "pKJegyQ2MHLi"
   },
   "source": [
    "Write a function that computes an array of demographic parity errors given a list of thresholds. Note: The thresholds need to be all in the same order as the equalized odds thresholds."
   ]
  },
  {
   "cell_type": "code",
   "execution_count": 21,
   "metadata": {
    "id": "YQopgoYlMHLl"
   },
   "outputs": [],
   "source": [
    "### YOUR CODE HERE\n",
    "dem_parity = np.zeros(100)\n",
    "\n",
    "for i in range(0,100):\n",
    "    threshold_A   = threshold_predictions(y_A_hat,i/100)\n",
    "    threshold_B   = threshold_predictions(y_B_hat,i/100)\n",
    "    dem_parity[i] = demographic_parity_error(threshold_A, threshold_B)"
   ]
  },
  {
   "cell_type": "markdown",
   "metadata": {
    "id": "dLSfiq4eMHLy"
   },
   "source": [
    "### 3.3 Combine Equalized Odds & Demographic Parity (5 points)"
   ]
  },
  {
   "cell_type": "markdown",
   "metadata": {
    "id": "QzIsI-WTMHLz"
   },
   "source": [
    "Now that you have computed the errors for both fairness metrics -- equalized odds and demographic parity -- we can investigate further into our comparison, which will be achieved by correlating the error for both. "
   ]
  },
  {
   "cell_type": "markdown",
   "metadata": {
    "id": "KCw3LPwPMHL0"
   },
   "source": [
    "Currently, both errors exist as 'columns', or vectors. We would like to combine them into a single matrix $[equalized\\:odds\\:error, demographic\\:parity\\:error]$. \n",
    "\n",
    "Sort the row of the matrix in ascending order according to the equalized odds error. This ordering will enable us to complete the next part."
   ]
  },
  {
   "cell_type": "code",
   "execution_count": 22,
   "metadata": {
    "id": "9auzYtxxMHL1"
   },
   "outputs": [],
   "source": [
    "### YOUR CODE HERE\n",
    "\n",
    "sorted_eo = equalized_odds.copy()\n",
    "sorted_eo.sort()\n",
    "sorted_dp = dem_parity.copy()\n",
    "sorted_dp.sort()\n",
    "combined_eo_dp = np.stack((sorted_eo,sorted_dp),axis=0)"
   ]
  },
  {
   "cell_type": "markdown",
   "metadata": {
    "id": "4Y0FAYHOMHME"
   },
   "source": [
    "### 3.4 Visualization of Equalized Odds vs. Demographic Parity (5 points)"
   ]
  },
  {
   "cell_type": "markdown",
   "metadata": {
    "id": "IBlAUKd2MHMF"
   },
   "source": [
    "Now, we want to visualize this comparison. Plot the two rows of the matrix (from 3.3) as two separate line graphs. When plotted, you will notice a particular trend, specifically in the direction of the lines for equalized odds and demographic parity."
   ]
  },
  {
   "cell_type": "code",
   "execution_count": 23,
   "metadata": {
    "id": "BBUfixsOMHMH"
   },
   "outputs": [],
   "source": [
    "%matplotlib inline\n",
    "\n",
    "import matplotlib.pyplot as plt\n",
    "import random"
   ]
  },
  {
   "cell_type": "code",
   "execution_count": 24,
   "metadata": {
    "id": "VcDNDjqEMHMS"
   },
   "outputs": [
    {
     "data": {
      "image/png": "[encoded data removed]",
      "text/plain": [
       "<Figure size 432x288 with 1 Axes>"
      ]
     },
     "metadata": {
      "needs_background": "light"
     },
     "output_type": "display_data"
    }
   ],
   "source": [
    "### YOUR CODE HERE\n",
    "\n",
    "plt.title('Visualization of Equalized Odds vs. Demographic Parity')\n",
    "plt.xlabel('Threshold')\n",
    "plt.ylabel('Error')\n",
    "\n",
    "thresholds = np.zeros(100)\n",
    "for i in range(0,100):\n",
    "    thresholds[i] = i/100\n",
    "\n",
    "plt.plot(thresholds, combined_eo_dp[0], color='blue', label='Equalized Odds')\n",
    "plt.plot(thresholds, combined_eo_dp[1], color='red' , label='Demographic Parity')\n",
    "\n",
    "plt.grid(True)\n",
    "\n",
    "plt.legend()\n",
    "\n",
    "plt.show()\n"
   ]
  },
  {
   "cell_type": "markdown",
   "metadata": {
    "id": "EnN-Z9lGMHMf"
   },
   "source": [
    "### 3.5 Now You Pick! (10 points)"
   ]
  },
  {
   "cell_type": "markdown",
   "metadata": {
    "id": "rMM0OVUAMHMh"
   },
   "source": [
    "From this [Towards Data Science article](https://towardsdatascience.com/a-tutorial-on-fairness-in-machine-learning-3ff8ba1040cb), choose another definition of fairness. Explain here why you are interested in investigating this definition, and mention a scenario where it could be violated."
   ]
  },
  {
   "cell_type": "markdown",
   "metadata": {
    "id": "46CXXMOSMHMk"
   },
   "source": [
    "Please type your answers here!"
   ]
  },
  {
   "cell_type": "markdown",
   "metadata": {
    "id": "NIUiIhTKMHMv"
   },
   "source": [
    "Now, just like you did earlier in part 3, plot this error against those for demographic parity and equalized odds."
   ]
  },
  {
   "cell_type": "code",
   "execution_count": 25,
   "metadata": {
    "id": "VHJ0jJczMHMx"
   },
   "outputs": [
    {
     "data": {
      "image/png": "[encoded data removed]",
      "text/plain": [
       "<Figure size 432x288 with 1 Axes>"
      ]
     },
     "metadata": {
      "needs_background": "light"
     },
     "output_type": "display_data"
    }
   ],
   "source": [
    "### YOUR CODE HERE\n",
    "\n",
    "def predictive_parity(y_hat_a, y_hat_b):\n",
    "    error_A = np.unique(y_hat_a, return_counts=True)\n",
    "    error_B = np.unique(y_hat_b, return_counts=True)\n",
    "    \n",
    "    p_p_e  = abs(error_A[1][0]/(y_hat_a.shape[0]) - ((error_A[1][0] + error_B[1][0])/dataY.shape[0]))\n",
    "    \n",
    "    p_p_e += abs(error_A[1][1]/(y_hat_a.shape[0]) - ((error_A[1][0] + error_B[1][0])/dataY.shape[0]))\n",
    "    \n",
    "    p_p_e += abs(error_B[1][0]/(y_hat_b.shape[0]) - ((error_A[1][1] + error_B[1][1])/dataY.shape[0]))\n",
    "    \n",
    "    p_p_e += abs(error_B[1][1]/(y_hat_b.shape[0]) - ((error_A[1][1] + error_B[1][1])/dataY.shape[0]))  \n",
    "        \n",
    "    return p_p_e\n",
    "\n",
    "pred_error = np.zeros(100)\n",
    "\n",
    "\n",
    "for i in range(0,100):\n",
    "    threshold_A   = threshold_predictions(y_A_hat,i/100)\n",
    "    threshold_B   = threshold_predictions(y_B_hat,i/100)\n",
    "    pred_error[i] = predictive_parity(threshold_A,threshold_B)\n",
    "    \n",
    "\n",
    "\n",
    "plt.title('Visualization of Errors')\n",
    "plt.xlabel('Threshold')\n",
    "plt.ylabel('Error')\n",
    "\n",
    "thresholds = np.zeros(100)\n",
    "for i in range(0,100):\n",
    "    thresholds[i] = i/100\n",
    "\n",
    "pred_error.sort()\n",
    "    \n",
    "plt.plot(thresholds, combined_eo_dp[0], color='blue', label='Equalized Odds')\n",
    "plt.plot(thresholds, combined_eo_dp[1], color='red' , label='Demographic Parity')\n",
    "plt.plot(thresholds, pred_error, color='green' , label='Predictive Parity')\n",
    "\n",
    "plt.grid(True)\n",
    "plt.legend()\n",
    "\n",
    "plt.show()\n",
    "    "
   ]
  },
  {
   "cell_type": "markdown",
   "metadata": {
    "id": "Cet5tVzhMHNE"
   },
   "source": [
    "## Part 4: Short Response Questions (30 Points)"
   ]
  },
  {
   "cell_type": "markdown",
   "metadata": {
    "id": "WBGWuVIuMHNF"
   },
   "source": [
    "**Question 1 (5 points):** Below is a gif of a heatmap which shows how false positive disparity change for specific subgroups as the Learner and Auditor interact in each round. Each square represents a subgroup, the z-axis is the fairness disparity of that subgroup. What does it mean when the heatmap is \\\"flat\\\"?\n",
    "![heatmap](./heatmap.gif)"
   ]
  },
  {
   "cell_type": "markdown",
   "metadata": {
    "id": "kAR_fYpmMHNH"
   },
   "source": [
    "The higher the overall flow means that the fairness is unbalanced. When the graph is flat horizontally then we have a balance."
   ]
  },
  {
   "cell_type": "markdown",
   "metadata": {
    "id": "t1oq7TfUMHNI"
   },
   "source": [
    "**Question 2 (5 points):** In Part 2, you should have seen that the accuracy for the fair thresholds was much larger than the error the accuracy-maximizing threshold. Suppose that you are allowed to randomize between thresholds (randomly switch between thresholding on fairness and thresholding on accurate thresholds). Is this a smart approach to maximizing accuracy while maintaining fairness? Can you think of a better approach?"
   ]
  },
  {
   "cell_type": "markdown",
   "metadata": {
    "id": "LRnVDQehMHNK"
   },
   "source": [
    "The accuracy for fair thresholds wasn't larger than the accuracy-maximizing threshold. I would say that while it would maximize accuracy it would lower the fairness of the model. A much better approach is to pick a threshold that has an overal best scenario for both fairness and accuracy, trying to keep them as balanced as possible."
   ]
  },
  {
   "cell_type": "markdown",
   "metadata": {
    "id": "EWU165JtMHNL"
   },
   "source": [
    "**Question 3 (5 points):** What is the relationship between error of a fair classifier and the number of protected attributes? That is, if we increase the number of protected attributes, would you expect the error to increase, decrease, or stay the same?"
   ]
  },
  {
   "cell_type": "markdown",
   "metadata": {
    "id": "26wnBwCOMHNN"
   },
   "source": [
    "The number of protected attributes increases error in two ways. First, by having less features to analyze with the algorithm the model is less accurate, as it may be underfitted. Second, as shown before, having protected attributes may increase fairness, but at the cost of overall accuracy, as the model has to adapt to a less accurate model that respects the fairness."
   ]
  },
  {
   "cell_type": "markdown",
   "metadata": {
    "id": "N7Nc4vUsMHNP"
   },
   "source": [
    "**Question 4 (5 points):** Was accuracy a good measure to evaluate each threshold in part 2.7? Why or why not?"
   ]
  },
  {
   "cell_type": "markdown",
   "metadata": {
    "id": "tqsZ_62_MHNR"
   },
   "source": [
    "It is important to always calculate the accuracy because it gives an understanding as to how effective the algorithm was at creating a model that correctly predicts the data. While accuracy is important, it shouldn't be the only measure to be taken into account"
   ]
  },
  {
   "cell_type": "markdown",
   "metadata": {
    "id": "K0AOQdoOMHNT"
   },
   "source": [
    "**Question 5 (5 points):** Take a look at your plot from 3.4. Thinking of the trends in the two lines, what is the relationship between equalized odds and demographic parity? What could this possibly mean for how fairness measures interact in general?"
   ]
  },
  {
   "cell_type": "markdown",
   "metadata": {
    "id": "bvKx3EoEMHNU"
   },
   "source": [
    "Both errors increase as the thresholds increase, but for large thresholds the equalized odds error seems to be much higher. They seem to interact with each other, as they comlement each other to paint the whole picture of what is happending."
   ]
  },
  {
   "cell_type": "markdown",
   "metadata": {
    "id": "C8Ly-82dMHNW"
   },
   "source": [
    "**Question 6 (5 points):** Provide an interpretation of your plot from 3.5. Keep in mind again the trends of the two lines. "
   ]
  },
  {
   "cell_type": "markdown",
   "metadata": {
    "id": "0CBaLyC1MHNX"
   },
   "source": [
    "Apparently, my predictive parity error mas much higher than my other errors. Also, it has a similar growth to that of the demographic parity error. This is because while very fair, the predictive parity approach lacks severely in accuracy when compared to other approaches."
   ]
  }
 ],
 "metadata": {
  "colab": {
   "collapsed_sections": [
    "KpD8xGAQMHJM",
    "EaNl_-FGMHJk",
    "j-IniOiiMHKH",
    "GsxOBch6MHKo",
    "8UbU_6jjMHLC",
    "kHxycD0HMHLV",
    "dLSfiq4eMHLy",
    "4Y0FAYHOMHME",
    "EnN-Z9lGMHMf"
   ],
   "name": "CSE146_Lab3--[YOURNAMEHERE]_2020.ipynb",
   "provenance": []
  },
  "kernelspec": {
   "display_name": "Python 3",
   "language": "python",
   "name": "python3"
  },
  "language_info": {
   "codemirror_mode": {
    "name": "ipython",
    "version": 3
   },
   "file_extension": ".py",
   "mimetype": "text/x-python",
   "name": "python",
   "nbconvert_exporter": "python",
   "pygments_lexer": "ipython3",
   "version": "3.8.5"
  }
 },
 "nbformat": 4,
 "nbformat_minor": 1
}
