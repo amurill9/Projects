{
 "cells": [
  {
   "cell_type": "markdown",
   "metadata": {
    "id": "S6C8MvcaMHGf"
   },
   "source": [
    "### CSE 146 Lab 3: Algorithmic Fairness\n",
    "\n",
    "### ASSIGNED: Tueday, October 20\n",
    "### DUE: Tuesday, October 29\n",
    "### 100 points total\n",
    "\n",
    "In this homework, you will gain experience with tools for implementing classifiers that provide fairness guarantees. In part 2, you will try to get a fair classifier if you only have access to a normal classifier. In parts 3 and 4, you will get to explore the different outcomes when using different definitions of fairness for classifiers. You will also look at the tradeoffs between fairness and accuracy. \n",
    "\n",
    "All cells where code is required are marked with a \"# YOUR CODE HERE\" comment. All cells where a written answer is required are marked with \"Please type your answers here!\". The point values for each code block are written in the header for the associated subsection."
   ]
  },
  {
   "cell_type": "markdown",
   "metadata": {
    "id": "N33PR9c0MHGi"
   },
   "source": [
    "## Instructions \n",
    "For each question, you should write Python code to compute the answer to the questions that renders in a readable way according to the specifications of the question. You may only use the packages provided in the Background and Setup code. We will not be installing any packages during grading, and code that does not compile will negatively affect your grade.\n",
    "\n",
    "This assignment can be done collaboratively, and please be sure to list the student(s) you worked with in the space provided below. Please reach out to each other if you have any questions or difficulties.\n",
    "\n",
    "Be sure to rename this homework notebook (in [YOUR NAME HERE] so that it includes your name. \n",
    "\n",
    "### List the student(s) you worked with on this assignment here:\n",
    "1. Natalie Petrosian\n",
    "2. Adrian Murillo\n",
    "3. [etc.]"
   ]
  },
  {
   "cell_type": "markdown",
   "metadata": {
    "id": "cAHEbLv5MHGk"
   },
   "source": [
    "## Part 1: Importing Data (5 Points)\n",
    "Before working with the algorithms for fair classification, we must first import the dataset we wish to use. We will again be working with the \"Communities and Crime\" dataset from [UC Irvine's Machine Learning Repository](http://archive.ics.uci.edu/ml/datasets/communities+and+crime). It includes data about the different types of crimes among various communities, socioeconomic and racial data about each community, and information about the police force in each community.\n",
    "\n",
    "The algorithms will require that your data is split into 3 DataFrames:\n",
    "\n",
    "- `dataX`: The features of each instance, not including any protected attributes\n",
    "- `dataA`: The protected attributes of each instance\n",
    "- `dataY`: The label for each instance (the value to be predicted)\n",
    "\n",
    "Currently, we provide you with 2 CSV files:\n",
    "\n",
    "- `communities.csv`, which contains all information for each instance\n",
    "- `communities_protected.csv`, which is a single-row dataframe, indicating how each column within `communities.csv` should be used. If the column value is 0 the attribute is unprotected, if its 1 the attribute is a protected feature, and 2 if the attribute is the value to be predicted (the label for each instance).\n",
    "\n",
    "In part 2, we will focus on only one of the protected features. In parts 3 and 4, we will use all 18 protected features for upholding our fairness metrics.\n",
    "\n",
    "Write code to generate the 3 Pandas DataFrames, `dataX`, `dataA` and `dataY`. \n",
    "\n",
    "*Hint: Remember how we checked for DataFrame values in Lab1 via dataframe[dataframe == some_val], and read pandas' .dropna() function for dataframes!*"
   ]
  },
  {
   "cell_type": "code",
   "execution_count": 1,
   "metadata": {
    "id": "_4d_D5IQMHGm"
   },
   "outputs": [],
   "source": [
    "%load_ext autoreload\n",
    "%autoreload 2"
   ]
  },
  {
   "cell_type": "code",
   "execution_count": 2,
   "metadata": {
    "id": "SWmpeHEqMHG1"
   },
   "outputs": [],
   "source": [
    "import pandas as pd # Necessary libraries\n",
    "import numpy as np\n",
    "import warnings # Suppressing warnings\n",
    "warnings.filterwarnings('ignore') "
   ]
  },
  {
   "cell_type": "code",
   "execution_count": 3,
   "metadata": {
    "id": "32Pu7DDEMHHM"
   },
   "outputs": [],
   "source": [
    "# YOUR CODE HERE\n",
    "dataframe = pd.read_csv('communities.csv')\n",
    "protected = pd.read_csv('communities_protected.csv')\n",
    "\n",
    "dataX = dataframe.loc[:, (protected == 0).any()]\n",
    "dataA = dataframe.loc[:, (protected == 1).any()]\n",
    "dataY = dataframe.loc[:, (protected == 2).any()]"
   ]
  },
  {
   "cell_type": "code",
   "execution_count": 4,
   "metadata": {
    "id": "uDFMY9CQMHHf"
   },
   "outputs": [
    {
     "name": "stdout",
     "output_type": "stream",
     "text": [
      "dataX Shape: (1994, 104)\n",
      "dataA Shape: (1994, 18)\n",
      "dataY Shape: (1994, 1)\n"
     ]
    }
   ],
   "source": [
    "print('dataX Shape:', dataX.shape)\n",
    "print('dataA Shape:', dataA.shape)\n",
    "print('dataY Shape:', dataY.shape)"
   ]
  },
  {
   "cell_type": "markdown",
   "metadata": {
    "id": "tfJ-SyxwMHHy"
   },
   "source": [
    "## Part 2: Two-Group Fairness via Post-processing (35 Points)\n",
    "\n",
    "In this section, you will implement a method of achieving a fair classifier \"from scratch\" by post-processing a generic linear regression classifier. If you'd like to read about it in depth, this method is described in depth in https://arxiv.org/abs/1610.02413. \n",
    "\n",
    "You will train a classifier which approximately equalizes both True Positive Rate and False Positive Rate for two groups, which is commonly referred to as the Equalized Odds criterion."
   ]
  },
  {
   "cell_type": "markdown",
   "metadata": {
    "id": "FskTQOBiMHH2"
   },
   "source": [
    "### 2.1: Training a Real-Valued Predictor (5 points)\n",
    "\n",
    "So far we've been working with classifiers that predict 0 or 1 scores. There are also models, like linear regression, that predict real-values scores. For now, you can think of these real-valued scores as the estimated probability that that instance's classification should be 1.\n",
    "\n",
    "Now, you will train a real-valued predictor. Use the Linear Regression package from SciKit-Learn to train a regression model on dataX and dataY. Generate predictions for dataY (called y_hat_score) and print them. \n",
    "\n",
    "NOTE: Please make sure to do a train/test split, as this is a general practice in machine learning.\n",
    "\n",
    "https://scikit-learn.org/stable/modules/generated/sklearn.linear_model.LinearRegression.html"
   ]
  },
  {
   "cell_type": "code",
   "execution_count": 5,
   "metadata": {
    "id": "XaJJk0k3MHH5"
   },
   "outputs": [
    {
     "name": "stdout",
     "output_type": "stream",
     "text": [
      "0.4748261664802196\n"
     ]
    }
   ],
   "source": [
    "from sklearn.linear_model import LinearRegression\n",
    "from sklearn.model_selection import train_test_split\n",
    "# YOUR CODE HERE\n",
    "dataX_train, dataX_test, dataY_train, dataY_test = train_test_split(dataX, dataY, test_size=0.2)\n",
    "\n",
    "\n",
    "linReg = LinearRegression().fit(dataX_train, dataY_train)\n",
    "\n",
    "print(linReg.score(dataX_test, dataY_test))\n",
    "y_hat_score = linReg.predict(dataX_test)"
   ]
  },
  {
   "cell_type": "code",
   "execution_count": 6,
   "metadata": {
    "id": "e-MwZoRmMHIF"
   },
   "outputs": [
    {
     "name": "stdout",
     "output_type": "stream",
     "text": [
      "[[ 9.39539487e-02]\n",
      " [ 1.12940103e-01]\n",
      " [ 3.32566511e-03]\n",
      " [-5.07785751e-02]\n",
      " [ 4.05761449e-02]\n",
      " [ 6.59364847e-01]\n",
      " [ 6.59832628e-01]\n",
      " [-1.28001223e-01]\n",
      " [ 7.56652558e-02]\n",
      " [-7.33479107e-02]\n",
      " [ 6.93171414e-01]\n",
      " [ 4.45727419e-01]\n",
      " [ 1.08923952e-01]\n",
      " [ 3.14258535e-01]\n",
      " [ 8.54633891e-01]\n",
      " [ 5.41881536e-01]\n",
      " [-6.86083598e-02]\n",
      " [ 7.80607971e-01]\n",
      " [ 5.93365949e-01]\n",
      " [ 8.48369599e-01]\n",
      " [ 3.79839992e-01]\n",
      " [ 1.18570663e-01]\n",
      " [ 2.74690591e-01]\n",
      " [ 3.51831446e-01]\n",
      " [-4.02272434e-02]\n",
      " [ 5.39337237e-01]\n",
      " [ 5.27586173e-01]\n",
      " [ 5.96331856e-02]\n",
      " [ 1.02306054e+00]\n",
      " [ 4.03594431e-01]\n",
      " [ 3.75285704e-01]\n",
      " [ 6.97940772e-01]\n",
      " [ 8.93235975e-01]\n",
      " [-7.90837622e-02]\n",
      " [ 1.91047003e-01]\n",
      " [-1.03012812e-01]\n",
      " [ 5.11931906e-01]\n",
      " [ 9.08863487e-01]\n",
      " [ 1.82131058e-01]\n",
      " [-3.60508884e-02]\n",
      " [ 3.13913584e-01]\n",
      " [ 5.04269151e-01]\n",
      " [-1.45276061e-01]\n",
      " [ 9.19364932e-02]\n",
      " [ 2.45642713e-01]\n",
      " [ 9.05426851e-01]\n",
      " [-2.81305354e-03]\n",
      " [ 8.81903101e-01]\n",
      " [ 6.06295168e-01]\n",
      " [ 1.00151278e-01]\n",
      " [ 2.84220413e-02]\n",
      " [ 1.74448551e-01]\n",
      " [ 6.53414999e-01]\n",
      " [ 1.12260293e+00]\n",
      " [-1.63326292e-02]\n",
      " [ 2.35781003e-01]\n",
      " [-3.09729001e-02]\n",
      " [ 1.48006504e-01]\n",
      " [ 7.51885491e-01]\n",
      " [ 3.14455372e-01]\n",
      " [ 3.89971094e-01]\n",
      " [ 2.93382250e-01]\n",
      " [ 1.64776595e-01]\n",
      " [ 8.27707559e-02]\n",
      " [ 1.67718295e-02]\n",
      " [ 3.77122303e-01]\n",
      " [ 2.62777444e-02]\n",
      " [ 6.82959814e-01]\n",
      " [ 1.75029821e-01]\n",
      " [ 1.21715119e-01]\n",
      " [ 3.87297396e-01]\n",
      " [ 2.03101966e-01]\n",
      " [ 3.92521122e-01]\n",
      " [ 1.04252105e+00]\n",
      " [ 2.79968310e-01]\n",
      " [ 5.34962990e-01]\n",
      " [ 6.15847277e-01]\n",
      " [ 4.54534537e-01]\n",
      " [ 7.99405161e-02]\n",
      " [ 2.57035833e-01]\n",
      " [ 2.88850531e-02]\n",
      " [ 3.67707876e-01]\n",
      " [ 6.49877061e-01]\n",
      " [ 1.72761653e-01]\n",
      " [ 1.01364579e+00]\n",
      " [ 3.96765085e-01]\n",
      " [ 1.45303131e-01]\n",
      " [ 7.01731659e-01]\n",
      " [ 2.02621911e-01]\n",
      " [ 3.11321300e-01]\n",
      " [ 3.08073589e-02]\n",
      " [-1.34953588e-01]\n",
      " [ 9.76304691e-01]\n",
      " [ 1.24140983e-01]\n",
      " [ 4.44014040e-02]\n",
      " [-1.75351442e-01]\n",
      " [ 7.54715969e-01]\n",
      " [ 3.71387186e-01]\n",
      " [ 1.16235744e-01]\n",
      " [ 1.52331486e-01]\n",
      " [-1.49147236e-01]\n",
      " [-4.02527982e-02]\n",
      " [ 1.93090588e-01]\n",
      " [ 7.79102359e-01]\n",
      " [ 9.71015830e-01]\n",
      " [ 8.93626853e-01]\n",
      " [ 4.85232506e-01]\n",
      " [ 5.48130906e-01]\n",
      " [-3.35091372e-02]\n",
      " [-5.67630860e-02]\n",
      " [ 4.86663029e-01]\n",
      " [ 7.66174845e-01]\n",
      " [ 6.54853359e-01]\n",
      " [ 7.24229210e-01]\n",
      " [ 1.70850842e-01]\n",
      " [ 2.56353241e-01]\n",
      " [ 1.18927097e-01]\n",
      " [ 8.19154689e-02]\n",
      " [-1.03309277e-01]\n",
      " [ 3.55270998e-01]\n",
      " [ 7.76720587e-02]\n",
      " [ 2.06026996e-01]\n",
      " [ 8.06138844e-01]\n",
      " [ 4.18103756e-03]\n",
      " [ 1.22477528e+00]\n",
      " [ 2.39280684e-01]\n",
      " [ 1.41551967e-01]\n",
      " [ 2.43147753e-01]\n",
      " [-3.11660177e-02]\n",
      " [-9.12878179e-02]\n",
      " [ 9.48335687e-01]\n",
      " [-9.99956295e-02]\n",
      " [ 1.14057148e-01]\n",
      " [ 4.82124509e-01]\n",
      " [ 9.39567549e-01]\n",
      " [ 1.19707446e+00]\n",
      " [ 3.55018450e-02]\n",
      " [ 9.71698897e-01]\n",
      " [ 8.52569371e-01]\n",
      " [ 1.02607836e-01]\n",
      " [ 1.73751140e-01]\n",
      " [ 9.75695273e-01]\n",
      " [ 1.98795476e-01]\n",
      " [ 4.97977006e-01]\n",
      " [ 3.23882518e-01]\n",
      " [ 4.83935767e-01]\n",
      " [ 7.05009336e-01]\n",
      " [ 6.64800144e-01]\n",
      " [ 5.07453658e-01]\n",
      " [ 2.94811305e-01]\n",
      " [ 5.10048319e-01]\n",
      " [ 4.51253013e-02]\n",
      " [ 1.44620833e-01]\n",
      " [ 8.41802170e-02]\n",
      " [ 7.99470588e-01]\n",
      " [ 8.68227766e-01]\n",
      " [ 2.32275934e-02]\n",
      " [ 7.85932794e-01]\n",
      " [ 7.10858458e-01]\n",
      " [ 1.33138265e-01]\n",
      " [ 8.18860724e-01]\n",
      " [ 1.69562982e-01]\n",
      " [ 2.05996848e-01]\n",
      " [ 5.18722207e-02]\n",
      " [ 1.22399882e-01]\n",
      " [ 2.09073942e-01]\n",
      " [ 9.28119930e-01]\n",
      " [ 1.71699213e-01]\n",
      " [ 1.01696703e-01]\n",
      " [ 1.37221902e-01]\n",
      " [ 1.05139648e-01]\n",
      " [ 4.88187437e-02]\n",
      " [ 9.35827429e-02]\n",
      " [ 5.42344244e-02]\n",
      " [ 3.76911810e-01]\n",
      " [ 6.63540524e-01]\n",
      " [ 7.91238986e-02]\n",
      " [ 6.29879526e-01]\n",
      " [ 6.28771479e-01]\n",
      " [ 8.90240113e-01]\n",
      " [ 3.45144078e-01]\n",
      " [ 5.80123159e-02]\n",
      " [ 1.81399893e-01]\n",
      " [ 6.66254229e-01]\n",
      " [ 6.27013191e-01]\n",
      " [ 1.36894576e-01]\n",
      " [ 7.20412793e-02]\n",
      " [ 1.26734491e-01]\n",
      " [ 2.17856900e-01]\n",
      " [ 1.55111940e-01]\n",
      " [ 2.43553457e-01]\n",
      " [ 6.00876823e-02]\n",
      " [ 2.41070719e-01]\n",
      " [ 3.25121991e-01]\n",
      " [ 6.64144179e-01]\n",
      " [ 1.67288970e-01]\n",
      " [ 2.14506304e-01]\n",
      " [ 4.42206308e-01]\n",
      " [ 3.74821489e-01]\n",
      " [ 9.17670976e-02]\n",
      " [ 3.18797196e-01]\n",
      " [ 3.18248413e-01]\n",
      " [ 9.04492884e-02]\n",
      " [ 4.20389811e-01]\n",
      " [ 7.39256133e-01]\n",
      " [ 9.11110745e-01]\n",
      " [ 3.51283745e-01]\n",
      " [-5.17991876e-02]\n",
      " [ 4.73521885e-01]\n",
      " [ 1.26779804e-01]\n",
      " [ 1.96794968e-01]\n",
      " [-1.22374219e-02]\n",
      " [ 4.98503121e-01]\n",
      " [ 2.81456928e-01]\n",
      " [ 4.08590168e-01]\n",
      " [-1.04954323e-01]\n",
      " [ 1.00821306e-01]\n",
      " [ 5.27223000e-01]\n",
      " [ 1.48267446e-01]\n",
      " [ 1.41215429e-01]\n",
      " [ 7.90886046e-01]\n",
      " [-4.30747785e-02]\n",
      " [ 5.70149583e-02]\n",
      " [ 5.10900936e-02]\n",
      " [-1.95043022e-01]\n",
      " [-9.37415505e-02]\n",
      " [ 2.33790517e-01]\n",
      " [ 7.82730230e-02]\n",
      " [ 8.60565311e-01]\n",
      " [ 1.09587561e-01]\n",
      " [ 8.88957223e-01]\n",
      " [ 4.49575972e-01]\n",
      " [ 5.56418921e-02]\n",
      " [ 3.96441891e-01]\n",
      " [-3.57363936e-02]\n",
      " [ 2.62367515e-01]\n",
      " [ 2.59667049e-01]\n",
      " [ 3.70771999e-01]\n",
      " [-7.39765632e-03]\n",
      " [ 1.74709735e-01]\n",
      " [ 2.68568267e-01]\n",
      " [ 8.87033092e-01]\n",
      " [ 7.47196788e-01]\n",
      " [ 2.14837034e-02]\n",
      " [ 1.09496171e-01]\n",
      " [ 2.62807727e-01]\n",
      " [ 5.78138646e-02]\n",
      " [ 4.17269199e-01]\n",
      " [ 3.72008485e-01]\n",
      " [ 9.92099667e-02]\n",
      " [ 6.80431634e-01]\n",
      " [-9.13553566e-03]\n",
      " [-1.02602053e-01]\n",
      " [ 2.72759504e-01]\n",
      " [-1.37192379e-01]\n",
      " [ 2.32007184e-01]\n",
      " [ 1.29857579e+00]\n",
      " [ 1.70690377e-01]\n",
      " [ 1.87170458e-01]\n",
      " [ 1.35394512e-01]\n",
      " [ 2.76100546e-01]\n",
      " [ 6.95778404e-01]\n",
      " [-9.71542772e-02]\n",
      " [ 5.67166197e-01]\n",
      " [ 8.77949813e-01]\n",
      " [-3.62082896e-02]\n",
      " [ 2.31339328e-01]\n",
      " [ 3.70970938e-01]\n",
      " [ 1.72431812e-01]\n",
      " [ 4.63065771e-01]\n",
      " [ 2.60729842e-01]\n",
      " [ 1.51875895e-01]\n",
      " [-5.54327409e-03]\n",
      " [-2.86127249e-01]\n",
      " [ 1.02007136e+00]\n",
      " [ 1.75885334e-02]\n",
      " [ 3.33314310e-02]\n",
      " [ 6.71571880e-01]\n",
      " [-2.27750730e-02]\n",
      " [ 1.86933729e-02]\n",
      " [ 2.10189759e-01]\n",
      " [ 1.19507806e+00]\n",
      " [ 1.79649992e-01]\n",
      " [ 7.93082383e-02]\n",
      " [-7.09299048e-03]\n",
      " [ 4.55993077e-01]\n",
      " [ 2.58692715e-01]\n",
      " [ 5.34851548e-01]\n",
      " [ 1.40251581e-01]\n",
      " [-2.25235978e-02]\n",
      " [ 5.00916930e-04]\n",
      " [ 6.54537618e-01]\n",
      " [ 6.47448925e-01]\n",
      " [ 5.55442788e-01]\n",
      " [ 3.55219365e-01]\n",
      " [ 6.97969239e-01]\n",
      " [-1.03378689e-02]\n",
      " [ 1.01858532e+00]\n",
      " [ 1.13035348e+00]\n",
      " [ 3.54588591e-02]\n",
      " [ 2.39586114e-01]\n",
      " [ 4.57582507e-01]\n",
      " [ 3.67820345e-01]\n",
      " [ 3.48242422e-01]\n",
      " [ 4.21214672e-02]\n",
      " [ 7.25966773e-01]\n",
      " [ 3.55108699e-01]\n",
      " [ 2.40780718e-02]\n",
      " [ 1.90361529e-01]\n",
      " [ 4.68050685e-01]\n",
      " [ 7.75833621e-01]\n",
      " [-1.72098260e-01]\n",
      " [-9.37061596e-02]\n",
      " [ 1.61336945e-01]\n",
      " [ 8.00095255e-01]\n",
      " [ 9.37905870e-02]\n",
      " [ 5.87138053e-01]\n",
      " [ 5.75377885e-01]\n",
      " [ 2.36796774e-01]\n",
      " [-3.37342075e-02]\n",
      " [ 7.89627911e-02]\n",
      " [ 5.36358418e-01]\n",
      " [ 7.68558489e-02]\n",
      " [ 5.30106147e-01]\n",
      " [ 6.19509348e-01]\n",
      " [ 8.26751948e-01]\n",
      " [ 1.93504365e-01]\n",
      " [-8.12104094e-02]\n",
      " [ 4.26204580e-01]\n",
      " [ 5.29831973e-01]\n",
      " [ 3.00998115e-01]\n",
      " [ 7.14572555e-01]\n",
      " [ 3.39406128e-01]\n",
      " [-5.95128914e-03]\n",
      " [ 7.35829624e-01]\n",
      " [ 6.74884233e-02]\n",
      " [ 8.04716501e-03]\n",
      " [-5.34162881e-02]\n",
      " [ 6.11484006e-01]\n",
      " [ 8.06453519e-01]\n",
      " [ 7.40536086e-01]\n",
      " [-1.81407665e-02]\n",
      " [ 1.09693598e-03]\n",
      " [ 8.30483978e-01]\n",
      " [ 7.74200732e-01]\n",
      " [ 5.51448475e-01]\n",
      " [ 1.24792598e-01]\n",
      " [-2.15937371e-01]\n",
      " [ 1.83165384e-01]\n",
      " [ 2.45120702e-01]\n",
      " [ 9.46701871e-04]\n",
      " [ 7.87772169e-01]\n",
      " [ 5.64794373e-02]\n",
      " [-8.97466916e-02]\n",
      " [ 2.24772889e-01]\n",
      " [ 5.00163549e-01]\n",
      " [-1.02242820e-01]\n",
      " [ 4.42373250e-01]\n",
      " [ 7.48221895e-01]\n",
      " [ 6.78701636e-01]\n",
      " [-1.58137005e-01]\n",
      " [ 4.98984592e-01]\n",
      " [ 4.28932169e-02]\n",
      " [ 5.38162551e-01]\n",
      " [ 6.41076571e-01]\n",
      " [ 1.42144985e-01]\n",
      " [-4.62853541e-02]\n",
      " [ 2.42251957e-01]\n",
      " [ 3.19211794e-01]\n",
      " [ 1.06541715e+00]\n",
      " [ 1.24607127e-01]\n",
      " [ 2.12716999e-01]\n",
      " [ 4.62386527e-01]\n",
      " [ 2.15180126e-01]\n",
      " [ 9.02311414e-01]\n",
      " [ 5.58780922e-01]\n",
      " [ 1.14499344e-01]\n",
      " [-2.00040904e-04]\n",
      " [ 4.08051401e-01]\n",
      " [ 1.60519214e-01]\n",
      " [ 6.99889042e-01]\n",
      " [ 2.00894601e-01]\n",
      " [ 6.80776536e-02]\n",
      " [ 2.56077819e-01]\n",
      " [ 6.31608443e-01]\n",
      " [ 9.24195091e-01]\n",
      " [-6.45906599e-02]\n",
      " [ 1.00503076e+00]\n",
      " [ 2.93287904e-01]\n",
      " [ 3.01897464e-02]\n",
      " [ 2.89425256e-01]\n",
      " [ 1.54582203e-01]\n",
      " [ 5.81317120e-02]\n",
      " [ 9.37786071e-01]\n",
      " [ 4.56998875e-01]\n",
      " [ 2.78399552e-01]\n",
      " [ 1.41796065e-02]\n",
      " [ 9.79392092e-02]\n",
      " [ 2.00333294e-01]]\n"
     ]
    }
   ],
   "source": [
    "print(y_hat_score)"
   ]
  },
  {
   "cell_type": "markdown",
   "metadata": {
    "id": "SQdrur0uMHIV"
   },
   "source": [
    "### 2.2: Binary Classification via Thresholding (5 points)\n",
    "\n",
    "We will need to convert our estimated probabilities to 0/1 predictions. Write a function (named threshold_predictions) which takes in a set of predicted linear regression scores, a threshold, and converts the scores to 0/1 predictions (below or equal to threshold $\\to$ 0, above threshold $\\to$ 1). Print out your converted predictions using a threshold of 0.5."
   ]
  },
  {
   "cell_type": "code",
   "execution_count": 7,
   "metadata": {
    "id": "yVyvNYGTMHIW"
   },
   "outputs": [],
   "source": [
    "def threshold_predictions(y_hat_score, threshold):\n",
    "    # YOUR CODE HERE\n",
    "    newArr = np.empty(len(y_hat_score))\n",
    "    for i in range(len(y_hat_score)):\n",
    "        if y_hat_score[i] > threshold:\n",
    "            newArr[i] = 1\n",
    "        else:\n",
    "            newArr[i] = 0\n",
    "    return newArr\n",
    "    "
   ]
  },
  {
   "cell_type": "code",
   "execution_count": 8,
   "metadata": {
    "id": "67fIG1-LMHIe"
   },
   "outputs": [
    {
     "name": "stdout",
     "output_type": "stream",
     "text": [
      "[0. 0. 0. 0. 0. 1. 1. 0. 0. 0. 1. 0. 0. 0. 1. 1. 0. 1. 1. 1. 0. 0. 0. 0.\n",
      " 0. 1. 1. 0. 1. 0. 0. 1. 1. 0. 0. 0. 1. 1. 0. 0. 0. 1. 0. 0. 0. 1. 0. 1.\n",
      " 1. 0. 0. 0. 1. 1. 0. 0. 0. 0. 1. 0. 0. 0. 0. 0. 0. 0. 0. 1. 0. 0. 0. 0.\n",
      " 0. 1. 0. 1. 1. 0. 0. 0. 0. 0. 1. 0. 1. 0. 0. 1. 0. 0. 0. 0. 1. 0. 0. 0.\n",
      " 1. 0. 0. 0. 0. 0. 0. 1. 1. 1. 0. 1. 0. 0. 0. 1. 1. 1. 0. 0. 0. 0. 0. 0.\n",
      " 0. 0. 1. 0. 1. 0. 0. 0. 0. 0. 1. 0. 0. 0. 1. 1. 0. 1. 1. 0. 0. 1. 0. 0.\n",
      " 0. 0. 1. 1. 1. 0. 1. 0. 0. 0. 1. 1. 0. 1. 1. 0. 1. 0. 0. 0. 0. 0. 1. 0.\n",
      " 0. 0. 0. 0. 0. 0. 0. 1. 0. 1. 1. 1. 0. 0. 0. 1. 1. 0. 0. 0. 0. 0. 0. 0.\n",
      " 0. 0. 1. 0. 0. 0. 0. 0. 0. 0. 0. 0. 1. 1. 0. 0. 0. 0. 0. 0. 0. 0. 0. 0.\n",
      " 0. 1. 0. 0. 1. 0. 0. 0. 0. 0. 0. 0. 1. 0. 1. 0. 0. 0. 0. 0. 0. 0. 0. 0.\n",
      " 0. 1. 1. 0. 0. 0. 0. 0. 0. 0. 1. 0. 0. 0. 0. 0. 1. 0. 0. 0. 0. 1. 0. 1.\n",
      " 1. 0. 0. 0. 0. 0. 0. 0. 0. 0. 1. 0. 0. 1. 0. 0. 0. 1. 0. 0. 0. 0. 0. 1.\n",
      " 0. 0. 0. 1. 1. 1. 0. 1. 0. 1. 1. 0. 0. 0. 0. 0. 0. 1. 0. 0. 0. 0. 1. 0.\n",
      " 0. 0. 1. 0. 1. 1. 0. 0. 0. 1. 0. 1. 1. 1. 0. 0. 0. 1. 0. 1. 0. 0. 1. 0.\n",
      " 0. 0. 1. 1. 1. 0. 0. 1. 1. 1. 0. 0. 0. 0. 0. 1. 0. 0. 0. 1. 0. 0. 1. 1.\n",
      " 0. 0. 0. 1. 1. 0. 0. 0. 0. 1. 0. 0. 0. 0. 1. 1. 0. 0. 0. 0. 1. 0. 0. 0.\n",
      " 1. 1. 0. 1. 0. 0. 0. 0. 0. 1. 0. 0. 0. 0. 0.]\n"
     ]
    }
   ],
   "source": [
    "y_hat_0_1 = threshold_predictions(y_hat_score, 0.5)\n",
    "print(y_hat_0_1)"
   ]
  },
  {
   "cell_type": "markdown",
   "metadata": {
    "id": "xS9Dt0shMHIm"
   },
   "source": [
    "### 2.3: Computing TPR and FPR (5 points)\n",
    "\n",
    "There are many peformance measurements for machine learning classifiers. We now introduce two new ones, true positive rate and false positive rate. We define them using the terminology from a confusion matrix:\n",
    "\n",
    "\\begin{equation}\n",
    "TruePosRate = \\frac{True Positive}{True Positive + False Negative}\n",
    "\\end{equation}\n",
    "\n",
    "\\begin{equation}\n",
    "FalsePosRate = \\frac{False Positive}{False Positive + True Negative}\n",
    "\\end{equation}\n",
    "\n",
    "Write functions which compute the true positive rate and false positive rate, given vectors for true labels (y) and binary predictions (y_hat).\n",
    "\n"
   ]
  },
  {
   "cell_type": "code",
   "execution_count": 9,
   "metadata": {
    "id": "KpiP5bLjMHIo"
   },
   "outputs": [],
   "source": [
    "# YOUR CODE HERE\n",
    "def true_positive_rate(y, y_hat):\n",
    "    tp = 0\n",
    "    fn = 0\n",
    "\n",
    "    for i in range(len(y_hat)): \n",
    "        if y[i].all()==y_hat[i]==1:\n",
    "           tp += 1\n",
    "        elif y_hat[i]==0 and y[i].all()!=y_hat[i]:\n",
    "           fn += 1\n",
    "    return (tp)/(tp+fn)\n",
    "    pass\n",
    "\n",
    "def false_positive_rate(y, y_hat):\n",
    "    fp = 0\n",
    "    tn = 0\n",
    "\n",
    "    for i in range(len(y_hat)): \n",
    "        if y_hat[i] == 1 and y[i].all()!=y_hat[i]:\n",
    "           fp += 1\n",
    "        elif y_hat[i]==0 and y[i]==y_hat[i]:\n",
    "           tn += 1\n",
    "    return (fp)/(fp+tn)\n",
    "    pass"
   ]
  },
  {
   "cell_type": "markdown",
   "metadata": {
    "id": "j_iw0FhuMHI6"
   },
   "source": [
    "Now, we compute the TPR and FPR for your predictions from 2.2."
   ]
  },
  {
   "cell_type": "code",
   "execution_count": 10,
   "metadata": {
    "id": "jhoZi2Z6MHI9"
   },
   "outputs": [
    {
     "name": "stdout",
     "output_type": "stream",
     "text": [
      "0.7251908396946565\n",
      "0.08582089552238806\n"
     ]
    }
   ],
   "source": [
    "print(true_positive_rate(dataY_test.values, y_hat_0_1))\n",
    "print(false_positive_rate(dataY_test.values, y_hat_0_1))"
   ]
  },
  {
   "cell_type": "markdown",
   "metadata": {
    "id": "KpD8xGAQMHJM"
   },
   "source": [
    "### 2.4: Computing ROC Curves (5 points)\n",
    "\n",
    "ROC (receiver operating characteristic) curves measure the tradeoff between true positive and false positive rates when thresholding a real-valued predictor. We discussed them in class, but this statquest video can be helpful: https://www.youtube.com/watch?v=4jRBRDbJemM\n",
    "\n",
    "Write a function that:\n",
    "- takes in a set of true labels in {0,1} (such as dataY), a set of predictions within interval [0,1] (such as y_hat_score), and a single integer `num_thresholds`, representing the number of thresholds. \n",
    "- Evenly divide the range [0,1] into `num_thresholds` equally sized intervals. (For example, if num_thresholds = 100, your thresholds should be 0.00, 0.01, 0.02, ... , 0.99.) \n",
    "- For each interval, using the bottom of the interval as a threshold,  compute the TPR and FPR of the thresholded predictions.\n",
    "\n",
    "Then, using your function, compute TPR and FPR arrays for `dataY`, `y_hat_score` and `num_thresholds` at 100. (Hint: see numpy's `arange` function)"
   ]
  },
  {
   "cell_type": "code",
   "execution_count": 11,
   "metadata": {
    "id": "igjw9xooMHJN"
   },
   "outputs": [],
   "source": [
    "def compute_roc_curve(dataY, y_hat_score, num_thresholds):\n",
    "    # Your code here\n",
    "    tpr = []\n",
    "    fpr = []\n",
    "    thresh = np.arange(0.0,1.0, 1/num_thresholds)\n",
    "    for i in range(len(thresh)):\n",
    "        t_predict = threshold_predictions(y_hat_score, thresh[i])\n",
    "        tpr.append(true_positive_rate(dataY, t_predict))\n",
    "        fpr.append(false_positive_rate(dataY, t_predict))\n",
    "    # End of your code\n",
    "    return tpr, fpr\n"
   ]
  },
  {
   "cell_type": "code",
   "execution_count": 12,
   "metadata": {
    "id": "GSG5YRBSMHJb"
   },
   "outputs": [
    {
     "name": "stdout",
     "output_type": "stream",
     "text": [
      "[1.0, 1.0, 1.0, 1.0, 0.9923664122137404, 0.9923664122137404, 0.9923664122137404, 0.9923664122137404, 0.9923664122137404, 0.9923664122137404, 0.9923664122137404, 0.9923664122137404, 0.9923664122137404, 0.9923664122137404, 0.9923664122137404, 0.9770992366412213, 0.9770992366412213, 0.9694656488549618, 0.9694656488549618, 0.9694656488549618, 0.9694656488549618, 0.9694656488549618, 0.9618320610687023, 0.9618320610687023, 0.9541984732824428, 0.9465648854961832, 0.9312977099236641, 0.9236641221374046, 0.9083969465648855, 0.9083969465648855, 0.9007633587786259, 0.9007633587786259, 0.8854961832061069, 0.8702290076335878, 0.8702290076335878, 0.8702290076335878, 0.8625954198473282, 0.8625954198473282, 0.8396946564885496, 0.8320610687022901, 0.816793893129771, 0.8015267175572519, 0.8015267175572519, 0.7862595419847328, 0.7862595419847328, 0.7633587786259542, 0.7633587786259542, 0.7480916030534351, 0.7480916030534351, 0.7404580152671756, 0.7251908396946565, 0.7175572519083969, 0.7022900763358778, 0.6946564885496184, 0.6564885496183206, 0.6412213740458015, 0.6183206106870229, 0.6106870229007634, 0.6106870229007634, 0.6030534351145038, 0.5954198473282443, 0.5877862595419847, 0.5801526717557252, 0.5648854961832062, 0.5572519083969466, 0.5419847328244275, 0.5114503816793893, 0.48854961832061067, 0.48091603053435117, 0.46564885496183206, 0.42748091603053434, 0.4122137404580153, 0.3969465648854962, 0.3816793893129771, 0.366412213740458, 0.3511450381679389, 0.3435114503816794, 0.33587786259541985, 0.32061068702290074, 0.3053435114503817, 0.29770992366412213, 0.2824427480916031, 0.2748091603053435, 0.26717557251908397, 0.2595419847328244, 0.25190839694656486, 0.2366412213740458, 0.22137404580152673, 0.21374045801526717, 0.19083969465648856, 0.17557251908396945, 0.15267175572519084, 0.1450381679389313, 0.13740458015267176, 0.1297709923664122, 0.12213740458015267, 0.12213740458015267, 0.12213740458015267, 0.0916030534351145, 0.0916030534351145] [0.7947761194029851, 0.7723880597014925, 0.7574626865671642, 0.7350746268656716, 0.7201492537313433, 0.6977611940298507, 0.6604477611940298, 0.6492537313432836, 0.6156716417910447, 0.6044776119402985, 0.5746268656716418, 0.5447761194029851, 0.5223880597014925, 0.4962686567164179, 0.48134328358208955, 0.458955223880597, 0.44402985074626866, 0.4291044776119403, 0.3917910447761194, 0.376865671641791, 0.35447761194029853, 0.3283582089552239, 0.31343283582089554, 0.30970149253731344, 0.2873134328358209, 0.26865671641791045, 0.2574626865671642, 0.2462686567164179, 0.23507462686567165, 0.22761194029850745, 0.22014925373134328, 0.21641791044776118, 0.19776119402985073, 0.19776119402985073, 0.19402985074626866, 0.1865671641791045, 0.17164179104477612, 0.16417910447761194, 0.1417910447761194, 0.13805970149253732, 0.13432835820895522, 0.13059701492537312, 0.12686567164179105, 0.12686567164179105, 0.12686567164179105, 0.12313432835820895, 0.10820895522388059, 0.1044776119402985, 0.10074626865671642, 0.08955223880597014, 0.08582089552238806, 0.07835820895522388, 0.07835820895522388, 0.0708955223880597, 0.06716417910447761, 0.06716417910447761, 0.06716417910447761, 0.06716417910447761, 0.06343283582089553, 0.06343283582089553, 0.06343283582089553, 0.06343283582089553, 0.055970149253731345, 0.05223880597014925, 0.05223880597014925, 0.048507462686567165, 0.04477611940298507, 0.041044776119402986, 0.03731343283582089, 0.03731343283582089, 0.03731343283582089, 0.03731343283582089, 0.03731343283582089, 0.03731343283582089, 0.03731343283582089, 0.033582089552238806, 0.029850746268656716, 0.029850746268656716, 0.026119402985074626, 0.022388059701492536, 0.018656716417910446, 0.014925373134328358, 0.014925373134328358, 0.014925373134328358, 0.014925373134328358, 0.014925373134328358, 0.014925373134328358, 0.014925373134328358, 0.014925373134328358, 0.014925373134328358, 0.011194029850746268, 0.011194029850746268, 0.011194029850746268, 0.007462686567164179, 0.0037313432835820895, 0.0037313432835820895, 0.0037313432835820895, 0.0037313432835820895, 0.0037313432835820895, 0.0037313432835820895]\n"
     ]
    }
   ],
   "source": [
    "tpr, fpr = compute_roc_curve(dataY_test.values, y_hat_score, 100)\n",
    "print(tpr, fpr)"
   ]
  },
  {
   "cell_type": "markdown",
   "metadata": {
    "id": "EaNl_-FGMHJk"
   },
   "source": [
    "### 2.5: ROC Curve Comparison (5 points)\n",
    "\n",
    "The code below is copied from our solution to Lab 1. It splits the data into two groups (A and B) based on whether the proportion of some attribute is greater than some threshold. We use it to split our data depending on whether the proportion of African American people in a community is greater than 50%. Run the cell below."
   ]
  },
  {
   "cell_type": "code",
   "execution_count": 13,
   "metadata": {
    "id": "Gwj8HAmXMHJm"
   },
   "outputs": [],
   "source": [
    "## RUN THIS CELL\n",
    "## DO NOT MODIFY\n",
    "\n",
    "def split_on_feature(dataX, dataY, dataA, column, thresh):\n",
    "    rows_A = []\n",
    "    rows_B = []\n",
    "    for i in range(dataX.shape[0]):\n",
    "        if dataA[i, column] < thresh:\n",
    "            rows_A.append(i)\n",
    "        else:\n",
    "            rows_B.append(i)\n",
    "    \n",
    "    X_A = dataX[rows_A, :]\n",
    "    X_B = dataX[rows_B, :]\n",
    "    y_A = dataY[rows_A]\n",
    "    y_B = dataY[rows_B]\n",
    "    \n",
    "    return X_A, X_B, y_A, y_B  \n",
    "\n",
    "\n",
    "# change 2 to whatever racepctblack is\n",
    "X_A, X_B, y_A, y_B = split_on_feature(dataX.values, dataY.values, dataA.values, 0, 0.5)"
   ]
  },
  {
   "cell_type": "markdown",
   "metadata": {
    "id": "rS9NAbxgMHJ8"
   },
   "source": [
    "Using the generated arrays (X_A, X_B, y_A, y_B) and your function from 2.4, produce a matplotlib plot showing the ROC curves for each group with 100 threshold values. Use your trained linear regression model for predictions. Your X axis should be FPR and your Y axis should be TPR. Refer to Homework 1 for a reminder on how to use matplotlib."
   ]
  },
  {
   "cell_type": "code",
   "execution_count": 14,
   "metadata": {
    "id": "hhGWa--qMHJ-",
    "scrolled": false
   },
   "outputs": [
    {
     "data": {
      "image/png": "[encoded data removed]",
      "text/plain": [
       "<Figure size 432x288 with 1 Axes>"
      ]
     },
     "metadata": {
      "needs_background": "light"
     },
     "output_type": "display_data"
    }
   ],
   "source": [
    "%matplotlib inline \n",
    "import matplotlib.pyplot as plt\n",
    "\n",
    "## YOUR CODE HERE\n",
    "x_label = 'FPR'\n",
    "y_label = 'TPR'\n",
    "x_axis = np.arange(0.0, 1.0, 0.01)\n",
    "plt.title('ROC Curve Comparison')\n",
    "plt.xlabel(x_label)\n",
    "plt.ylabel(y_label)\n",
    "randomA = np.arange(0.0, 1.0, 0.01)\n",
    "\n",
    "y_hat_scoreA = linReg.predict(X_A)\n",
    "y_hat_scoreB = linReg.predict(X_B)\n",
    "\n",
    "XA_TPR, XA_FPR = compute_roc_curve(y_A, y_hat_scoreA, 100)\n",
    "XB_TPR, XB_FPR = compute_roc_curve(y_B, y_hat_scoreB, 100)\n",
    "\n",
    "plt.plot(XA_FPR, XA_TPR ,'-r', label=\"X_A ROC\")\n",
    "plt.plot(XB_FPR, XB_TPR ,'-y', label=\"X_B ROC\")\n",
    "plt.plot(x_axis, randomA, '--m', label=\"Baseline\")\n",
    "\n",
    "plt.legend()\n",
    "plt.show()\n"
   ]
  },
  {
   "cell_type": "markdown",
   "metadata": {
    "id": "j-IniOiiMHKH"
   },
   "source": [
    "### 2.6: Minimizing Unfairness (5 points)\n",
    "\n",
    "There are many, many different definitions of unfairness. For this lab, we'll be using the **Equalized Odds Criterion**, where we check if the ROC curves of two groups are the same. We check its \"fairness error\" via: $|TPR_A - TPR_B| + |FPR_A - FPR_B|$\n",
    "\n",
    "There are 10,000 possible pairs of thresholds of the form $(a,b)$ where $a$ is the threshold for A and $b$ is the threshold for B in data plotted above. Find and print out the pair of thresholds which minimizes this \"fairness error\". (Graphiaclly, this translates to finding points which are closest between the two ROC curves)"
   ]
  },
  {
   "cell_type": "code",
   "execution_count": 15,
   "metadata": {
    "id": "onLnzIegMHKM"
   },
   "outputs": [],
   "source": [
    "## YOUR CODE HERE\n",
    "min_tpr = abs(XA_TPR[0] - XB_TPR[0])\n",
    "min_fpr = abs(XA_FPR[0] - XB_FPR[0])\n",
    "min_unfairness_A_thresh = 0\n",
    "min_unfairness_B_thresh = 0\n",
    "for i in range(len(XA_TPR)):\n",
    "    for j in range(len(XA_FPR)):\n",
    "        if abs(XA_TPR[i] - XB_TPR[j]) < min_tpr and abs(XB_FPR[i] - XB_FPR[j]) < min_fpr:\n",
    "            min_tpr = abs(XA_TPR[i] - XB_TPR[j])\n",
    "            min_fpr = abs(XB_FPR[i] - XB_FPR[j])\n",
    "            min_unfairness_A_thresh = i/100\n",
    "            min_unfairness_B_thresh = j/100"
   ]
  },
  {
   "cell_type": "code",
   "execution_count": 16,
   "metadata": {
    "id": "inEgDRR2MHKb"
   },
   "outputs": [
    {
     "name": "stdout",
     "output_type": "stream",
     "text": [
      "(0, 0)\n"
     ]
    }
   ],
   "source": [
    "print((min_unfairness_A_thresh, min_unfairness_B_thresh))"
   ]
  },
  {
   "cell_type": "markdown",
   "metadata": {
    "id": "GsxOBch6MHKo"
   },
   "source": [
    "### 2.7: Evaluating Accuracy (5 points)\n",
    "\n",
    "Compute `fair_acc`, the overall accuracy when using the thresholds from 2.6 on their respective groups. Compare this `max_acc`, to the single-value threshold in {0.00, 0.01, 0.02, ... , 0.99} that maximizes overall accuracy."
   ]
  },
  {
   "cell_type": "code",
   "execution_count": 17,
   "metadata": {
    "id": "4suPdux7MHKr"
   },
   "outputs": [],
   "source": [
    "## YOUR CODE HERE\n",
    "# compute fair acc\n",
    "def computeAcc(tps, tns, fps, fns):\n",
    "    return (tps + tns)/(tps + tns + fps + fns)\n",
    "\n",
    "fair_acc = 0\n",
    "max_acc = 0\n",
    "TPs = 0\n",
    "TNs = 0\n",
    "FPs = 0\n",
    "FNs = 0\n",
    "y_hat_A = linReg.predict(X_A)\n",
    "y_hat_B = linReg.predict(X_B)\n",
    "\n",
    "y_hat_A_fair = threshold_predictions(y_hat_A, min_unfairness_A_thresh)\n",
    "y_hat_B_fair = threshold_predictions(y_hat_B, min_unfairness_B_thresh)\n",
    "for i in range(len(y_hat_A)):\n",
    "    if y_A[i] == 1 and y_hat_A_fair[i] ==1:\n",
    "        TPs +=1\n",
    "    elif y_A[i] == 0 and y_hat_A_fair[i] ==0:\n",
    "        TNs +=1\n",
    "    elif y_A[i] == 1 and y_hat_A_fair[i] ==0:\n",
    "        FNs +=1\n",
    "    elif y_A[i] == 0 and y_hat_A_fair[i] ==1:\n",
    "        FPs +=1\n",
    "\n",
    "for i in range(len(y_hat_B)):\n",
    "    if y_B[i] == 1 and y_hat_B_fair[i] ==1:\n",
    "        TPs +=1\n",
    "    elif y_B[i] == 0 and y_hat_B_fair[i] ==0:\n",
    "        TNs +=1\n",
    "    elif y_B[i] == 1 and y_hat_B_fair[i] ==0:\n",
    "        FNs +=1\n",
    "    elif y_B[i] == 0 and y_hat_B_fair[i] ==1:\n",
    "        FPs +=1\n",
    "        \n",
    "fair_acc = computeAcc(TPs, TNs, FPs, FNs)\n",
    "TPs, TNs, FPs, FNs = 0, 0, 0, 0\n",
    "\n",
    "# computer max_acc\n",
    "for x in range(0, 100, 1):\n",
    "    y_hat_A_fair = threshold_predictions(y_hat_A, x/100)\n",
    "    y_hat_B_fair = threshold_predictions(y_hat_B, x/100)\n",
    "    for i in range(len(y_hat_A)):\n",
    "        if y_A[i] == 1 and y_hat_A_fair[i] ==1:\n",
    "            TPs +=1\n",
    "        elif y_A[i] == 0 and y_hat_A_fair[i] ==0:\n",
    "            TNs +=1\n",
    "        elif y_A[i] == 1 and y_hat_A_fair[i] ==0:\n",
    "            FNs +=1\n",
    "        elif y_A[i] == 0 and y_hat_A_fair[i] ==1:\n",
    "            FPs +=1\n",
    "    for i in range(len(y_hat_B)):\n",
    "        if y_B[i] == 1 and y_hat_B_fair[i] ==1:\n",
    "            TPs +=1\n",
    "        elif y_B[i] == 0 and y_hat_B_fair[i] ==0:\n",
    "            TNs +=1\n",
    "        elif y_B[i] == 1 and y_hat_B_fair[i] ==0:\n",
    "            FNs +=1\n",
    "        elif y_B[i] == 0 and y_hat_B_fair[i] ==1:\n",
    "            FPs +=1\n",
    "    max_acc = max(max_acc, computeAcc(TPs, TNs, FPs, FNs))"
   ]
  },
  {
   "cell_type": "code",
   "execution_count": 18,
   "metadata": {
    "id": "bse7iaEIMHKy"
   },
   "outputs": [
    {
     "name": "stdout",
     "output_type": "stream",
     "text": [
      "(0.4674022066198596, 0.7858696571642638)\n"
     ]
    }
   ],
   "source": [
    "print((fair_acc, max_acc))"
   ]
  },
  {
   "cell_type": "markdown",
   "metadata": {
    "id": "9C2UmvWUMHK-"
   },
   "source": [
    "## Part 3: Equalized Odds vs. Demographic Parity (30 Points)"
   ]
  },
  {
   "cell_type": "markdown",
   "metadata": {
    "id": "pgS8q_32MHLA"
   },
   "source": [
    "In this section, we will revisit the equalized odds criterion and investigate further. Specifically, we will compare this fairness metric to another one -- demographic parity. This comparison will give us some insight into how various fairness metrics may or may not interact with each other."
   ]
  },
  {
   "cell_type": "markdown",
   "metadata": {
    "id": "8UbU_6jjMHLC"
   },
   "source": [
    "### 3.1 Revisit Equalized Odds (5 points)"
   ]
  },
  {
   "cell_type": "markdown",
   "metadata": {
    "id": "pFggSSTcMHLD"
   },
   "source": [
    "In the previous problem, you plotted the fairness error of the equalized odds criterion for two thresholds, one for each group. Now, we want just one threshold, therefore we need to have the error computed that is associated with each group."
   ]
  },
  {
   "cell_type": "markdown",
   "metadata": {
    "id": "YLz4HcI-MHLE"
   },
   "source": [
    "For each threshold $(0.00, 0.01... 0.99)$, compute the equalized odds unfairness from part 2. Make sure to save these results in a specified variable. Note: it's important that the ordering of this array is the same as the threshold array."
   ]
  },
  {
   "cell_type": "code",
   "execution_count": 19,
   "metadata": {
    "id": "HX2jUNyRMHLF"
   },
   "outputs": [
    {
     "name": "stdout",
     "output_type": "stream",
     "text": [
      "[0.0, 0.0025974025974025983, 0.0025974025974025983, 0.0025974025974025983, 0.0024531024531024848, 0.0001443001443001135, 0.0001443001443001135, 0.0001443001443001135, 0.0001443001443001135, 0.00533910533910531, 0.007936507936507908, 0.015728715728715703, 0.015728715728715703, 0.0183261183261183, 0.0209235209235209, 0.028715728715728694, 0.03131313131313129, 0.041702741702741686, 0.04689754689754688, 0.05209235209235208, 0.06767676767676767, 0.07287157287157287, 0.07806637806637806, 0.08585858585858586, 0.08845598845598845, 0.09884559884559885, 0.11183261183261184, 0.12741702741702743, 0.14040404040404042, 0.14559884559884562, 0.14574314574314584, 0.15873015873015872, 0.16392496392496392, 0.1821067821067821, 0.1978354978354978, 0.2004329004329004, 0.2108225108225108, 0.2186147186147186, 0.23679653679653678, 0.2447330447330447, 0.2526695526695526, 0.2682539682539682, 0.2838383838383838, 0.29682539682539677, 0.30721500721500716, 0.32799422799422795, 0.34357864357864354, 0.3669552669552669, 0.3773448773448773, 0.38268398268398274, 0.39855699855699855, 0.4014430014430015, 0.4248196248196249, 0.4275613275613276, 0.43564213564213566, 0.45137085137085137, 0.4593073593073593, 0.4621933621933622, 0.4751803751803752, 0.4627705627705628, 0.44516594516594515, 0.45555555555555555, 0.45598845598845594, 0.4486291486291486, 0.44141414141414137, 0.434054834054834, 0.4549783549783549, 0.43751803751803753, 0.4199134199134199, 0.41760461760461765, 0.39509379509379505, 0.40562770562770567, 0.4137085137085137, 0.4190476190476191, 0.3939393939393939, 0.3894660894660895, 0.3772005772005772, 0.3823953823953824, 0.39567099567099573, 0.38600288600288596, 0.4017316017316018, 0.3917748917748917, 0.3821067821067821, 0.37979797979797986, 0.37994227994227997, 0.3852813852813853, 0.3728715728715729, 0.3655122655122655, 0.34545454545454546, 0.322943722943723, 0.30274170274170276, 0.2927849927849928, 0.28787878787878785, 0.2779220779220779, 0.27316017316017316, 0.2682539682539683, 0.25815295815295813, 0.25815295815295813, 0.2660894660894661, 0.2585858585858586]\n"
     ]
    }
   ],
   "source": [
    "### YOUR CODE HERE\n",
    "unfairness_odds = [0] * 100\n",
    "for x in range(0, 100, 1):\n",
    "    unfairness_odds[x] = abs(XA_TPR[x] - XB_TPR[x]) + abs(XB_FPR[x] - XB_FPR[x])\n",
    "print(unfairness_odds)"
   ]
  },
  {
   "cell_type": "markdown",
   "metadata": {
    "id": "kHxycD0HMHLV"
   },
   "source": [
    "### 3.2 Demographic Parity (5 points)"
   ]
  },
  {
   "cell_type": "markdown",
   "metadata": {
    "id": "juQ7cT6XMHLW"
   },
   "source": [
    "Intuitively demographic parity says that the ratio of the group in the whole population will be the same as the ratio of the group in the predicted classes. Formally for protected attribute $G$ and classifier $\\hat{Y}$, this can be specified as $$ P(G = g | \\hat{Y} = y) = P(G = g).$$\n",
    "\n",
    "The demographic parity unfairness can be computed as $$ \\sum_{g, y} | P(G = g | \\hat{Y} = y) - P(G = g) | .$$"
   ]
  },
  {
   "cell_type": "markdown",
   "metadata": {
    "id": "zz9LG5i7MHLY"
   },
   "source": [
    "Write a function to compute the demographic parity error."
   ]
  },
  {
   "cell_type": "code",
   "execution_count": 43,
   "metadata": {
    "id": "0ToHOhosMHLa"
   },
   "outputs": [],
   "source": [
    "### YOUR CODE HERE\n",
    "def demographic_parity_error(y_hat_a,y_hat_b):\n",
    "    # SUMMATE THE UNFAIRNESS AND THATS THE ANSWER\n",
    "    # np.unique on y_hat_a and y_hat_b\n",
    "    err1 = np.unique(y_hat_a, return_counts=True)\n",
    "    err2 = np.unique(y_hat_b, return_counts=True)\n",
    "    p_g0 = len(y_hat_a)/len(dataY) #P(g=0)\n",
    "    p_g1 = len(y_hat_b)/len(dataY) #P(g=1)\n",
    "    p_g0_y0 = abs(err1[1][0]/(err1[1][0] + err2[1][0]) - p_g0)\n",
    "    p_g0_y1 = abs(err1[1][1]/(err1[1][1] + err2[1][1]) - p_g0)\n",
    "    p_g1_y0 = abs(err2[1][0]/(err1[1][0] + err2[1][0]) - p_g1)\n",
    "    p_g1_y1 = abs(err2[1][1]/(err1[1][1] + err2[1][1]) - p_g1)\n",
    "    \n",
    "    p_g_y = p_g0_y0 + p_g0_y1 + p_g1_y0 + p_g1_y1\n",
    "    return p_g0_y0"
   ]
  },
  {
   "cell_type": "markdown",
   "metadata": {
    "id": "pKJegyQ2MHLi"
   },
   "source": [
    "Write a function that computes an array of demographic parity errors given a list of thresholds. Note: The thresholds need to be all in the same order as the equalized odds thresholds."
   ]
  },
  {
   "cell_type": "code",
   "execution_count": 44,
   "metadata": {
    "id": "YQopgoYlMHLl"
   },
   "outputs": [
    {
     "name": "stdout",
     "output_type": "stream",
     "text": [
      "[0.11950177179101773, 0.11975613524647044, 0.11994579379785841, 0.12015471192338079, 0.11822631455442933, 0.11857203489024948, 0.11881470343535039, 0.11902261969856054, 0.1192224472158614, 0.11786935017947398, 0.11804433473330656, 0.11831851830796025, 0.11712463734585143, 0.11610143714351073, 0.11631383253877858, 0.11644994154059807, 0.11663315634978322, 0.11465785020259012, 0.11491236221977963, 0.11515060645855091, 0.11533898885411253, 0.11357803880391171, 0.11376289480295565, 0.1138765352661758, 0.11221949982789692, 0.11242135085183214, 0.11262396578575407, 0.11193231869521603, 0.11207550610665618, 0.11217168923934073, 0.11061227342817703, 0.11000106667901477, 0.11022135231605745, 0.1095875485882567, 0.10824945424508814, 0.10763841913336902, 0.10782999342326904, 0.10723850826306447, 0.10743058151302298, 0.10609491195479925, 0.10555423580683565, 0.10573658792719443, 0.10593852987534025, 0.10540597056186218, 0.10409584339807898, 0.10224218804922747, 0.10109050555923083, 0.10126431028961624, 0.1007746586588375, 0.09957889755056049, 0.09851024245699325, 0.09672607566288605, 0.09692678819236566, 0.09640993063551462, 0.09534007427688473, 0.09490860832817738, 0.09377752061776179, 0.09210228415384869, 0.0922919133339869, 0.08996834740983073, 0.08764918437892721, 0.0871819161187265, 0.08557985421623548, 0.08331890118188612, 0.08115498009179045, 0.07896746296756452, 0.07870681422257197, 0.07542711318745299, 0.07266295929207733, 0.07162963817706802, 0.06847137781240609, 0.06755660567708954, 0.0666826465475312, 0.06626530836001354, 0.06310358001507399, 0.060223429696158015, 0.05777786617643299, 0.05785097227165359, 0.057161929859279925, 0.05428674416105461, 0.05359283619021227, 0.05109638307186748, 0.048781159513686556, 0.04792813031321663, 0.047503713325769636, 0.047162741630887184, 0.045276981868515365, 0.043946333321218334, 0.04154813578667038, 0.03872098870337548, 0.03680560397770849, 0.0354337679705784, 0.03455443499204369, 0.03271192889011865, 0.03150603421463538, 0.030643326923310732, 0.029686743220710077, 0.029686743220710077, 0.028977804346933755, 0.02807689700846905]\n"
     ]
    }
   ],
   "source": [
    "### YOUR CODE HERE\n",
    "# call threshold predictions for every threshold on y_hat_a and y_hat_b\n",
    "# call unique on each threshold before demographic_parity_error()\n",
    "total_error = [0] * 100\n",
    "for i in range(0, 100, 1):\n",
    "    threshA = threshold_predictions(y_hat_scoreA, i/100)\n",
    "    threshB = threshold_predictions(y_hat_scoreB, i/100)\n",
    "    total_error[i] = demographic_parity_error(threshA, threshB)\n",
    "print(total_error)"
   ]
  },
  {
   "cell_type": "markdown",
   "metadata": {
    "id": "dLSfiq4eMHLy"
   },
   "source": [
    "### 3.3 Combine Equalized Odds & Demographic Parity (5 points)"
   ]
  },
  {
   "cell_type": "markdown",
   "metadata": {
    "id": "QzIsI-WTMHLz"
   },
   "source": [
    "Now that you have computed the errors for both fairness metrics -- equalized odds and demographic parity -- we can investigate further into our comparison, which will be achieved by correlating the error for both. "
   ]
  },
  {
   "cell_type": "markdown",
   "metadata": {
    "id": "KCw3LPwPMHL0"
   },
   "source": [
    "Currently, both errors exist as 'columns', or vectors. We would like to combine them into a single matrix $[equalized\\:odds\\:error, demographic\\:parity\\:error]$. \n",
    "\n",
    "Sort the row of the matrix in ascending order according to the equalized odds error. This ordering will enable us to complete the next part."
   ]
  },
  {
   "cell_type": "code",
   "execution_count": 22,
   "metadata": {
    "id": "9auzYtxxMHL1"
   },
   "outputs": [
    {
     "name": "stdout",
     "output_type": "stream",
     "text": [
      "[[0.00000000e+00 2.59740260e-03 2.59740260e-03 2.59740260e-03\n",
      "  2.45310245e-03 1.44300144e-04 1.44300144e-04 1.44300144e-04\n",
      "  1.44300144e-04 5.33910534e-03 7.93650794e-03 1.57287157e-02\n",
      "  1.57287157e-02 1.83261183e-02 2.09235209e-02 2.87157287e-02\n",
      "  3.13131313e-02 4.17027417e-02 4.68975469e-02 5.20923521e-02\n",
      "  6.76767677e-02 7.28715729e-02 7.80663781e-02 8.58585859e-02\n",
      "  8.84559885e-02 9.88455988e-02 1.11832612e-01 1.27417027e-01\n",
      "  1.40404040e-01 1.45598846e-01 1.45743146e-01 1.58730159e-01\n",
      "  1.63924964e-01 1.82106782e-01 1.97835498e-01 2.00432900e-01\n",
      "  2.10822511e-01 2.18614719e-01 2.36796537e-01 2.44733045e-01\n",
      "  2.52669553e-01 2.68253968e-01 2.83838384e-01 2.96825397e-01\n",
      "  3.07215007e-01 3.27994228e-01 3.43578644e-01 3.66955267e-01\n",
      "  3.77344877e-01 3.82683983e-01 3.98556999e-01 4.01443001e-01\n",
      "  4.24819625e-01 4.27561328e-01 4.35642136e-01 4.51370851e-01\n",
      "  4.59307359e-01 4.62193362e-01 4.45165945e-01 4.62770563e-01\n",
      "  4.75180375e-01 4.55555556e-01 4.48629149e-01 4.34054834e-01\n",
      "  4.55988456e-01 4.41414141e-01 3.95093795e-01 4.19913420e-01\n",
      "  4.17604618e-01 4.05627706e-01 4.37518038e-01 4.54978355e-01\n",
      "  3.93939394e-01 4.13708514e-01 4.19047619e-01 3.89466089e-01\n",
      "  3.77200577e-01 3.82395382e-01 3.95670996e-01 3.86002886e-01\n",
      "  3.91774892e-01 4.01731602e-01 3.82106782e-01 3.79797980e-01\n",
      "  3.79942280e-01 3.85281385e-01 3.02741703e-01 2.92784993e-01\n",
      "  3.72871573e-01 2.77922078e-01 3.22943723e-01 2.87878788e-01\n",
      "  3.45454545e-01 3.65512266e-01 2.73160173e-01 2.58152958e-01\n",
      "  2.58152958e-01 2.68253968e-01 2.66089466e-01 2.58585859e-01]\n",
      " [2.89710070e-01 2.96454046e-01 3.02557764e-01 3.10750319e-01\n",
      "  3.12036097e-01 3.22334884e-01 3.31120222e-01 3.40015908e-01\n",
      "  3.50117172e-01 3.54229818e-01 3.62123698e-01 3.76579610e-01\n",
      "  3.79441961e-01 3.87134224e-01 3.97140038e-01 4.04179606e-01\n",
      "  4.14557066e-01 4.21045586e-01 4.34379621e-01 4.48457635e-01\n",
      "  4.60893675e-01 4.66957957e-01 4.78572178e-01 4.86230859e-01\n",
      "  4.91792709e-01 5.04883274e-01 5.19242053e-01 5.28893468e-01\n",
      "  5.39803283e-01 5.47540632e-01 5.49342150e-01 5.61695588e-01\n",
      "  5.79134062e-01 5.88996151e-01 6.00415610e-01 6.09747181e-01\n",
      "  6.25947618e-01 6.36409481e-01 6.54096426e-01 6.59044406e-01\n",
      "  6.72444557e-01 6.90143229e-01 7.11250601e-01 7.26008654e-01\n",
      "  7.27030164e-01 7.37327027e-01 7.50742898e-01 7.69222989e-01\n",
      "  7.84940115e-01 7.91076979e-01 8.10018241e-01 8.15525560e-01\n",
      "  8.38490307e-01 8.48747910e-01 8.64127764e-01 8.84335350e-01\n",
      "  8.90439886e-01 9.00254679e-01 9.17440807e-01 9.22349022e-01\n",
      "  9.24774247e-01 9.29629630e-01 9.35988107e-01 9.40066395e-01\n",
      "  9.40199611e-01 9.40831572e-01 9.51442002e-01 9.53223295e-01\n",
      "  9.55381261e-01 9.65647826e-01 9.67213271e-01 9.74791227e-01\n",
      "  9.83035457e-01 9.84927387e-01 9.97230376e-01 1.00071266e+00\n",
      "  1.00619271e+00 1.01634219e+00 1.06028733e+00 1.07176008e+00\n",
      "  1.10745856e+00 1.11899597e+00 1.12450442e+00 1.14453523e+00\n",
      "  1.15515127e+00 1.18292461e+00 1.18371572e+00 1.18747787e+00\n",
      "  1.18792502e+00 1.19683644e+00 1.19704886e+00 1.19828771e+00\n",
      "  1.20068091e+00 1.20867571e+00 1.24402044e+00 1.24621823e+00\n",
      "  1.24621823e+00 1.25985142e+00 1.31322141e+00 1.31730194e+00]]\n"
     ]
    }
   ],
   "source": [
    "### YOUR CODE HERE\n",
    "combined_err = np.column_stack([unfairness_odds, total_error])\n",
    "combined_err_sort = combined_err[np.argsort(combined_err[:, 1])]\n",
    "combined_err_sort = np.transpose(combined_err_sort)\n",
    "print(combined_err_sort)"
   ]
  },
  {
   "cell_type": "markdown",
   "metadata": {
    "id": "4Y0FAYHOMHME"
   },
   "source": [
    "### 3.4 Visualization of Equalized Odds vs. Demographic Parity (5 points)"
   ]
  },
  {
   "cell_type": "markdown",
   "metadata": {
    "id": "IBlAUKd2MHMF"
   },
   "source": [
    "Now, we want to visualize this comparison. Plot the two rows of the matrix (from 3.3) as two separate line graphs. When plotted, you will notice a particular trend, specifically in the direction of the lines for equalized odds and demographic parity."
   ]
  },
  {
   "cell_type": "code",
   "execution_count": 243,
   "metadata": {
    "id": "BBUfixsOMHMH"
   },
   "outputs": [],
   "source": [
    "%matplotlib inline\n",
    "\n",
    "import matplotlib.pyplot as plt\n",
    "import random"
   ]
  },
  {
   "cell_type": "code",
   "execution_count": 256,
   "metadata": {
    "id": "VcDNDjqEMHMS"
   },
   "outputs": [
    {
     "data": {
      "image/png": "[encoded data removed]",
      "text/plain": [
       "<Figure size 432x288 with 1 Axes>"
      ]
     },
     "metadata": {
      "needs_background": "light"
     },
     "output_type": "display_data"
    }
   ],
   "source": [
    "### YOUR CODE HERE\n",
    "    \n",
    "x_label = 'Threshold Value'\n",
    "y_label = 'Error Rate'\n",
    "x_axis = np.arange(0.0, 1.0, 0.01)\n",
    "plt.title('Equalized Odds vs Demographic Parity')\n",
    "plt.xlabel(x_label)\n",
    "plt.ylabel(y_label)\n",
    "\n",
    "plt.plot(x_axis, combined_err_sort[0] ,'-r', label=\"Equalized Odds\")\n",
    "plt.plot(x_axis ,combined_err_sort[1] ,'-y', label=\"Demographic Parity\")\n",
    "plt.legend()\n",
    "plt.show()"
   ]
  },
  {
   "cell_type": "markdown",
   "metadata": {
    "id": "EnN-Z9lGMHMf"
   },
   "source": [
    "### 3.5 Now You Pick! (10 points)"
   ]
  },
  {
   "cell_type": "markdown",
   "metadata": {
    "id": "rMM0OVUAMHMh"
   },
   "source": [
    "From this [Towards Data Science article](https://towardsdatascience.com/a-tutorial-on-fairness-in-machine-learning-3ff8ba1040cb), choose another definition of fairness. Explain here why you are interested in investigating this definition, and mention a scenario where it could be violated."
   ]
  },
  {
   "cell_type": "markdown",
   "metadata": {
    "id": "46CXXMOSMHMk"
   },
   "source": [
    "I think Predictive Rate Parity is really interesting, it seems similar to Demographic Parity and aims to help all parties benefit, but it seems like it's not as helpful for being fair between each group."
   ]
  },
  {
   "cell_type": "markdown",
   "metadata": {
    "id": "NIUiIhTKMHMv"
   },
   "source": [
    "Now, just like you did earlier in part 3, plot this error against those for demographic parity and equalized odds."
   ]
  },
  {
   "cell_type": "code",
   "execution_count": 259,
   "metadata": {
    "id": "VHJ0jJczMHMx"
   },
   "outputs": [
    {
     "data": {
      "image/png": "[encoded data removed]",
      "text/plain": [
       "<Figure size 432x288 with 1 Axes>"
      ]
     },
     "metadata": {
      "needs_background": "light"
     },
     "output_type": "display_data"
    }
   ],
   "source": [
    "### YOUR CODE HERE\n",
    "\n",
    "def predictive_parity_error(y_hat_A, y_hat_B):\n",
    "    err1 = np.unique(y_hat_A, return_counts=True)\n",
    "    err2 = np.unique(y_hat_B, return_counts=True)\n",
    "    p_y0 = (err1[1][0] + err2[1][0])/len(dataY) #P(y=0)\n",
    "    p_y1 = (err1[1][1] + err2[1][1])/len(dataY) #P(y=1)\n",
    "    p_y0_g0 = abs(err1[1][0]/(len(y_hat_A)) - p_y0)\n",
    "    p_y1_g0 = abs(err1[1][1]/(len(y_hat_A)) - p_y0)\n",
    "    p_y0_g1 = abs(err2[1][0]/(len(y_hat_B)) - p_y1)\n",
    "    p_y1_g1 = abs(err2[1][1]/(len(y_hat_B)) - p_y1)\n",
    "    return p_y0_g0 + p_y1_g0 + p_y0_g1 + p_y1_g1\n",
    "\n",
    "pr_error = [0] * 100\n",
    "for i in range(0, 100, 1):\n",
    "    threshA = threshold_predictions(y_hat_scoreA, i/100)\n",
    "    threshB = threshold_predictions(y_hat_scoreB, i/100)\n",
    "    pr_error[i] = predictive_parity_error(threshA, threshB)\n",
    "\n",
    "combined_err = np.column_stack([unfairness_odds, total_error, pr_error])\n",
    "combined_err_sort = combined_err[np.argsort(combined_err[:, 1])]\n",
    "combined_err_sort = np.transpose(combined_err_sort)\n",
    "    \n",
    "x_label = 'Threshold Value'\n",
    "y_label = 'Error Rate'\n",
    "x_axis = np.arange(0.0, 1.0, 0.01)\n",
    "plt.title('Equalized Odds vs Demographic Parity vs Predictive Rate Parity')\n",
    "plt.xlabel(x_label)\n",
    "plt.ylabel(y_label)\n",
    "\n",
    "plt.plot(x_axis, combined_err_sort[0] ,'-r', label=\"Equalized Odds\")\n",
    "plt.plot(x_axis ,combined_err_sort[1] ,'-y', label=\"Demographic Parity\")\n",
    "plt.plot(x_axis ,combined_err_sort[2] ,'-b', label=\"Predictive Rate Parity\")\n",
    "plt.legend()\n",
    "plt.show()\n"
   ]
  },
  {
   "cell_type": "markdown",
   "metadata": {
    "id": "Cet5tVzhMHNE"
   },
   "source": [
    "## Part 4: Short Response Questions (30 Points)"
   ]
  },
  {
   "cell_type": "markdown",
   "metadata": {
    "id": "WBGWuVIuMHNF"
   },
   "source": [
    "**Question 1 (5 points):** Below is a gif of a heatmap which shows how false positive disparity change for specific subgroups as the Learner and Auditor interact in each round. Each square represents a subgroup, the z-axis is the fairness disparity of that subgroup. What does it mean when the heatmap is \\\"flat\\\"?\n",
    "![heatmap](./heatmap.gif)"
   ]
  },
  {
   "cell_type": "markdown",
   "metadata": {
    "id": "kAR_fYpmMHNH"
   },
   "source": [
    "When the answer is flat, that means our fairness disparity is near 0, so that means the curve gets flatter our predictions become more fair."
   ]
  },
  {
   "cell_type": "markdown",
   "metadata": {
    "id": "t1oq7TfUMHNI"
   },
   "source": [
    "**Question 2 (5 points):** In Part 2, you should have seen that the accuracy for the fair thresholds was much smaller than the error the accuracy-maximizing threshold. Suppose that you are allowed to randomize between thresholds (randomly switch between thresholding on fairness and thresholding on accurate thresholds). Is this a smart approach to maximizing accuracy while maintaining fairness? Can you think of a better approach?"
   ]
  },
  {
   "cell_type": "markdown",
   "metadata": {
    "id": "LRnVDQehMHNK"
   },
   "source": [
    "I think randomizing between fairness and accuracy is more fair in terms of maximizing accuracy, but I think the better approach would be to try and figure out how to make the fair model more accurate, in terms of maybe varying the threshhold to a certain degree. If we randomize the chances between accuracy and fairness, we get a simple version of maximizing fairness + accuracy, but I think we can try to set a degree of unfairness and a degree of accuracy that we can try to optimize for in one set of predictions. So instead of randomizing the results, we have a more consistent model that is more fair and more accurate."
   ]
  },
  {
   "cell_type": "markdown",
   "metadata": {
    "id": "EWU165JtMHNL"
   },
   "source": [
    "**Question 3 (5 points):** What is the relationship between error of a fair classifier and the number of protected attributes? That is, if we increase the number of protected attributes, would you expect the error to increase, decrease, or stay the same?"
   ]
  },
  {
   "cell_type": "markdown",
   "metadata": {
    "id": "26wnBwCOMHNN"
   },
   "source": [
    "If we increase the number of protected attributes, the error definitely increases. We might overfit our model to focus so much on a few specific attributes that it tailors to try and be more fair than accurate"
   ]
  },
  {
   "cell_type": "markdown",
   "metadata": {
    "id": "N7Nc4vUsMHNP"
   },
   "source": [
    "**Question 4 (5 points):** Was accuracy a good measure to evaluate each threshold in part 2.7? Why or why not?"
   ]
  },
  {
   "cell_type": "markdown",
   "metadata": {
    "id": "tqsZ_62_MHNR"
   },
   "source": [
    "I think accuracy was a good way to measure each threshold. It gives us a view at how our model is preserving its accuracy while still measuring for fairness. We can see how much accuracy we lose when optimizing for fairness. Accuracy also summarizes our results for the confusion matrix summary"
   ]
  },
  {
   "cell_type": "markdown",
   "metadata": {
    "id": "K0AOQdoOMHNT"
   },
   "source": [
    "**Question 5 (5 points):** Take a look at your plot from 3.4. Thinking of the trends in the two lines, what is the relationship between equalized odds and demographic parity? What could this possibly mean for how fairness measures interact in general?"
   ]
  },
  {
   "cell_type": "markdown",
   "metadata": {
    "id": "bvKx3EoEMHNU"
   },
   "source": [
    "It seems like sorted Demographic Parity has a higher error rate than equalized odds, except for the tail end. This relationship shows that the fairness measurements really have quite a bit of sway on one another, and definitely impact the way each one is viewed. If you don't compare the fairness measures you may not get the full story, or may not have what is best for your purposes."
   ]
  },
  {
   "cell_type": "markdown",
   "metadata": {
    "id": "C8Ly-82dMHNW"
   },
   "source": [
    "**Question 6 (5 points):** Provide an interpretation of your plot from 3.5. Keep in mind again the trends of the two lines. "
   ]
  },
  {
   "cell_type": "markdown",
   "metadata": {
    "id": "0CBaLyC1MHNX"
   },
   "source": [
    "It looks like Predictive Rate Parity has a higher error rate than both of our previous fairness measures. This probably means that we should focus on more accurate/fair models like Demographic Parity or Equalized Odds."
   ]
  },
  {
   "cell_type": "code",
   "execution_count": null,
   "metadata": {},
   "outputs": [],
   "source": []
  }
 ],
 "metadata": {
  "colab": {
   "collapsed_sections": [
    "KpD8xGAQMHJM",
    "EaNl_-FGMHJk",
    "j-IniOiiMHKH",
    "GsxOBch6MHKo",
    "8UbU_6jjMHLC",
    "kHxycD0HMHLV",
    "dLSfiq4eMHLy",
    "4Y0FAYHOMHME",
    "EnN-Z9lGMHMf"
   ],
   "name": "CSE146_Lab3--[YOURNAMEHERE]_2020.ipynb",
   "provenance": []
  },
  "kernelspec": {
   "display_name": "Python 3",
   "language": "python",
   "name": "python3"
  },
  "language_info": {
   "codemirror_mode": {
    "name": "ipython",
    "version": 3
   },
   "file_extension": ".py",
   "mimetype": "text/x-python",
   "name": "python",
   "nbconvert_exporter": "python",
   "pygments_lexer": "ipython3",
   "version": "3.8.5"
  }
 },
 "nbformat": 4,
 "nbformat_minor": 1
}
