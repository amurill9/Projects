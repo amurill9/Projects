{
 "cells": [
  {
   "cell_type": "markdown",
   "metadata": {},
   "source": [
    "# Homework 4 & 5\n",
    "CSE 142 - Machine Learning\n",
    "\n",
    "Adrian Murillo\n",
    "\n",
    "December 16th"
   ]
  },
  {
   "cell_type": "markdown",
   "metadata": {},
   "source": [
    "## Kernel Methods with Noisy Setting"
   ]
  },
  {
   "cell_type": "code",
   "execution_count": 1,
   "metadata": {},
   "outputs": [],
   "source": [
    "import pandas as pd\n",
    "import numpy  as np\n",
    "import matplotlib.pyplot as plt\n",
    "from sklearn import svm\n",
    "import random\n",
    "from sklearn.neighbors import KNeighborsClassifier\n",
    "from sklearn.cluster import KMeans\n",
    "from sklearn.mixture import GaussianMixture\n",
    "\n",
    "test_size = 1000"
   ]
  },
  {
   "cell_type": "code",
   "execution_count": 2,
   "metadata": {},
   "outputs": [],
   "source": [
    "co_p = np.random.normal(1,1,size=(1000+test_size,2))\n",
    "co_n = np.random.normal(1,1,size=(1000+test_size,2))\n",
    "\n",
    "X_p = pd.DataFrame(co_p,columns=['x0','x1'])\n",
    "X_n = pd.DataFrame(co_n,columns=['x0','x1'])"
   ]
  },
  {
   "cell_type": "code",
   "execution_count": 3,
   "metadata": {},
   "outputs": [
    {
     "data": {
      "text/html": [
       "<div>\n",
       "<style scoped>\n",
       "    .dataframe tbody tr th:only-of-type {\n",
       "        vertical-align: middle;\n",
       "    }\n",
       "\n",
       "    .dataframe tbody tr th {\n",
       "        vertical-align: top;\n",
       "    }\n",
       "\n",
       "    .dataframe thead th {\n",
       "        text-align: right;\n",
       "    }\n",
       "</style>\n",
       "<table border=\"1\" class=\"dataframe\">\n",
       "  <thead>\n",
       "    <tr style=\"text-align: right;\">\n",
       "      <th></th>\n",
       "      <th>x0</th>\n",
       "      <th>x1</th>\n",
       "    </tr>\n",
       "  </thead>\n",
       "  <tbody>\n",
       "    <tr>\n",
       "      <th>0</th>\n",
       "      <td>0.305146</td>\n",
       "      <td>1.062899</td>\n",
       "    </tr>\n",
       "    <tr>\n",
       "      <th>1</th>\n",
       "      <td>-0.018889</td>\n",
       "      <td>0.814492</td>\n",
       "    </tr>\n",
       "    <tr>\n",
       "      <th>2</th>\n",
       "      <td>1.216996</td>\n",
       "      <td>0.839411</td>\n",
       "    </tr>\n",
       "    <tr>\n",
       "      <th>3</th>\n",
       "      <td>0.821148</td>\n",
       "      <td>0.712794</td>\n",
       "    </tr>\n",
       "    <tr>\n",
       "      <th>4</th>\n",
       "      <td>1.161654</td>\n",
       "      <td>1.085277</td>\n",
       "    </tr>\n",
       "    <tr>\n",
       "      <th>...</th>\n",
       "      <td>...</td>\n",
       "      <td>...</td>\n",
       "    </tr>\n",
       "    <tr>\n",
       "      <th>1995</th>\n",
       "      <td>1.099644</td>\n",
       "      <td>-0.083348</td>\n",
       "    </tr>\n",
       "    <tr>\n",
       "      <th>1996</th>\n",
       "      <td>1.514581</td>\n",
       "      <td>-0.901274</td>\n",
       "    </tr>\n",
       "    <tr>\n",
       "      <th>1997</th>\n",
       "      <td>0.428933</td>\n",
       "      <td>1.245834</td>\n",
       "    </tr>\n",
       "    <tr>\n",
       "      <th>1998</th>\n",
       "      <td>1.508398</td>\n",
       "      <td>1.204403</td>\n",
       "    </tr>\n",
       "    <tr>\n",
       "      <th>1999</th>\n",
       "      <td>1.284503</td>\n",
       "      <td>0.629230</td>\n",
       "    </tr>\n",
       "  </tbody>\n",
       "</table>\n",
       "<p>2000 rows × 2 columns</p>\n",
       "</div>"
      ],
      "text/plain": [
       "            x0        x1\n",
       "0     0.305146  1.062899\n",
       "1    -0.018889  0.814492\n",
       "2     1.216996  0.839411\n",
       "3     0.821148  0.712794\n",
       "4     1.161654  1.085277\n",
       "...        ...       ...\n",
       "1995  1.099644 -0.083348\n",
       "1996  1.514581 -0.901274\n",
       "1997  0.428933  1.245834\n",
       "1998  1.508398  1.204403\n",
       "1999  1.284503  0.629230\n",
       "\n",
       "[2000 rows x 2 columns]"
      ]
     },
     "execution_count": 3,
     "metadata": {},
     "output_type": "execute_result"
    }
   ],
   "source": [
    "X_p"
   ]
  },
  {
   "cell_type": "code",
   "execution_count": 4,
   "metadata": {},
   "outputs": [
    {
     "data": {
      "text/html": [
       "<div>\n",
       "<style scoped>\n",
       "    .dataframe tbody tr th:only-of-type {\n",
       "        vertical-align: middle;\n",
       "    }\n",
       "\n",
       "    .dataframe tbody tr th {\n",
       "        vertical-align: top;\n",
       "    }\n",
       "\n",
       "    .dataframe thead th {\n",
       "        text-align: right;\n",
       "    }\n",
       "</style>\n",
       "<table border=\"1\" class=\"dataframe\">\n",
       "  <thead>\n",
       "    <tr style=\"text-align: right;\">\n",
       "      <th></th>\n",
       "      <th>x0</th>\n",
       "      <th>x1</th>\n",
       "    </tr>\n",
       "  </thead>\n",
       "  <tbody>\n",
       "    <tr>\n",
       "      <th>0</th>\n",
       "      <td>1.908355</td>\n",
       "      <td>2.130308</td>\n",
       "    </tr>\n",
       "    <tr>\n",
       "      <th>1</th>\n",
       "      <td>0.816929</td>\n",
       "      <td>1.132618</td>\n",
       "    </tr>\n",
       "    <tr>\n",
       "      <th>2</th>\n",
       "      <td>1.066714</td>\n",
       "      <td>1.887439</td>\n",
       "    </tr>\n",
       "    <tr>\n",
       "      <th>3</th>\n",
       "      <td>1.062985</td>\n",
       "      <td>1.274314</td>\n",
       "    </tr>\n",
       "    <tr>\n",
       "      <th>4</th>\n",
       "      <td>0.180341</td>\n",
       "      <td>1.755488</td>\n",
       "    </tr>\n",
       "    <tr>\n",
       "      <th>...</th>\n",
       "      <td>...</td>\n",
       "      <td>...</td>\n",
       "    </tr>\n",
       "    <tr>\n",
       "      <th>1995</th>\n",
       "      <td>1.486466</td>\n",
       "      <td>0.610556</td>\n",
       "    </tr>\n",
       "    <tr>\n",
       "      <th>1996</th>\n",
       "      <td>0.531134</td>\n",
       "      <td>2.840262</td>\n",
       "    </tr>\n",
       "    <tr>\n",
       "      <th>1997</th>\n",
       "      <td>1.142206</td>\n",
       "      <td>1.501292</td>\n",
       "    </tr>\n",
       "    <tr>\n",
       "      <th>1998</th>\n",
       "      <td>1.091356</td>\n",
       "      <td>1.812898</td>\n",
       "    </tr>\n",
       "    <tr>\n",
       "      <th>1999</th>\n",
       "      <td>2.903780</td>\n",
       "      <td>1.533130</td>\n",
       "    </tr>\n",
       "  </tbody>\n",
       "</table>\n",
       "<p>2000 rows × 2 columns</p>\n",
       "</div>"
      ],
      "text/plain": [
       "            x0        x1\n",
       "0     1.908355  2.130308\n",
       "1     0.816929  1.132618\n",
       "2     1.066714  1.887439\n",
       "3     1.062985  1.274314\n",
       "4     0.180341  1.755488\n",
       "...        ...       ...\n",
       "1995  1.486466  0.610556\n",
       "1996  0.531134  2.840262\n",
       "1997  1.142206  1.501292\n",
       "1998  1.091356  1.812898\n",
       "1999  2.903780  1.533130\n",
       "\n",
       "[2000 rows x 2 columns]"
      ]
     },
     "execution_count": 4,
     "metadata": {},
     "output_type": "execute_result"
    }
   ],
   "source": [
    "X_n"
   ]
  },
  {
   "cell_type": "markdown",
   "metadata": {},
   "source": [
    "### (a) Simple RBF Kernel"
   ]
  },
  {
   "cell_type": "code",
   "execution_count": 5,
   "metadata": {},
   "outputs": [
    {
     "name": "stdout",
     "output_type": "stream",
     "text": [
      "0.35033333333333333\n",
      "0.33766666666666667\n",
      "0.356\n",
      "0.35333333333333333\n",
      "0.3473333333333333\n",
      "0.3596666666666667\n",
      "0.35833333333333334\n",
      "0.3423333333333333\n",
      "0.35133333333333333\n",
      "0.3396666666666667\n",
      "0.36033333333333334\n",
      "0.357\n",
      "0.3473333333333333\n",
      "0.348\n",
      "0.344\n",
      "0.3423333333333333\n",
      "0.36633333333333334\n",
      "0.348\n",
      "0.362\n",
      "0.3496666666666667\n"
     ]
    },
    {
     "data": {
      "text/plain": [
       "0.35105"
      ]
     },
     "execution_count": 5,
     "metadata": {},
     "output_type": "execute_result"
    }
   ],
   "source": [
    "mean = 0\n",
    "for i in range(0,20):\n",
    "    \n",
    "    # Flipping Labels\n",
    "    y_p = np.full(1000+test_size,1)\n",
    "    y_n = np.full(1000+test_size,-1)\n",
    "    for j in range(0,len(y_p)):\n",
    "        y_p[j] = 1 if (random.randint(0,100)>35) else -1\n",
    "    for j in range(0,len(y_n)):\n",
    "        y_n[j] = -1 if (random.randint(0,100)>20) else 1\n",
    "        \n",
    "    # Constructing Dataframe\n",
    "    df_p = pd.concat([X_p,pd.DataFrame(y_p,columns=['y'])],1)\n",
    "    df_n = pd.concat([X_n,pd.DataFrame(y_n,columns=['y'])],1)\n",
    "    df  = pd.concat([df_p,df_n],0)\n",
    "    \n",
    "    # Running SVM\n",
    "    clf_a = svm.SVC(kernel='rbf', C=1, gamma=0.01)\n",
    "    clf_a.fit(df[['x0','x1']][:1000],df['y'][:1000])\n",
    "    score = clf_a.score(df[['x0','x1']][1000:],df['y'][1000:])\n",
    "    \n",
    "    # Report Scores\n",
    "    print(score)\n",
    "    mean +=score\n",
    "    \n",
    "mean = mean/20\n",
    "mean"
   ]
  },
  {
   "cell_type": "markdown",
   "metadata": {},
   "source": [
    "### (b) K-Nearest Neighbor"
   ]
  },
  {
   "cell_type": "code",
   "execution_count": 6,
   "metadata": {},
   "outputs": [
    {
     "name": "stdout",
     "output_type": "stream",
     "text": [
      "0.958\n",
      "0.876\n",
      "0.9433333333333334\n",
      "0.9803333333333333\n",
      "0.951\n",
      "0.9333333333333333\n",
      "0.9706666666666667\n",
      "0.9513333333333334\n",
      "0.959\n",
      "0.921\n",
      "0.941\n",
      "0.935\n",
      "0.9416666666666667\n",
      "0.9396666666666667\n",
      "0.952\n",
      "0.912\n",
      "0.922\n",
      "0.9636666666666667\n",
      "0.9603333333333334\n",
      "0.9383333333333334\n"
     ]
    },
    {
     "data": {
      "text/plain": [
       "0.9424833333333333"
      ]
     },
     "execution_count": 6,
     "metadata": {},
     "output_type": "execute_result"
    }
   ],
   "source": [
    "mean = 0\n",
    "for i in range(0,20):\n",
    "    \n",
    "    # Flipping Labels\n",
    "    y_p = np.full(1000+test_size,1)\n",
    "    y_n = np.full(1000+test_size,-1)\n",
    "    for j in range(0,len(y_p)):\n",
    "        y_p[j] = 1 if (random.randint(0,100)>35) else -1\n",
    "    for j in range(0,len(y_n)):\n",
    "        y_n[j] = -1 if (random.randint(0,100)>20) else 1\n",
    "        \n",
    "    # Constructing Dataframe\n",
    "    df_p = pd.concat([X_p,pd.DataFrame(y_p,columns=['y'])],1)\n",
    "    df_n = pd.concat([X_n,pd.DataFrame(y_n,columns=['y'])],1)\n",
    "    df  = pd.concat([df_p,df_n],0)\n",
    "    \n",
    "    cleaner = KNeighborsClassifier(n_neighbors=100).fit(df[['x0','x1']],df['y'])\n",
    "    df['y'] = cleaner.predict(df[['x0','x1']])\n",
    "    \n",
    "    # Running SVM\n",
    "    clf_a = svm.SVC(kernel='rbf', C=1, gamma=0.01)\n",
    "    clf_a.fit(df[['x0','x1']][:1000],df['y'][:1000])\n",
    "    score = clf_a.score(df[['x0','x1']][1000:],df['y'][1000:])\n",
    "    \n",
    "    # Report Scores\n",
    "    print(score)\n",
    "    mean +=score\n",
    "    \n",
    "mean = mean/20\n",
    "mean"
   ]
  },
  {
   "cell_type": "markdown",
   "metadata": {},
   "source": [
    "### (c) K-means and EM-clustering"
   ]
  },
  {
   "cell_type": "code",
   "execution_count": 7,
   "metadata": {},
   "outputs": [
    {
     "name": "stdout",
     "output_type": "stream",
     "text": [
      "0.993\n",
      "0.993\n",
      "0.993\n",
      "0.993\n",
      "0.993\n",
      "0.993\n",
      "0.993\n",
      "0.993\n",
      "0.993\n",
      "0.993\n",
      "0.993\n",
      "0.993\n",
      "0.993\n",
      "0.993\n",
      "0.993\n",
      "0.993\n",
      "0.993\n",
      "0.993\n",
      "0.993\n",
      "0.993\n"
     ]
    },
    {
     "data": {
      "text/plain": [
       "0.993"
      ]
     },
     "execution_count": 7,
     "metadata": {},
     "output_type": "execute_result"
    }
   ],
   "source": [
    "mean = 0\n",
    "for i in range(0,20):\n",
    "    \n",
    "    # Flipping Labels\n",
    "    y_p = np.full(1000+test_size,1)\n",
    "    y_n = np.full(1000+test_size,-1)\n",
    "    for j in range(0,len(y_p)):\n",
    "        y_p[j] = 1 if (random.randint(0,100)>35) else -1\n",
    "    for j in range(0,len(y_n)):\n",
    "        y_n[j] = -1 if (random.randint(0,100)>20) else 1\n",
    "        \n",
    "    # Constructing Dataframe\n",
    "    df_p = pd.concat([X_p,pd.DataFrame(y_p,columns=['y'])],1)\n",
    "    df_n = pd.concat([X_n,pd.DataFrame(y_n,columns=['y'])],1)\n",
    "    df  = pd.concat([df_p,df_n],0)\n",
    "    \n",
    "    df['y'] = KMeans(n_clusters=2, random_state=0).fit_predict(df[['x0','x1']])\n",
    "    \n",
    "    # Running SVM\n",
    "    clf_a = svm.SVC(kernel='rbf', C=1, gamma=0.01)\n",
    "    clf_a.fit(df[['x0','x1']][:1000],df['y'][:1000])\n",
    "    score = clf_a.score(df[['x0','x1']][1000:],df['y'][1000:])\n",
    "    \n",
    "    # Report Scores\n",
    "    print(score)\n",
    "    mean +=score\n",
    "    \n",
    "mean = mean/20\n",
    "mean"
   ]
  },
  {
   "cell_type": "code",
   "execution_count": 8,
   "metadata": {},
   "outputs": [
    {
     "name": "stdout",
     "output_type": "stream",
     "text": [
      "0.9803333333333333\n",
      "0.975\n",
      "0.983\n",
      "0.996\n",
      "0.9986666666666667\n",
      "0.9866666666666667\n",
      "0.9906666666666667\n",
      "0.985\n",
      "0.9833333333333333\n",
      "0.9976666666666667\n",
      "0.9976666666666667\n",
      "0.9976666666666667\n",
      "0.988\n",
      "0.9843333333333333\n",
      "0.993\n",
      "0.983\n",
      "0.9833333333333333\n",
      "0.9863333333333333\n",
      "0.9966666666666667\n",
      "0.9923333333333333\n"
     ]
    },
    {
     "data": {
      "text/plain": [
       "0.9889333333333334"
      ]
     },
     "execution_count": 8,
     "metadata": {},
     "output_type": "execute_result"
    }
   ],
   "source": [
    "mean = 0\n",
    "for i in range(0,20):\n",
    "    \n",
    "    # Flipping Labels\n",
    "    y_p = np.full(1000+test_size,1)\n",
    "    y_n = np.full(1000+test_size,-1)\n",
    "    for j in range(0,len(y_p)):\n",
    "        y_p[j] = 1 if (random.randint(0,100)>35) else -1\n",
    "    for j in range(0,len(y_n)):\n",
    "        y_n[j] = -1 if (random.randint(0,100)>20) else 1\n",
    "        \n",
    "    # Constructing Dataframe\n",
    "    df_p = pd.concat([X_p,pd.DataFrame(y_p,columns=['y'])],1)\n",
    "    df_n = pd.concat([X_n,pd.DataFrame(y_n,columns=['y'])],1)\n",
    "    df  = pd.concat([df_p,df_n],0)\n",
    "    \n",
    "    df['y'] = GaussianMixture(n_components=2, covariance_type='full').fit_predict(df[['x0','x1']])\n",
    "    \n",
    "    # Running SVM\n",
    "    clf_a = svm.SVC(kernel='rbf', C=1, gamma=0.01)\n",
    "    clf_a.fit(df[['x0','x1']][:1000],df['y'][:1000])\n",
    "    score = clf_a.score(df[['x0','x1']][1000:],df['y'][1000:])\n",
    "    \n",
    "    # Report Scores\n",
    "    print(score)\n",
    "    mean +=score\n",
    "    \n",
    "mean = mean/20\n",
    "mean"
   ]
  },
  {
   "cell_type": "markdown",
   "metadata": {},
   "source": [
    "## 2. Fairness"
   ]
  },
  {
   "cell_type": "code",
   "execution_count": 9,
   "metadata": {},
   "outputs": [
    {
     "data": {
      "text/plain": [
       "['casearrest',\n",
       " 'charge',\n",
       " 'compas',\n",
       " 'jailhistory',\n",
       " 'people',\n",
       " 'prisonhistory',\n",
       " 'summary']"
      ]
     },
     "execution_count": 9,
     "metadata": {},
     "output_type": "execute_result"
    }
   ],
   "source": [
    "import sqlalchemy\n",
    "engine = sqlalchemy.create_engine('sqlite:///compas.db')\n",
    "inspector = sqlalchemy.inspect(engine)\n",
    "inspector.get_table_names()"
   ]
  },
  {
   "cell_type": "code",
   "execution_count": 10,
   "metadata": {},
   "outputs": [
    {
     "data": {
      "text/plain": [
       "[(1, 'miguel', 'hernandez', 56418, 58393, 64352, 'PRETRIAL', 'Risk and Prescreen', 'Intake', 'Pretrial', 'Jail Inmate', 'Single', '2013-08-14 00:00:00.000000', 1, 'Low', 'Low', 7, 'Risk of Violence', -4.31, 1, 1),\n",
       " (2, 'miguel', 'hernandez', 56418, 58393, 64352, 'PRETRIAL', 'Risk and Prescreen', 'Intake', 'Pretrial', 'Jail Inmate', 'Single', '2013-08-14 00:00:00.000000', 1, 'Low', 'Low', 8, 'Risk of Recidivism', -2.78, 1, 1),\n",
       " (3, 'miguel', 'hernandez', 56418, 58393, 64352, 'PRETRIAL', 'Risk and Prescreen', 'Intake', 'Pretrial', 'Jail Inmate', 'Single', '2013-08-14 00:00:00.000000', 1, 'Low', 'Low', 18, 'Risk of Failure to Appear', 13, 1, 1),\n",
       " (4, 'michael', 'ryan', 68603, 72042, 79669, 'PRETRIAL', 'Risk and Prescreen', 'Intake', 'Pretrial', 'Jail Inmate', 'Single', '2014-12-31 00:00:00.000000', 1, 'Low', 'Low', 7, 'Risk of Violence', -2.75, 2, 2),\n",
       " (5, 'michael', 'ryan', 68603, 72042, 79669, 'PRETRIAL', 'Risk and Prescreen', 'Intake', 'Pretrial', 'Jail Inmate', 'Single', '2014-12-31 00:00:00.000000', 1, 'Low', 'Medium', 8, 'Risk of Recidivism', -0.34, 5, 2),\n",
       " (6, 'michael', 'ryan', 68603, 72042, 79669, 'PRETRIAL', 'Risk and Prescreen', 'Intake', 'Pretrial', 'Jail Inmate', 'Single', '2014-12-31 00:00:00.000000', 1, 'Low', 'Low', 18, 'Risk of Failure to Appear', 16, 2, 2),\n",
       " (7, 'kevon', 'dixon', 51601, 52796, 58102, 'PRETRIAL', 'Risk and Prescreen', 'Intake', 'Pretrial', 'Jail Inmate', 'Single', '2013-01-27 00:00:00.000000', 1, 'Low', 'Low', 7, 'Risk of Violence', -3.07, 1, 3),\n",
       " (8, 'kevon', 'dixon', 51601, 52796, 58102, 'PRETRIAL', 'Risk and Prescreen', 'Intake', 'Pretrial', 'Jail Inmate', 'Single', '2013-01-27 00:00:00.000000', 1, 'Low', 'Low', 8, 'Risk of Recidivism', -0.76, 3, 3),\n",
       " (9, 'kevon', 'dixon', 51601, 52796, 58102, 'PRETRIAL', 'Risk and Prescreen', 'Intake', 'Pretrial', 'Jail Inmate', 'Single', '2013-01-27 00:00:00.000000', 1, 'Low', 'Medium', 18, 'Risk of Failure to Appear', 25, 6, 3),\n",
       " (10, 'ed', 'philo', 38864, 55421, 61042, 'PRETRIAL', 'Risk and Prescreen', 'Intake', 'Pretrial', 'Jail Inmate', 'Single', '2013-04-14 00:00:00.000000', 1, 'Low', 'Low', 7, 'Risk of Violence', -2.26, 3, 4)]"
      ]
     },
     "execution_count": 10,
     "metadata": {},
     "output_type": "execute_result"
    }
   ],
   "source": [
    "cursor = engine.execute('SELECT * FROM compas LIMIT 10')\n",
    "cursor.fetchall()"
   ]
  },
  {
   "cell_type": "code",
   "execution_count": 11,
   "metadata": {},
   "outputs": [
    {
     "data": {
      "text/html": [
       "<div>\n",
       "<style scoped>\n",
       "    .dataframe tbody tr th:only-of-type {\n",
       "        vertical-align: middle;\n",
       "    }\n",
       "\n",
       "    .dataframe tbody tr th {\n",
       "        vertical-align: top;\n",
       "    }\n",
       "\n",
       "    .dataframe thead th {\n",
       "        text-align: right;\n",
       "    }\n",
       "</style>\n",
       "<table border=\"1\" class=\"dataframe\">\n",
       "  <thead>\n",
       "    <tr style=\"text-align: right;\">\n",
       "      <th></th>\n",
       "      <th>id</th>\n",
       "      <th>name</th>\n",
       "      <th>first</th>\n",
       "      <th>last</th>\n",
       "      <th>sex</th>\n",
       "      <th>race</th>\n",
       "      <th>dob</th>\n",
       "      <th>age</th>\n",
       "      <th>age_cat</th>\n",
       "      <th>juv_fel_count</th>\n",
       "      <th>...</th>\n",
       "      <th>r_offense_date</th>\n",
       "      <th>r_charge_desc</th>\n",
       "      <th>r_jail_in</th>\n",
       "      <th>r_jail_out</th>\n",
       "      <th>is_violent_recid</th>\n",
       "      <th>num_vr_cases</th>\n",
       "      <th>vr_case_number</th>\n",
       "      <th>vr_charge_degree</th>\n",
       "      <th>vr_offense_date</th>\n",
       "      <th>vr_charge_desc</th>\n",
       "    </tr>\n",
       "  </thead>\n",
       "  <tbody>\n",
       "    <tr>\n",
       "      <th>0</th>\n",
       "      <td>1</td>\n",
       "      <td>miguel hernandez</td>\n",
       "      <td>miguel</td>\n",
       "      <td>hernandez</td>\n",
       "      <td>Male</td>\n",
       "      <td>Other</td>\n",
       "      <td>1947-04-18</td>\n",
       "      <td>69</td>\n",
       "      <td>Greater than 45</td>\n",
       "      <td>0</td>\n",
       "      <td>...</td>\n",
       "      <td>NaT</td>\n",
       "      <td>None</td>\n",
       "      <td>NaT</td>\n",
       "      <td>NaT</td>\n",
       "      <td>0</td>\n",
       "      <td>None</td>\n",
       "      <td>None</td>\n",
       "      <td>None</td>\n",
       "      <td>NaT</td>\n",
       "      <td>None</td>\n",
       "    </tr>\n",
       "    <tr>\n",
       "      <th>1</th>\n",
       "      <td>2</td>\n",
       "      <td>michael ryan</td>\n",
       "      <td>michael</td>\n",
       "      <td>ryan</td>\n",
       "      <td>Male</td>\n",
       "      <td>Caucasian</td>\n",
       "      <td>1985-02-06</td>\n",
       "      <td>31</td>\n",
       "      <td>25 - 45</td>\n",
       "      <td>0</td>\n",
       "      <td>...</td>\n",
       "      <td>NaT</td>\n",
       "      <td>None</td>\n",
       "      <td>NaT</td>\n",
       "      <td>NaT</td>\n",
       "      <td>0</td>\n",
       "      <td>None</td>\n",
       "      <td>None</td>\n",
       "      <td>None</td>\n",
       "      <td>NaT</td>\n",
       "      <td>None</td>\n",
       "    </tr>\n",
       "    <tr>\n",
       "      <th>2</th>\n",
       "      <td>3</td>\n",
       "      <td>kevon dixon</td>\n",
       "      <td>kevon</td>\n",
       "      <td>dixon</td>\n",
       "      <td>Male</td>\n",
       "      <td>African-American</td>\n",
       "      <td>1982-01-22</td>\n",
       "      <td>34</td>\n",
       "      <td>25 - 45</td>\n",
       "      <td>0</td>\n",
       "      <td>...</td>\n",
       "      <td>2013-07-05</td>\n",
       "      <td>Felony Battery (Dom Strang)</td>\n",
       "      <td>NaT</td>\n",
       "      <td>NaT</td>\n",
       "      <td>1</td>\n",
       "      <td>None</td>\n",
       "      <td>13009779CF10A</td>\n",
       "      <td>(F3)</td>\n",
       "      <td>2013-07-05</td>\n",
       "      <td>Felony Battery (Dom Strang)</td>\n",
       "    </tr>\n",
       "    <tr>\n",
       "      <th>3</th>\n",
       "      <td>4</td>\n",
       "      <td>ed philo</td>\n",
       "      <td>ed</td>\n",
       "      <td>philo</td>\n",
       "      <td>Male</td>\n",
       "      <td>African-American</td>\n",
       "      <td>1991-05-14</td>\n",
       "      <td>24</td>\n",
       "      <td>Less than 25</td>\n",
       "      <td>0</td>\n",
       "      <td>...</td>\n",
       "      <td>2013-06-16</td>\n",
       "      <td>Driving Under The Influence</td>\n",
       "      <td>2013-06-16 09:05:47</td>\n",
       "      <td>2013-06-16 07:18:55</td>\n",
       "      <td>0</td>\n",
       "      <td>None</td>\n",
       "      <td>None</td>\n",
       "      <td>None</td>\n",
       "      <td>NaT</td>\n",
       "      <td>None</td>\n",
       "    </tr>\n",
       "    <tr>\n",
       "      <th>4</th>\n",
       "      <td>5</td>\n",
       "      <td>marcu brown</td>\n",
       "      <td>marcu</td>\n",
       "      <td>brown</td>\n",
       "      <td>Male</td>\n",
       "      <td>African-American</td>\n",
       "      <td>1993-01-21</td>\n",
       "      <td>23</td>\n",
       "      <td>Less than 25</td>\n",
       "      <td>0</td>\n",
       "      <td>...</td>\n",
       "      <td>NaT</td>\n",
       "      <td>None</td>\n",
       "      <td>NaT</td>\n",
       "      <td>NaT</td>\n",
       "      <td>0</td>\n",
       "      <td>None</td>\n",
       "      <td>None</td>\n",
       "      <td>None</td>\n",
       "      <td>NaT</td>\n",
       "      <td>None</td>\n",
       "    </tr>\n",
       "  </tbody>\n",
       "</table>\n",
       "<p>5 rows × 41 columns</p>\n",
       "</div>"
      ],
      "text/plain": [
       "   id              name    first       last   sex              race  \\\n",
       "0   1  miguel hernandez   miguel  hernandez  Male             Other   \n",
       "1   2      michael ryan  michael       ryan  Male         Caucasian   \n",
       "2   3       kevon dixon    kevon      dixon  Male  African-American   \n",
       "3   4          ed philo       ed      philo  Male  African-American   \n",
       "4   5       marcu brown    marcu      brown  Male  African-American   \n",
       "\n",
       "         dob  age          age_cat  juv_fel_count  ...  r_offense_date  \\\n",
       "0 1947-04-18   69  Greater than 45              0  ...             NaT   \n",
       "1 1985-02-06   31          25 - 45              0  ...             NaT   \n",
       "2 1982-01-22   34          25 - 45              0  ...      2013-07-05   \n",
       "3 1991-05-14   24     Less than 25              0  ...      2013-06-16   \n",
       "4 1993-01-21   23     Less than 25              0  ...             NaT   \n",
       "\n",
       "                 r_charge_desc           r_jail_in          r_jail_out  \\\n",
       "0                         None                 NaT                 NaT   \n",
       "1                         None                 NaT                 NaT   \n",
       "2  Felony Battery (Dom Strang)                 NaT                 NaT   \n",
       "3  Driving Under The Influence 2013-06-16 09:05:47 2013-06-16 07:18:55   \n",
       "4                         None                 NaT                 NaT   \n",
       "\n",
       "  is_violent_recid num_vr_cases  vr_case_number vr_charge_degree  \\\n",
       "0                0         None            None             None   \n",
       "1                0         None            None             None   \n",
       "2                1         None   13009779CF10A             (F3)   \n",
       "3                0         None            None             None   \n",
       "4                0         None            None             None   \n",
       "\n",
       "  vr_offense_date               vr_charge_desc  \n",
       "0             NaT                         None  \n",
       "1             NaT                         None  \n",
       "2      2013-07-05  Felony Battery (Dom Strang)  \n",
       "3             NaT                         None  \n",
       "4             NaT                         None  \n",
       "\n",
       "[5 rows x 41 columns]"
      ]
     },
     "execution_count": 11,
     "metadata": {},
     "output_type": "execute_result"
    }
   ],
   "source": [
    "import pandas\n",
    "\n",
    "people = pandas.read_sql('people',engine)\n",
    "people.head()"
   ]
  },
  {
   "cell_type": "code",
   "execution_count": 12,
   "metadata": {},
   "outputs": [
    {
     "data": {
      "text/plain": [
       "Index(['id', 'name', 'first', 'last', 'sex', 'race', 'dob', 'age', 'age_cat',\n",
       "       'juv_fel_count', 'juv_misd_count', 'juv_other_count',\n",
       "       'compas_screening_date', 'decile_score', 'score_text', 'violent_recid',\n",
       "       'priors_count', 'days_b_screening_arrest', 'c_jail_in', 'c_jail_out',\n",
       "       'c_case_number', 'c_days_from_compas', 'c_arrest_date',\n",
       "       'c_offense_date', 'c_charge_degree', 'c_charge_desc', 'is_recid',\n",
       "       'num_r_cases', 'r_case_number', 'r_charge_degree', 'r_days_from_arrest',\n",
       "       'r_offense_date', 'r_charge_desc', 'r_jail_in', 'r_jail_out',\n",
       "       'is_violent_recid', 'num_vr_cases', 'vr_case_number',\n",
       "       'vr_charge_degree', 'vr_offense_date', 'vr_charge_desc'],\n",
       "      dtype='object')"
      ]
     },
     "execution_count": 12,
     "metadata": {},
     "output_type": "execute_result"
    }
   ],
   "source": [
    "people.columns"
   ]
  },
  {
   "cell_type": "code",
   "execution_count": 13,
   "metadata": {},
   "outputs": [
    {
     "data": {
      "text/html": [
       "<div>\n",
       "<style scoped>\n",
       "    .dataframe tbody tr th:only-of-type {\n",
       "        vertical-align: middle;\n",
       "    }\n",
       "\n",
       "    .dataframe tbody tr th {\n",
       "        vertical-align: top;\n",
       "    }\n",
       "\n",
       "    .dataframe thead th {\n",
       "        text-align: right;\n",
       "    }\n",
       "</style>\n",
       "<table border=\"1\" class=\"dataframe\">\n",
       "  <thead>\n",
       "    <tr style=\"text-align: right;\">\n",
       "      <th></th>\n",
       "      <th>id</th>\n",
       "      <th>first</th>\n",
       "      <th>last</th>\n",
       "      <th>compas_person_id</th>\n",
       "      <th>compas_case_id</th>\n",
       "      <th>compas_assessment_id</th>\n",
       "      <th>agency_text</th>\n",
       "      <th>scale_set</th>\n",
       "      <th>assessment_reason</th>\n",
       "      <th>legal_status</th>\n",
       "      <th>...</th>\n",
       "      <th>marital_status</th>\n",
       "      <th>screening_date</th>\n",
       "      <th>rec_supervision_level</th>\n",
       "      <th>rec_supervision_level_text</th>\n",
       "      <th>score_text</th>\n",
       "      <th>scale_id</th>\n",
       "      <th>type_of_assessment</th>\n",
       "      <th>raw_score</th>\n",
       "      <th>decile_score</th>\n",
       "      <th>person_id</th>\n",
       "    </tr>\n",
       "  </thead>\n",
       "  <tbody>\n",
       "    <tr>\n",
       "      <th>0</th>\n",
       "      <td>1</td>\n",
       "      <td>miguel</td>\n",
       "      <td>hernandez</td>\n",
       "      <td>56418</td>\n",
       "      <td>58393</td>\n",
       "      <td>64352</td>\n",
       "      <td>PRETRIAL</td>\n",
       "      <td>Risk and Prescreen</td>\n",
       "      <td>Intake</td>\n",
       "      <td>Pretrial</td>\n",
       "      <td>...</td>\n",
       "      <td>Single</td>\n",
       "      <td>2013-08-14</td>\n",
       "      <td>1</td>\n",
       "      <td>Low</td>\n",
       "      <td>Low</td>\n",
       "      <td>7</td>\n",
       "      <td>Risk of Violence</td>\n",
       "      <td>-4</td>\n",
       "      <td>1</td>\n",
       "      <td>1</td>\n",
       "    </tr>\n",
       "    <tr>\n",
       "      <th>1</th>\n",
       "      <td>2</td>\n",
       "      <td>miguel</td>\n",
       "      <td>hernandez</td>\n",
       "      <td>56418</td>\n",
       "      <td>58393</td>\n",
       "      <td>64352</td>\n",
       "      <td>PRETRIAL</td>\n",
       "      <td>Risk and Prescreen</td>\n",
       "      <td>Intake</td>\n",
       "      <td>Pretrial</td>\n",
       "      <td>...</td>\n",
       "      <td>Single</td>\n",
       "      <td>2013-08-14</td>\n",
       "      <td>1</td>\n",
       "      <td>Low</td>\n",
       "      <td>Low</td>\n",
       "      <td>8</td>\n",
       "      <td>Risk of Recidivism</td>\n",
       "      <td>-2</td>\n",
       "      <td>1</td>\n",
       "      <td>1</td>\n",
       "    </tr>\n",
       "    <tr>\n",
       "      <th>2</th>\n",
       "      <td>3</td>\n",
       "      <td>miguel</td>\n",
       "      <td>hernandez</td>\n",
       "      <td>56418</td>\n",
       "      <td>58393</td>\n",
       "      <td>64352</td>\n",
       "      <td>PRETRIAL</td>\n",
       "      <td>Risk and Prescreen</td>\n",
       "      <td>Intake</td>\n",
       "      <td>Pretrial</td>\n",
       "      <td>...</td>\n",
       "      <td>Single</td>\n",
       "      <td>2013-08-14</td>\n",
       "      <td>1</td>\n",
       "      <td>Low</td>\n",
       "      <td>Low</td>\n",
       "      <td>18</td>\n",
       "      <td>Risk of Failure to Appear</td>\n",
       "      <td>13</td>\n",
       "      <td>1</td>\n",
       "      <td>1</td>\n",
       "    </tr>\n",
       "    <tr>\n",
       "      <th>3</th>\n",
       "      <td>4</td>\n",
       "      <td>michael</td>\n",
       "      <td>ryan</td>\n",
       "      <td>68603</td>\n",
       "      <td>72042</td>\n",
       "      <td>79669</td>\n",
       "      <td>PRETRIAL</td>\n",
       "      <td>Risk and Prescreen</td>\n",
       "      <td>Intake</td>\n",
       "      <td>Pretrial</td>\n",
       "      <td>...</td>\n",
       "      <td>Single</td>\n",
       "      <td>2014-12-31</td>\n",
       "      <td>1</td>\n",
       "      <td>Low</td>\n",
       "      <td>Low</td>\n",
       "      <td>7</td>\n",
       "      <td>Risk of Violence</td>\n",
       "      <td>-2</td>\n",
       "      <td>2</td>\n",
       "      <td>2</td>\n",
       "    </tr>\n",
       "    <tr>\n",
       "      <th>4</th>\n",
       "      <td>5</td>\n",
       "      <td>michael</td>\n",
       "      <td>ryan</td>\n",
       "      <td>68603</td>\n",
       "      <td>72042</td>\n",
       "      <td>79669</td>\n",
       "      <td>PRETRIAL</td>\n",
       "      <td>Risk and Prescreen</td>\n",
       "      <td>Intake</td>\n",
       "      <td>Pretrial</td>\n",
       "      <td>...</td>\n",
       "      <td>Single</td>\n",
       "      <td>2014-12-31</td>\n",
       "      <td>1</td>\n",
       "      <td>Low</td>\n",
       "      <td>Medium</td>\n",
       "      <td>8</td>\n",
       "      <td>Risk of Recidivism</td>\n",
       "      <td>0</td>\n",
       "      <td>5</td>\n",
       "      <td>2</td>\n",
       "    </tr>\n",
       "  </tbody>\n",
       "</table>\n",
       "<p>5 rows × 21 columns</p>\n",
       "</div>"
      ],
      "text/plain": [
       "   id    first       last  compas_person_id  compas_case_id  \\\n",
       "0   1   miguel  hernandez             56418           58393   \n",
       "1   2   miguel  hernandez             56418           58393   \n",
       "2   3   miguel  hernandez             56418           58393   \n",
       "3   4  michael       ryan             68603           72042   \n",
       "4   5  michael       ryan             68603           72042   \n",
       "\n",
       "   compas_assessment_id agency_text           scale_set assessment_reason  \\\n",
       "0                 64352    PRETRIAL  Risk and Prescreen            Intake   \n",
       "1                 64352    PRETRIAL  Risk and Prescreen            Intake   \n",
       "2                 64352    PRETRIAL  Risk and Prescreen            Intake   \n",
       "3                 79669    PRETRIAL  Risk and Prescreen            Intake   \n",
       "4                 79669    PRETRIAL  Risk and Prescreen            Intake   \n",
       "\n",
       "  legal_status  ... marital_status screening_date rec_supervision_level  \\\n",
       "0     Pretrial  ...         Single     2013-08-14                     1   \n",
       "1     Pretrial  ...         Single     2013-08-14                     1   \n",
       "2     Pretrial  ...         Single     2013-08-14                     1   \n",
       "3     Pretrial  ...         Single     2014-12-31                     1   \n",
       "4     Pretrial  ...         Single     2014-12-31                     1   \n",
       "\n",
       "   rec_supervision_level_text score_text scale_id         type_of_assessment  \\\n",
       "0                         Low        Low        7           Risk of Violence   \n",
       "1                         Low        Low        8         Risk of Recidivism   \n",
       "2                         Low        Low       18  Risk of Failure to Appear   \n",
       "3                         Low        Low        7           Risk of Violence   \n",
       "4                         Low     Medium        8         Risk of Recidivism   \n",
       "\n",
       "  raw_score  decile_score  person_id  \n",
       "0        -4             1          1  \n",
       "1        -2             1          1  \n",
       "2        13             1          1  \n",
       "3        -2             2          2  \n",
       "4         0             5          2  \n",
       "\n",
       "[5 rows x 21 columns]"
      ]
     },
     "execution_count": 13,
     "metadata": {},
     "output_type": "execute_result"
    }
   ],
   "source": [
    "compas = pandas.read_sql('compas',engine)\n",
    "compas.head()"
   ]
  },
  {
   "cell_type": "code",
   "execution_count": 14,
   "metadata": {},
   "outputs": [
    {
     "data": {
      "text/plain": [
       "Index(['id', 'first', 'last', 'compas_person_id', 'compas_case_id',\n",
       "       'compas_assessment_id', 'agency_text', 'scale_set', 'assessment_reason',\n",
       "       'legal_status', 'custody_status', 'marital_status', 'screening_date',\n",
       "       'rec_supervision_level', 'rec_supervision_level_text', 'score_text',\n",
       "       'scale_id', 'type_of_assessment', 'raw_score', 'decile_score',\n",
       "       'person_id'],\n",
       "      dtype='object')"
      ]
     },
     "execution_count": 14,
     "metadata": {},
     "output_type": "execute_result"
    }
   ],
   "source": [
    "compas.columns"
   ]
  },
  {
   "cell_type": "code",
   "execution_count": 15,
   "metadata": {},
   "outputs": [],
   "source": [
    "df = pandas.read_sql('''SELECT race, \n",
    "                        is_violent_recid,\n",
    "                        agency_text,\n",
    "                        compas.score_text FROM people JOIN compas ON\n",
    "                        person_id = people.id''',engine)"
   ]
  },
  {
   "cell_type": "code",
   "execution_count": 16,
   "metadata": {},
   "outputs": [
    {
     "data": {
      "text/html": [
       "<div>\n",
       "<style scoped>\n",
       "    .dataframe tbody tr th:only-of-type {\n",
       "        vertical-align: middle;\n",
       "    }\n",
       "\n",
       "    .dataframe tbody tr th {\n",
       "        vertical-align: top;\n",
       "    }\n",
       "\n",
       "    .dataframe thead th {\n",
       "        text-align: right;\n",
       "    }\n",
       "</style>\n",
       "<table border=\"1\" class=\"dataframe\">\n",
       "  <thead>\n",
       "    <tr style=\"text-align: right;\">\n",
       "      <th></th>\n",
       "      <th>race</th>\n",
       "      <th>is_violent_recid</th>\n",
       "      <th>agency_text</th>\n",
       "      <th>score_text</th>\n",
       "    </tr>\n",
       "  </thead>\n",
       "  <tbody>\n",
       "    <tr>\n",
       "      <th>0</th>\n",
       "      <td>Other</td>\n",
       "      <td>0</td>\n",
       "      <td>PRETRIAL</td>\n",
       "      <td>Low</td>\n",
       "    </tr>\n",
       "    <tr>\n",
       "      <th>1</th>\n",
       "      <td>Other</td>\n",
       "      <td>0</td>\n",
       "      <td>PRETRIAL</td>\n",
       "      <td>Low</td>\n",
       "    </tr>\n",
       "    <tr>\n",
       "      <th>2</th>\n",
       "      <td>Other</td>\n",
       "      <td>0</td>\n",
       "      <td>PRETRIAL</td>\n",
       "      <td>Low</td>\n",
       "    </tr>\n",
       "    <tr>\n",
       "      <th>3</th>\n",
       "      <td>Caucasian</td>\n",
       "      <td>0</td>\n",
       "      <td>PRETRIAL</td>\n",
       "      <td>Low</td>\n",
       "    </tr>\n",
       "    <tr>\n",
       "      <th>4</th>\n",
       "      <td>Caucasian</td>\n",
       "      <td>0</td>\n",
       "      <td>PRETRIAL</td>\n",
       "      <td>Medium</td>\n",
       "    </tr>\n",
       "  </tbody>\n",
       "</table>\n",
       "</div>"
      ],
      "text/plain": [
       "        race  is_violent_recid agency_text score_text\n",
       "0      Other                 0    PRETRIAL        Low\n",
       "1      Other                 0    PRETRIAL        Low\n",
       "2      Other                 0    PRETRIAL        Low\n",
       "3  Caucasian                 0    PRETRIAL        Low\n",
       "4  Caucasian                 0    PRETRIAL     Medium"
      ]
     },
     "execution_count": 16,
     "metadata": {},
     "output_type": "execute_result"
    }
   ],
   "source": [
    "df.head()"
   ]
  },
  {
   "cell_type": "code",
   "execution_count": 17,
   "metadata": {},
   "outputs": [
    {
     "data": {
      "text/plain": [
       "race              is_violent_recid  score_text\n",
       "African-American  0                 Low           9757\n",
       "                                    Medium        4317\n",
       "                                    High          2847\n",
       "                                    N/A              8\n",
       "                  1                 Low            819\n",
       "                                    Medium         635\n",
       "                                    High           595\n",
       "Asian             0                 Low            141\n",
       "                                    Medium          20\n",
       "                                    High             7\n",
       "                  1                 Low              5\n",
       "                                    Medium           5\n",
       "                                    High             2\n",
       "Caucasian         0                 Low           8869\n",
       "                                    Medium        2139\n",
       "                                    High           918\n",
       "                                    N/A             11\n",
       "                  1                 Low            496\n",
       "                                    Medium         219\n",
       "                                    High           119\n",
       "Hispanic          0                 Low           2535\n",
       "                                    Medium         502\n",
       "                                    High           212\n",
       "                  1                 Low            125\n",
       "                                    Medium          44\n",
       "                                    High            32\n",
       "Native American   0                 Low             79\n",
       "                                    Medium          19\n",
       "                                    High            13\n",
       "                  1                 Low              7\n",
       "                                    Medium           6\n",
       "                                    High             5\n",
       "Other             0                 Low           1650\n",
       "                                    Medium         228\n",
       "                                    High            49\n",
       "                                    N/A              2\n",
       "                  1                 Low             94\n",
       "                                    High            27\n",
       "                                    Medium          20\n",
       "Name: score_text, dtype: int64"
      ]
     },
     "execution_count": 17,
     "metadata": {},
     "output_type": "execute_result"
    }
   ],
   "source": [
    "counts = df.groupby(['race','is_violent_recid']).score_text.value_counts()\n",
    "counts"
   ]
  },
  {
   "cell_type": "code",
   "execution_count": 18,
   "metadata": {},
   "outputs": [
    {
     "data": {
      "text/html": [
       "<div>\n",
       "<style scoped>\n",
       "    .dataframe tbody tr th:only-of-type {\n",
       "        vertical-align: middle;\n",
       "    }\n",
       "\n",
       "    .dataframe tbody tr th {\n",
       "        vertical-align: top;\n",
       "    }\n",
       "\n",
       "    .dataframe thead tr th {\n",
       "        text-align: left;\n",
       "    }\n",
       "</style>\n",
       "<table border=\"1\" class=\"dataframe\">\n",
       "  <thead>\n",
       "    <tr>\n",
       "      <th></th>\n",
       "      <th colspan=\"2\" halign=\"left\">African-American</th>\n",
       "      <th colspan=\"2\" halign=\"left\">Asian</th>\n",
       "      <th colspan=\"2\" halign=\"left\">Caucasian</th>\n",
       "      <th colspan=\"2\" halign=\"left\">Hispanic</th>\n",
       "      <th colspan=\"2\" halign=\"left\">Native American</th>\n",
       "      <th colspan=\"2\" halign=\"left\">Other</th>\n",
       "    </tr>\n",
       "    <tr>\n",
       "      <th></th>\n",
       "      <th>0</th>\n",
       "      <th>1</th>\n",
       "      <th>0</th>\n",
       "      <th>1</th>\n",
       "      <th>0</th>\n",
       "      <th>1</th>\n",
       "      <th>0</th>\n",
       "      <th>1</th>\n",
       "      <th>0</th>\n",
       "      <th>1</th>\n",
       "      <th>0</th>\n",
       "      <th>1</th>\n",
       "    </tr>\n",
       "  </thead>\n",
       "  <tbody>\n",
       "    <tr>\n",
       "      <th>High</th>\n",
       "      <td>0.168173</td>\n",
       "      <td>0.290386</td>\n",
       "      <td>0.041667</td>\n",
       "      <td>0.166667</td>\n",
       "      <td>0.076904</td>\n",
       "      <td>0.142686</td>\n",
       "      <td>0.065251</td>\n",
       "      <td>0.159204</td>\n",
       "      <td>0.117117</td>\n",
       "      <td>0.277778</td>\n",
       "      <td>0.025402</td>\n",
       "      <td>0.191489</td>\n",
       "    </tr>\n",
       "    <tr>\n",
       "      <th>Low</th>\n",
       "      <td>0.576348</td>\n",
       "      <td>0.399707</td>\n",
       "      <td>0.839286</td>\n",
       "      <td>0.416667</td>\n",
       "      <td>0.742984</td>\n",
       "      <td>0.594724</td>\n",
       "      <td>0.780240</td>\n",
       "      <td>0.621891</td>\n",
       "      <td>0.711712</td>\n",
       "      <td>0.388889</td>\n",
       "      <td>0.855365</td>\n",
       "      <td>0.666667</td>\n",
       "    </tr>\n",
       "    <tr>\n",
       "      <th>Medium</th>\n",
       "      <td>0.255006</td>\n",
       "      <td>0.309907</td>\n",
       "      <td>0.119048</td>\n",
       "      <td>0.416667</td>\n",
       "      <td>0.179191</td>\n",
       "      <td>0.262590</td>\n",
       "      <td>0.154509</td>\n",
       "      <td>0.218905</td>\n",
       "      <td>0.171171</td>\n",
       "      <td>0.333333</td>\n",
       "      <td>0.118196</td>\n",
       "      <td>0.141844</td>\n",
       "    </tr>\n",
       "    <tr>\n",
       "      <th>N/A</th>\n",
       "      <td>0.000473</td>\n",
       "      <td>NaN</td>\n",
       "      <td>NaN</td>\n",
       "      <td>NaN</td>\n",
       "      <td>0.000922</td>\n",
       "      <td>NaN</td>\n",
       "      <td>NaN</td>\n",
       "      <td>NaN</td>\n",
       "      <td>NaN</td>\n",
       "      <td>NaN</td>\n",
       "      <td>0.001037</td>\n",
       "      <td>NaN</td>\n",
       "    </tr>\n",
       "  </tbody>\n",
       "</table>\n",
       "</div>"
      ],
      "text/plain": [
       "       African-American               Asian           Caucasian            \\\n",
       "                      0         1         0         1         0         1   \n",
       "High           0.168173  0.290386  0.041667  0.166667  0.076904  0.142686   \n",
       "Low            0.576348  0.399707  0.839286  0.416667  0.742984  0.594724   \n",
       "Medium         0.255006  0.309907  0.119048  0.416667  0.179191  0.262590   \n",
       "N/A            0.000473       NaN       NaN       NaN  0.000922       NaN   \n",
       "\n",
       "        Hispanic           Native American               Other            \n",
       "               0         1               0         1         0         1  \n",
       "High    0.065251  0.159204        0.117117  0.277778  0.025402  0.191489  \n",
       "Low     0.780240  0.621891        0.711712  0.388889  0.855365  0.666667  \n",
       "Medium  0.154509  0.218905        0.171171  0.333333  0.118196  0.141844  \n",
       "N/A          NaN       NaN             NaN       NaN  0.001037       NaN  "
      ]
     },
     "execution_count": 18,
     "metadata": {},
     "output_type": "execute_result"
    }
   ],
   "source": [
    "relative_counts = pandas.DataFrame(\n",
    "    {i: d.score_text.value_counts() / d.score_text.count()\n",
    "    for i, d in df.groupby(['race','is_violent_recid'])})\n",
    "relative_counts"
   ]
  },
  {
   "cell_type": "code",
   "execution_count": 19,
   "metadata": {},
   "outputs": [],
   "source": [
    "%matplotlib inline"
   ]
  },
  {
   "cell_type": "code",
   "execution_count": 20,
   "metadata": {},
   "outputs": [
    {
     "data": {
      "text/plain": [
       "<matplotlib.legend.Legend at 0x20de49c6550>"
      ]
     },
     "execution_count": 20,
     "metadata": {},
     "output_type": "execute_result"
    },
    {
     "data": {
      "image/png": "[encoded data removed]",
      "text/plain": [
       "<Figure size 432x288 with 1 Axes>"
      ]
     },
     "metadata": {
      "needs_background": "light"
     },
     "output_type": "display_data"
    }
   ],
   "source": [
    "relative_counts.plot.bar().legend(bbox_to_anchor = (1,1))"
   ]
  },
  {
   "cell_type": "code",
   "execution_count": 21,
   "metadata": {},
   "outputs": [
    {
     "data": {
      "text/html": [
       "<div>\n",
       "<style scoped>\n",
       "    .dataframe tbody tr th:only-of-type {\n",
       "        vertical-align: middle;\n",
       "    }\n",
       "\n",
       "    .dataframe tbody tr th {\n",
       "        vertical-align: top;\n",
       "    }\n",
       "\n",
       "    .dataframe thead th {\n",
       "        text-align: right;\n",
       "    }\n",
       "</style>\n",
       "<table border=\"1\" class=\"dataframe\">\n",
       "  <thead>\n",
       "    <tr style=\"text-align: right;\">\n",
       "      <th></th>\n",
       "      <th>race</th>\n",
       "      <th>is_violent_recid</th>\n",
       "      <th>agency_text</th>\n",
       "      <th>score_text</th>\n",
       "      <th>scored_high</th>\n",
       "    </tr>\n",
       "  </thead>\n",
       "  <tbody>\n",
       "    <tr>\n",
       "      <th>0</th>\n",
       "      <td>Other</td>\n",
       "      <td>0</td>\n",
       "      <td>PRETRIAL</td>\n",
       "      <td>Low</td>\n",
       "      <td>0</td>\n",
       "    </tr>\n",
       "    <tr>\n",
       "      <th>1</th>\n",
       "      <td>Other</td>\n",
       "      <td>0</td>\n",
       "      <td>PRETRIAL</td>\n",
       "      <td>Low</td>\n",
       "      <td>0</td>\n",
       "    </tr>\n",
       "    <tr>\n",
       "      <th>2</th>\n",
       "      <td>Other</td>\n",
       "      <td>0</td>\n",
       "      <td>PRETRIAL</td>\n",
       "      <td>Low</td>\n",
       "      <td>0</td>\n",
       "    </tr>\n",
       "    <tr>\n",
       "      <th>3</th>\n",
       "      <td>Caucasian</td>\n",
       "      <td>0</td>\n",
       "      <td>PRETRIAL</td>\n",
       "      <td>Low</td>\n",
       "      <td>0</td>\n",
       "    </tr>\n",
       "    <tr>\n",
       "      <th>4</th>\n",
       "      <td>Caucasian</td>\n",
       "      <td>0</td>\n",
       "      <td>PRETRIAL</td>\n",
       "      <td>Medium</td>\n",
       "      <td>0</td>\n",
       "    </tr>\n",
       "  </tbody>\n",
       "</table>\n",
       "</div>"
      ],
      "text/plain": [
       "        race  is_violent_recid agency_text score_text  scored_high\n",
       "0      Other                 0    PRETRIAL        Low            0\n",
       "1      Other                 0    PRETRIAL        Low            0\n",
       "2      Other                 0    PRETRIAL        Low            0\n",
       "3  Caucasian                 0    PRETRIAL        Low            0\n",
       "4  Caucasian                 0    PRETRIAL     Medium            0"
      ]
     },
     "execution_count": 21,
     "metadata": {},
     "output_type": "execute_result"
    }
   ],
   "source": [
    "# this will be your prediction\n",
    "df['scored_high'] = 0 + (df.score_text == 'High')\n",
    "df.head()"
   ]
  },
  {
   "cell_type": "code",
   "execution_count": 22,
   "metadata": {},
   "outputs": [
    {
     "name": "stdout",
     "output_type": "stream",
     "text": [
      "Optimization terminated successfully.\n",
      "         Current function value: 0.365167\n",
      "         Iterations 7\n"
     ]
    },
    {
     "data": {
      "text/html": [
       "<table class=\"simpletable\">\n",
       "<caption>Logit Regression Results</caption>\n",
       "<tr>\n",
       "  <th>Dep. Variable:</th>      <td>scored_high</td>   <th>  No. Observations:  </th>   <td> 37578</td>  \n",
       "</tr>\n",
       "<tr>\n",
       "  <th>Model:</th>                 <td>Logit</td>      <th>  Df Residuals:      </th>   <td> 37568</td>  \n",
       "</tr>\n",
       "<tr>\n",
       "  <th>Method:</th>                 <td>MLE</td>       <th>  Df Model:          </th>   <td>     9</td>  \n",
       "</tr>\n",
       "<tr>\n",
       "  <th>Date:</th>            <td>Wed, 16 Dec 2020</td> <th>  Pseudo R-squ.:     </th>   <td>0.04752</td> \n",
       "</tr>\n",
       "<tr>\n",
       "  <th>Time:</th>                <td>22:28:30</td>     <th>  Log-Likelihood:    </th>  <td> -13722.</td> \n",
       "</tr>\n",
       "<tr>\n",
       "  <th>converged:</th>             <td>True</td>       <th>  LL-Null:           </th>  <td> -14407.</td> \n",
       "</tr>\n",
       "<tr>\n",
       "  <th>Covariance Type:</th>     <td>nonrobust</td>    <th>  LLR p-value:       </th> <td>3.681e-289</td>\n",
       "</tr>\n",
       "</table>\n",
       "<table class=\"simpletable\">\n",
       "<tr>\n",
       "               <td></td>                 <th>coef</th>     <th>std err</th>      <th>z</th>      <th>P>|z|</th>  <th>[0.025</th>    <th>0.975]</th>  \n",
       "</tr>\n",
       "<tr>\n",
       "  <th>Intercept</th>                  <td>   -0.9779</td> <td>    0.230</td> <td>   -4.248</td> <td> 0.000</td> <td>   -1.429</td> <td>   -0.527</td>\n",
       "</tr>\n",
       "<tr>\n",
       "  <th>C(race)[T.Asian]</th>           <td>   -1.4142</td> <td>    0.343</td> <td>   -4.122</td> <td> 0.000</td> <td>   -2.087</td> <td>   -0.742</td>\n",
       "</tr>\n",
       "<tr>\n",
       "  <th>C(race)[T.Caucasian]</th>       <td>   -0.8806</td> <td>    0.038</td> <td>  -23.374</td> <td> 0.000</td> <td>   -0.954</td> <td>   -0.807</td>\n",
       "</tr>\n",
       "<tr>\n",
       "  <th>C(race)[T.Hispanic]</th>        <td>   -1.0405</td> <td>    0.069</td> <td>  -15.008</td> <td> 0.000</td> <td>   -1.176</td> <td>   -0.905</td>\n",
       "</tr>\n",
       "<tr>\n",
       "  <th>C(race)[T.Native American]</th> <td>   -0.3605</td> <td>    0.256</td> <td>   -1.406</td> <td> 0.160</td> <td>   -0.863</td> <td>    0.142</td>\n",
       "</tr>\n",
       "<tr>\n",
       "  <th>C(race)[T.Other]</th>           <td>   -1.7172</td> <td>    0.119</td> <td>  -14.478</td> <td> 0.000</td> <td>   -1.950</td> <td>   -1.485</td>\n",
       "</tr>\n",
       "<tr>\n",
       "  <th>agency_text[T.DRRD]</th>        <td>    0.2336</td> <td>    0.294</td> <td>    0.795</td> <td> 0.427</td> <td>   -0.342</td> <td>    0.809</td>\n",
       "</tr>\n",
       "<tr>\n",
       "  <th>agency_text[T.PRETRIAL]</th>    <td>   -0.6537</td> <td>    0.231</td> <td>   -2.836</td> <td> 0.005</td> <td>   -1.105</td> <td>   -0.202</td>\n",
       "</tr>\n",
       "<tr>\n",
       "  <th>agency_text[T.Probation]</th>   <td>   -0.2184</td> <td>    0.241</td> <td>   -0.905</td> <td> 0.366</td> <td>   -0.692</td> <td>    0.255</td>\n",
       "</tr>\n",
       "<tr>\n",
       "  <th>is_violent_recid</th>           <td>    0.7479</td> <td>    0.045</td> <td>   16.515</td> <td> 0.000</td> <td>    0.659</td> <td>    0.837</td>\n",
       "</tr>\n",
       "</table>"
      ],
      "text/plain": [
       "<class 'statsmodels.iolib.summary.Summary'>\n",
       "\"\"\"\n",
       "                           Logit Regression Results                           \n",
       "==============================================================================\n",
       "Dep. Variable:            scored_high   No. Observations:                37578\n",
       "Model:                          Logit   Df Residuals:                    37568\n",
       "Method:                           MLE   Df Model:                            9\n",
       "Date:                Wed, 16 Dec 2020   Pseudo R-squ.:                 0.04752\n",
       "Time:                        22:28:30   Log-Likelihood:                -13722.\n",
       "converged:                       True   LL-Null:                       -14407.\n",
       "Covariance Type:            nonrobust   LLR p-value:                3.681e-289\n",
       "==============================================================================================\n",
       "                                 coef    std err          z      P>|z|      [0.025      0.975]\n",
       "----------------------------------------------------------------------------------------------\n",
       "Intercept                     -0.9779      0.230     -4.248      0.000      -1.429      -0.527\n",
       "C(race)[T.Asian]              -1.4142      0.343     -4.122      0.000      -2.087      -0.742\n",
       "C(race)[T.Caucasian]          -0.8806      0.038    -23.374      0.000      -0.954      -0.807\n",
       "C(race)[T.Hispanic]           -1.0405      0.069    -15.008      0.000      -1.176      -0.905\n",
       "C(race)[T.Native American]    -0.3605      0.256     -1.406      0.160      -0.863       0.142\n",
       "C(race)[T.Other]              -1.7172      0.119    -14.478      0.000      -1.950      -1.485\n",
       "agency_text[T.DRRD]            0.2336      0.294      0.795      0.427      -0.342       0.809\n",
       "agency_text[T.PRETRIAL]       -0.6537      0.231     -2.836      0.005      -1.105      -0.202\n",
       "agency_text[T.Probation]      -0.2184      0.241     -0.905      0.366      -0.692       0.255\n",
       "is_violent_recid               0.7479      0.045     16.515      0.000       0.659       0.837\n",
       "==============================================================================================\n",
       "\"\"\""
      ]
     },
     "execution_count": 22,
     "metadata": {},
     "output_type": "execute_result"
    }
   ],
   "source": [
    "from statsmodels.formula.api import logit\n",
    "\n",
    "# this will be the model you used to generate scores\n",
    "model = logit('scored_high ~ C(race) + is_violent_recid + agency_text', df).fit()\n",
    "model.summary()"
   ]
  },
  {
   "cell_type": "code",
   "execution_count": 23,
   "metadata": {},
   "outputs": [
    {
     "data": {
      "text/plain": [
       "0        0.033935\n",
       "1        0.033935\n",
       "2        0.033935\n",
       "3        0.075014\n",
       "4        0.075014\n",
       "           ...   \n",
       "37573    0.075014\n",
       "37574    0.075014\n",
       "37575    0.045402\n",
       "37576    0.045402\n",
       "37577    0.045402\n",
       "Length: 37578, dtype: float64"
      ]
     },
     "execution_count": 23,
     "metadata": {},
     "output_type": "execute_result"
    }
   ],
   "source": [
    "# you can generate real-valued scores in this way\n",
    "\n",
    "score = model.predict(df)\n",
    "score"
   ]
  },
  {
   "cell_type": "markdown",
   "metadata": {},
   "source": [
    "## Fairness"
   ]
  },
  {
   "cell_type": "markdown",
   "metadata": {},
   "source": [
    "#### *Some of this code was inspired by my own work for another class this quarter; CSE 146 - Ethics and Algorithms. Adaptations and changes have been made accordingly to avoid copying verbatim."
   ]
  },
  {
   "cell_type": "code",
   "execution_count": 24,
   "metadata": {},
   "outputs": [
    {
     "data": {
      "text/plain": [
       "(37578, 5)"
      ]
     },
     "execution_count": 24,
     "metadata": {},
     "output_type": "execute_result"
    }
   ],
   "source": [
    "df.shape"
   ]
  },
  {
   "cell_type": "code",
   "execution_count": 25,
   "metadata": {
    "scrolled": true
   },
   "outputs": [
    {
     "data": {
      "text/plain": [
       "(37578, 5)"
      ]
     },
     "execution_count": 25,
     "metadata": {},
     "output_type": "execute_result"
    }
   ],
   "source": [
    "Y = pd.DataFrame(score, columns=['scores'])\n",
    "R = df['scored_high']\n",
    "df.shape"
   ]
  },
  {
   "cell_type": "code",
   "execution_count": 26,
   "metadata": {},
   "outputs": [
    {
     "data": {
      "text/plain": [
       "(37578, 5)"
      ]
     },
     "execution_count": 26,
     "metadata": {},
     "output_type": "execute_result"
    }
   ],
   "source": [
    "df.shape"
   ]
  },
  {
   "cell_type": "code",
   "execution_count": 27,
   "metadata": {
    "scrolled": true
   },
   "outputs": [],
   "source": [
    "Y = Y['scores']"
   ]
  },
  {
   "cell_type": "code",
   "execution_count": 28,
   "metadata": {},
   "outputs": [
    {
     "data": {
      "text/html": [
       "<div>\n",
       "<style scoped>\n",
       "    .dataframe tbody tr th:only-of-type {\n",
       "        vertical-align: middle;\n",
       "    }\n",
       "\n",
       "    .dataframe tbody tr th {\n",
       "        vertical-align: top;\n",
       "    }\n",
       "\n",
       "    .dataframe thead th {\n",
       "        text-align: right;\n",
       "    }\n",
       "</style>\n",
       "<table border=\"1\" class=\"dataframe\">\n",
       "  <thead>\n",
       "    <tr style=\"text-align: right;\">\n",
       "      <th></th>\n",
       "      <th>race</th>\n",
       "      <th>is_violent_recid</th>\n",
       "      <th>agency_text</th>\n",
       "      <th>score_text</th>\n",
       "      <th>scored_high</th>\n",
       "      <th>scores</th>\n",
       "    </tr>\n",
       "  </thead>\n",
       "  <tbody>\n",
       "    <tr>\n",
       "      <th>0</th>\n",
       "      <td>Other</td>\n",
       "      <td>0</td>\n",
       "      <td>PRETRIAL</td>\n",
       "      <td>Low</td>\n",
       "      <td>0</td>\n",
       "      <td>0.033935</td>\n",
       "    </tr>\n",
       "    <tr>\n",
       "      <th>1</th>\n",
       "      <td>Other</td>\n",
       "      <td>0</td>\n",
       "      <td>PRETRIAL</td>\n",
       "      <td>Low</td>\n",
       "      <td>0</td>\n",
       "      <td>0.033935</td>\n",
       "    </tr>\n",
       "    <tr>\n",
       "      <th>2</th>\n",
       "      <td>Other</td>\n",
       "      <td>0</td>\n",
       "      <td>PRETRIAL</td>\n",
       "      <td>Low</td>\n",
       "      <td>0</td>\n",
       "      <td>0.033935</td>\n",
       "    </tr>\n",
       "    <tr>\n",
       "      <th>3</th>\n",
       "      <td>Caucasian</td>\n",
       "      <td>0</td>\n",
       "      <td>PRETRIAL</td>\n",
       "      <td>Low</td>\n",
       "      <td>0</td>\n",
       "      <td>0.075014</td>\n",
       "    </tr>\n",
       "    <tr>\n",
       "      <th>4</th>\n",
       "      <td>Caucasian</td>\n",
       "      <td>0</td>\n",
       "      <td>PRETRIAL</td>\n",
       "      <td>Medium</td>\n",
       "      <td>0</td>\n",
       "      <td>0.075014</td>\n",
       "    </tr>\n",
       "    <tr>\n",
       "      <th>...</th>\n",
       "      <td>...</td>\n",
       "      <td>...</td>\n",
       "      <td>...</td>\n",
       "      <td>...</td>\n",
       "      <td>...</td>\n",
       "      <td>...</td>\n",
       "    </tr>\n",
       "    <tr>\n",
       "      <th>37573</th>\n",
       "      <td>Caucasian</td>\n",
       "      <td>0</td>\n",
       "      <td>PRETRIAL</td>\n",
       "      <td>Low</td>\n",
       "      <td>0</td>\n",
       "      <td>0.075014</td>\n",
       "    </tr>\n",
       "    <tr>\n",
       "      <th>37574</th>\n",
       "      <td>Caucasian</td>\n",
       "      <td>0</td>\n",
       "      <td>PRETRIAL</td>\n",
       "      <td>Medium</td>\n",
       "      <td>0</td>\n",
       "      <td>0.075014</td>\n",
       "    </tr>\n",
       "    <tr>\n",
       "      <th>37575</th>\n",
       "      <td>Asian</td>\n",
       "      <td>0</td>\n",
       "      <td>PRETRIAL</td>\n",
       "      <td>Low</td>\n",
       "      <td>0</td>\n",
       "      <td>0.045402</td>\n",
       "    </tr>\n",
       "    <tr>\n",
       "      <th>37576</th>\n",
       "      <td>Asian</td>\n",
       "      <td>0</td>\n",
       "      <td>PRETRIAL</td>\n",
       "      <td>Low</td>\n",
       "      <td>0</td>\n",
       "      <td>0.045402</td>\n",
       "    </tr>\n",
       "    <tr>\n",
       "      <th>37577</th>\n",
       "      <td>Asian</td>\n",
       "      <td>0</td>\n",
       "      <td>PRETRIAL</td>\n",
       "      <td>Low</td>\n",
       "      <td>0</td>\n",
       "      <td>0.045402</td>\n",
       "    </tr>\n",
       "  </tbody>\n",
       "</table>\n",
       "<p>37578 rows × 6 columns</p>\n",
       "</div>"
      ],
      "text/plain": [
       "            race  is_violent_recid agency_text score_text  scored_high  \\\n",
       "0          Other                 0    PRETRIAL        Low            0   \n",
       "1          Other                 0    PRETRIAL        Low            0   \n",
       "2          Other                 0    PRETRIAL        Low            0   \n",
       "3      Caucasian                 0    PRETRIAL        Low            0   \n",
       "4      Caucasian                 0    PRETRIAL     Medium            0   \n",
       "...          ...               ...         ...        ...          ...   \n",
       "37573  Caucasian                 0    PRETRIAL        Low            0   \n",
       "37574  Caucasian                 0    PRETRIAL     Medium            0   \n",
       "37575      Asian                 0    PRETRIAL        Low            0   \n",
       "37576      Asian                 0    PRETRIAL        Low            0   \n",
       "37577      Asian                 0    PRETRIAL        Low            0   \n",
       "\n",
       "         scores  \n",
       "0      0.033935  \n",
       "1      0.033935  \n",
       "2      0.033935  \n",
       "3      0.075014  \n",
       "4      0.075014  \n",
       "...         ...  \n",
       "37573  0.075014  \n",
       "37574  0.075014  \n",
       "37575  0.045402  \n",
       "37576  0.045402  \n",
       "37577  0.045402  \n",
       "\n",
       "[37578 rows x 6 columns]"
      ]
     },
     "execution_count": 28,
     "metadata": {},
     "output_type": "execute_result"
    }
   ],
   "source": [
    "data = pd.concat([df,Y],1)\n",
    "data"
   ]
  },
  {
   "cell_type": "code",
   "execution_count": 29,
   "metadata": {},
   "outputs": [],
   "source": [
    "df_black = pd.DataFrame(data.loc[data['race']=='African-American']).reset_index()\n",
    "df_white = pd.DataFrame(data.loc[data['race']=='Caucasian']).reset_index()\n",
    "\n",
    "R_black = df_black['scored_high']\n",
    "R_white = df_white['scored_high']\n",
    "\n",
    "Y_black = df_black['scores']\n",
    "Y_white = df_white['scores']"
   ]
  },
  {
   "cell_type": "code",
   "execution_count": 30,
   "metadata": {},
   "outputs": [
    {
     "data": {
      "text/plain": [
       "(12771, 18978, 12771, 18978)"
      ]
     },
     "execution_count": 30,
     "metadata": {},
     "output_type": "execute_result"
    }
   ],
   "source": [
    "(Y_white.size,Y_black.size,R_white.size, R_black.size)"
   ]
  },
  {
   "cell_type": "markdown",
   "metadata": {},
   "source": [
    "### (a) Independence"
   ]
  },
  {
   "cell_type": "code",
   "execution_count": 31,
   "metadata": {},
   "outputs": [],
   "source": [
    "p_black = np.count_nonzero(df_black['scored_high'])/df_black.shape[0]\n",
    "p_white = np.count_nonzero(df_white['scored_high'])/df_white.shape[0]"
   ]
  },
  {
   "cell_type": "code",
   "execution_count": 32,
   "metadata": {},
   "outputs": [
    {
     "data": {
      "text/plain": [
       "0.44770652895999163"
      ]
     },
     "execution_count": 32,
     "metadata": {},
     "output_type": "execute_result"
    }
   ],
   "source": [
    "p_white/p_black"
   ]
  },
  {
   "cell_type": "markdown",
   "metadata": {},
   "source": [
    "### (b) Separation"
   ]
  },
  {
   "cell_type": "code",
   "execution_count": 33,
   "metadata": {},
   "outputs": [],
   "source": [
    "def true_positive_rate(y, r):\n",
    "    tp = 1\n",
    "    fn = 1\n",
    "    for i in range(0, y.size):\n",
    "        if y[i] == 1:\n",
    "            if r[i] == 1:\n",
    "                tp  += 1\n",
    "            else:\n",
    "                fn += 1\n",
    "    return tp/(tp+fn)\n",
    "\n",
    "def false_positive_rate(y, r):\n",
    "    tn = 1 \n",
    "    fp = 1\n",
    "    for i in range(0, y.size):\n",
    "        if y[i] == 0:\n",
    "            if r[i] == 0:\n",
    "                tn  += 1\n",
    "            else:\n",
    "                fp += 1\n",
    "    return fp/(tn+fp)"
   ]
  },
  {
   "cell_type": "markdown",
   "metadata": {},
   "source": [
    "#### i. Separation"
   ]
  },
  {
   "cell_type": "code",
   "execution_count": 34,
   "metadata": {},
   "outputs": [
    {
     "data": {
      "text/plain": [
       "(0.5172413793103449, 0.1281655260565068)"
      ]
     },
     "execution_count": 34,
     "metadata": {},
     "output_type": "execute_result"
    }
   ],
   "source": [
    "def thresh_pred(panda, thresh):\n",
    "    panda_ = panda.copy()\n",
    "    for i in range(0, panda.size):\n",
    "        if panda[i] <= thresh:\n",
    "            panda_[i] = 0\n",
    "        else:\n",
    "            panda_[i] = 1\n",
    "    return panda_\n",
    "\n",
    "Y_ = thresh_pred(Y, 0.5)\n",
    "tpr = true_positive_rate(Y_,R)\n",
    "fpr = false_positive_rate(Y_,R)\n",
    "\n",
    "(tpr,fpr)"
   ]
  },
  {
   "cell_type": "code",
   "execution_count": 35,
   "metadata": {
    "scrolled": true
   },
   "outputs": [],
   "source": [
    "def roc(y, r):\n",
    "    tpr = np.zeros(100)\n",
    "    fpr = np.zeros(100)\n",
    "    for i in range(0, 100):\n",
    "        y_ = thresh_pred(y,i/100)\n",
    "        fpr[i]    = false_positive_rate(y_,r)\n",
    "        tpr[i]    = true_positive_rate(y_,r)\n",
    "    return tpr, fpr"
   ]
  },
  {
   "cell_type": "code",
   "execution_count": 36,
   "metadata": {},
   "outputs": [
    {
     "data": {
      "text/plain": [
       "(array([0.12844598, 0.12844598, 0.12844598, 0.12844598, 0.13396512,\n",
       "        0.13435652, 0.13440194, 0.14076918, 0.1772572 , 0.1772572 ,\n",
       "        0.17826825, 0.17822311, 0.17928307, 0.18015941, 0.18013358,\n",
       "        0.18199916, 0.18192298, 0.28187919, 0.28130543, 0.28055754,\n",
       "        0.28055754, 0.28051855, 0.28082192, 0.2808418 , 0.29100046,\n",
       "        0.29100046, 0.29100046, 0.29100046, 0.29168624, 0.29168624,\n",
       "        0.32512315, 0.32512315, 0.32512315, 0.328     , 0.328     ,\n",
       "        0.328     , 0.328     , 0.328     , 0.328     , 0.46875   ,\n",
       "        0.46875   , 0.46875   , 0.46875   , 0.46875   , 0.46875   ,\n",
       "        0.51724138, 0.51724138, 0.51724138, 0.51724138, 0.51724138,\n",
       "        0.51724138, 0.5       , 0.5       , 0.5       , 0.5       ,\n",
       "        0.5       , 0.5       , 0.5       , 0.5       , 0.5       ,\n",
       "        0.5       , 0.5       , 0.5       , 0.5       , 0.5       ,\n",
       "        0.5       , 0.5       , 0.5       , 0.5       , 0.5       ,\n",
       "        0.5       , 0.5       , 0.5       , 0.5       , 0.5       ,\n",
       "        0.5       , 0.5       , 0.5       , 0.5       , 0.5       ,\n",
       "        0.5       , 0.5       , 0.5       , 0.5       , 0.5       ,\n",
       "        0.5       , 0.5       , 0.5       , 0.5       , 0.5       ,\n",
       "        0.5       , 0.5       , 0.5       , 0.5       , 0.5       ,\n",
       "        0.5       , 0.5       , 0.5       , 0.5       , 0.5       ]),\n",
       " array([0.5       , 0.5       , 0.5       , 0.5       , 0.02609603,\n",
       "        0.02750965, 0.02735125, 0.05332829, 0.06806407, 0.06806407,\n",
       "        0.06795544, 0.06804925, 0.0692516 , 0.06998242, 0.07023601,\n",
       "        0.07321293, 0.07330919, 0.11596789, 0.11607169, 0.1162316 ,\n",
       "        0.1162316 , 0.11633386, 0.11632383, 0.11640728, 0.11841325,\n",
       "        0.11841325, 0.11841325, 0.11841325, 0.11866415, 0.11866415,\n",
       "        0.12739774, 0.12739774, 0.12739774, 0.12779988, 0.12779988,\n",
       "        0.12779988, 0.12779988, 0.12779988, 0.12779988, 0.12817577,\n",
       "        0.12817577, 0.12817577, 0.12817577, 0.12817577, 0.12817577,\n",
       "        0.12816553, 0.12816553, 0.12816553, 0.12816553, 0.12816553,\n",
       "        0.12816553, 0.12844598, 0.12844598, 0.12844598, 0.12844598,\n",
       "        0.12844598, 0.12844598, 0.12844598, 0.12844598, 0.12844598,\n",
       "        0.12844598, 0.12844598, 0.12844598, 0.12844598, 0.12844598,\n",
       "        0.12844598, 0.12844598, 0.12844598, 0.12844598, 0.12844598,\n",
       "        0.12844598, 0.12844598, 0.12844598, 0.12844598, 0.12844598,\n",
       "        0.12844598, 0.12844598, 0.12844598, 0.12844598, 0.12844598,\n",
       "        0.12844598, 0.12844598, 0.12844598, 0.12844598, 0.12844598,\n",
       "        0.12844598, 0.12844598, 0.12844598, 0.12844598, 0.12844598,\n",
       "        0.12844598, 0.12844598, 0.12844598, 0.12844598, 0.12844598,\n",
       "        0.12844598, 0.12844598, 0.12844598, 0.12844598, 0.12844598]))"
      ]
     },
     "execution_count": 36,
     "metadata": {},
     "output_type": "execute_result"
    }
   ],
   "source": [
    "roc_curve = roc(Y,R)\n",
    "roc_curve"
   ]
  },
  {
   "cell_type": "code",
   "execution_count": 37,
   "metadata": {},
   "outputs": [
    {
     "data": {
      "text/plain": [
       "(array([0.08126517, 0.08126517, 0.08126517, 0.08126517, 0.08126517,\n",
       "        0.08126517, 0.08126517, 0.08126517, 0.13926042, 0.13926042,\n",
       "        0.13926042, 0.13926042, 0.14634146, 0.14634146, 0.1443418 ,\n",
       "        0.22641509, 0.22641509, 0.30434783, 0.30434783, 0.30434783,\n",
       "        0.30434783, 0.5       , 0.5       , 0.5       , 0.5       ,\n",
       "        0.5       , 0.5       , 0.5       , 0.5       , 0.5       ,\n",
       "        0.5       , 0.5       , 0.5       , 0.5       , 0.5       ,\n",
       "        0.5       , 0.5       , 0.5       , 0.5       , 0.5       ,\n",
       "        0.5       , 0.5       , 0.5       , 0.5       , 0.5       ,\n",
       "        0.5       , 0.5       , 0.5       , 0.5       , 0.5       ,\n",
       "        0.5       , 0.5       , 0.5       , 0.5       , 0.5       ,\n",
       "        0.5       , 0.5       , 0.5       , 0.5       , 0.5       ,\n",
       "        0.5       , 0.5       , 0.5       , 0.5       , 0.5       ,\n",
       "        0.5       , 0.5       , 0.5       , 0.5       , 0.5       ,\n",
       "        0.5       , 0.5       , 0.5       , 0.5       , 0.5       ,\n",
       "        0.5       , 0.5       , 0.5       , 0.5       , 0.5       ,\n",
       "        0.5       , 0.5       , 0.5       , 0.5       , 0.5       ,\n",
       "        0.5       , 0.5       , 0.5       , 0.5       , 0.5       ,\n",
       "        0.5       , 0.5       , 0.5       , 0.5       , 0.5       ,\n",
       "        0.5       , 0.5       , 0.5       , 0.5       , 0.5       ]),\n",
       " array([0.5       , 0.5       , 0.5       , 0.5       , 0.5       ,\n",
       "        0.5       , 0.5       , 0.5       , 0.07493046, 0.07493046,\n",
       "        0.07493046, 0.07493046, 0.07639181, 0.07639181, 0.07674868,\n",
       "        0.0807263 , 0.0807263 , 0.08092848, 0.08092848, 0.08092848,\n",
       "        0.08092848, 0.08126517, 0.08126517, 0.08126517, 0.08126517,\n",
       "        0.08126517, 0.08126517, 0.08126517, 0.08126517, 0.08126517,\n",
       "        0.08126517, 0.08126517, 0.08126517, 0.08126517, 0.08126517,\n",
       "        0.08126517, 0.08126517, 0.08126517, 0.08126517, 0.08126517,\n",
       "        0.08126517, 0.08126517, 0.08126517, 0.08126517, 0.08126517,\n",
       "        0.08126517, 0.08126517, 0.08126517, 0.08126517, 0.08126517,\n",
       "        0.08126517, 0.08126517, 0.08126517, 0.08126517, 0.08126517,\n",
       "        0.08126517, 0.08126517, 0.08126517, 0.08126517, 0.08126517,\n",
       "        0.08126517, 0.08126517, 0.08126517, 0.08126517, 0.08126517,\n",
       "        0.08126517, 0.08126517, 0.08126517, 0.08126517, 0.08126517,\n",
       "        0.08126517, 0.08126517, 0.08126517, 0.08126517, 0.08126517,\n",
       "        0.08126517, 0.08126517, 0.08126517, 0.08126517, 0.08126517,\n",
       "        0.08126517, 0.08126517, 0.08126517, 0.08126517, 0.08126517,\n",
       "        0.08126517, 0.08126517, 0.08126517, 0.08126517, 0.08126517,\n",
       "        0.08126517, 0.08126517, 0.08126517, 0.08126517, 0.08126517,\n",
       "        0.08126517, 0.08126517, 0.08126517, 0.08126517, 0.08126517]),\n",
       " array([0.18140148, 0.18140148, 0.18140148, 0.18140148, 0.18140148,\n",
       "        0.18140148, 0.18140148, 0.18140148, 0.18140148, 0.18140148,\n",
       "        0.18140148, 0.18140148, 0.18140148, 0.18140148, 0.18140148,\n",
       "        0.18140148, 0.18140148, 0.2808418 , 0.2808418 , 0.2808418 ,\n",
       "        0.2808418 , 0.2808418 , 0.2808418 , 0.2808418 , 0.29100046,\n",
       "        0.29100046, 0.29100046, 0.29100046, 0.29168624, 0.29168624,\n",
       "        0.32512315, 0.32512315, 0.32512315, 0.328     , 0.328     ,\n",
       "        0.328     , 0.328     , 0.328     , 0.328     , 0.46875   ,\n",
       "        0.46875   , 0.46875   , 0.46875   , 0.46875   , 0.46875   ,\n",
       "        0.51724138, 0.51724138, 0.51724138, 0.51724138, 0.51724138,\n",
       "        0.51724138, 0.5       , 0.5       , 0.5       , 0.5       ,\n",
       "        0.5       , 0.5       , 0.5       , 0.5       , 0.5       ,\n",
       "        0.5       , 0.5       , 0.5       , 0.5       , 0.5       ,\n",
       "        0.5       , 0.5       , 0.5       , 0.5       , 0.5       ,\n",
       "        0.5       , 0.5       , 0.5       , 0.5       , 0.5       ,\n",
       "        0.5       , 0.5       , 0.5       , 0.5       , 0.5       ,\n",
       "        0.5       , 0.5       , 0.5       , 0.5       , 0.5       ,\n",
       "        0.5       , 0.5       , 0.5       , 0.5       , 0.5       ,\n",
       "        0.5       , 0.5       , 0.5       , 0.5       , 0.5       ,\n",
       "        0.5       , 0.5       , 0.5       , 0.5       , 0.5       ]),\n",
       " array([0.5       , 0.5       , 0.5       , 0.5       , 0.5       ,\n",
       "        0.5       , 0.5       , 0.5       , 0.5       , 0.5       ,\n",
       "        0.5       , 0.5       , 0.5       , 0.5       , 0.5       ,\n",
       "        0.5       , 0.5       , 0.16455072, 0.16455072, 0.16455072,\n",
       "        0.16455072, 0.16455072, 0.16455072, 0.16455072, 0.16715298,\n",
       "        0.16715298, 0.16715298, 0.16715298, 0.16750727, 0.16750727,\n",
       "        0.17988178, 0.17988178, 0.17988178, 0.18046349, 0.18046349,\n",
       "        0.18046349, 0.18046349, 0.18046349, 0.18046349, 0.18094987,\n",
       "        0.18094987, 0.18094987, 0.18094987, 0.18094987, 0.18094987,\n",
       "        0.18092123, 0.18092123, 0.18092123, 0.18092123, 0.18092123,\n",
       "        0.18092123, 0.18140148, 0.18140148, 0.18140148, 0.18140148,\n",
       "        0.18140148, 0.18140148, 0.18140148, 0.18140148, 0.18140148,\n",
       "        0.18140148, 0.18140148, 0.18140148, 0.18140148, 0.18140148,\n",
       "        0.18140148, 0.18140148, 0.18140148, 0.18140148, 0.18140148,\n",
       "        0.18140148, 0.18140148, 0.18140148, 0.18140148, 0.18140148,\n",
       "        0.18140148, 0.18140148, 0.18140148, 0.18140148, 0.18140148,\n",
       "        0.18140148, 0.18140148, 0.18140148, 0.18140148, 0.18140148,\n",
       "        0.18140148, 0.18140148, 0.18140148, 0.18140148, 0.18140148,\n",
       "        0.18140148, 0.18140148, 0.18140148, 0.18140148, 0.18140148,\n",
       "        0.18140148, 0.18140148, 0.18140148, 0.18140148, 0.18140148]))"
      ]
     },
     "execution_count": 37,
     "metadata": {},
     "output_type": "execute_result"
    }
   ],
   "source": [
    "# A is Caucasian\n",
    "# B is African American\n",
    "\n",
    "tpr_A, fpr_A = roc(Y_white, R_white)\n",
    "tpr_B, fpr_B = roc(Y_black, R_black)\n",
    "\n",
    "(tpr_A, fpr_A, tpr_B, fpr_B)"
   ]
  },
  {
   "cell_type": "code",
   "execution_count": 38,
   "metadata": {},
   "outputs": [
    {
     "data": {
      "image/png": "[encoded data removed]",
      "text/plain": [
       "<Figure size 432x288 with 1 Axes>"
      ]
     },
     "metadata": {
      "needs_background": "light"
     },
     "output_type": "display_data"
    }
   ],
   "source": [
    "%matplotlib inline \n",
    "import matplotlib.pyplot as plt\n",
    "\n",
    "plt.title('ROC Curve')\n",
    "plt.xlabel('FPR')\n",
    "plt.ylabel('TPR')\n",
    "\n",
    "plt.plot(fpr_A, tpr_A, color='blue', label='A curve')\n",
    "plt.plot(fpr_B, tpr_B, color='red' , label='B curve')\n",
    "plt.grid(True)\n",
    "\n",
    "plt.legend()\n",
    "\n",
    "plt.show()"
   ]
  },
  {
   "cell_type": "markdown",
   "metadata": {},
   "source": [
    "#### ii. Active Separation Post-Processing"
   ]
  },
  {
   "cell_type": "code",
   "execution_count": 39,
   "metadata": {},
   "outputs": [],
   "source": [
    "min_A_thresh = 1\n",
    "min_B_thresh = 1\n",
    "min_error = 1\n",
    "for j in range(0 , 100):\n",
    "    for i in range (0 , 100):\n",
    "        separation_error = (abs(tpr_A[i]-tpr_B[j])+abs(fpr_A[i]-fpr_B[j]))\n",
    "        if min_error > separation_error:\n",
    "            min_error = separation_error\n",
    "            min_A_thresh = i/100\n",
    "            min_B_thresh = j/100"
   ]
  },
  {
   "cell_type": "code",
   "execution_count": 40,
   "metadata": {
    "scrolled": true
   },
   "outputs": [
    {
     "data": {
      "text/plain": [
       "(0.17, 0.28)"
      ]
     },
     "execution_count": 40,
     "metadata": {},
     "output_type": "execute_result"
    }
   ],
   "source": [
    "(min_A_thresh, min_B_thresh)"
   ]
  }
 ],
 "metadata": {
  "kernelspec": {
   "display_name": "Python 3",
   "language": "python",
   "name": "python3"
  },
  "language_info": {
   "codemirror_mode": {
    "name": "ipython",
    "version": 3
   },
   "file_extension": ".py",
   "mimetype": "text/x-python",
   "name": "python",
   "nbconvert_exporter": "python",
   "pygments_lexer": "ipython3",
   "version": "3.8.5"
  }
 },
 "nbformat": 4,
 "nbformat_minor": 4
}
