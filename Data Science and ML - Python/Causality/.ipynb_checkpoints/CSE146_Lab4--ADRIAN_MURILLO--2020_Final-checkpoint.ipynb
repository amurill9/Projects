{
 "cells": [
  {
   "cell_type": "markdown",
   "metadata": {
    "collapsed": true,
    "id": "U37DSWR_pQYe"
   },
   "source": [
    "# CSE 146 Lab 4: Causality\n",
    "### ASSIGNED: November 5, 2020\n",
    "### DUE: November 16, 2020\n",
    "### 103 points total"
   ]
  },
  {
   "cell_type": "markdown",
   "metadata": {
    "id": "BVMi-Y50pQYg"
   },
   "source": [
    "The purpose of this assignment is to familiarize yourself with concepts in causality, including the do-calculus and interventions, using interventions to reason about causal relationships in data, and the difference between correlation and causation."
   ]
  },
  {
   "cell_type": "markdown",
   "metadata": {
    "id": "D_6OKdCEpQYh"
   },
   "source": [
    "# Instructions \n",
    "Prior to beginning the assignment, you should have read the following readings from QCR4:\n",
    "- Causality chapter (chp 4) from _[Fair ML](https://fairmlbook.org/causal.html)_. \n",
    "- Causality Survey from Judea Pearl’s website:  J. Pearl, \"Causal inference in statistics: An overview,\"  Statistics Surveys,  3:96--146, 2009. [pdf](http://ftp.cs.ucla.edu/pub/stat_ser/r350.pdf) \n",
    "\n",
    "In addition, if you're not familiar with treating [functions as objects in python](https://www.geeksforgeeks.org/passing-function-as-an-argument-in-python/)   you should read the short article linked. \n",
    "\n",
    "Just like in previous labs, these guidelines remain consistent:\n",
    "- All cells where code is required are marked with a \"# YOUR CODE HERE\" comment. All cells where a written answer is required are marked with \"Please type your answers here!\". The point values for each code block are written in the header for the associated subsection.\n",
    "- For each question, you should write python code to compute the answer to the questions that renders in a readable way according to the specifications of the question. You may only use the packages provided in the Background and Setup code. We will not be installing any packages during grading, and code that does not compile will negatively affect your grade.\n",
    "- This assignment can be done collaboratively, and please be sure to list the student(s) you worked with in the space provided below. Please reach out to each other if you have any questions or difficulties.\n",
    "- Be sure to rename this homework notebook (in [YOUR NAME HERE] so that it includes your name. \n",
    "\n",
    "### List any students you talked with about this assignment here:\n",
    "1. Zachary Zulanas\n",
    "2. Margarita Fernandez"
   ]
  },
  {
   "cell_type": "markdown",
   "metadata": {
    "id": "GmNNkdqTpQYi"
   },
   "source": [
    "# Background and Setup\n",
    "\n",
    "In this assignment we will be considering _structural causal models_ and _causal graphs_ describing the relationship between regular exercise, being overweight, and having heart disease, each represented by the variables X, W, and H, respectively. For each variable a 1 indicates a \"yes\" to the question and a 0 indicates a \"no.\" For example, the tuple (1,0,1) corresponds to a person who exercises regularly, is not overweight, but does have heart disease. \n",
    "\n",
    "<b>Definition 1:</b> A _structural causal model,_ $\\mathbb{M}$, is a set of variables $\\{X_1,X_2,...,X_d\\}$, where\n",
    "\\begin{equation}\n",
    "X_i := f(Pa(X_i)) \\text{ for } i = 1,2,...,d,\n",
    "\\end{equation}\n",
    "\n",
    "$Pa(X_i) \\subseteq \\{X_1,X_2,...,X_d\\} \\cup U_i$ are the \"parents\" of $X_i$, and $U_1,U_2,...,U_d$ are jointly independent noise functions.\n",
    "\n",
    "<b>Definition 2:</b> A _causal graph_ for $\\mathbb{M}$, is a directed graph with nodes $\\{X_1,X_2,...,X_d,U_1,U_2,...,U_d\\}$ and directed edges such that there is an edge from $X_i \\rightarrow X_j$ if and only if $X_i$ is a parent of $X_j$.\n",
    "\n",
    "<b>Definition 3:</b> An _intervention_ on a variable, $X_i$, in a structural causal model, $\\mathbb{M}$, is an assignment of a new distribution function $g$ to $X_i$, resulting in a new structural causal model, $\\mathbb{M}[\\text{do}(X_i := g)]$. Typically $g = c$, where $c$ is some constant.\n",
    "\n",
    "<b>Definition 4:</b> The _expected value_ of a variable, $X$, is given by the formula\n",
    "\\begin{equation}\n",
    "E(X) = \\sum_x xP(x).\n",
    "\\end{equation}\n",
    "\n",
    "Recall that we discussed this in Lab 0. The expectation is akin to a weighted average of the values of $X$, where the weight is the probability of $X$ taking that value. Hence we have $x*P(x)$ and the sum ranges over all values $X$ might take. Notice that if $P(x)$ is a uniform distribution computing the expected value of $X$ is equivalent to taking the average."
   ]
  },
  {
   "cell_type": "code",
   "execution_count": 2,
   "metadata": {
    "id": "-0dZ5xtbpQYk"
   },
   "outputs": [],
   "source": [
    "import pandas\n",
    "import numpy\n",
    "import random\n",
    "\n",
    "def generate_dataset(n, generate_datapoint, X, W, H, columns = []):\n",
    "    d = []\n",
    "    for i in range(n):\n",
    "        d.append(generate_datapoint(X, W, H))\n",
    "        \n",
    "    if len(columns) > 0:\n",
    "        return pandas.DataFrame(d, columns = columns)\n",
    "    else: \n",
    "        return pandas.DataFrame(d)"
   ]
  },
  {
   "cell_type": "markdown",
   "metadata": {
    "id": "3w2C8g4lpQYr"
   },
   "source": [
    "The function `generate_dataset` takes dataset size (number of entries), a function to generate a datapoint, three distribution functions to be passed to `generate_datapoint`, and an optional argument, columns. If you choose to rename the columns, the number of columns must match the size of the generated data point."
   ]
  },
  {
   "cell_type": "markdown",
   "metadata": {
    "id": "Z7rDBiPOpQYs"
   },
   "source": [
    "# Problems\n",
    "### Problem 1 (15 points)\n",
    "#### Question\n",
    "Based on the code in `generate_M_datapoint` and in the distribution functions we have defined a _structural causal model,_ which we will call $\\mathbb{M}$. \n",
    "\n",
    "(a) List the edges in the causal graph assosiated with $\\mathbb{M}$ in the form $A \\rightarrow B$, where $A$ is a parent of $B$. Be sure that the arrow is pointing in the right direction! (5 points)\n",
    "\n",
    "(b) Analytically compute the probability that each variable in $\\mathbb{M}$ is true (e.g. $P(X = 1)$) in our _structural causal model_ using the formula\n",
    "\\begin{equation}\n",
    "P(A) = \\sum_B P(A|B)P(B).\n",
    "\\end{equation}\n",
    "\n",
    "Show your work! (<b>hint</b>: Start with $X$. Observe that `random.randint(a,b)` is a uniform distribution over the interval $[a,b]$.) (10 points)"
   ]
  },
  {
   "cell_type": "code",
   "execution_count": 3,
   "metadata": {
    "id": "oh-BD6zbpQYt"
   },
   "outputs": [],
   "source": [
    "def generate_M_datapoint(X, W, H):\n",
    "    x = X()\n",
    "    w = W(x)\n",
    "    h = H(x)\n",
    "    return [x, w, h]\n",
    "\n",
    "def X_M_distribution():\n",
    "    return random.randint(0,1)\n",
    "\n",
    "def W_M_distribution(x):\n",
    "    if(x == 1):\n",
    "        return int(random.randint(0,5) < 1)\n",
    "    else:\n",
    "        return int(random.randint(0,2) < 1)\n",
    "\n",
    "def H_M_distribution(x):\n",
    "    if(x == 1):\n",
    "        return int(random.randint(0,3) < 1)\n",
    "    else:\n",
    "        return int(random.randint(0,1) < 1)"
   ]
  },
  {
   "cell_type": "markdown",
   "metadata": {
    "id": "V_r0rpkxpQYx"
   },
   "source": [
    "#### Answer"
   ]
  },
  {
   "cell_type": "markdown",
   "metadata": {
    "id": "Pxyfa0NEpQYy"
   },
   "source": [
    "(a) $X \\rightarrow W$, $X \\rightarrow H$ \n",
    "\n",
    "(b) $ P(X)=0.5,\\ P(W)=0.25,\\ P(H)=0.375 $\n",
    "\n"
   ]
  },
  {
   "cell_type": "markdown",
   "metadata": {
    "id": "Y0Jo8ZdGpQYz"
   },
   "source": [
    "### Problem 2 (10 points)\n",
    "#### Question\n",
    "\n",
    "(a) Using `generate_dataset`, generate a dataset called `M_data` of size 1,000,000 with column names 'X', 'W', and 'H' using the distributions defining $\\mathbb{M}$ from Problem 1. (5 points)\n",
    "\n",
    "(b) Using your new dataset, `M_data`, compute (and display) the conditional probability $P_\\mathbb{M}( H = 1 | W = 1)$. (5 points)\n",
    "#### Answer"
   ]
  },
  {
   "cell_type": "code",
   "execution_count": 18,
   "metadata": {
    "id": "5XU1afcQpQY1"
   },
   "outputs": [],
   "source": [
    "# (a)\n",
    "M_data = generate_dataset(1000000, generate_M_datapoint, X_M_distribution, W_M_distribution, H_M_distribution, columns = [])"
   ]
  },
  {
   "cell_type": "code",
   "execution_count": 70,
   "metadata": {
    "id": "3JqnC_2HpQY8"
   },
   "outputs": [
    {
     "data": {
      "text/plain": [
       "0.4163544792714247"
      ]
     },
     "execution_count": 70,
     "metadata": {},
     "output_type": "execute_result"
    }
   ],
   "source": [
    "# (b)\n",
    "conditional_W = M_data.loc[M_data[1] == 1]\n",
    "(numpy.count_nonzero(conditional_W[2]))/conditional_W.shape[0]"
   ]
  },
  {
   "cell_type": "markdown",
   "metadata": {
    "id": "8Zpwgr_XpQZB"
   },
   "source": [
    "### Problem 3 (20 points)\n",
    "#### Question\n",
    "\n",
    "(a) Using `generate_dataset`, generate a dataset named `MdoW1_data` of size 1,000,000 with column names 'X', 'W', and 'H' using the distributions defining $\\mathbb{M}[\\text{do}(W := 1)]$. Notice that this amounts to changing the distribution for $W$ meaning you will have to define a new distribution function for $W$ and a new function to generate a datapoint. Name the new data generation function for $\\mathbb{M}[\\text{do}(W := 1)]$ `generate_MdoW_datapoint` and your new function defining the distribution $W := 1$ `W_MdoW1_distribution`. (15 points)\n",
    "\n",
    "(b) Using this dataset, compute (and display) $P_{\\mathbb{M}[\\text{do}(W := 1)]}(H =1)$. (5 points)\n",
    "\n",
    "#### Answer"
   ]
  },
  {
   "cell_type": "code",
   "execution_count": 71,
   "metadata": {
    "id": "s7sUJuh_pQZC"
   },
   "outputs": [],
   "source": [
    "# (a)\n",
    "def W_MdoW1_distribution():\n",
    "    return 1\n",
    "\n",
    "def generate_MdoW_datapoint(X, W, H):\n",
    "    x = X()\n",
    "    w = W()\n",
    "    h = H(x)\n",
    "    return [x, w, h]\n",
    "\n",
    "MdoW1_data = generate_dataset(1000000, generate_MdoW_datapoint, X_M_distribution, W_MdoW1_distribution, H_M_distribution, columns = [])"
   ]
  },
  {
   "cell_type": "code",
   "execution_count": 72,
   "metadata": {
    "id": "ffrgl_cspQZK",
    "scrolled": true
   },
   "outputs": [
    {
     "data": {
      "text/plain": [
       "0.375021"
      ]
     },
     "execution_count": 72,
     "metadata": {},
     "output_type": "execute_result"
    }
   ],
   "source": [
    "# (b)\n",
    "(numpy.count_nonzero(MdoW1_data[2]))/MdoW1_data.shape[0]"
   ]
  },
  {
   "cell_type": "markdown",
   "metadata": {
    "id": "JXz4wG0tpQZP"
   },
   "source": [
    "### Problem 4 (13 points)\n",
    "#### Question\n",
    "(a) List the edges in the causal graph assosiated with $\\mathbb{M}[\\text{do}(W := 1)]$ in the form $A \\rightarrow B$, where $A$ is a parent of $B$. (5 points)\n",
    "\n",
    "(b) How does $P_{\\mathbb{M}[\\text{do}(W := 1)]}(H =1)$ compare with the conditional probability $P_\\mathbb{M}( H = 1 | W = 1)$ you computed in Problem 2? From this, what can you conclude about the causal relationship between $W$ and $H$ in $\\mathbb{M}$? What is $X$ called in $\\mathbb{M}$? (5 points)\n",
    "\n",
    "(c) What does the structure of the causal graph of $\\mathbb{M}$ tell us about the role $X$ plays in the connections between $W$ and $H$?. (3 points)\n",
    "\n",
    "#### Answer"
   ]
  },
  {
   "cell_type": "markdown",
   "metadata": {
    "id": "Ksl5pDWopQZQ"
   },
   "source": [
    "(a) $X\\rightarrow H$\n",
    "\n",
    "(b) By comparing $P[H=1|W=|]$ and $P_{\\mathbb{M}[\\text{do}(W := 1)]}(H =1)$ we can see that there is a noticeable difference between the two. In this case $X$ is a fork, as $X$ has a counfounding effect on $H$ and $W$.\n",
    "\n",
    "(c) The causal graph suggests that there is a positive correlation between $H$ and $W$"
   ]
  },
  {
   "cell_type": "markdown",
   "metadata": {
    "id": "19iutjpypQZR"
   },
   "source": [
    "### Problem 5 (20 points)\n",
    "#### Question\n",
    "(a) Using `generate_dataset`, generate a dataset named `MdoW0_data` of size 1,000,000 with column names 'X', 'W', and 'H' using the distributions defining 𝕄[do(𝑊:=0)]. To do this, as before, define a new function for the distribution $W := 0$ named `W_MdoW0_distribution`. If you did Problem 3 well, you can reuse the function `generate_MdoW_datapoint`, otherwise you'll need to write a function `generate_MdoW0_datapoint`. (5 points)\n",
    "\n",
    "(b) To further elucidate the relationship between $W$ and $H$ compute (and display)\n",
    "\\begin{equation}\n",
    "E_{\\mathbb{M}[\\text{do}(W := 1)]}(H) - E_{\\mathbb{M}[\\text{do}(W := 0)]}(H). \\text{ (10 points)}\n",
    "\\end{equation}\n",
    "\n",
    "This is called the _average treatment effect_ of $W$ on $H$, and it tells us how much the intervention on $W$ changes the expectation of $H$.\n",
    "\n",
    "(c) Does the insight from the _average treatment effect_ of $W$ on $H$ agree with your conclusions from Problem 4(b)? Explain your answer. (5 points)\n",
    "\n",
    "\n",
    "#### Answer"
   ]
  },
  {
   "cell_type": "code",
   "execution_count": 59,
   "metadata": {
    "id": "c7XvLVokpQZS"
   },
   "outputs": [],
   "source": [
    "# (a)\n",
    "def W_MdoW0_distribution(x):\n",
    "    return 0\n",
    "\n",
    "MdoW0_data = generate_dataset(1000000, generate_M_datapoint, X_M_distribution, W_MdoW0_distribution, H_M_distribution, columns = [])"
   ]
  },
  {
   "cell_type": "code",
   "execution_count": 60,
   "metadata": {
    "id": "5Tj0C89epQZa"
   },
   "outputs": [
    {
     "data": {
      "text/plain": [
       "-0.00031599999999998296"
      ]
     },
     "execution_count": 60,
     "metadata": {},
     "output_type": "execute_result"
    }
   ],
   "source": [
    "# (b)\n",
    "(MdoW1_data[2].sum()/MdoW1_data.shape[0])-(MdoW0_data[2].sum()/MdoW0_data.shape[0])"
   ]
  },
  {
   "cell_type": "markdown",
   "metadata": {
    "id": "SHjxjQTbpQZi"
   },
   "source": [
    "(c) Apparently, both expected values of $H$ are very close to each other. This reveals that there is no correlation between $W$ and $H$."
   ]
  },
  {
   "cell_type": "markdown",
   "metadata": {
    "id": "3-cf73rTpQZp"
   },
   "source": [
    "### Problem 6 (25 points)\n",
    "Up until now we have assumed that we know precisely the data generation process (enough to program it!), and so we have computed interventions in our _structural causal model_ by directly changing the data generation process and creating a new dataset. In the real world, it is unlikely that we would know exactly how data is generated, and it is even less likely that we would be able to gather a new dataset. However, given our expert knowledge of this domain, we can come up with a _causal graph_ that we believe represents how different attributes in our domain are causally dependent. From this, we can estimate the effect of an intervention on a random variable $B$ using another random variable $A$ using the formula\n",
    "\\begin{equation}\n",
    "P_{\\mathbb{M}[\\text{do}(A := a)]}(B = b) = \\sum_z P_{\\mathbb{M}}(B = b | A = a, Pa(B) = z)P_{\\mathbb{M}}(Pa(B) = z),\n",
    "\\end{equation}\n",
    "where $Pa(B)$ refers to the parent. For the remainder of the problem, you must relate this formula to the structural causal model you have worked with for so long.\n",
    "#### Question\n",
    "(a) What are the parent(s) of $W$ in $\\mathbb{M}$, and what are the possible values they(it) can take? (5 points)\n",
    "\n",
    "(b) Using the _causal graph_ you discovered in Problem 1(a) and the dataset `M_data` from Problem 2, compute (and display) $P_{\\mathbb{M}[\\text{do}(W := 1)]}(H = 1)$ with the above formula. (15 points)\n",
    "\n",
    "(c) How does the estimated intervention compare to the intervention you computed in Problem 3(b)? What does this tell you about the _causal graph_ we've assumed? (5 points)\n",
    "\n",
    "\n",
    "#### Answer"
   ]
  },
  {
   "cell_type": "markdown",
   "metadata": {
    "id": "gjFkuTH6pQZq"
   },
   "source": [
    "(a) We have that $X$ is the only parent of $W$, and it can take values $0$ or $1$"
   ]
  },
  {
   "cell_type": "code",
   "execution_count": 92,
   "metadata": {
    "id": "iNi2Xi4TpQZr"
   },
   "outputs": [
    {
     "data": {
      "text/plain": [
       "0.37412585321685143"
      ]
     },
     "execution_count": 92,
     "metadata": {},
     "output_type": "execute_result"
    }
   ],
   "source": [
    "# (b)\n",
    "conditional_W   = M_data.loc[M_data[1] == 1]\n",
    "conditional_WX0 = conditional_W.loc[conditional_W[0] == 0]\n",
    "conditional_WX1 = conditional_W.loc[conditional_W[0] == 1]\n",
    "p_X   =  numpy.count_nonzero(M_data[0])/M_data.shape[0]\n",
    "p_WX0 = (numpy.count_nonzero(conditional_WX0[2])/conditional_WX0.shape[0])*p_X\n",
    "p_WX1 = (numpy.count_nonzero(conditional_WX1[2])/conditional_WX1.shape[0])*p_X\n",
    "(p_WX0+p_WX1)"
   ]
  },
  {
   "cell_type": "markdown",
   "metadata": {
    "id": "Z2jbrQXupQZ0"
   },
   "source": [
    "(c) The estimated intervention is very close to the computed intervention. This suggests that the causal graph that we assumed is correct."
   ]
  },
  {
   "cell_type": "markdown",
   "metadata": {
    "id": "lTbfHcb9pQZ3"
   },
   "source": [
    "# References\n",
    "[1] Barocas, Hardt, Narayanan: _Fairness and Machine Learning Ch. 4, Causality._ fairmlbook.org, http://www.fairmlbook.org, 2019."
   ]
  }
 ],
 "metadata": {
  "colab": {
   "collapsed_sections": [],
   "name": "CSE146_Lab4--[YOUR NAME HERE]--2020-Updated.ipynb",
   "provenance": []
  },
  "kernelspec": {
   "display_name": "Python 3",
   "language": "python",
   "name": "python3"
  },
  "language_info": {
   "codemirror_mode": {
    "name": "ipython",
    "version": 3
   },
   "file_extension": ".py",
   "mimetype": "text/x-python",
   "name": "python",
   "nbconvert_exporter": "python",
   "pygments_lexer": "ipython3",
   "version": "3.8.5"
  }
 },
 "nbformat": 4,
 "nbformat_minor": 1
}
