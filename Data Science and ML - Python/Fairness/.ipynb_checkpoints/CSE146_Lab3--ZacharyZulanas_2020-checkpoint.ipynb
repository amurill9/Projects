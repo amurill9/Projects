{
 "cells": [
  {
   "cell_type": "markdown",
   "metadata": {
    "id": "S6C8MvcaMHGf"
   },
   "source": [
    "### CSE 146 Lab 3: Algorithmic Fairness\n",
    "\n",
    "### ASSIGNED: Tueday, October 20\n",
    "### DUE: Tuesday, October 29\n",
    "### 100 points total\n",
    "\n",
    "In this homework, you will gain experience with tools for implementing classifiers that provide fairness guarantees. In part 2, you will try to get a fair classifier if you only have access to a normal classifier. In parts 3 and 4, you will get to explore the different outcomes when using different definitions of fairness for classifiers. You will also look at the tradeoffs between fairness and accuracy. \n",
    "\n",
    "All cells where code is required are marked with a \"# YOUR CODE HERE\" comment. All cells where a written answer is required are marked with \"Please type your answers here!\". The point values for each code block are written in the header for the associated subsection."
   ]
  },
  {
   "cell_type": "markdown",
   "metadata": {
    "id": "N33PR9c0MHGi"
   },
   "source": [
    "## Instructions \n",
    "For each question, you should write Python code to compute the answer to the questions that renders in a readable way according to the specifications of the question. You may only use the packages provided in the Background and Setup code. We will not be installing any packages during grading, and code that does not compile will negatively affect your grade.\n",
    "\n",
    "This assignment can be done collaboratively, and please be sure to list the student(s) you worked with in the space provided below. Please reach out to each other if you have any questions or difficulties.\n",
    "\n",
    "Be sure to rename this homework notebook (in [YOUR NAME HERE] so that it includes your name. \n",
    "\n",
    "### List the student(s) you worked with on this assignment here:\n",
    "1. Natalie Petrosian\n",
    "2. Adrian Murillo\n",
    "3. [etc.]"
   ]
  },
  {
   "cell_type": "markdown",
   "metadata": {
    "id": "cAHEbLv5MHGk"
   },
   "source": [
    "## Part 1: Importing Data (5 Points)\n",
    "Before working with the algorithms for fair classification, we must first import the dataset we wish to use. We will again be working with the \"Communities and Crime\" dataset from [UC Irvine's Machine Learning Repository](http://archive.ics.uci.edu/ml/datasets/communities+and+crime). It includes data about the different types of crimes among various communities, socioeconomic and racial data about each community, and information about the police force in each community.\n",
    "\n",
    "The algorithms will require that your data is split into 3 DataFrames:\n",
    "\n",
    "- `dataX`: The features of each instance, not including any protected attributes\n",
    "- `dataA`: The protected attributes of each instance\n",
    "- `dataY`: The label for each instance (the value to be predicted)\n",
    "\n",
    "Currently, we provide you with 2 CSV files:\n",
    "\n",
    "- `communities.csv`, which contains all information for each instance\n",
    "- `communities_protected.csv`, which is a single-row dataframe, indicating how each column within `communities.csv` should be used. If the column value is 0 the attribute is unprotected, if its 1 the attribute is a protected feature, and 2 if the attribute is the value to be predicted (the label for each instance).\n",
    "\n",
    "In part 2, we will focus on only one of the protected features. In parts 3 and 4, we will use all 18 protected features for upholding our fairness metrics.\n",
    "\n",
    "Write code to generate the 3 Pandas DataFrames, `dataX`, `dataA` and `dataY`. \n",
    "\n",
    "*Hint: Remember how we checked for DataFrame values in Lab1 via dataframe[dataframe == some_val], and read pandas' .dropna() function for dataframes!*"
   ]
  },
  {
   "cell_type": "code",
   "execution_count": 1,
   "metadata": {
    "id": "_4d_D5IQMHGm"
   },
   "outputs": [],
   "source": [
    "%load_ext autoreload\n",
    "%autoreload 2"
   ]
  },
  {
   "cell_type": "code",
   "execution_count": 2,
   "metadata": {
    "id": "SWmpeHEqMHG1"
   },
   "outputs": [],
   "source": [
    "import pandas as pd # Necessary libraries\n",
    "import numpy as np\n",
    "import warnings # Suppressing warnings\n",
    "warnings.filterwarnings('ignore') "
   ]
  },
  {
   "cell_type": "code",
   "execution_count": 3,
   "metadata": {
    "id": "32Pu7DDEMHHM"
   },
   "outputs": [],
   "source": [
    "# YOUR CODE HERE\n",
    "dataframe = pd.read_csv('communities.csv')\n",
    "protected = pd.read_csv('communities_protected.csv')\n",
    "\n",
    "dataX = dataframe.loc[:, (protected == 0).any()]\n",
    "dataA = dataframe.loc[:, (protected == 1).any()]\n",
    "dataY = dataframe.loc[:, (protected == 2).any()]"
   ]
  },
  {
   "cell_type": "code",
   "execution_count": 4,
   "metadata": {
    "id": "uDFMY9CQMHHf"
   },
   "outputs": [
    {
     "name": "stdout",
     "output_type": "stream",
     "text": [
      "dataX Shape: (1994, 104)\n",
      "dataA Shape: (1994, 18)\n",
      "dataY Shape: (1994, 1)\n"
     ]
    }
   ],
   "source": [
    "print('dataX Shape:', dataX.shape)\n",
    "print('dataA Shape:', dataA.shape)\n",
    "print('dataY Shape:', dataY.shape)"
   ]
  },
  {
   "cell_type": "markdown",
   "metadata": {
    "id": "tfJ-SyxwMHHy"
   },
   "source": [
    "## Part 2: Two-Group Fairness via Post-processing (35 Points)\n",
    "\n",
    "In this section, you will implement a method of achieving a fair classifier \"from scratch\" by post-processing a generic linear regression classifier. If you'd like to read about it in depth, this method is described in depth in https://arxiv.org/abs/1610.02413. \n",
    "\n",
    "You will train a classifier which approximately equalizes both True Positive Rate and False Positive Rate for two groups, which is commonly referred to as the Equalized Odds criterion."
   ]
  },
  {
   "cell_type": "markdown",
   "metadata": {
    "id": "FskTQOBiMHH2"
   },
   "source": [
    "### 2.1: Training a Real-Valued Predictor (5 points)\n",
    "\n",
    "So far we've been working with classifiers that predict 0 or 1 scores. There are also models, like linear regression, that predict real-values scores. For now, you can think of these real-valued scores as the estimated probability that that instance's classification should be 1.\n",
    "\n",
    "Now, you will train a real-valued predictor. Use the Linear Regression package from SciKit-Learn to train a regression model on dataX and dataY. Generate predictions for dataY (called y_hat_score) and print them. \n",
    "\n",
    "NOTE: Please make sure to do a train/test split, as this is a general practice in machine learning.\n",
    "\n",
    "https://scikit-learn.org/stable/modules/generated/sklearn.linear_model.LinearRegression.html"
   ]
  },
  {
   "cell_type": "code",
   "execution_count": 5,
   "metadata": {
    "id": "XaJJk0k3MHH5"
   },
   "outputs": [
    {
     "name": "stdout",
     "output_type": "stream",
     "text": [
      "0.49700842143145685\n"
     ]
    }
   ],
   "source": [
    "from sklearn.linear_model import LinearRegression\n",
    "from sklearn.model_selection import train_test_split\n",
    "# YOUR CODE HERE\n",
    "dataX_train, dataX_test, dataY_train, dataY_test = train_test_split(dataX, dataY, test_size=0.2)\n",
    "\n",
    "\n",
    "linReg = LinearRegression().fit(dataX_train, dataY_train)\n",
    "\n",
    "print(linReg.score(dataX_test, dataY_test))\n",
    "y_hat_score = linReg.predict(dataX_test)"
   ]
  },
  {
   "cell_type": "code",
   "execution_count": 6,
   "metadata": {
    "id": "e-MwZoRmMHIF"
   },
   "outputs": [
    {
     "name": "stdout",
     "output_type": "stream",
     "text": [
      "[[ 6.05665668e-01]\n",
      " [-3.24035268e-02]\n",
      " [ 4.81207098e-02]\n",
      " [ 5.98528778e-01]\n",
      " [-2.18076871e-01]\n",
      " [-7.32658911e-02]\n",
      " [-7.38901639e-02]\n",
      " [ 5.79699094e-01]\n",
      " [-1.46984276e-02]\n",
      " [ 5.20796803e-01]\n",
      " [ 9.15824177e-02]\n",
      " [ 3.81562371e-01]\n",
      " [ 3.83191855e-01]\n",
      " [ 7.81721452e-01]\n",
      " [ 2.37222759e-03]\n",
      " [ 1.41561455e-01]\n",
      " [ 9.12398487e-01]\n",
      " [ 2.75466891e-01]\n",
      " [-6.76925477e-03]\n",
      " [-9.18060351e-02]\n",
      " [ 7.59944642e-01]\n",
      " [ 1.23539653e+00]\n",
      " [ 4.89986376e-02]\n",
      " [-8.47974341e-02]\n",
      " [ 4.74258102e-01]\n",
      " [ 2.25841365e-01]\n",
      " [-5.37659181e-02]\n",
      " [-1.23754260e-01]\n",
      " [ 5.77007293e-01]\n",
      " [-1.40900486e-01]\n",
      " [ 3.23221453e-01]\n",
      " [ 2.15929047e-01]\n",
      " [ 2.26534781e-01]\n",
      " [ 6.39023027e-01]\n",
      " [ 1.50511321e-01]\n",
      " [ 7.28885647e-01]\n",
      " [ 4.21362784e-01]\n",
      " [ 6.87675204e-01]\n",
      " [ 6.04267728e-01]\n",
      " [ 1.28961277e-01]\n",
      " [-7.49558076e-02]\n",
      " [-3.72132374e-02]\n",
      " [ 5.43830068e-01]\n",
      " [ 6.22698579e-01]\n",
      " [-1.79510042e-01]\n",
      " [ 1.00502051e-01]\n",
      " [ 5.98266492e-02]\n",
      " [-2.37172263e-01]\n",
      " [ 6.27767006e-02]\n",
      " [ 3.94623855e-01]\n",
      " [ 3.87309139e-01]\n",
      " [ 7.43932928e-01]\n",
      " [ 8.44241204e-01]\n",
      " [-7.68647662e-04]\n",
      " [ 2.01935159e-01]\n",
      " [-8.11219398e-02]\n",
      " [ 3.76161435e-01]\n",
      " [ 1.21384385e-01]\n",
      " [ 1.70939602e-01]\n",
      " [ 1.64761170e-02]\n",
      " [-1.58678336e-01]\n",
      " [ 5.55364536e-02]\n",
      " [ 5.24687187e-01]\n",
      " [ 4.45414264e-01]\n",
      " [ 4.57085202e-01]\n",
      " [ 7.00679390e-01]\n",
      " [ 7.83681304e-01]\n",
      " [ 4.56392790e-01]\n",
      " [ 4.32861512e-02]\n",
      " [ 4.12094341e-01]\n",
      " [-5.63903567e-03]\n",
      " [-8.30632070e-02]\n",
      " [ 1.39625719e-02]\n",
      " [ 2.05814646e-01]\n",
      " [ 3.54094344e-01]\n",
      " [ 8.48643898e-02]\n",
      " [ 6.75006271e-01]\n",
      " [ 4.51538513e-02]\n",
      " [ 7.86978154e-01]\n",
      " [ 5.08706666e-02]\n",
      " [ 1.68017025e-01]\n",
      " [-5.26228885e-02]\n",
      " [ 3.89405082e-01]\n",
      " [ 6.05124320e-02]\n",
      " [ 1.31335612e-01]\n",
      " [ 5.38500293e-01]\n",
      " [-2.33327559e-02]\n",
      " [-6.38450738e-02]\n",
      " [ 5.24083323e-01]\n",
      " [ 4.56411956e-01]\n",
      " [-8.83536925e-02]\n",
      " [ 3.94993089e-02]\n",
      " [ 5.37281664e-01]\n",
      " [ 4.67737187e-01]\n",
      " [ 1.37979402e-01]\n",
      " [ 7.06824442e-01]\n",
      " [ 4.64682173e-01]\n",
      " [ 6.67307310e-01]\n",
      " [ 1.67094874e-01]\n",
      " [ 6.54848284e-02]\n",
      " [ 9.63487665e-02]\n",
      " [ 6.05149668e-01]\n",
      " [ 5.88089397e-02]\n",
      " [-1.19293481e-01]\n",
      " [ 9.25494240e-01]\n",
      " [ 2.29144733e-01]\n",
      " [ 6.95157064e-01]\n",
      " [ 2.53199711e-01]\n",
      " [-2.43721533e-01]\n",
      " [ 3.04704204e-01]\n",
      " [ 4.55124802e-01]\n",
      " [ 3.19481233e-01]\n",
      " [-5.96041150e-02]\n",
      " [ 1.53834495e+00]\n",
      " [ 7.81457335e-01]\n",
      " [ 1.70377534e-01]\n",
      " [ 2.55259117e-01]\n",
      " [ 2.88990965e-03]\n",
      " [ 1.81953717e-01]\n",
      " [ 5.51944173e-01]\n",
      " [ 1.59205528e-01]\n",
      " [-6.16728348e-02]\n",
      " [ 2.33296933e-01]\n",
      " [-1.62740637e-01]\n",
      " [ 2.97872015e-01]\n",
      " [ 3.58104599e-01]\n",
      " [ 3.26652782e-01]\n",
      " [ 6.91279264e-01]\n",
      " [ 4.42354529e-02]\n",
      " [ 4.93936962e-01]\n",
      " [ 6.82145925e-02]\n",
      " [ 6.79232016e-01]\n",
      " [ 6.21532131e-01]\n",
      " [-4.91240120e-02]\n",
      " [ 3.10700091e-01]\n",
      " [ 1.66864329e-01]\n",
      " [ 5.79857443e-02]\n",
      " [ 6.24642754e-01]\n",
      " [ 6.69463321e-02]\n",
      " [ 3.83265378e-01]\n",
      " [ 2.00443800e-01]\n",
      " [-9.43698939e-02]\n",
      " [ 6.09423166e-03]\n",
      " [ 3.43104905e-02]\n",
      " [ 2.64734115e-01]\n",
      " [ 2.87355900e-01]\n",
      " [ 9.23932929e-02]\n",
      " [ 4.54841085e-01]\n",
      " [ 6.63630409e-02]\n",
      " [-8.87001669e-02]\n",
      " [ 9.01275356e-02]\n",
      " [ 1.16404827e-01]\n",
      " [ 2.76069975e-01]\n",
      " [ 3.42803062e-02]\n",
      " [-8.53264743e-02]\n",
      " [ 1.27209086e-01]\n",
      " [-6.32315535e-02]\n",
      " [ 2.97793087e-02]\n",
      " [ 9.59092460e-01]\n",
      " [ 5.08420903e-02]\n",
      " [ 7.52002616e-02]\n",
      " [-1.64477503e-01]\n",
      " [ 1.55067553e-01]\n",
      " [ 1.83176851e-01]\n",
      " [ 7.94493366e-02]\n",
      " [ 1.27676539e-01]\n",
      " [ 1.52787641e-01]\n",
      " [ 6.44707914e-01]\n",
      " [ 1.48170320e-01]\n",
      " [ 3.12147168e-01]\n",
      " [-4.35228012e-02]\n",
      " [ 2.71572095e-01]\n",
      " [-1.31440474e-01]\n",
      " [ 2.53112409e-01]\n",
      " [ 3.87106441e-02]\n",
      " [ 4.36139079e-01]\n",
      " [ 3.00218284e-01]\n",
      " [ 3.42962837e-01]\n",
      " [ 2.03895384e-02]\n",
      " [ 9.93653361e-01]\n",
      " [ 8.52511916e-01]\n",
      " [ 2.69760988e-02]\n",
      " [ 3.77537634e-01]\n",
      " [ 2.33405902e-01]\n",
      " [-4.92016822e-02]\n",
      " [ 3.53315810e-01]\n",
      " [ 9.31491249e-01]\n",
      " [ 3.90277945e-01]\n",
      " [ 7.07497212e-01]\n",
      " [ 3.73001941e-01]\n",
      " [-3.98578744e-02]\n",
      " [ 3.30178549e-01]\n",
      " [ 1.92986935e-01]\n",
      " [ 6.45186176e-01]\n",
      " [ 5.26720634e-01]\n",
      " [ 9.94491665e-01]\n",
      " [ 4.59723096e-01]\n",
      " [ 5.19771662e-01]\n",
      " [ 9.11506230e-01]\n",
      " [-1.24522392e-01]\n",
      " [ 1.31242688e-01]\n",
      " [ 1.77142664e-02]\n",
      " [ 8.49154333e-01]\n",
      " [ 3.60254086e-02]\n",
      " [ 6.29206002e-01]\n",
      " [ 2.81251033e-01]\n",
      " [ 1.41142204e-01]\n",
      " [ 7.30622056e-01]\n",
      " [ 1.26702213e-01]\n",
      " [ 9.17346958e-01]\n",
      " [ 6.86824398e-01]\n",
      " [ 7.25651032e-01]\n",
      " [ 4.02954965e-02]\n",
      " [ 2.56136713e-01]\n",
      " [ 2.29404937e-01]\n",
      " [ 3.63866778e-01]\n",
      " [ 1.72125895e-01]\n",
      " [ 1.22392120e-01]\n",
      " [ 6.60416220e-01]\n",
      " [ 1.05170448e-02]\n",
      " [ 3.86668548e-01]\n",
      " [ 1.58160954e-01]\n",
      " [ 3.83921554e-01]\n",
      " [-5.93475254e-02]\n",
      " [ 5.23142599e-02]\n",
      " [ 5.40287709e-02]\n",
      " [-6.43346683e-02]\n",
      " [ 7.99829846e-01]\n",
      " [ 1.82252148e-01]\n",
      " [ 1.76607421e-01]\n",
      " [-2.00858305e-01]\n",
      " [ 5.72337068e-01]\n",
      " [ 7.75858271e-01]\n",
      " [ 2.97845535e-02]\n",
      " [ 1.39691770e-01]\n",
      " [ 2.06022836e-01]\n",
      " [ 2.87197241e-02]\n",
      " [-1.12391002e-01]\n",
      " [ 1.16702630e+00]\n",
      " [ 8.84727061e-01]\n",
      " [ 2.37045264e-02]\n",
      " [ 1.40122303e-01]\n",
      " [ 1.60788546e-01]\n",
      " [ 1.55753044e-01]\n",
      " [ 3.39075711e-02]\n",
      " [ 9.54992138e-02]\n",
      " [-1.99436243e-02]\n",
      " [ 5.47839214e-01]\n",
      " [ 5.94480439e-02]\n",
      " [ 3.26589938e-01]\n",
      " [-4.82680224e-02]\n",
      " [ 4.06082875e-01]\n",
      " [ 2.90038842e-01]\n",
      " [ 5.06037689e-02]\n",
      " [ 1.27530652e-01]\n",
      " [ 9.14209343e-03]\n",
      " [ 1.66072583e-01]\n",
      " [ 1.41097589e+00]\n",
      " [ 3.79927102e-01]\n",
      " [ 3.33226293e-02]\n",
      " [ 2.19994670e-02]\n",
      " [ 7.18535607e-02]\n",
      " [ 5.19823918e-01]\n",
      " [ 4.67664840e-01]\n",
      " [ 8.65737053e-02]\n",
      " [-2.13098121e-03]\n",
      " [ 4.70451269e-01]\n",
      " [ 8.39179224e-01]\n",
      " [ 7.95623451e-02]\n",
      " [ 1.00512339e-01]\n",
      " [-1.69016892e-01]\n",
      " [ 3.03062721e-01]\n",
      " [ 1.35819802e-02]\n",
      " [ 5.39688766e-01]\n",
      " [-2.18894730e-01]\n",
      " [ 6.77925739e-01]\n",
      " [ 3.99834642e-01]\n",
      " [ 2.83678727e-01]\n",
      " [ 3.11237627e-01]\n",
      " [ 2.01969530e-01]\n",
      " [ 7.55234428e-02]\n",
      " [-4.54621561e-02]\n",
      " [ 4.25711916e-02]\n",
      " [ 4.32244893e-01]\n",
      " [ 1.15245452e-01]\n",
      " [-3.59348408e-02]\n",
      " [ 3.82914203e-01]\n",
      " [ 1.91784509e-01]\n",
      " [ 2.07158496e-01]\n",
      " [ 2.78898863e-01]\n",
      " [ 6.59928624e-01]\n",
      " [ 9.85990550e-01]\n",
      " [ 1.73330568e-01]\n",
      " [ 2.41337087e-01]\n",
      " [ 6.95956460e-01]\n",
      " [ 5.25585055e-01]\n",
      " [ 6.90504599e-01]\n",
      " [ 3.66405172e-01]\n",
      " [ 5.39575248e-02]\n",
      " [-5.43829468e-02]\n",
      " [-1.39632360e-01]\n",
      " [ 2.99792339e-01]\n",
      " [ 1.01035255e+00]\n",
      " [ 2.30255708e-01]\n",
      " [ 9.05755008e-02]\n",
      " [ 4.27774236e-02]\n",
      " [-1.13470102e-01]\n",
      " [ 9.42190751e-01]\n",
      " [ 1.81256450e-01]\n",
      " [ 2.57094157e-01]\n",
      " [ 7.69957582e-02]\n",
      " [-1.25364146e-01]\n",
      " [ 8.14640240e-01]\n",
      " [ 4.90354699e-01]\n",
      " [ 8.06479882e-01]\n",
      " [ 1.02601291e+00]\n",
      " [ 1.52984644e-02]\n",
      " [ 2.02782322e-01]\n",
      " [ 3.08484633e-01]\n",
      " [-8.39421438e-02]\n",
      " [ 2.99448323e-01]\n",
      " [ 4.17012446e-02]\n",
      " [ 1.04054242e-01]\n",
      " [ 2.57151302e-01]\n",
      " [ 2.28206147e-01]\n",
      " [ 7.24343089e-01]\n",
      " [-6.17352417e-02]\n",
      " [ 1.37408814e-01]\n",
      " [ 5.79893544e-01]\n",
      " [ 4.82765964e-01]\n",
      " [ 7.53930732e-01]\n",
      " [-6.03613651e-02]\n",
      " [ 3.90144335e-01]\n",
      " [ 7.72294889e-01]\n",
      " [ 2.05988671e-01]\n",
      " [ 2.06643230e-01]\n",
      " [ 3.94440030e-01]\n",
      " [-2.34104361e-01]\n",
      " [ 5.27495993e-01]\n",
      " [-1.12594810e-01]\n",
      " [-1.25104862e-01]\n",
      " [ 2.52319573e-01]\n",
      " [ 4.73991284e-01]\n",
      " [-7.70564438e-02]\n",
      " [ 2.10546357e-01]\n",
      " [ 1.05986767e-01]\n",
      " [-5.88298609e-02]\n",
      " [ 8.28596679e-01]\n",
      " [ 1.82056364e-01]\n",
      " [-1.04008542e-01]\n",
      " [ 2.47002615e-01]\n",
      " [ 5.42832909e-01]\n",
      " [-1.15870808e-01]\n",
      " [ 4.53949882e-01]\n",
      " [ 1.76197100e-01]\n",
      " [ 1.20347050e+00]\n",
      " [-1.16197324e-01]\n",
      " [ 9.30022120e-02]\n",
      " [ 2.80996747e-01]\n",
      " [ 1.54149918e-01]\n",
      " [ 4.94488693e-01]\n",
      " [-7.19994713e-02]\n",
      " [-1.07942649e-01]\n",
      " [ 7.15893515e-01]\n",
      " [ 1.12483419e+00]\n",
      " [ 2.92425639e-01]\n",
      " [ 5.18894682e-01]\n",
      " [ 4.66199117e-01]\n",
      " [ 3.37535657e-01]\n",
      " [-3.17041231e-02]\n",
      " [ 7.02630120e-02]\n",
      " [ 5.36745446e-03]\n",
      " [ 9.84800689e-01]\n",
      " [ 6.64876310e-01]\n",
      " [ 6.47962990e-02]\n",
      " [-6.88522110e-02]\n",
      " [ 1.90974488e-01]\n",
      " [ 3.01700716e-01]\n",
      " [-4.15263714e-02]\n",
      " [ 7.52352973e-02]\n",
      " [ 2.05574021e-01]\n",
      " [ 5.41882393e-01]\n",
      " [ 3.73013099e-01]\n",
      " [ 8.16102835e-01]\n",
      " [ 3.15253044e-01]\n",
      " [ 6.83006551e-01]\n",
      " [-9.76173611e-02]\n",
      " [ 5.39827305e-01]\n",
      " [ 2.51349176e-02]\n",
      " [ 4.00203614e-01]\n",
      " [ 5.39531623e-01]\n",
      " [ 9.74870146e-02]\n",
      " [ 1.15517641e+00]\n",
      " [ 1.37240373e+00]\n",
      " [ 4.51035114e-01]\n",
      " [ 6.52410500e-01]\n",
      " [ 1.20459275e+00]\n",
      " [ 1.27006488e-01]\n",
      " [ 3.15495167e-01]]\n"
     ]
    }
   ],
   "source": [
    "print(y_hat_score)"
   ]
  },
  {
   "cell_type": "markdown",
   "metadata": {
    "id": "SQdrur0uMHIV"
   },
   "source": [
    "### 2.2: Binary Classification via Thresholding (5 points)\n",
    "\n",
    "We will need to convert our estimated probabilities to 0/1 predictions. Write a function (named threshold_predictions) which takes in a set of predicted linear regression scores, a threshold, and converts the scores to 0/1 predictions (below or equal to threshold $\\to$ 0, above threshold $\\to$ 1). Print out your converted predictions using a threshold of 0.5."
   ]
  },
  {
   "cell_type": "code",
   "execution_count": 7,
   "metadata": {
    "id": "yVyvNYGTMHIW"
   },
   "outputs": [],
   "source": [
    "def threshold_predictions(y_hat_score, threshold):\n",
    "    # YOUR CODE HERE\n",
    "    newArr = np.empty(len(y_hat_score))\n",
    "    for i in range(len(y_hat_score)):\n",
    "        if y_hat_score[i] > threshold:\n",
    "            newArr[i] = 1\n",
    "        else:\n",
    "            newArr[i] = 0\n",
    "    return newArr\n",
    "    "
   ]
  },
  {
   "cell_type": "code",
   "execution_count": 9,
   "metadata": {
    "id": "67fIG1-LMHIe"
   },
   "outputs": [
    {
     "name": "stdout",
     "output_type": "stream",
     "text": [
      "(399,)\n"
     ]
    }
   ],
   "source": [
    "y_hat_0_1 = threshold_predictions(y_hat_score, 0.5)\n",
    "print(y_hat_0_1.shape)"
   ]
  },
  {
   "cell_type": "markdown",
   "metadata": {
    "id": "xS9Dt0shMHIm"
   },
   "source": [
    "### 2.3: Computing TPR and FPR (5 points)\n",
    "\n",
    "There are many peformance measurements for machine learning classifiers. We now introduce two new ones, true positive rate and false positive rate. We define them using the terminology from a confusion matrix:\n",
    "\n",
    "\\begin{equation}\n",
    "TruePosRate = \\frac{True Positive}{True Positive + False Negative}\n",
    "\\end{equation}\n",
    "\n",
    "\\begin{equation}\n",
    "FalsePosRate = \\frac{False Positive}{False Positive + True Negative}\n",
    "\\end{equation}\n",
    "\n",
    "Write functions which compute the true positive rate and false positive rate, given vectors for true labels (y) and binary predictions (y_hat).\n",
    "\n"
   ]
  },
  {
   "cell_type": "code",
   "execution_count": 229,
   "metadata": {
    "id": "KpiP5bLjMHIo"
   },
   "outputs": [],
   "source": [
    "# YOUR CODE HERE\n",
    "def true_positive_rate(y, y_hat):\n",
    "    tp = 0\n",
    "    fn = 0\n",
    "\n",
    "    for i in range(len(y_hat)): \n",
    "        if y[i].all()==y_hat[i]==1:\n",
    "           tp += 1\n",
    "        elif y_hat[i]==0 and y[i].all()!=y_hat[i]:\n",
    "           fn += 1\n",
    "    return (tp)/(tp+fn)\n",
    "    pass\n",
    "\n",
    "def false_positive_rate(y, y_hat):\n",
    "    fp = 0\n",
    "    tn = 0\n",
    "\n",
    "    for i in range(len(y_hat)): \n",
    "        if y_hat[i] == 1 and y[i].all()!=y_hat[i]:\n",
    "           fp += 1\n",
    "        elif y_hat[i]==0 and y[i]==y_hat[i]:\n",
    "           tn += 1\n",
    "    return (fp)/(fp+tn)\n",
    "    pass"
   ]
  },
  {
   "cell_type": "markdown",
   "metadata": {
    "id": "j_iw0FhuMHI6"
   },
   "source": [
    "Now, we compute the TPR and FPR for your predictions from 2.2."
   ]
  },
  {
   "cell_type": "code",
   "execution_count": 230,
   "metadata": {
    "id": "jhoZi2Z6MHI9"
   },
   "outputs": [
    {
     "name": "stdout",
     "output_type": "stream",
     "text": [
      "0.7478991596638656\n",
      "0.09642857142857143\n"
     ]
    }
   ],
   "source": [
    "print(true_positive_rate(dataY_test.values, y_hat_0_1))\n",
    "print(false_positive_rate(dataY_test.values, y_hat_0_1))"
   ]
  },
  {
   "cell_type": "markdown",
   "metadata": {
    "id": "KpD8xGAQMHJM"
   },
   "source": [
    "### 2.4: Computing ROC Curves (5 points)\n",
    "\n",
    "ROC (receiver operating characteristic) curves measure the tradeoff between true positive and false positive rates when thresholding a real-valued predictor. We discussed them in class, but this statquest video can be helpful: https://www.youtube.com/watch?v=4jRBRDbJemM\n",
    "\n",
    "Write a function that:\n",
    "- takes in a set of true labels in {0,1} (such as dataY), a set of predictions within interval [0,1] (such as y_hat_score), and a single integer `num_thresholds`, representing the number of thresholds. \n",
    "- Evenly divide the range [0,1] into `num_thresholds` equally sized intervals. (For example, if num_thresholds = 100, your thresholds should be 0.00, 0.01, 0.02, ... , 0.99.) \n",
    "- For each interval, using the bottom of the interval as a threshold,  compute the TPR and FPR of the thresholded predictions.\n",
    "\n",
    "Then, using your function, compute TPR and FPR arrays for `dataY`, `y_hat_score` and `num_thresholds` at 100. (Hint: see numpy's `arange` function)"
   ]
  },
  {
   "cell_type": "code",
   "execution_count": 231,
   "metadata": {
    "id": "igjw9xooMHJN"
   },
   "outputs": [],
   "source": [
    "def compute_roc_curve(dataY, y_hat_score, num_thresholds):\n",
    "    # Your code here\n",
    "    tpr = []\n",
    "    fpr = []\n",
    "    thresh = np.arange(0.0,1.0, 1/num_thresholds)\n",
    "    for i in range(len(thresh)):\n",
    "        t_predict = threshold_predictions(y_hat_score, thresh[i])\n",
    "        tpr.append(true_positive_rate(dataY, t_predict))\n",
    "        fpr.append(false_positive_rate(dataY, t_predict))\n",
    "    # End of your code\n",
    "    return tpr, fpr\n"
   ]
  },
  {
   "cell_type": "code",
   "execution_count": 232,
   "metadata": {
    "id": "GSG5YRBSMHJb"
   },
   "outputs": [
    {
     "name": "stdout",
     "output_type": "stream",
     "text": [
      "[0.9915966386554622, 0.9915966386554622, 0.9915966386554622, 0.9915966386554622, 0.9831932773109243, 0.9831932773109243, 0.9831932773109243, 0.9831932773109243, 0.9663865546218487, 0.957983193277311, 0.957983193277311, 0.957983193277311, 0.9495798319327731, 0.9495798319327731, 0.9495798319327731, 0.9411764705882353, 0.9327731092436975, 0.9327731092436975, 0.9327731092436975, 0.9327731092436975, 0.9327731092436975, 0.9243697478991597, 0.9159663865546218, 0.9159663865546218, 0.9159663865546218, 0.9159663865546218, 0.907563025210084, 0.907563025210084, 0.8907563025210085, 0.8907563025210085, 0.8907563025210085, 0.8739495798319328, 0.865546218487395, 0.865546218487395, 0.8571428571428571, 0.8571428571428571, 0.8487394957983193, 0.8235294117647058, 0.7983193277310925, 0.7983193277310925, 0.7983193277310925, 0.7983193277310925, 0.7899159663865546, 0.7899159663865546, 0.7899159663865546, 0.7815126050420168, 0.7647058823529411, 0.7563025210084033, 0.7563025210084033, 0.7563025210084033, 0.7478991596638656, 0.7394957983193278, 0.7226890756302521, 0.7226890756302521, 0.7058823529411765, 0.6974789915966386, 0.680672268907563, 0.6554621848739496, 0.6470588235294118, 0.6302521008403361, 0.6134453781512605, 0.6050420168067226, 0.6050420168067226, 0.5882352941176471, 0.5546218487394958, 0.5126050420168067, 0.5042016806722689, 0.5042016806722689, 0.4957983193277311, 0.48739495798319327, 0.47058823529411764, 0.44537815126050423, 0.44537815126050423, 0.4369747899159664, 0.42857142857142855, 0.4117647058823529, 0.40336134453781514, 0.3865546218487395, 0.3697478991596639, 0.3697478991596639, 0.3697478991596639, 0.35294117647058826, 0.3445378151260504, 0.33613445378151263, 0.31932773109243695, 0.31932773109243695, 0.31092436974789917, 0.2857142857142857, 0.2773109243697479, 0.2689075630252101, 0.25210084033613445, 0.25210084033613445, 0.23529411764705882, 0.226890756302521, 0.226890756302521, 0.2184873949579832, 0.2184873949579832, 0.2184873949579832, 0.20168067226890757, 0.18487394957983194] [0.7214285714285714, 0.7035714285714286, 0.6892857142857143, 0.6714285714285714, 0.6464285714285715, 0.6285714285714286, 0.6107142857142858, 0.5785714285714286, 0.5642857142857143, 0.5571428571428572, 0.5464285714285714, 0.525, 0.5107142857142857, 0.4857142857142857, 0.4642857142857143, 0.44642857142857145, 0.41785714285714287, 0.3964285714285714, 0.3821428571428571, 0.37857142857142856, 0.3535714285714286, 0.3357142857142857, 0.3142857142857143, 0.3, 0.2857142857142857, 0.275, 0.26785714285714285, 0.25, 0.23214285714285715, 0.22142857142857142, 0.21071428571428572, 0.20357142857142857, 0.19642857142857142, 0.18571428571428572, 0.18214285714285713, 0.175, 0.16785714285714284, 0.16071428571428573, 0.14642857142857144, 0.14285714285714285, 0.1357142857142857, 0.12857142857142856, 0.125, 0.11785714285714285, 0.11428571428571428, 0.11071428571428571, 0.10714285714285714, 0.10357142857142858, 0.09642857142857143, 0.09642857142857143, 0.09642857142857143, 0.09642857142857143, 0.09285714285714286, 0.08214285714285714, 0.08214285714285714, 0.08214285714285714, 0.07857142857142857, 0.06785714285714285, 0.06428571428571428, 0.05714285714285714, 0.05357142857142857, 0.05, 0.05, 0.05, 0.05, 0.04642857142857143, 0.039285714285714285, 0.039285714285714285, 0.039285714285714285, 0.03571428571428571, 0.03571428571428571, 0.03571428571428571, 0.03571428571428571, 0.03571428571428571, 0.03571428571428571, 0.03571428571428571, 0.03571428571428571, 0.03571428571428571, 0.03571428571428571, 0.03214285714285714, 0.02857142857142857, 0.025, 0.025, 0.025, 0.02142857142857143, 0.017857142857142856, 0.017857142857142856, 0.017857142857142856, 0.017857142857142856, 0.017857142857142856, 0.017857142857142856, 0.017857142857142856, 0.017857142857142856, 0.014285714285714285, 0.014285714285714285, 0.014285714285714285, 0.014285714285714285, 0.014285714285714285, 0.014285714285714285, 0.014285714285714285]\n"
     ]
    }
   ],
   "source": [
    "tpr, fpr = compute_roc_curve(dataY_test.values, y_hat_score, 100)\n",
    "print(tpr, fpr)"
   ]
  },
  {
   "cell_type": "markdown",
   "metadata": {
    "id": "EaNl_-FGMHJk"
   },
   "source": [
    "### 2.5: ROC Curve Comparison (5 points)\n",
    "\n",
    "The code below is copied from our solution to Lab 1. It splits the data into two groups (A and B) based on whether the proportion of some attribute is greater than some threshold. We use it to split our data depending on whether the proportion of African American people in a community is greater than 50%. Run the cell below."
   ]
  },
  {
   "cell_type": "code",
   "execution_count": 233,
   "metadata": {
    "id": "Gwj8HAmXMHJm"
   },
   "outputs": [],
   "source": [
    "## RUN THIS CELL\n",
    "## DO NOT MODIFY\n",
    "\n",
    "def split_on_feature(dataX, dataY, dataA, column, thresh):\n",
    "    rows_A = []\n",
    "    rows_B = []\n",
    "    for i in range(dataX.shape[0]):\n",
    "        if dataA[i, column] < thresh:\n",
    "            rows_A.append(i)\n",
    "        else:\n",
    "            rows_B.append(i)\n",
    "    \n",
    "    X_A = dataX[rows_A, :]\n",
    "    X_B = dataX[rows_B, :]\n",
    "    y_A = dataY[rows_A]\n",
    "    y_B = dataY[rows_B]\n",
    "    \n",
    "    return X_A, X_B, y_A, y_B  \n",
    "\n",
    "\n",
    "# change 2 to whatever racepctblack is\n",
    "X_A, X_B, y_A, y_B = split_on_feature(dataX.values, dataY.values, dataA.values, 0, 0.5)"
   ]
  },
  {
   "cell_type": "markdown",
   "metadata": {
    "id": "rS9NAbxgMHJ8"
   },
   "source": [
    "Using the generated arrays (X_A, X_B, y_A, y_B) and your function from 2.4, produce a matplotlib plot showing the ROC curves for each group with 100 threshold values. Use your trained linear regression model for predictions. Your X axis should be FPR and your Y axis should be TPR. Refer to Homework 1 for a reminder on how to use matplotlib."
   ]
  },
  {
   "cell_type": "code",
   "execution_count": 234,
   "metadata": {
    "id": "hhGWa--qMHJ-",
    "scrolled": false
   },
   "outputs": [
    {
     "data": {
      "image/png": "[encoded data removed]",
      "text/plain": [
       "<Figure size 432x288 with 1 Axes>"
      ]
     },
     "metadata": {
      "needs_background": "light"
     },
     "output_type": "display_data"
    }
   ],
   "source": [
    "%matplotlib inline \n",
    "import matplotlib.pyplot as plt\n",
    "\n",
    "## YOUR CODE HERE\n",
    "x_label = 'FPR'\n",
    "y_label = 'TPR'\n",
    "x_axis = np.arange(0.0, 1.0, 0.01)\n",
    "plt.title('ROC Curve Comparison')\n",
    "plt.xlabel(x_label)\n",
    "plt.ylabel(y_label)\n",
    "randomA = np.arange(0.0, 1.0, 0.01)\n",
    "\n",
    "y_hat_scoreA = linReg.predict(X_A)\n",
    "y_hat_scoreB = linReg.predict(X_B)\n",
    "\n",
    "XA_TPR, XA_FPR = compute_roc_curve(y_A, y_hat_scoreA, 100)\n",
    "XB_TPR, XB_FPR = compute_roc_curve(y_B, y_hat_scoreB, 100)\n",
    "\n",
    "plt.plot(XA_FPR, XA_TPR ,'-r', label=\"X_A ROC\")\n",
    "plt.plot(XB_FPR, XB_TPR ,'-y', label=\"X_B ROC\")\n",
    "plt.plot(x_axis, randomA, '--m', label=\"Baseline\")\n",
    "\n",
    "plt.legend()\n",
    "plt.show()\n"
   ]
  },
  {
   "cell_type": "markdown",
   "metadata": {
    "id": "j-IniOiiMHKH"
   },
   "source": [
    "### 2.6: Minimizing Unfairness (5 points)\n",
    "\n",
    "There are many, many different definitions of unfairness. For this lab, we'll be using the **Equalized Odds Criterion**, where we check if the ROC curves of two groups are the same. We check its \"fairness error\" via: $|TPR_A - TPR_B| + |FPR_A - FPR_B|$\n",
    "\n",
    "There are 10,000 possible pairs of thresholds of the form $(a,b)$ where $a$ is the threshold for A and $b$ is the threshold for B in data plotted above. Find and print out the pair of thresholds which minimizes this \"fairness error\". (Graphiaclly, this translates to finding points which are closest between the two ROC curves)"
   ]
  },
  {
   "cell_type": "code",
   "execution_count": 235,
   "metadata": {
    "id": "onLnzIegMHKM"
   },
   "outputs": [],
   "source": [
    "## YOUR CODE HERE\n",
    "min_tpr = abs(XA_TPR[0] - XB_TPR[0])\n",
    "min_fpr = abs(XA_FPR[0] - XB_FPR[0])\n",
    "min_unfairness_A_thresh = 0\n",
    "min_unfairness_B_thresh = 0\n",
    "for i in range(len(XA_TPR)):\n",
    "    for j in range(len(XA_FPR)):\n",
    "        if abs(XA_TPR[i] - XB_TPR[j]) < min_tpr and abs(XB_FPR[i] - XB_FPR[j]) < min_fpr:\n",
    "            min_tpr = abs(XA_TPR[i] - XB_TPR[j])\n",
    "            min_fpr = abs(XB_FPR[i] - XB_FPR[j])\n",
    "            min_unfairness_A_thresh = i/100\n",
    "            min_unfairness_B_thresh = j/100"
   ]
  },
  {
   "cell_type": "code",
   "execution_count": 236,
   "metadata": {
    "id": "inEgDRR2MHKb"
   },
   "outputs": [
    {
     "name": "stdout",
     "output_type": "stream",
     "text": [
      "(0.0, 0.32)\n"
     ]
    }
   ],
   "source": [
    "print((min_unfairness_A_thresh, min_unfairness_B_thresh))"
   ]
  },
  {
   "cell_type": "markdown",
   "metadata": {
    "id": "GsxOBch6MHKo"
   },
   "source": [
    "### 2.7: Evaluating Accuracy (5 points)\n",
    "\n",
    "Compute `fair_acc`, the overall accuracy when using the thresholds from 2.6 on their respective groups. Compare this `max_acc`, to the single-value threshold in {0.00, 0.01, 0.02, ... , 0.99} that maximizes overall accuracy."
   ]
  },
  {
   "cell_type": "code",
   "execution_count": 237,
   "metadata": {
    "id": "4suPdux7MHKr"
   },
   "outputs": [],
   "source": [
    "## YOUR CODE HERE\n",
    "# compute fair acc\n",
    "def computeAcc(tps, tns, fps, fns):\n",
    "    return (tps + tns)/(tps + tns + fps + fns)\n",
    "\n",
    "fair_acc = 0\n",
    "max_acc = 0\n",
    "TPs = 0\n",
    "TNs = 0\n",
    "FPs = 0\n",
    "FNs = 0\n",
    "y_hat_A = linReg.predict(X_A)\n",
    "y_hat_B = linReg.predict(X_B)\n",
    "\n",
    "y_hat_A_fair = threshold_predictions(y_hat_A, min_unfairness_A_thresh)\n",
    "y_hat_B_fair = threshold_predictions(y_hat_B, min_unfairness_B_thresh)\n",
    "for i in range(len(y_hat_A)):\n",
    "    if y_A[i] == 1 and y_hat_A_fair[i] ==1:\n",
    "        TPs +=1\n",
    "    elif y_A[i] == 0 and y_hat_A_fair[i] ==0:\n",
    "        TNs +=1\n",
    "    elif y_A[i] == 1 and y_hat_A_fair[i] ==0:\n",
    "        FNs +=1\n",
    "    elif y_A[i] == 0 and y_hat_A_fair[i] ==1:\n",
    "        FPs +=1\n",
    "\n",
    "for i in range(len(y_hat_B)):\n",
    "    if y_B[i] == 1 and y_hat_B_fair[i] ==1:\n",
    "        TPs +=1\n",
    "    elif y_B[i] == 0 and y_hat_B_fair[i] ==0:\n",
    "        TNs +=1\n",
    "    elif y_B[i] == 1 and y_hat_B_fair[i] ==0:\n",
    "        FNs +=1\n",
    "    elif y_B[i] == 0 and y_hat_B_fair[i] ==1:\n",
    "        FPs +=1\n",
    "        \n",
    "fair_acc = computeAcc(TPs, TNs, FPs, FNs)\n",
    "TPs, TNs, FPs, FNs = 0, 0, 0, 0\n",
    "\n",
    "# computer max_acc\n",
    "for x in range(0, 100, 1):\n",
    "    y_hat_A_fair = threshold_predictions(y_hat_A, x/100)\n",
    "    y_hat_B_fair = threshold_predictions(y_hat_B, x/100)\n",
    "    for i in range(len(y_hat_A)):\n",
    "        if y_A[i] == 1 and y_hat_A_fair[i] ==1:\n",
    "            TPs +=1\n",
    "        elif y_A[i] == 0 and y_hat_A_fair[i] ==0:\n",
    "            TNs +=1\n",
    "        elif y_A[i] == 1 and y_hat_A_fair[i] ==0:\n",
    "            FNs +=1\n",
    "        elif y_A[i] == 0 and y_hat_A_fair[i] ==1:\n",
    "            FPs +=1\n",
    "    for i in range(len(y_hat_B)):\n",
    "        if y_B[i] == 1 and y_hat_B_fair[i] ==1:\n",
    "            TPs +=1\n",
    "        elif y_B[i] == 0 and y_hat_B_fair[i] ==0:\n",
    "            TNs +=1\n",
    "        elif y_B[i] == 1 and y_hat_B_fair[i] ==0:\n",
    "            FNs +=1\n",
    "        elif y_B[i] == 0 and y_hat_B_fair[i] ==1:\n",
    "            FPs +=1\n",
    "    max_acc = max(max_acc, computeAcc(TPs, TNs, FPs, FNs))"
   ]
  },
  {
   "cell_type": "code",
   "execution_count": 238,
   "metadata": {
    "id": "bse7iaEIMHKy"
   },
   "outputs": [
    {
     "name": "stdout",
     "output_type": "stream",
     "text": [
      "(0.4899699097291876, 0.7916514248628238)\n"
     ]
    }
   ],
   "source": [
    "print((fair_acc, max_acc))"
   ]
  },
  {
   "cell_type": "markdown",
   "metadata": {
    "id": "9C2UmvWUMHK-"
   },
   "source": [
    "## Part 3: Equalized Odds vs. Demographic Parity (30 Points)"
   ]
  },
  {
   "cell_type": "markdown",
   "metadata": {
    "id": "pgS8q_32MHLA"
   },
   "source": [
    "In this section, we will revisit the equalized odds criterion and investigate further. Specifically, we will compare this fairness metric to another one -- demographic parity. This comparison will give us some insight into how various fairness metrics may or may not interact with each other."
   ]
  },
  {
   "cell_type": "markdown",
   "metadata": {
    "id": "8UbU_6jjMHLC"
   },
   "source": [
    "### 3.1 Revisit Equalized Odds (5 points)"
   ]
  },
  {
   "cell_type": "markdown",
   "metadata": {
    "id": "pFggSSTcMHLD"
   },
   "source": [
    "In the previous problem, you plotted the fairness error of the equalized odds criterion for two thresholds, one for each group. Now, we want just one threshold, therefore we need to have the error computed that is associated with each group."
   ]
  },
  {
   "cell_type": "markdown",
   "metadata": {
    "id": "YLz4HcI-MHLE"
   },
   "source": [
    "For each threshold $(0.00, 0.01... 0.99)$, compute the equalized odds unfairness from part 2. Make sure to save these results in a specified variable. Note: it's important that the ordering of this array is the same as the threshold array."
   ]
  },
  {
   "cell_type": "code",
   "execution_count": 239,
   "metadata": {
    "id": "HX2jUNyRMHLF"
   },
   "outputs": [
    {
     "name": "stdout",
     "output_type": "stream",
     "text": [
      "[0.0025974025974025983, 0.0025974025974025983, 0.0025974025974025983, 0.0025974025974025983, 0.007792207792207795, 0.010389610389610393, 0.012987012987012991, 0.012987012987012991, 0.018181818181818188, 0.025974025974025983, 0.025974025974025983, 0.025974025974025983, 0.03116883116883118, 0.03376623376623378, 0.038961038961038974, 0.04935064935064937, 0.051948051948051965, 0.054545454545454564, 0.05714285714285716, 0.06233766233766236, 0.06493506493506496, 0.07532467532467535, 0.09090909090909094, 0.09870129870129873, 0.10389610389610393, 0.10649350649350653, 0.11688311688311692, 0.12467532467532472, 0.1376623376623377, 0.1428571428571429, 0.1506493506493507, 0.1662337662337663, 0.1689754689754689, 0.18455988455988448, 0.18975468975468968, 0.20014430014430007, 0.21572871572871566, 0.22871572871572865, 0.24184704184704187, 0.25223665223665226, 0.26782106782106785, 0.28600288600288604, 0.29379509379509383, 0.3067821067821068, 0.3171717171717172, 0.32525252525252524, 0.33823953823953823, 0.3538239538239538, 0.3643578643578643, 0.3721500721500721, 0.39047619047619053, 0.3982683982683983, 0.4190476190476191, 0.41399711399711403, 0.4217893217893218, 0.43506493506493515, 0.4507936507936508, 0.4639249639249639, 0.46695526695526696, 0.47994227994227995, 0.4675324675324675, 0.4909090909090909, 0.5038961038961038, 0.4966810966810966, 0.4842712842712843, 0.47705627705627707, 0.4823953823953824, 0.4825396825396825, 0.4981240981240981, 0.501010101010101, 0.4911976911976912, 0.4992784992784993, 0.5023088023088024, 0.5025974025974026, 0.5028860028860029, 0.4956709956709957, 0.4783549783549784, 0.4709956709956711, 0.4763347763347764, 0.468975468975469, 0.4795093795093795, 0.47994227994227995, 0.48008658008658006, 0.46767676767676764, 0.4604617604617605, 0.45815295815295815, 0.4331890331890332, 0.420923520923521, 0.40086580086580087, 0.3935064935064935, 0.3887445887445887, 0.3711399711399711, 0.3738816738816739, 0.3587301587301587, 0.34617604617604614, 0.3336219336219336, 0.31847041847041846, 0.310966810966811, 0.2909090909090909, 0.27864357864357864]\n"
     ]
    }
   ],
   "source": [
    "### YOUR CODE HERE\n",
    "unfairness_odds = [0] * 100\n",
    "for x in range(0, 100, 1):\n",
    "    unfairness_odds[x] = abs(XA_TPR[x] - XB_TPR[x]) + abs(XB_FPR[x] - XB_FPR[x])\n",
    "print(unfairness_odds)"
   ]
  },
  {
   "cell_type": "markdown",
   "metadata": {
    "id": "kHxycD0HMHLV"
   },
   "source": [
    "### 3.2 Demographic Parity (5 points)"
   ]
  },
  {
   "cell_type": "markdown",
   "metadata": {
    "id": "juQ7cT6XMHLW"
   },
   "source": [
    "Intuitively demographic parity says that the ratio of the group in the whole population will be the same as the ratio of the group in the predicted classes. Formally for protected attribute $G$ and classifier $\\hat{Y}$, this can be specified as $$ P(G = g | \\hat{Y} = y) = P(G = g).$$\n",
    "\n",
    "The demographic parity unfairness can be computed as $$ \\sum_{g, y} | P(G = g | \\hat{Y} = y) - P(G = g) | .$$"
   ]
  },
  {
   "cell_type": "markdown",
   "metadata": {
    "id": "zz9LG5i7MHLY"
   },
   "source": [
    "Write a function to compute the demographic parity error."
   ]
  },
  {
   "cell_type": "code",
   "execution_count": 251,
   "metadata": {
    "id": "0ToHOhosMHLa"
   },
   "outputs": [],
   "source": [
    "### YOUR CODE HERE\n",
    "def demographic_parity_error(y_hat_a,y_hat_b):\n",
    "    # SUMMATE THE UNFAIRNESS AND THATS THE ANSWER\n",
    "    # np.unique on y_hat_a and y_hat_b\n",
    "    err1 = np.unique(y_hat_a, return_counts=True)\n",
    "    err2 = np.unique(y_hat_b, return_counts=True)\n",
    "    p_g0 = len(y_hat_a)/len(dataY) #P(g=0)\n",
    "    p_g1 = len(y_hat_b)/len(dataY) #P(g=1)\n",
    "    p_g0_y0 = abs(err1[1][0]/(err1[1][0] + err2[1][0]) - p_g0)\n",
    "    p_g0_y1 = abs(err1[1][1]/(err1[1][1] + err2[1][1]) - p_g0)\n",
    "    p_g1_y0 = abs(err2[1][0]/(err1[1][0] + err2[1][0]) - p_g1)\n",
    "    p_g1_y1 = abs(err2[1][1]/(err1[1][1] + err2[1][1]) - p_g1)\n",
    "    return p_g0_y0 + p_g0_y1 + p_g1_y0 + p_g1_y1"
   ]
  },
  {
   "cell_type": "markdown",
   "metadata": {
    "id": "pKJegyQ2MHLi"
   },
   "source": [
    "Write a function that computes an array of demographic parity errors given a list of thresholds. Note: The thresholds need to be all in the same order as the equalized odds thresholds."
   ]
  },
  {
   "cell_type": "code",
   "execution_count": 252,
   "metadata": {
    "id": "YQopgoYlMHLl"
   },
   "outputs": [
    {
     "name": "stdout",
     "output_type": "stream",
     "text": [
      "[0.2910605846631832, 0.2990649720691335, 0.30726888429238297, 0.31456950067476375, 0.3247406407646129, 0.33287009658978906, 0.34027560869070905, 0.3501171719417197, 0.3587354777773133, 0.3665440035468853, 0.3706205683025838, 0.37944196079224657, 0.38820083197913213, 0.39982395389585046, 0.40716547901821065, 0.4159064495154032, 0.423767670965479, 0.43547762189021505, 0.44598284029696145, 0.4532433300800823, 0.46198237353615834, 0.46784593093455684, 0.4761927788523534, 0.49248928773546774, 0.5033381883271353, 0.5152359700561575, 0.5257600523046748, 0.538658120711615, 0.5452882960413081, 0.5565514830720064, 0.564818994454365, 0.5800958282487307, 0.5878176478099859, 0.6053156232199264, 0.6131914962832837, 0.6285955932619327, 0.6289889118482509, 0.6423362255356189, 0.6597151855401889, 0.6717171659032593, 0.6899052512574246, 0.7077977355920662, 0.7167092892558824, 0.7286314241201459, 0.7439050001658001, 0.7522414823670054, 0.7661770112531885, 0.7875404674122559, 0.7979803778311241, 0.80787149016721, 0.8139778364796083, 0.8245753629307265, 0.8391968154030283, 0.8468743060182101, 0.8587522943522016, 0.8757323324131727, 0.8932900432900434, 0.9081354961148709, 0.9155592456915888, 0.933524691558718, 0.9298238960316556, 0.9612060041407867, 0.9794688079061149, 0.9786052818839706, 0.9741257494066484, 0.9767804029406814, 0.9877940714061116, 0.9968089703189041, 1.020221859322358, 1.0440001134462125, 1.0428627422964265, 1.0574754840833593, 1.0695741701672021, 1.0825446953274644, 1.0963048895763512, 1.0985005767012688, 1.09708288742362, 1.0947394241292123, 1.110936603195416, 1.1191363501922509, 1.1598308463044207, 1.1891561429296702, 1.203917720304183, 1.2062541806020066, 1.2304002800793559, 1.2391784770598127, 1.2337834733106987, 1.2520486279583805, 1.245641916188672, 1.2537260987965215, 1.2885960856834644, 1.2788874942721096, 1.3016672169032684, 1.2975765609598586, 1.2934181028443323, 1.289183621842362, 1.2721105120670106, 1.2732085926825565, 1.2697471577302175, 1.312535683600787]\n"
     ]
    }
   ],
   "source": [
    "### YOUR CODE HERE\n",
    "# call threshold predictions for every threshold on y_hat_a and y_hat_b\n",
    "# call unique on each threshold before demographic_parity_error()\n",
    "total_error = [0] * 100\n",
    "for i in range(0, 100, 1):\n",
    "    threshA = threshold_predictions(y_hat_scoreA, i/100)\n",
    "    threshB = threshold_predictions(y_hat_scoreB, i/100)\n",
    "    total_error[i] = demographic_parity_error(threshA, threshB)\n",
    "print(total_error)"
   ]
  },
  {
   "cell_type": "markdown",
   "metadata": {
    "id": "dLSfiq4eMHLy"
   },
   "source": [
    "### 3.3 Combine Equalized Odds & Demographic Parity (5 points)"
   ]
  },
  {
   "cell_type": "markdown",
   "metadata": {
    "id": "QzIsI-WTMHLz"
   },
   "source": [
    "Now that you have computed the errors for both fairness metrics -- equalized odds and demographic parity -- we can investigate further into our comparison, which will be achieved by correlating the error for both. "
   ]
  },
  {
   "cell_type": "markdown",
   "metadata": {
    "id": "KCw3LPwPMHL0"
   },
   "source": [
    "Currently, both errors exist as 'columns', or vectors. We would like to combine them into a single matrix $[equalized\\:odds\\:error, demographic\\:parity\\:error]$. \n",
    "\n",
    "Sort the row of the matrix in ascending order according to the equalized odds error. This ordering will enable us to complete the next part."
   ]
  },
  {
   "cell_type": "code",
   "execution_count": 253,
   "metadata": {
    "id": "9auzYtxxMHL1"
   },
   "outputs": [
    {
     "name": "stdout",
     "output_type": "stream",
     "text": [
      "[[0.0025974  0.0025974  0.0025974  0.0025974  0.00779221 0.01038961\n",
      "  0.01298701 0.01298701 0.01818182 0.02597403 0.02597403 0.02597403\n",
      "  0.03116883 0.03376623 0.03896104 0.04935065 0.05194805 0.05454545\n",
      "  0.05714286 0.06233766 0.06493506 0.07532468 0.09090909 0.0987013\n",
      "  0.1038961  0.10649351 0.11688312 0.12467532 0.13766234 0.14285714\n",
      "  0.15064935 0.16623377 0.16897547 0.18455988 0.18975469 0.2001443\n",
      "  0.21572872 0.22871573 0.24184704 0.25223665 0.26782107 0.28600289\n",
      "  0.29379509 0.30678211 0.31717172 0.32525253 0.33823954 0.35382395\n",
      "  0.36435786 0.37215007 0.39047619 0.3982684  0.41904762 0.41399711\n",
      "  0.42178932 0.43506494 0.45079365 0.46392496 0.46695527 0.46753247\n",
      "  0.47994228 0.49090909 0.48427128 0.47705628 0.4966811  0.5038961\n",
      "  0.48239538 0.48253968 0.4981241  0.49119769 0.5010101  0.4992785\n",
      "  0.5023088  0.5025974  0.47099567 0.502886   0.47835498 0.495671\n",
      "  0.47633478 0.46897547 0.47950938 0.47994228 0.48008658 0.46767677\n",
      "  0.46046176 0.43318903 0.45815296 0.4008658  0.42092352 0.39350649\n",
      "  0.29090909 0.31847042 0.31096681 0.37113997 0.38874459 0.33362193\n",
      "  0.34617605 0.35873016 0.37388167 0.27864358]\n",
      " [0.29106058 0.29906497 0.30726888 0.3145695  0.32474064 0.3328701\n",
      "  0.34027561 0.35011717 0.35873548 0.366544   0.37062057 0.37944196\n",
      "  0.38820083 0.39982395 0.40716548 0.41590645 0.42376767 0.43547762\n",
      "  0.44598284 0.45324333 0.46198237 0.46784593 0.47619278 0.49248929\n",
      "  0.50333819 0.51523597 0.52576005 0.53865812 0.5452883  0.55655148\n",
      "  0.56481899 0.58009583 0.58781765 0.60531562 0.6131915  0.62859559\n",
      "  0.62898891 0.64233623 0.65971519 0.67171717 0.68990525 0.70779774\n",
      "  0.71670929 0.72863142 0.743905   0.75224148 0.76617701 0.78754047\n",
      "  0.79798038 0.80787149 0.81397784 0.82457536 0.83919682 0.84687431\n",
      "  0.85875229 0.87573233 0.89329004 0.9081355  0.91555925 0.9298239\n",
      "  0.93352469 0.961206   0.97412575 0.9767804  0.97860528 0.97946881\n",
      "  0.98779407 0.99680897 1.02022186 1.04286274 1.04400011 1.05747548\n",
      "  1.06957417 1.0825447  1.09473942 1.09630489 1.09708289 1.09850058\n",
      "  1.1109366  1.11913635 1.15983085 1.18915614 1.20391772 1.20625418\n",
      "  1.23040028 1.23378347 1.23917848 1.24564192 1.25204863 1.2537261\n",
      "  1.26974716 1.27211051 1.27320859 1.27888749 1.28859609 1.28918362\n",
      "  1.2934181  1.29757656 1.30166722 1.31253568]]\n"
     ]
    }
   ],
   "source": [
    "### YOUR CODE HERE\n",
    "combined_err = np.column_stack([unfairness_odds, total_error])\n",
    "combined_err_sort = combined_err[np.argsort(combined_err[:, 1])]\n",
    "combined_err_sort = np.transpose(combined_err_sort)\n",
    "print(combined_err_sort)"
   ]
  },
  {
   "cell_type": "markdown",
   "metadata": {
    "id": "4Y0FAYHOMHME"
   },
   "source": [
    "### 3.4 Visualization of Equalized Odds vs. Demographic Parity (5 points)"
   ]
  },
  {
   "cell_type": "markdown",
   "metadata": {
    "id": "IBlAUKd2MHMF"
   },
   "source": [
    "Now, we want to visualize this comparison. Plot the two rows of the matrix (from 3.3) as two separate line graphs. When plotted, you will notice a particular trend, specifically in the direction of the lines for equalized odds and demographic parity."
   ]
  },
  {
   "cell_type": "code",
   "execution_count": 243,
   "metadata": {
    "id": "BBUfixsOMHMH"
   },
   "outputs": [],
   "source": [
    "%matplotlib inline\n",
    "\n",
    "import matplotlib.pyplot as plt\n",
    "import random"
   ]
  },
  {
   "cell_type": "code",
   "execution_count": 256,
   "metadata": {
    "id": "VcDNDjqEMHMS"
   },
   "outputs": [
    {
     "data": {
      "image/png": "[encoded data removed]",
      "text/plain": [
       "<Figure size 432x288 with 1 Axes>"
      ]
     },
     "metadata": {
      "needs_background": "light"
     },
     "output_type": "display_data"
    }
   ],
   "source": [
    "### YOUR CODE HERE\n",
    "    \n",
    "x_label = 'Threshold Value'\n",
    "y_label = 'Error Rate'\n",
    "x_axis = np.arange(0.0, 1.0, 0.01)\n",
    "plt.title('Equalized Odds vs Demographic Parity')\n",
    "plt.xlabel(x_label)\n",
    "plt.ylabel(y_label)\n",
    "\n",
    "plt.plot(x_axis, combined_err_sort[0] ,'-r', label=\"Equalized Odds\")\n",
    "plt.plot(x_axis ,combined_err_sort[1] ,'-y', label=\"Demographic Parity\")\n",
    "plt.legend()\n",
    "plt.show()"
   ]
  },
  {
   "cell_type": "markdown",
   "metadata": {
    "id": "EnN-Z9lGMHMf"
   },
   "source": [
    "### 3.5 Now You Pick! (10 points)"
   ]
  },
  {
   "cell_type": "markdown",
   "metadata": {
    "id": "rMM0OVUAMHMh"
   },
   "source": [
    "From this [Towards Data Science article](https://towardsdatascience.com/a-tutorial-on-fairness-in-machine-learning-3ff8ba1040cb), choose another definition of fairness. Explain here why you are interested in investigating this definition, and mention a scenario where it could be violated."
   ]
  },
  {
   "cell_type": "markdown",
   "metadata": {
    "id": "46CXXMOSMHMk"
   },
   "source": [
    "I think Predictive Rate Parity is really interesting, it seems similar to Demographic Parity and aims to help all parties benefit, but it seems like it's not as helpful for being fair between each group."
   ]
  },
  {
   "cell_type": "markdown",
   "metadata": {
    "id": "NIUiIhTKMHMv"
   },
   "source": [
    "Now, just like you did earlier in part 3, plot this error against those for demographic parity and equalized odds."
   ]
  },
  {
   "cell_type": "code",
   "execution_count": 259,
   "metadata": {
    "id": "VHJ0jJczMHMx"
   },
   "outputs": [
    {
     "data": {
      "image/png": "[encoded data removed]",
      "text/plain": [
       "<Figure size 432x288 with 1 Axes>"
      ]
     },
     "metadata": {
      "needs_background": "light"
     },
     "output_type": "display_data"
    }
   ],
   "source": [
    "### YOUR CODE HERE\n",
    "\n",
    "def predictive_parity_error(y_hat_A, y_hat_B):\n",
    "    err1 = np.unique(y_hat_A, return_counts=True)\n",
    "    err2 = np.unique(y_hat_B, return_counts=True)\n",
    "    p_y0 = (err1[1][0] + err2[1][0])/len(dataY) #P(y=0)\n",
    "    p_y1 = (err1[1][1] + err2[1][1])/len(dataY) #P(y=1)\n",
    "    p_y0_g0 = abs(err1[1][0]/(len(y_hat_A)) - p_y0)\n",
    "    p_y1_g0 = abs(err1[1][1]/(len(y_hat_A)) - p_y0)\n",
    "    p_y0_g1 = abs(err2[1][0]/(len(y_hat_B)) - p_y1)\n",
    "    p_y1_g1 = abs(err2[1][1]/(len(y_hat_B)) - p_y1)\n",
    "    return p_y0_g0 + p_y1_g0 + p_y0_g1 + p_y1_g1\n",
    "\n",
    "pr_error = [0] * 100\n",
    "for i in range(0, 100, 1):\n",
    "    threshA = threshold_predictions(y_hat_scoreA, i/100)\n",
    "    threshB = threshold_predictions(y_hat_scoreB, i/100)\n",
    "    pr_error[i] = predictive_parity_error(threshA, threshB)\n",
    "\n",
    "combined_err = np.column_stack([unfairness_odds, total_error, pr_error])\n",
    "combined_err_sort = combined_err[np.argsort(combined_err[:, 1])]\n",
    "combined_err_sort = np.transpose(combined_err_sort)\n",
    "    \n",
    "x_label = 'Threshold Value'\n",
    "y_label = 'Error Rate'\n",
    "x_axis = np.arange(0.0, 1.0, 0.01)\n",
    "plt.title('Equalized Odds vs Demographic Parity vs Predictive Rate Parity')\n",
    "plt.xlabel(x_label)\n",
    "plt.ylabel(y_label)\n",
    "\n",
    "plt.plot(x_axis, combined_err_sort[0] ,'-r', label=\"Equalized Odds\")\n",
    "plt.plot(x_axis ,combined_err_sort[1] ,'-y', label=\"Demographic Parity\")\n",
    "plt.plot(x_axis ,combined_err_sort[2] ,'-b', label=\"Predictive Rate Parity\")\n",
    "plt.legend()\n",
    "plt.show()\n"
   ]
  },
  {
   "cell_type": "markdown",
   "metadata": {
    "id": "Cet5tVzhMHNE"
   },
   "source": [
    "## Part 4: Short Response Questions (30 Points)"
   ]
  },
  {
   "cell_type": "markdown",
   "metadata": {
    "id": "WBGWuVIuMHNF"
   },
   "source": [
    "**Question 1 (5 points):** Below is a gif of a heatmap which shows how false positive disparity change for specific subgroups as the Learner and Auditor interact in each round. Each square represents a subgroup, the z-axis is the fairness disparity of that subgroup. What does it mean when the heatmap is \\\"flat\\\"?\n",
    "![heatmap](./heatmap.gif)"
   ]
  },
  {
   "cell_type": "markdown",
   "metadata": {
    "id": "kAR_fYpmMHNH"
   },
   "source": [
    "When the answer is flat, that means our fairness disparity is near 0, so that means the curve gets flatter our predictions become more fair."
   ]
  },
  {
   "cell_type": "markdown",
   "metadata": {
    "id": "t1oq7TfUMHNI"
   },
   "source": [
    "**Question 2 (5 points):** In Part 2, you should have seen that the accuracy for the fair thresholds was much smaller than the error the accuracy-maximizing threshold. Suppose that you are allowed to randomize between thresholds (randomly switch between thresholding on fairness and thresholding on accurate thresholds). Is this a smart approach to maximizing accuracy while maintaining fairness? Can you think of a better approach?"
   ]
  },
  {
   "cell_type": "markdown",
   "metadata": {
    "id": "LRnVDQehMHNK"
   },
   "source": [
    "I think randomizing between fairness and accuracy is more fair in terms of maximizing accuracy, but I think the better approach would be to try and figure out how to make the fair model more accurate, in terms of maybe varying the threshhold to a certain degree. If we randomize the chances between accuracy and fairness, we get a simple version of maximizing fairness + accuracy, but I think we can try to set a degree of unfairness and a degree of accuracy that we can try to optimize for in one set of predictions. So instead of randomizing the results, we have a more consistent model that is more fair and more accurate."
   ]
  },
  {
   "cell_type": "markdown",
   "metadata": {
    "id": "EWU165JtMHNL"
   },
   "source": [
    "**Question 3 (5 points):** What is the relationship between error of a fair classifier and the number of protected attributes? That is, if we increase the number of protected attributes, would you expect the error to increase, decrease, or stay the same?"
   ]
  },
  {
   "cell_type": "markdown",
   "metadata": {
    "id": "26wnBwCOMHNN"
   },
   "source": [
    "If we increase the number of protected attributes, the error definitely increases. We might overfit our model to focus so much on a few specific attributes that it tailors to try and be more fair than accurate"
   ]
  },
  {
   "cell_type": "markdown",
   "metadata": {
    "id": "N7Nc4vUsMHNP"
   },
   "source": [
    "**Question 4 (5 points):** Was accuracy a good measure to evaluate each threshold in part 2.7? Why or why not?"
   ]
  },
  {
   "cell_type": "markdown",
   "metadata": {
    "id": "tqsZ_62_MHNR"
   },
   "source": [
    "I think accuracy was a good way to measure each threshold. It gives us a view at how our model is preserving its accuracy while still measuring for fairness. We can see how much accuracy we lose when optimizing for fairness. Accuracy also summarizes our results for the confusion matrix summary"
   ]
  },
  {
   "cell_type": "markdown",
   "metadata": {
    "id": "K0AOQdoOMHNT"
   },
   "source": [
    "**Question 5 (5 points):** Take a look at your plot from 3.4. Thinking of the trends in the two lines, what is the relationship between equalized odds and demographic parity? What could this possibly mean for how fairness measures interact in general?"
   ]
  },
  {
   "cell_type": "markdown",
   "metadata": {
    "id": "bvKx3EoEMHNU"
   },
   "source": [
    "It seems like sorted Demographic Parity has a higher error rate than equalized odds, except for the tail end. This relationship shows that the fairness measurements really have quite a bit of sway on one another, and definitely impact the way each one is viewed. If you don't compare the fairness measures you may not get the full story, or may not have what is best for your purposes."
   ]
  },
  {
   "cell_type": "markdown",
   "metadata": {
    "id": "C8Ly-82dMHNW"
   },
   "source": [
    "**Question 6 (5 points):** Provide an interpretation of your plot from 3.5. Keep in mind again the trends of the two lines. "
   ]
  },
  {
   "cell_type": "markdown",
   "metadata": {
    "id": "0CBaLyC1MHNX"
   },
   "source": [
    "It looks like Predictive Rate Parity has a higher error rate than both of our previous fairness measures. This probably means that we should focus on more accurate/fair models like Demographic Parity or Equalized Odds."
   ]
  },
  {
   "cell_type": "code",
   "execution_count": null,
   "metadata": {},
   "outputs": [],
   "source": []
  }
 ],
 "metadata": {
  "colab": {
   "collapsed_sections": [
    "KpD8xGAQMHJM",
    "EaNl_-FGMHJk",
    "j-IniOiiMHKH",
    "GsxOBch6MHKo",
    "8UbU_6jjMHLC",
    "kHxycD0HMHLV",
    "dLSfiq4eMHLy",
    "4Y0FAYHOMHME",
    "EnN-Z9lGMHMf"
   ],
   "name": "CSE146_Lab3--[YOURNAMEHERE]_2020.ipynb",
   "provenance": []
  },
  "kernelspec": {
   "display_name": "Python 3",
   "language": "python",
   "name": "python3"
  },
  "language_info": {
   "codemirror_mode": {
    "name": "ipython",
    "version": 3
   },
   "file_extension": ".py",
   "mimetype": "text/x-python",
   "name": "python",
   "nbconvert_exporter": "python",
   "pygments_lexer": "ipython3",
   "version": "3.8.5"
  }
 },
 "nbformat": 4,
 "nbformat_minor": 1
}
